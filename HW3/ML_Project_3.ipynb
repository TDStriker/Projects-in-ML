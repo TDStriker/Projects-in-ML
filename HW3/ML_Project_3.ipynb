{
  "cells": [
    {
      "cell_type": "markdown",
      "metadata": {
        "id": "view-in-github",
        "colab_type": "text"
      },
      "source": [
        "<a href=\"https://colab.research.google.com/github/TDStriker/Projects-in-ML/blob/main/ML_Project_3.ipynb\" target=\"_parent\"><img src=\"https://colab.research.google.com/assets/colab-badge.svg\" alt=\"Open In Colab\"/></a>"
      ]
    },
    {
      "cell_type": "markdown",
      "metadata": {
        "id": "Nqa2-6UQK9bc"
      },
      "source": [
        "Data Processing - https://www.kaggle.com/datasets/muhammadbinimran/housing-price-prediction-data\n",
        "\n",
        "For this project I intend to make a model that performs regression to predict the price of a house"
      ]
    },
    {
      "cell_type": "code",
      "source": [
        "import numpy as np\n",
        "import pandas as pd\n",
        "from sklearn.preprocessing import LabelEncoder\n",
        "import matplotlib.pyplot as plt\n",
        "import random"
      ],
      "metadata": {
        "id": "KeoKgz3bhjYv"
      },
      "execution_count": 500,
      "outputs": []
    },
    {
      "cell_type": "code",
      "execution_count": 501,
      "metadata": {
        "id": "tGz-aRsXKslY"
      },
      "outputs": [],
      "source": [
        "data = pd.read_csv('data/housing_price_dataset.csv')"
      ]
    },
    {
      "cell_type": "code",
      "source": [
        "#Converting categorical data into qualitative data\n",
        "le = LabelEncoder()\n",
        "data['Neighborhood'] = le.fit_transform(data['Neighborhood']) #home = 0, health = 1, other = 2, services = 3, teacher = 4\n",
        "print(\"Rural,Suburb,Urban:\",le.transform(['Rural','Suburb','Urban']))"
      ],
      "metadata": {
        "colab": {
          "base_uri": "https://localhost:8080/"
        },
        "id": "70zUxGK9kp65",
        "outputId": "50365e83-a907-4459-b909-addba8cbba63"
      },
      "execution_count": 502,
      "outputs": [
        {
          "output_type": "stream",
          "name": "stdout",
          "text": [
            "Rural,Suburb,Urban: [0 1 2]\n"
          ]
        }
      ]
    },
    {
      "cell_type": "code",
      "source": [
        "print(data)"
      ],
      "metadata": {
        "colab": {
          "base_uri": "https://localhost:8080/"
        },
        "id": "lVpV5FFhkTl-",
        "outputId": "117740df-fe60-4b35-afdf-7243789e2368"
      },
      "execution_count": 503,
      "outputs": [
        {
          "output_type": "stream",
          "name": "stdout",
          "text": [
            "       SquareFeet  Bedrooms  Bathrooms  Neighborhood  YearBuilt          Price\n",
            "0            2126         4          1             0       1969  215355.283618\n",
            "1            2459         3          2             0       1980  195014.221626\n",
            "2            1860         2          1             1       1970  306891.012076\n",
            "3            2294         2          1             2       1996  206786.787153\n",
            "4            2130         5          2             1       2001  272436.239065\n",
            "...           ...       ...        ...           ...        ...            ...\n",
            "49995        1282         5          3             0       1975  100080.865895\n",
            "49996        2854         2          2             1       1988  374507.656727\n",
            "49997        2979         5          3             1       1962  384110.555590\n",
            "49998        2596         5          2             0       1984  380512.685957\n",
            "49999        1572         5          3             0       2011  221618.583218\n",
            "\n",
            "[50000 rows x 6 columns]\n"
          ]
        }
      ]
    },
    {
      "cell_type": "code",
      "source": [
        "print(data['Bedrooms'].value_counts())\n",
        "print(data['Bathrooms'].value_counts())\n",
        "print(data['Neighborhood'].value_counts())\n",
        "print(data['YearBuilt'].value_counts())"
      ],
      "metadata": {
        "colab": {
          "base_uri": "https://localhost:8080/"
        },
        "id": "IipwbJ_Wl0tQ",
        "outputId": "ebc66f93-db66-4999-a343-11b2a54ecd2b"
      },
      "execution_count": 504,
      "outputs": [
        {
          "output_type": "stream",
          "name": "stdout",
          "text": [
            "3    12661\n",
            "5    12468\n",
            "2    12436\n",
            "4    12435\n",
            "Name: Bedrooms, dtype: int64\n",
            "1    16755\n",
            "2    16719\n",
            "3    16526\n",
            "Name: Bathrooms, dtype: int64\n",
            "1    16721\n",
            "0    16676\n",
            "2    16603\n",
            "Name: Neighborhood, dtype: int64\n",
            "1968    777\n",
            "1977    742\n",
            "1983    741\n",
            "1967    729\n",
            "1999    728\n",
            "       ... \n",
            "1950    643\n",
            "2016    642\n",
            "2006    640\n",
            "2012    638\n",
            "2001    621\n",
            "Name: YearBuilt, Length: 72, dtype: int64\n"
          ]
        }
      ]
    },
    {
      "cell_type": "code",
      "source": [
        "data.corr()"
      ],
      "metadata": {
        "colab": {
          "base_uri": "https://localhost:8080/",
          "height": 237
        },
        "id": "mosaSnj0mguR",
        "outputId": "4fc3a4b7-4933-4d04-fef0-5d423e6c6a40"
      },
      "execution_count": 505,
      "outputs": [
        {
          "output_type": "execute_result",
          "data": {
            "text/plain": [
              "              SquareFeet  Bedrooms  Bathrooms  Neighborhood  YearBuilt  \\\n",
              "SquareFeet      1.000000 -0.002638  -0.003275      0.011186   0.000482   \n",
              "Bedrooms       -0.002638  1.000000   0.007405     -0.004208   0.003147   \n",
              "Bathrooms      -0.003275  0.007405   1.000000      0.001613   0.003748   \n",
              "Neighborhood    0.011186 -0.004208   0.001613      1.000000  -0.000174   \n",
              "YearBuilt       0.000482  0.003147   0.003748     -0.000174   1.000000   \n",
              "Price           0.750720  0.072624   0.028418      0.016429  -0.002288   \n",
              "\n",
              "                 Price  \n",
              "SquareFeet    0.750720  \n",
              "Bedrooms      0.072624  \n",
              "Bathrooms     0.028418  \n",
              "Neighborhood  0.016429  \n",
              "YearBuilt    -0.002288  \n",
              "Price         1.000000  "
            ],
            "text/html": [
              "\n",
              "  <div id=\"df-9a648786-41ac-4bea-8ac4-b218913143ef\" class=\"colab-df-container\">\n",
              "    <div>\n",
              "<style scoped>\n",
              "    .dataframe tbody tr th:only-of-type {\n",
              "        vertical-align: middle;\n",
              "    }\n",
              "\n",
              "    .dataframe tbody tr th {\n",
              "        vertical-align: top;\n",
              "    }\n",
              "\n",
              "    .dataframe thead th {\n",
              "        text-align: right;\n",
              "    }\n",
              "</style>\n",
              "<table border=\"1\" class=\"dataframe\">\n",
              "  <thead>\n",
              "    <tr style=\"text-align: right;\">\n",
              "      <th></th>\n",
              "      <th>SquareFeet</th>\n",
              "      <th>Bedrooms</th>\n",
              "      <th>Bathrooms</th>\n",
              "      <th>Neighborhood</th>\n",
              "      <th>YearBuilt</th>\n",
              "      <th>Price</th>\n",
              "    </tr>\n",
              "  </thead>\n",
              "  <tbody>\n",
              "    <tr>\n",
              "      <th>SquareFeet</th>\n",
              "      <td>1.000000</td>\n",
              "      <td>-0.002638</td>\n",
              "      <td>-0.003275</td>\n",
              "      <td>0.011186</td>\n",
              "      <td>0.000482</td>\n",
              "      <td>0.750720</td>\n",
              "    </tr>\n",
              "    <tr>\n",
              "      <th>Bedrooms</th>\n",
              "      <td>-0.002638</td>\n",
              "      <td>1.000000</td>\n",
              "      <td>0.007405</td>\n",
              "      <td>-0.004208</td>\n",
              "      <td>0.003147</td>\n",
              "      <td>0.072624</td>\n",
              "    </tr>\n",
              "    <tr>\n",
              "      <th>Bathrooms</th>\n",
              "      <td>-0.003275</td>\n",
              "      <td>0.007405</td>\n",
              "      <td>1.000000</td>\n",
              "      <td>0.001613</td>\n",
              "      <td>0.003748</td>\n",
              "      <td>0.028418</td>\n",
              "    </tr>\n",
              "    <tr>\n",
              "      <th>Neighborhood</th>\n",
              "      <td>0.011186</td>\n",
              "      <td>-0.004208</td>\n",
              "      <td>0.001613</td>\n",
              "      <td>1.000000</td>\n",
              "      <td>-0.000174</td>\n",
              "      <td>0.016429</td>\n",
              "    </tr>\n",
              "    <tr>\n",
              "      <th>YearBuilt</th>\n",
              "      <td>0.000482</td>\n",
              "      <td>0.003147</td>\n",
              "      <td>0.003748</td>\n",
              "      <td>-0.000174</td>\n",
              "      <td>1.000000</td>\n",
              "      <td>-0.002288</td>\n",
              "    </tr>\n",
              "    <tr>\n",
              "      <th>Price</th>\n",
              "      <td>0.750720</td>\n",
              "      <td>0.072624</td>\n",
              "      <td>0.028418</td>\n",
              "      <td>0.016429</td>\n",
              "      <td>-0.002288</td>\n",
              "      <td>1.000000</td>\n",
              "    </tr>\n",
              "  </tbody>\n",
              "</table>\n",
              "</div>\n",
              "    <div class=\"colab-df-buttons\">\n",
              "\n",
              "  <div class=\"colab-df-container\">\n",
              "    <button class=\"colab-df-convert\" onclick=\"convertToInteractive('df-9a648786-41ac-4bea-8ac4-b218913143ef')\"\n",
              "            title=\"Convert this dataframe to an interactive table.\"\n",
              "            style=\"display:none;\">\n",
              "\n",
              "  <svg xmlns=\"http://www.w3.org/2000/svg\" height=\"24px\" viewBox=\"0 -960 960 960\">\n",
              "    <path d=\"M120-120v-720h720v720H120Zm60-500h600v-160H180v160Zm220 220h160v-160H400v160Zm0 220h160v-160H400v160ZM180-400h160v-160H180v160Zm440 0h160v-160H620v160ZM180-180h160v-160H180v160Zm440 0h160v-160H620v160Z\"/>\n",
              "  </svg>\n",
              "    </button>\n",
              "\n",
              "  <style>\n",
              "    .colab-df-container {\n",
              "      display:flex;\n",
              "      gap: 12px;\n",
              "    }\n",
              "\n",
              "    .colab-df-convert {\n",
              "      background-color: #E8F0FE;\n",
              "      border: none;\n",
              "      border-radius: 50%;\n",
              "      cursor: pointer;\n",
              "      display: none;\n",
              "      fill: #1967D2;\n",
              "      height: 32px;\n",
              "      padding: 0 0 0 0;\n",
              "      width: 32px;\n",
              "    }\n",
              "\n",
              "    .colab-df-convert:hover {\n",
              "      background-color: #E2EBFA;\n",
              "      box-shadow: 0px 1px 2px rgba(60, 64, 67, 0.3), 0px 1px 3px 1px rgba(60, 64, 67, 0.15);\n",
              "      fill: #174EA6;\n",
              "    }\n",
              "\n",
              "    .colab-df-buttons div {\n",
              "      margin-bottom: 4px;\n",
              "    }\n",
              "\n",
              "    [theme=dark] .colab-df-convert {\n",
              "      background-color: #3B4455;\n",
              "      fill: #D2E3FC;\n",
              "    }\n",
              "\n",
              "    [theme=dark] .colab-df-convert:hover {\n",
              "      background-color: #434B5C;\n",
              "      box-shadow: 0px 1px 3px 1px rgba(0, 0, 0, 0.15);\n",
              "      filter: drop-shadow(0px 1px 2px rgba(0, 0, 0, 0.3));\n",
              "      fill: #FFFFFF;\n",
              "    }\n",
              "  </style>\n",
              "\n",
              "    <script>\n",
              "      const buttonEl =\n",
              "        document.querySelector('#df-9a648786-41ac-4bea-8ac4-b218913143ef button.colab-df-convert');\n",
              "      buttonEl.style.display =\n",
              "        google.colab.kernel.accessAllowed ? 'block' : 'none';\n",
              "\n",
              "      async function convertToInteractive(key) {\n",
              "        const element = document.querySelector('#df-9a648786-41ac-4bea-8ac4-b218913143ef');\n",
              "        const dataTable =\n",
              "          await google.colab.kernel.invokeFunction('convertToInteractive',\n",
              "                                                    [key], {});\n",
              "        if (!dataTable) return;\n",
              "\n",
              "        const docLinkHtml = 'Like what you see? Visit the ' +\n",
              "          '<a target=\"_blank\" href=https://colab.research.google.com/notebooks/data_table.ipynb>data table notebook</a>'\n",
              "          + ' to learn more about interactive tables.';\n",
              "        element.innerHTML = '';\n",
              "        dataTable['output_type'] = 'display_data';\n",
              "        await google.colab.output.renderOutput(dataTable, element);\n",
              "        const docLink = document.createElement('div');\n",
              "        docLink.innerHTML = docLinkHtml;\n",
              "        element.appendChild(docLink);\n",
              "      }\n",
              "    </script>\n",
              "  </div>\n",
              "\n",
              "\n",
              "<div id=\"df-2627e960-e3dc-4823-ab3f-0578a4a60229\">\n",
              "  <button class=\"colab-df-quickchart\" onclick=\"quickchart('df-2627e960-e3dc-4823-ab3f-0578a4a60229')\"\n",
              "            title=\"Suggest charts\"\n",
              "            style=\"display:none;\">\n",
              "\n",
              "<svg xmlns=\"http://www.w3.org/2000/svg\" height=\"24px\"viewBox=\"0 0 24 24\"\n",
              "     width=\"24px\">\n",
              "    <g>\n",
              "        <path d=\"M19 3H5c-1.1 0-2 .9-2 2v14c0 1.1.9 2 2 2h14c1.1 0 2-.9 2-2V5c0-1.1-.9-2-2-2zM9 17H7v-7h2v7zm4 0h-2V7h2v10zm4 0h-2v-4h2v4z\"/>\n",
              "    </g>\n",
              "</svg>\n",
              "  </button>\n",
              "\n",
              "<style>\n",
              "  .colab-df-quickchart {\n",
              "      --bg-color: #E8F0FE;\n",
              "      --fill-color: #1967D2;\n",
              "      --hover-bg-color: #E2EBFA;\n",
              "      --hover-fill-color: #174EA6;\n",
              "      --disabled-fill-color: #AAA;\n",
              "      --disabled-bg-color: #DDD;\n",
              "  }\n",
              "\n",
              "  [theme=dark] .colab-df-quickchart {\n",
              "      --bg-color: #3B4455;\n",
              "      --fill-color: #D2E3FC;\n",
              "      --hover-bg-color: #434B5C;\n",
              "      --hover-fill-color: #FFFFFF;\n",
              "      --disabled-bg-color: #3B4455;\n",
              "      --disabled-fill-color: #666;\n",
              "  }\n",
              "\n",
              "  .colab-df-quickchart {\n",
              "    background-color: var(--bg-color);\n",
              "    border: none;\n",
              "    border-radius: 50%;\n",
              "    cursor: pointer;\n",
              "    display: none;\n",
              "    fill: var(--fill-color);\n",
              "    height: 32px;\n",
              "    padding: 0;\n",
              "    width: 32px;\n",
              "  }\n",
              "\n",
              "  .colab-df-quickchart:hover {\n",
              "    background-color: var(--hover-bg-color);\n",
              "    box-shadow: 0 1px 2px rgba(60, 64, 67, 0.3), 0 1px 3px 1px rgba(60, 64, 67, 0.15);\n",
              "    fill: var(--button-hover-fill-color);\n",
              "  }\n",
              "\n",
              "  .colab-df-quickchart-complete:disabled,\n",
              "  .colab-df-quickchart-complete:disabled:hover {\n",
              "    background-color: var(--disabled-bg-color);\n",
              "    fill: var(--disabled-fill-color);\n",
              "    box-shadow: none;\n",
              "  }\n",
              "\n",
              "  .colab-df-spinner {\n",
              "    border: 2px solid var(--fill-color);\n",
              "    border-color: transparent;\n",
              "    border-bottom-color: var(--fill-color);\n",
              "    animation:\n",
              "      spin 1s steps(1) infinite;\n",
              "  }\n",
              "\n",
              "  @keyframes spin {\n",
              "    0% {\n",
              "      border-color: transparent;\n",
              "      border-bottom-color: var(--fill-color);\n",
              "      border-left-color: var(--fill-color);\n",
              "    }\n",
              "    20% {\n",
              "      border-color: transparent;\n",
              "      border-left-color: var(--fill-color);\n",
              "      border-top-color: var(--fill-color);\n",
              "    }\n",
              "    30% {\n",
              "      border-color: transparent;\n",
              "      border-left-color: var(--fill-color);\n",
              "      border-top-color: var(--fill-color);\n",
              "      border-right-color: var(--fill-color);\n",
              "    }\n",
              "    40% {\n",
              "      border-color: transparent;\n",
              "      border-right-color: var(--fill-color);\n",
              "      border-top-color: var(--fill-color);\n",
              "    }\n",
              "    60% {\n",
              "      border-color: transparent;\n",
              "      border-right-color: var(--fill-color);\n",
              "    }\n",
              "    80% {\n",
              "      border-color: transparent;\n",
              "      border-right-color: var(--fill-color);\n",
              "      border-bottom-color: var(--fill-color);\n",
              "    }\n",
              "    90% {\n",
              "      border-color: transparent;\n",
              "      border-bottom-color: var(--fill-color);\n",
              "    }\n",
              "  }\n",
              "</style>\n",
              "\n",
              "  <script>\n",
              "    async function quickchart(key) {\n",
              "      const quickchartButtonEl =\n",
              "        document.querySelector('#' + key + ' button');\n",
              "      quickchartButtonEl.disabled = true;  // To prevent multiple clicks.\n",
              "      quickchartButtonEl.classList.add('colab-df-spinner');\n",
              "      try {\n",
              "        const charts = await google.colab.kernel.invokeFunction(\n",
              "            'suggestCharts', [key], {});\n",
              "      } catch (error) {\n",
              "        console.error('Error during call to suggestCharts:', error);\n",
              "      }\n",
              "      quickchartButtonEl.classList.remove('colab-df-spinner');\n",
              "      quickchartButtonEl.classList.add('colab-df-quickchart-complete');\n",
              "    }\n",
              "    (() => {\n",
              "      let quickchartButtonEl =\n",
              "        document.querySelector('#df-2627e960-e3dc-4823-ab3f-0578a4a60229 button');\n",
              "      quickchartButtonEl.style.display =\n",
              "        google.colab.kernel.accessAllowed ? 'block' : 'none';\n",
              "    })();\n",
              "  </script>\n",
              "</div>\n",
              "\n",
              "    </div>\n",
              "  </div>\n"
            ]
          },
          "metadata": {},
          "execution_count": 505
        }
      ]
    },
    {
      "cell_type": "code",
      "source": [
        "feet = data.sort_values(by=['SquareFeet'])\n",
        "bed = data.sort_values(by=['Bedrooms'])\n",
        "bath = data.sort_values(by=['Bathrooms'])\n",
        "neigh = data.sort_values(by=['Neighborhood'])\n",
        "year = data.sort_values(by=['YearBuilt'])"
      ],
      "metadata": {
        "id": "JhhcOjhhoMpK"
      },
      "execution_count": 506,
      "outputs": []
    },
    {
      "cell_type": "code",
      "source": [
        "feet.plot(x='SquareFeet',y='Price')\n",
        "bed.plot(x='Bedrooms',y='Price')\n",
        "bath.plot(x='Bathrooms',y='Price')\n",
        "neigh.plot(x='Neighborhood',y='Price')\n",
        "year.plot(x='YearBuilt',y='Price')"
      ],
      "metadata": {
        "colab": {
          "base_uri": "https://localhost:8080/",
          "height": 1000
        },
        "id": "WtGK0LDnm-Tz",
        "outputId": "c674d207-be28-48f8-f943-7454c49c143d"
      },
      "execution_count": 507,
      "outputs": [
        {
          "output_type": "execute_result",
          "data": {
            "text/plain": [
              "<Axes: xlabel='YearBuilt'>"
            ]
          },
          "metadata": {},
          "execution_count": 507
        },
        {
          "output_type": "display_data",
          "data": {
            "text/plain": [
              "<Figure size 640x480 with 1 Axes>"
            ],
            "image/png": "[encoded data removed]"
          },
          "metadata": {}
        },
        {
          "output_type": "display_data",
          "data": {
            "text/plain": [
              "<Figure size 640x480 with 1 Axes>"
            ],
            "image/png": "[encoded data removed]"
          },
          "metadata": {}
        },
        {
          "output_type": "display_data",
          "data": {
            "text/plain": [
              "<Figure size 640x480 with 1 Axes>"
            ],
            "image/png": "[encoded data removed]"
          },
          "metadata": {}
        },
        {
          "output_type": "display_data",
          "data": {
            "text/plain": [
              "<Figure size 640x480 with 1 Axes>"
            ],
            "image/png": "[encoded data removed]"
          },
          "metadata": {}
        },
        {
          "output_type": "display_data",
          "data": {
            "text/plain": [
              "<Figure size 640x480 with 1 Axes>"
            ],
            "image/png": "[encoded data removed]"
          },
          "metadata": {}
        }
      ]
    },
    {
      "cell_type": "code",
      "source": [
        "#Normalize larger quantities\n",
        "norm = data.copy()\n",
        "\n",
        "col = 'SquareFeet'\n",
        "norm[col] = norm[col] /norm[col].abs().max()\n",
        "col = 'YearBuilt'\n",
        "norm[col] = norm[col] /norm[col].abs().max()\n",
        "\n",
        "# view normalized data\n",
        "display(norm)\n",
        "data=norm"
      ],
      "metadata": {
        "colab": {
          "base_uri": "https://localhost:8080/",
          "height": 423
        },
        "id": "D9nLQOXW2_Rm",
        "outputId": "0b60b33f-9d92-4342-ea0e-2bdcc3991dc1"
      },
      "execution_count": 508,
      "outputs": [
        {
          "output_type": "display_data",
          "data": {
            "text/plain": [
              "       SquareFeet  Bedrooms  Bathrooms  Neighborhood  YearBuilt          Price\n",
              "0        0.708903         4          1             0   0.974270  215355.283618\n",
              "1        0.819940         3          2             0   0.979713  195014.221626\n",
              "2        0.620207         2          1             1   0.974765  306891.012076\n",
              "3        0.764922         2          1             2   0.987630  206786.787153\n",
              "4        0.710237         5          2             1   0.990104  272436.239065\n",
              "...           ...       ...        ...           ...        ...            ...\n",
              "49995    0.427476         5          3             0   0.977239  100080.865895\n",
              "49996    0.951651         2          2             1   0.983671  374507.656727\n",
              "49997    0.993331         5          3             1   0.970807  384110.555590\n",
              "49998    0.865622         5          2             0   0.981692  380512.685957\n",
              "49999    0.524175         5          3             0   0.995052  221618.583218\n",
              "\n",
              "[50000 rows x 6 columns]"
            ],
            "text/html": [
              "\n",
              "  <div id=\"df-b38ac143-62a4-4867-a1f6-06ba2c816378\" class=\"colab-df-container\">\n",
              "    <div>\n",
              "<style scoped>\n",
              "    .dataframe tbody tr th:only-of-type {\n",
              "        vertical-align: middle;\n",
              "    }\n",
              "\n",
              "    .dataframe tbody tr th {\n",
              "        vertical-align: top;\n",
              "    }\n",
              "\n",
              "    .dataframe thead th {\n",
              "        text-align: right;\n",
              "    }\n",
              "</style>\n",
              "<table border=\"1\" class=\"dataframe\">\n",
              "  <thead>\n",
              "    <tr style=\"text-align: right;\">\n",
              "      <th></th>\n",
              "      <th>SquareFeet</th>\n",
              "      <th>Bedrooms</th>\n",
              "      <th>Bathrooms</th>\n",
              "      <th>Neighborhood</th>\n",
              "      <th>YearBuilt</th>\n",
              "      <th>Price</th>\n",
              "    </tr>\n",
              "  </thead>\n",
              "  <tbody>\n",
              "    <tr>\n",
              "      <th>0</th>\n",
              "      <td>0.708903</td>\n",
              "      <td>4</td>\n",
              "      <td>1</td>\n",
              "      <td>0</td>\n",
              "      <td>0.974270</td>\n",
              "      <td>215355.283618</td>\n",
              "    </tr>\n",
              "    <tr>\n",
              "      <th>1</th>\n",
              "      <td>0.819940</td>\n",
              "      <td>3</td>\n",
              "      <td>2</td>\n",
              "      <td>0</td>\n",
              "      <td>0.979713</td>\n",
              "      <td>195014.221626</td>\n",
              "    </tr>\n",
              "    <tr>\n",
              "      <th>2</th>\n",
              "      <td>0.620207</td>\n",
              "      <td>2</td>\n",
              "      <td>1</td>\n",
              "      <td>1</td>\n",
              "      <td>0.974765</td>\n",
              "      <td>306891.012076</td>\n",
              "    </tr>\n",
              "    <tr>\n",
              "      <th>3</th>\n",
              "      <td>0.764922</td>\n",
              "      <td>2</td>\n",
              "      <td>1</td>\n",
              "      <td>2</td>\n",
              "      <td>0.987630</td>\n",
              "      <td>206786.787153</td>\n",
              "    </tr>\n",
              "    <tr>\n",
              "      <th>4</th>\n",
              "      <td>0.710237</td>\n",
              "      <td>5</td>\n",
              "      <td>2</td>\n",
              "      <td>1</td>\n",
              "      <td>0.990104</td>\n",
              "      <td>272436.239065</td>\n",
              "    </tr>\n",
              "    <tr>\n",
              "      <th>...</th>\n",
              "      <td>...</td>\n",
              "      <td>...</td>\n",
              "      <td>...</td>\n",
              "      <td>...</td>\n",
              "      <td>...</td>\n",
              "      <td>...</td>\n",
              "    </tr>\n",
              "    <tr>\n",
              "      <th>49995</th>\n",
              "      <td>0.427476</td>\n",
              "      <td>5</td>\n",
              "      <td>3</td>\n",
              "      <td>0</td>\n",
              "      <td>0.977239</td>\n",
              "      <td>100080.865895</td>\n",
              "    </tr>\n",
              "    <tr>\n",
              "      <th>49996</th>\n",
              "      <td>0.951651</td>\n",
              "      <td>2</td>\n",
              "      <td>2</td>\n",
              "      <td>1</td>\n",
              "      <td>0.983671</td>\n",
              "      <td>374507.656727</td>\n",
              "    </tr>\n",
              "    <tr>\n",
              "      <th>49997</th>\n",
              "      <td>0.993331</td>\n",
              "      <td>5</td>\n",
              "      <td>3</td>\n",
              "      <td>1</td>\n",
              "      <td>0.970807</td>\n",
              "      <td>384110.555590</td>\n",
              "    </tr>\n",
              "    <tr>\n",
              "      <th>49998</th>\n",
              "      <td>0.865622</td>\n",
              "      <td>5</td>\n",
              "      <td>2</td>\n",
              "      <td>0</td>\n",
              "      <td>0.981692</td>\n",
              "      <td>380512.685957</td>\n",
              "    </tr>\n",
              "    <tr>\n",
              "      <th>49999</th>\n",
              "      <td>0.524175</td>\n",
              "      <td>5</td>\n",
              "      <td>3</td>\n",
              "      <td>0</td>\n",
              "      <td>0.995052</td>\n",
              "      <td>221618.583218</td>\n",
              "    </tr>\n",
              "  </tbody>\n",
              "</table>\n",
              "<p>50000 rows × 6 columns</p>\n",
              "</div>\n",
              "    <div class=\"colab-df-buttons\">\n",
              "\n",
              "  <div class=\"colab-df-container\">\n",
              "    <button class=\"colab-df-convert\" onclick=\"convertToInteractive('df-b38ac143-62a4-4867-a1f6-06ba2c816378')\"\n",
              "            title=\"Convert this dataframe to an interactive table.\"\n",
              "            style=\"display:none;\">\n",
              "\n",
              "  <svg xmlns=\"http://www.w3.org/2000/svg\" height=\"24px\" viewBox=\"0 -960 960 960\">\n",
              "    <path d=\"M120-120v-720h720v720H120Zm60-500h600v-160H180v160Zm220 220h160v-160H400v160Zm0 220h160v-160H400v160ZM180-400h160v-160H180v160Zm440 0h160v-160H620v160ZM180-180h160v-160H180v160Zm440 0h160v-160H620v160Z\"/>\n",
              "  </svg>\n",
              "    </button>\n",
              "\n",
              "  <style>\n",
              "    .colab-df-container {\n",
              "      display:flex;\n",
              "      gap: 12px;\n",
              "    }\n",
              "\n",
              "    .colab-df-convert {\n",
              "      background-color: #E8F0FE;\n",
              "      border: none;\n",
              "      border-radius: 50%;\n",
              "      cursor: pointer;\n",
              "      display: none;\n",
              "      fill: #1967D2;\n",
              "      height: 32px;\n",
              "      padding: 0 0 0 0;\n",
              "      width: 32px;\n",
              "    }\n",
              "\n",
              "    .colab-df-convert:hover {\n",
              "      background-color: #E2EBFA;\n",
              "      box-shadow: 0px 1px 2px rgba(60, 64, 67, 0.3), 0px 1px 3px 1px rgba(60, 64, 67, 0.15);\n",
              "      fill: #174EA6;\n",
              "    }\n",
              "\n",
              "    .colab-df-buttons div {\n",
              "      margin-bottom: 4px;\n",
              "    }\n",
              "\n",
              "    [theme=dark] .colab-df-convert {\n",
              "      background-color: #3B4455;\n",
              "      fill: #D2E3FC;\n",
              "    }\n",
              "\n",
              "    [theme=dark] .colab-df-convert:hover {\n",
              "      background-color: #434B5C;\n",
              "      box-shadow: 0px 1px 3px 1px rgba(0, 0, 0, 0.15);\n",
              "      filter: drop-shadow(0px 1px 2px rgba(0, 0, 0, 0.3));\n",
              "      fill: #FFFFFF;\n",
              "    }\n",
              "  </style>\n",
              "\n",
              "    <script>\n",
              "      const buttonEl =\n",
              "        document.querySelector('#df-b38ac143-62a4-4867-a1f6-06ba2c816378 button.colab-df-convert');\n",
              "      buttonEl.style.display =\n",
              "        google.colab.kernel.accessAllowed ? 'block' : 'none';\n",
              "\n",
              "      async function convertToInteractive(key) {\n",
              "        const element = document.querySelector('#df-b38ac143-62a4-4867-a1f6-06ba2c816378');\n",
              "        const dataTable =\n",
              "          await google.colab.kernel.invokeFunction('convertToInteractive',\n",
              "                                                    [key], {});\n",
              "        if (!dataTable) return;\n",
              "\n",
              "        const docLinkHtml = 'Like what you see? Visit the ' +\n",
              "          '<a target=\"_blank\" href=https://colab.research.google.com/notebooks/data_table.ipynb>data table notebook</a>'\n",
              "          + ' to learn more about interactive tables.';\n",
              "        element.innerHTML = '';\n",
              "        dataTable['output_type'] = 'display_data';\n",
              "        await google.colab.output.renderOutput(dataTable, element);\n",
              "        const docLink = document.createElement('div');\n",
              "        docLink.innerHTML = docLinkHtml;\n",
              "        element.appendChild(docLink);\n",
              "      }\n",
              "    </script>\n",
              "  </div>\n",
              "\n",
              "\n",
              "<div id=\"df-6b967676-833b-48c5-8ee6-40f3f83cba44\">\n",
              "  <button class=\"colab-df-quickchart\" onclick=\"quickchart('df-6b967676-833b-48c5-8ee6-40f3f83cba44')\"\n",
              "            title=\"Suggest charts\"\n",
              "            style=\"display:none;\">\n",
              "\n",
              "<svg xmlns=\"http://www.w3.org/2000/svg\" height=\"24px\"viewBox=\"0 0 24 24\"\n",
              "     width=\"24px\">\n",
              "    <g>\n",
              "        <path d=\"M19 3H5c-1.1 0-2 .9-2 2v14c0 1.1.9 2 2 2h14c1.1 0 2-.9 2-2V5c0-1.1-.9-2-2-2zM9 17H7v-7h2v7zm4 0h-2V7h2v10zm4 0h-2v-4h2v4z\"/>\n",
              "    </g>\n",
              "</svg>\n",
              "  </button>\n",
              "\n",
              "<style>\n",
              "  .colab-df-quickchart {\n",
              "      --bg-color: #E8F0FE;\n",
              "      --fill-color: #1967D2;\n",
              "      --hover-bg-color: #E2EBFA;\n",
              "      --hover-fill-color: #174EA6;\n",
              "      --disabled-fill-color: #AAA;\n",
              "      --disabled-bg-color: #DDD;\n",
              "  }\n",
              "\n",
              "  [theme=dark] .colab-df-quickchart {\n",
              "      --bg-color: #3B4455;\n",
              "      --fill-color: #D2E3FC;\n",
              "      --hover-bg-color: #434B5C;\n",
              "      --hover-fill-color: #FFFFFF;\n",
              "      --disabled-bg-color: #3B4455;\n",
              "      --disabled-fill-color: #666;\n",
              "  }\n",
              "\n",
              "  .colab-df-quickchart {\n",
              "    background-color: var(--bg-color);\n",
              "    border: none;\n",
              "    border-radius: 50%;\n",
              "    cursor: pointer;\n",
              "    display: none;\n",
              "    fill: var(--fill-color);\n",
              "    height: 32px;\n",
              "    padding: 0;\n",
              "    width: 32px;\n",
              "  }\n",
              "\n",
              "  .colab-df-quickchart:hover {\n",
              "    background-color: var(--hover-bg-color);\n",
              "    box-shadow: 0 1px 2px rgba(60, 64, 67, 0.3), 0 1px 3px 1px rgba(60, 64, 67, 0.15);\n",
              "    fill: var(--button-hover-fill-color);\n",
              "  }\n",
              "\n",
              "  .colab-df-quickchart-complete:disabled,\n",
              "  .colab-df-quickchart-complete:disabled:hover {\n",
              "    background-color: var(--disabled-bg-color);\n",
              "    fill: var(--disabled-fill-color);\n",
              "    box-shadow: none;\n",
              "  }\n",
              "\n",
              "  .colab-df-spinner {\n",
              "    border: 2px solid var(--fill-color);\n",
              "    border-color: transparent;\n",
              "    border-bottom-color: var(--fill-color);\n",
              "    animation:\n",
              "      spin 1s steps(1) infinite;\n",
              "  }\n",
              "\n",
              "  @keyframes spin {\n",
              "    0% {\n",
              "      border-color: transparent;\n",
              "      border-bottom-color: var(--fill-color);\n",
              "      border-left-color: var(--fill-color);\n",
              "    }\n",
              "    20% {\n",
              "      border-color: transparent;\n",
              "      border-left-color: var(--fill-color);\n",
              "      border-top-color: var(--fill-color);\n",
              "    }\n",
              "    30% {\n",
              "      border-color: transparent;\n",
              "      border-left-color: var(--fill-color);\n",
              "      border-top-color: var(--fill-color);\n",
              "      border-right-color: var(--fill-color);\n",
              "    }\n",
              "    40% {\n",
              "      border-color: transparent;\n",
              "      border-right-color: var(--fill-color);\n",
              "      border-top-color: var(--fill-color);\n",
              "    }\n",
              "    60% {\n",
              "      border-color: transparent;\n",
              "      border-right-color: var(--fill-color);\n",
              "    }\n",
              "    80% {\n",
              "      border-color: transparent;\n",
              "      border-right-color: var(--fill-color);\n",
              "      border-bottom-color: var(--fill-color);\n",
              "    }\n",
              "    90% {\n",
              "      border-color: transparent;\n",
              "      border-bottom-color: var(--fill-color);\n",
              "    }\n",
              "  }\n",
              "</style>\n",
              "\n",
              "  <script>\n",
              "    async function quickchart(key) {\n",
              "      const quickchartButtonEl =\n",
              "        document.querySelector('#' + key + ' button');\n",
              "      quickchartButtonEl.disabled = true;  // To prevent multiple clicks.\n",
              "      quickchartButtonEl.classList.add('colab-df-spinner');\n",
              "      try {\n",
              "        const charts = await google.colab.kernel.invokeFunction(\n",
              "            'suggestCharts', [key], {});\n",
              "      } catch (error) {\n",
              "        console.error('Error during call to suggestCharts:', error);\n",
              "      }\n",
              "      quickchartButtonEl.classList.remove('colab-df-spinner');\n",
              "      quickchartButtonEl.classList.add('colab-df-quickchart-complete');\n",
              "    }\n",
              "    (() => {\n",
              "      let quickchartButtonEl =\n",
              "        document.querySelector('#df-6b967676-833b-48c5-8ee6-40f3f83cba44 button');\n",
              "      quickchartButtonEl.style.display =\n",
              "        google.colab.kernel.accessAllowed ? 'block' : 'none';\n",
              "    })();\n",
              "  </script>\n",
              "</div>\n",
              "\n",
              "  <div id=\"id_aaa13916-2742-47d8-bf29-1c6ce79f7b4e\">\n",
              "    <style>\n",
              "      .colab-df-generate {\n",
              "        background-color: #E8F0FE;\n",
              "        border: none;\n",
              "        border-radius: 50%;\n",
              "        cursor: pointer;\n",
              "        display: none;\n",
              "        fill: #1967D2;\n",
              "        height: 32px;\n",
              "        padding: 0 0 0 0;\n",
              "        width: 32px;\n",
              "      }\n",
              "\n",
              "      .colab-df-generate:hover {\n",
              "        background-color: #E2EBFA;\n",
              "        box-shadow: 0px 1px 2px rgba(60, 64, 67, 0.3), 0px 1px 3px 1px rgba(60, 64, 67, 0.15);\n",
              "        fill: #174EA6;\n",
              "      }\n",
              "\n",
              "      [theme=dark] .colab-df-generate {\n",
              "        background-color: #3B4455;\n",
              "        fill: #D2E3FC;\n",
              "      }\n",
              "\n",
              "      [theme=dark] .colab-df-generate:hover {\n",
              "        background-color: #434B5C;\n",
              "        box-shadow: 0px 1px 3px 1px rgba(0, 0, 0, 0.15);\n",
              "        filter: drop-shadow(0px 1px 2px rgba(0, 0, 0, 0.3));\n",
              "        fill: #FFFFFF;\n",
              "      }\n",
              "    </style>\n",
              "    <button class=\"colab-df-generate\" onclick=\"generateWithVariable('norm')\"\n",
              "            title=\"Generate code using this dataframe.\"\n",
              "            style=\"display:none;\">\n",
              "\n",
              "  <svg xmlns=\"http://www.w3.org/2000/svg\" height=\"24px\"viewBox=\"0 0 24 24\"\n",
              "       width=\"24px\">\n",
              "    <path d=\"M7,19H8.4L18.45,9,17,7.55,7,17.6ZM5,21V16.75L18.45,3.32a2,2,0,0,1,2.83,0l1.4,1.43a1.91,1.91,0,0,1,.58,1.4,1.91,1.91,0,0,1-.58,1.4L9.25,21ZM18.45,9,17,7.55Zm-12,3A5.31,5.31,0,0,0,4.9,8.1,5.31,5.31,0,0,0,1,6.5,5.31,5.31,0,0,0,4.9,4.9,5.31,5.31,0,0,0,6.5,1,5.31,5.31,0,0,0,8.1,4.9,5.31,5.31,0,0,0,12,6.5,5.46,5.46,0,0,0,6.5,12Z\"/>\n",
              "  </svg>\n",
              "    </button>\n",
              "    <script>\n",
              "      (() => {\n",
              "      const buttonEl =\n",
              "        document.querySelector('#id_aaa13916-2742-47d8-bf29-1c6ce79f7b4e button.colab-df-generate');\n",
              "      buttonEl.style.display =\n",
              "        google.colab.kernel.accessAllowed ? 'block' : 'none';\n",
              "\n",
              "      buttonEl.onclick = () => {\n",
              "        google.colab.notebook.generateWithVariable('norm');\n",
              "      }\n",
              "      })();\n",
              "    </script>\n",
              "  </div>\n",
              "\n",
              "    </div>\n",
              "  </div>\n"
            ]
          },
          "metadata": {}
        }
      ]
    },
    {
      "cell_type": "code",
      "source": [
        "#Train-dev-test split\n",
        "#80-10-10 split\n",
        "size = len(data)\n",
        "shuffle = data.sample(frac = 1)\n",
        "partt = int(size*8/10)\n",
        "partv = int(size*9/10)\n",
        "test = shuffle.iloc[partv:]\n",
        "valid = shuffle.iloc[partt:partv]\n",
        "train = shuffle.iloc[:partt]"
      ],
      "metadata": {
        "id": "pTdEecYVo5uY"
      },
      "execution_count": 509,
      "outputs": []
    },
    {
      "cell_type": "code",
      "source": [
        "#Feature Label split\n",
        "train_label = train[\"Price\"].to_numpy()\n",
        "train_feat = train.drop(columns=[\"Price\"]).to_numpy()\n",
        "test_label = test[\"Price\"].to_numpy()\n",
        "test_feat = test.drop(columns=[\"Price\"]).to_numpy()\n",
        "valid_label = valid[\"Price\"].to_numpy()\n",
        "valid_feat = valid.drop(columns=[\"Price\"]).to_numpy()"
      ],
      "metadata": {
        "id": "DnyI9YwzpyA_"
      },
      "execution_count": 510,
      "outputs": []
    },
    {
      "cell_type": "markdown",
      "metadata": {
        "id": "dvcn4zoZLAFl"
      },
      "source": [
        "Part 1"
      ]
    },
    {
      "cell_type": "code",
      "execution_count": 511,
      "metadata": {
        "id": "o-8Wc1gZeMFt"
      },
      "outputs": [],
      "source": [
        "def relu(X):\n",
        "  return np.where(X < 0, 0, X)"
      ]
    },
    {
      "cell_type": "code",
      "source": [
        "def relu_deriv(X):\n",
        "  return np.where(X < 0, 0, 1)"
      ],
      "metadata": {
        "id": "rS6uH_mKZMXB"
      },
      "execution_count": 512,
      "outputs": []
    },
    {
      "cell_type": "code",
      "execution_count": 513,
      "metadata": {
        "id": "xOUD8AZ0LP87"
      },
      "outputs": [],
      "source": [
        "class NeuralNetwork:\n",
        "  def __init__(self,in_dim,out_dim,learning_rate,layer_size,num_hidden_layers=1):\n",
        "    self.num_hidden_layers = num_hidden_layers\n",
        "    self.num_layers = num_hidden_layers+2\n",
        "    self.layer_size = layer_size\n",
        "    self.learning_rate=learning_rate\n",
        "\n",
        "    self.inputs = [0]*self.num_layers\n",
        "\n",
        "    #COnstruct the layers of the network\n",
        "    self.layers = [0]*self.num_layers\n",
        "    self.layers[0] = [0]*layer_size\n",
        "    self.layers[-1] = [0]*out_dim\n",
        "    for i in range(layer_size):\n",
        "          self.layers[0][i]=[random.random() for j in range(in_dim+1)]\n",
        "    for i in range(out_dim):\n",
        "          self.layers[-1][i]=[random.random() for j in range(layer_size+1)]\n",
        "    for i in range(0,num_hidden_layers):\n",
        "      self.layers[i+1]=[0]*layer_size\n",
        "      for j in range(layer_size):\n",
        "        self.layers[i+1][j]=[random.random() for k in range(layer_size+1)]\n",
        "\n",
        "    self.in_dim = in_dim\n",
        "    self.out_dim = out_dim\n",
        "\n",
        "  #Helper function to compute output of a single layer\n",
        "  def compute_layer(self,X,layer):\n",
        "    if(layer<self.num_layers-1):\n",
        "      out = [0]*self.layer_size\n",
        "\n",
        "      for i in range(self.layer_size):\n",
        "        out[i]=np.dot(X,np.transpose(self.layers[layer][i])[:-1])+np.transpose(self.layers[layer][i])[-1]\n",
        "        out[i]=relu(out[i])\n",
        "    else:\n",
        "      out = [0]*self.out_dim\n",
        "\n",
        "      for i in range(self.out_dim):\n",
        "        out[i]=np.dot(X,np.transpose(self.layers[layer][i])[:-1])+np.transpose(self.layers[layer][i])[-1]\n",
        "\n",
        "    return np.transpose(out)\n",
        "\n",
        "  def forward(self,x):\n",
        "    for i in range(self.num_layers):\n",
        "      self.inputs[i]=x\n",
        "\n",
        "      x = self.compute_layer(x,i)\n",
        "\n",
        "    return x\n",
        "\n",
        "  def backward(self,y_pred,y):\n",
        "    dif = np.reshape(y_pred,[len(y_pred),1])-np.reshape(y,[len(y_pred),1])\n",
        "    weights = np.transpose(np.transpose(self.layers[-1])[:-1])\n",
        "    bias = np.transpose(np.transpose(self.layers[-1])[-1])\n",
        "\n",
        "    for i in range(len(dif)):\n",
        "      bias -= self.learning_rate * dif[i]\n",
        "\n",
        "    error = np.dot(dif, weights)\n",
        "    werror = np.dot(np.transpose(self.inputs[-1]), dif)\n",
        "\n",
        "    weights -= self.learning_rate * np.transpose(werror) #transpose might be wrong\n",
        "\n",
        "    self.layers[-1]=np.concatenate((weights,np.transpose([bias])),axis=1)\n",
        "\n",
        "    for i in range(self.num_layers-2,-1,-1):\n",
        "      weights = np.transpose(np.transpose(self.layers[i])[:-1])\n",
        "      bias = np.transpose(np.transpose(self.layers[i])[-1])\n",
        "\n",
        "      for j in range(len(error)):\n",
        "        bias -= self.learning_rate * error[j]\n",
        "\n",
        "      werror = np.dot(np.transpose(self.inputs[i]), error)\n",
        "      error = np.dot(error, weights)\n",
        "\n",
        "      weights -= self.learning_rate * np.transpose(werror)\n",
        "\n",
        "      self.layers[i]=np.concatenate((weights,np.transpose([bias])),axis=1)\n",
        "\n",
        "  def train(self,features,labels,epochs):\n",
        "    for ep in range(epochs):\n",
        "      pred = self.forward(features)\n",
        "\n",
        "      c = self.cost(pred,labels)\n",
        "\n",
        "      self.backward(pred,labels)\n",
        "\n",
        "      print('Epoch %d: MSE=%f' % (ep+1,c))\n",
        "\n",
        "\n",
        "  #Cost function using Mean Absolute Error\n",
        "  def cost(self,pred,target):\n",
        "    c = 0\n",
        "\n",
        "    for i in range(len(pred)):\n",
        "      c += abs(pred[i]-target[i])\n",
        "    c/=len(pred)\n",
        "\n",
        "    return c\n",
        "\n",
        "  def predict(self,data):\n",
        "    return self.forward(data)\n"
      ]
    },
    {
      "cell_type": "code",
      "source": [
        "model = NeuralNetwork(2,1,1e-3,5,2)"
      ],
      "metadata": {
        "id": "NL6JwmsoplGj"
      },
      "execution_count": 514,
      "outputs": []
    },
    {
      "cell_type": "code",
      "source": [
        "#mock data for testing\n",
        "features = np.array([[1,0],[0,0],[0,1],[1,1],[1,0],[1,1],[1,1],[0,1],[0,0],[0,1],[1,0]])\n",
        "labels = np.array([1,0,1,0,1,0,0,1,0,1,1])\n",
        "model.train(features,labels,50)\n"
      ],
      "metadata": {
        "colab": {
          "base_uri": "https://localhost:8080/"
        },
        "outputId": "af70e660-8498-4ab2-c7fb-f777ffc9e21d",
        "id": "XlMkEC_-plGk"
      },
      "execution_count": 515,
      "outputs": [
        {
          "output_type": "stream",
          "name": "stdout",
          "text": [
            "Epoch 1: MSE=27.622242\n",
            "Epoch 2: MSE=3.259130\n",
            "Epoch 3: MSE=0.529520\n",
            "Epoch 4: MSE=0.491436\n",
            "Epoch 5: MSE=0.479627\n",
            "Epoch 6: MSE=0.472209\n",
            "Epoch 7: MSE=0.467636\n",
            "Epoch 8: MSE=0.464834\n",
            "Epoch 9: MSE=0.463106\n",
            "Epoch 10: MSE=0.462019\n",
            "Epoch 11: MSE=0.461312\n",
            "Epoch 12: MSE=0.461065\n",
            "Epoch 13: MSE=0.461067\n",
            "Epoch 14: MSE=0.461004\n",
            "Epoch 15: MSE=0.460898\n",
            "Epoch 16: MSE=0.460764\n",
            "Epoch 17: MSE=0.460611\n",
            "Epoch 18: MSE=0.460448\n",
            "Epoch 19: MSE=0.460277\n",
            "Epoch 20: MSE=0.460104\n",
            "Epoch 21: MSE=0.459929\n",
            "Epoch 22: MSE=0.459755\n",
            "Epoch 23: MSE=0.459582\n",
            "Epoch 24: MSE=0.459411\n",
            "Epoch 25: MSE=0.459242\n",
            "Epoch 26: MSE=0.459076\n",
            "Epoch 27: MSE=0.458913\n",
            "Epoch 28: MSE=0.458753\n",
            "Epoch 29: MSE=0.458597\n",
            "Epoch 30: MSE=0.458443\n",
            "Epoch 31: MSE=0.458316\n",
            "Epoch 32: MSE=0.458288\n",
            "Epoch 33: MSE=0.458261\n",
            "Epoch 34: MSE=0.458238\n",
            "Epoch 35: MSE=0.458220\n",
            "Epoch 36: MSE=0.458208\n",
            "Epoch 37: MSE=0.458203\n",
            "Epoch 38: MSE=0.458204\n",
            "Epoch 39: MSE=0.458211\n",
            "Epoch 40: MSE=0.458226\n",
            "Epoch 41: MSE=0.458247\n",
            "Epoch 42: MSE=0.458275\n",
            "Epoch 43: MSE=0.458310\n",
            "Epoch 44: MSE=0.458352\n",
            "Epoch 45: MSE=0.458401\n",
            "Epoch 46: MSE=0.458456\n",
            "Epoch 47: MSE=0.458518\n",
            "Epoch 48: MSE=0.458587\n",
            "Epoch 49: MSE=0.458663\n",
            "Epoch 50: MSE=0.458746\n"
          ]
        }
      ]
    },
    {
      "cell_type": "markdown",
      "metadata": {
        "id": "Xgy5ZUXSLBt2"
      },
      "source": [
        "Part 2"
      ]
    },
    {
      "cell_type": "markdown",
      "metadata": {
        "id": "okXPc84FLC9-"
      },
      "source": [
        "Task 1"
      ]
    },
    {
      "cell_type": "markdown",
      "source": [
        "Used the provided link for setting up the pytorch framework: https://pytorch.org/tutorials/beginner/basics/buildmodel_tutorial.html\n",
        "\n",
        "Used the information from this forum to create a variable number of hidden layers in the model: https://discuss.pytorch.org/t/append-for-nn-sequential-or-directly-converting-nn-modulelist-to-nn-sequential/7104\n",
        "\n",
        "Researched but didn't end up using:\n",
        "\n",
        "Reshape: https://pytorch.org/docs/stable/generated/torch.reshape.html\n",
        "\n",
        "Argmax: https://pytorch.org/docs/stable/generated/torch.argmax.html\n",
        "\n",
        "Change datatype of tensor: https://pytorch.org/docs/stable/generated/torch.Tensor.to.html"
      ],
      "metadata": {
        "id": "2lWuuLwP--Pt"
      }
    },
    {
      "cell_type": "markdown",
      "metadata": {
        "id": "Y1_wczT-LDy3"
      },
      "source": [
        "Task 2"
      ]
    },
    {
      "cell_type": "code",
      "source": [
        "import torch\n",
        "from torch import nn\n",
        "from torch.utils.data import DataLoader\n",
        "from torchvision import datasets\n",
        "from torchvision.transforms import ToTensor"
      ],
      "metadata": {
        "id": "pM48Pli2EZUE"
      },
      "execution_count": 516,
      "outputs": []
    },
    {
      "cell_type": "code",
      "source": [
        "class PTNetwork(nn.Module):\n",
        "    def __init__(self,in_dim,out_dim,layer_size,num_hidden_layers=1):\n",
        "        super().__init__()\n",
        "        self.in_dim = in_dim\n",
        "        self.num_hidden_layers = num_hidden_layers\n",
        "        self.num_layers = num_hidden_layers*2+3\n",
        "        self.layer_size = layer_size\n",
        "\n",
        "        self.flatten = nn.Flatten()\n",
        "\n",
        "        modules = []\n",
        "        modules.append(nn.Linear(in_dim, layer_size))\n",
        "        modules.append(nn.ReLU())\n",
        "        for i in range(num_hidden_layers):\n",
        "          modules.append(nn.Linear(layer_size, layer_size))\n",
        "          modules.append(nn.ReLU())\n",
        "        modules.append(nn.Linear(layer_size, out_dim))\n",
        "\n",
        "        self.layers = nn.Sequential(*modules)\n",
        "\n",
        "    def forward(self, x):\n",
        "        return self.layers(x)"
      ],
      "metadata": {
        "id": "VRi4gVN86x9u"
      },
      "execution_count": 517,
      "outputs": []
    },
    {
      "cell_type": "code",
      "source": [
        "#Hyperparameters\n",
        "learning_rate=1e-3\n",
        "layer_size=500\n",
        "num_hidden_layers=2\n",
        "batch_size = 64\n",
        "epochs = 10\n",
        "\n",
        "in_dim = 5\n",
        "out_dim=1"
      ],
      "metadata": {
        "id": "q3BbGhJXArAt"
      },
      "execution_count": 518,
      "outputs": []
    },
    {
      "cell_type": "code",
      "source": [
        "#Hyperparameters\n",
        "learning_rate=1e-3\n",
        "layer_size=200\n",
        "num_hidden_layers=2\n",
        "batch_size = 75\n",
        "epochs = 10\n",
        "\n",
        "in_dim = 5\n",
        "out_dim=1"
      ],
      "metadata": {
        "id": "L2Kubsj0ECSS"
      },
      "execution_count": 519,
      "outputs": []
    },
    {
      "cell_type": "code",
      "source": [
        "device = (\n",
        "    \"cuda\"\n",
        "    if torch.cuda.is_available()\n",
        "    else \"mps\"\n",
        "    if torch.backends.mps.is_available()\n",
        "    else \"cpu\"\n",
        ")\n",
        "\n",
        "model = PTNetwork(in_dim,out_dim,layer_size,num_hidden_layers)\n",
        "\n",
        "# Initialize the loss function\n",
        "loss_fn = nn.L1Loss()\n",
        "optimizer = torch.optim.Adam(model.parameters(), lr=learning_rate)"
      ],
      "metadata": {
        "id": "A79KVn7d_hkk"
      },
      "execution_count": 520,
      "outputs": []
    },
    {
      "cell_type": "code",
      "source": [
        "def load_data(feats,labels):\n",
        "  segments = int(len(feats)/batch_size + .999)\n",
        "  out = [0]*segments\n",
        "  for i in range(segments):\n",
        "    out[i]=np.array([feats[i*batch_size:(i+1)*batch_size],labels[i*batch_size:(i+1)*batch_size],i])\n",
        "  return np.array(out)"
      ],
      "metadata": {
        "id": "7FWLiQcazbLk"
      },
      "execution_count": 521,
      "outputs": []
    },
    {
      "cell_type": "code",
      "source": [
        "def train_loop(feats,labels, model, loss_fn, optimizer):\n",
        "    size = len(feats)\n",
        "\n",
        "    model.train()\n",
        "    for (X, y, batch) in load_data(feats,labels):\n",
        "        # Compute prediction and loss\n",
        "        X = torch.tensor(X.astype(np.float32))\n",
        "        y = torch.tensor(y.astype(np.float32))\n",
        "\n",
        "        pred = model(X)\n",
        "        loss = loss_fn(pred, y)\n",
        "\n",
        "        # Backpropagation\n",
        "        loss.backward()\n",
        "        optimizer.step()\n",
        "        optimizer.zero_grad()\n",
        "\n",
        "        if batch % 100 == 0:\n",
        "            loss, current = loss.item(), batch * batch_size + len(X)\n",
        "            print(f\"loss: {loss:>7f}  [{current:>5d}/{size:>5d}]\")\n",
        "\n",
        "\n",
        "def test_loop(feats,labels, model, loss_fn):\n",
        "    model.eval()\n",
        "    size = len(feats)\n",
        "    num_batches = int((len(feats)/batch_size)+.999)\n",
        "    test_loss, correct = 0, 0\n",
        "\n",
        "    with torch.no_grad():\n",
        "        for X, y, _ in load_data(feats,labels):\n",
        "            X = torch.tensor(X.astype(np.float32))\n",
        "            y = torch.tensor(y.astype(np.float32))\n",
        "\n",
        "            pred = model(X)\n",
        "            test_loss += loss_fn(pred, y).item()\n",
        "\n",
        "    test_loss /= num_batches\n",
        "    print(f\"Avg loss: {test_loss:>8f} \\n\")"
      ],
      "metadata": {
        "id": "7daljN2u0Tc3"
      },
      "execution_count": 522,
      "outputs": []
    },
    {
      "cell_type": "code",
      "source": [
        "for t in range(epochs):\n",
        "    print(f\"Epoch {t+1}\\n-------------------------------\")\n",
        "    train_loop(train_feat,train_label, model, loss_fn, optimizer)\n",
        "    test_loop(valid_feat,valid_label, model, loss_fn)\n",
        "print(\"Done!\")"
      ],
      "metadata": {
        "colab": {
          "base_uri": "https://localhost:8080/"
        },
        "id": "m3s_OExgBpLl",
        "outputId": "4f752cde-379e-4fdc-de99-979852d5b723"
      },
      "execution_count": 523,
      "outputs": [
        {
          "output_type": "stream",
          "name": "stdout",
          "text": [
            "Epoch 1\n",
            "-------------------------------\n",
            "loss: 232983.890625  [   75/40000]\n"
          ]
        },
        {
          "output_type": "stream",
          "name": "stderr",
          "text": [
            "<ipython-input-521-1b8ba5702f13>:5: VisibleDeprecationWarning: Creating an ndarray from ragged nested sequences (which is a list-or-tuple of lists-or-tuples-or ndarrays with different lengths or shapes) is deprecated. If you meant to do this, you must specify 'dtype=object' when creating the ndarray.\n",
            "  out[i]=np.array([feats[i*batch_size:(i+1)*batch_size],labels[i*batch_size:(i+1)*batch_size],i])\n",
            "/usr/local/lib/python3.10/dist-packages/torch/nn/modules/loss.py:101: UserWarning: Using a target size (torch.Size([75])) that is different to the input size (torch.Size([75, 1])). This will likely lead to incorrect results due to broadcasting. Please ensure they have the same size.\n",
            "  return F.l1_loss(input, target, reduction=self.reduction)\n"
          ]
        },
        {
          "output_type": "stream",
          "name": "stdout",
          "text": [
            "loss: 205676.109375  [ 7575/40000]\n",
            "loss: 82667.476562  [15075/40000]\n",
            "loss: 77249.648438  [22575/40000]\n",
            "loss: 58923.519531  [30075/40000]\n",
            "loss: 65351.441406  [37575/40000]\n",
            "Avg loss: 68254.609317 \n",
            "\n",
            "Epoch 2\n",
            "-------------------------------\n",
            "loss: 69694.367188  [   75/40000]\n"
          ]
        },
        {
          "output_type": "stream",
          "name": "stderr",
          "text": [
            "/usr/local/lib/python3.10/dist-packages/torch/nn/modules/loss.py:101: UserWarning: Using a target size (torch.Size([25])) that is different to the input size (torch.Size([25, 1])). This will likely lead to incorrect results due to broadcasting. Please ensure they have the same size.\n",
            "  return F.l1_loss(input, target, reduction=self.reduction)\n",
            "/usr/local/lib/python3.10/dist-packages/torch/nn/modules/loss.py:101: UserWarning: Using a target size (torch.Size([50])) that is different to the input size (torch.Size([50, 1])). This will likely lead to incorrect results due to broadcasting. Please ensure they have the same size.\n",
            "  return F.l1_loss(input, target, reduction=self.reduction)\n"
          ]
        },
        {
          "output_type": "stream",
          "name": "stdout",
          "text": [
            "loss: 65886.992188  [ 7575/40000]\n",
            "loss: 75331.093750  [15075/40000]\n",
            "loss: 75350.281250  [22575/40000]\n",
            "loss: 56670.664062  [30075/40000]\n",
            "loss: 63023.371094  [37575/40000]\n",
            "Avg loss: 66065.428988 \n",
            "\n",
            "Epoch 3\n",
            "-------------------------------\n",
            "loss: 67432.421875  [   75/40000]\n",
            "loss: 63987.710938  [ 7575/40000]\n",
            "loss: 73555.531250  [15075/40000]\n",
            "loss: 73746.578125  [22575/40000]\n",
            "loss: 54933.968750  [30075/40000]\n",
            "loss: 60847.218750  [37575/40000]\n",
            "Avg loss: 64218.750408 \n",
            "\n",
            "Epoch 4\n",
            "-------------------------------\n",
            "loss: 65778.890625  [   75/40000]\n",
            "loss: 62401.929688  [ 7575/40000]\n",
            "loss: 72305.906250  [15075/40000]\n",
            "loss: 72592.601562  [22575/40000]\n",
            "loss: 53765.972656  [30075/40000]\n",
            "loss: 59226.253906  [37575/40000]\n",
            "Avg loss: 63044.728953 \n",
            "\n",
            "Epoch 5\n",
            "-------------------------------\n",
            "loss: 64822.613281  [   75/40000]\n",
            "loss: 61527.265625  [ 7575/40000]\n",
            "loss: 71776.039062  [15075/40000]\n",
            "loss: 72062.789062  [22575/40000]\n",
            "loss: 53190.183594  [30075/40000]\n",
            "loss: 58415.371094  [37575/40000]\n",
            "Avg loss: 62564.039646 \n",
            "\n",
            "Epoch 6\n",
            "-------------------------------\n",
            "loss: 64493.304688  [   75/40000]\n",
            "loss: 61232.468750  [ 7575/40000]\n",
            "loss: 71626.109375  [15075/40000]\n",
            "loss: 71861.382812  [22575/40000]\n",
            "loss: 52948.996094  [30075/40000]\n",
            "loss: 58022.210938  [37575/40000]\n",
            "Avg loss: 62373.624184 \n",
            "\n",
            "Epoch 7\n",
            "-------------------------------\n",
            "loss: 64385.980469  [   75/40000]\n",
            "loss: 61107.394531  [ 7575/40000]\n",
            "loss: 71536.359375  [15075/40000]\n",
            "loss: 71757.437500  [22575/40000]\n",
            "loss: 52790.500000  [30075/40000]\n",
            "loss: 57790.617188  [37575/40000]\n",
            "Avg loss: 62269.110833 \n",
            "\n",
            "Epoch 8\n",
            "-------------------------------\n",
            "loss: 64329.925781  [   75/40000]\n",
            "loss: 61025.332031  [ 7575/40000]\n",
            "loss: 71481.734375  [15075/40000]\n",
            "loss: 71696.960938  [22575/40000]\n",
            "loss: 52663.558594  [30075/40000]\n",
            "loss: 57648.695312  [37575/40000]\n",
            "Avg loss: 62203.570837 \n",
            "\n",
            "Epoch 9\n",
            "-------------------------------\n",
            "loss: 64313.035156  [   75/40000]\n",
            "loss: 60964.023438  [ 7575/40000]\n",
            "loss: 71451.156250  [15075/40000]\n",
            "loss: 71648.148438  [22575/40000]\n",
            "loss: 52580.398438  [30075/40000]\n",
            "loss: 57551.906250  [37575/40000]\n",
            "Avg loss: 62159.100513 \n",
            "\n",
            "Epoch 10\n",
            "-------------------------------\n",
            "loss: 64297.664062  [   75/40000]\n",
            "loss: 60931.332031  [ 7575/40000]\n",
            "loss: 71440.226562  [15075/40000]\n",
            "loss: 71619.570312  [22575/40000]\n",
            "loss: 52527.835938  [30075/40000]\n",
            "loss: 57477.023438  [37575/40000]\n",
            "Avg loss: 62130.576784 \n",
            "\n",
            "Done!\n"
          ]
        }
      ]
    },
    {
      "cell_type": "markdown",
      "source": [
        "I am using the ReLU activation function. I have hyperparameters for batch size, layer size, number of layers, epochs, and learning_rate\n",
        "\n",
        "Normalization drastically helped with this task. I originally tried running it using Mean Squared Error and without normalization, which causing the loss to reach such a high level that the entire model failed."
      ],
      "metadata": {
        "id": "cx-P6laxJrmt"
      }
    },
    {
      "cell_type": "code",
      "source": [
        "test_loop(test_feat,test_label, model, loss_fn)"
      ],
      "metadata": {
        "colab": {
          "base_uri": "https://localhost:8080/"
        },
        "id": "FJ-jsaO0J7e5",
        "outputId": "85f1382d-b704-4ba6-d600-8a8406f36285"
      },
      "execution_count": 524,
      "outputs": [
        {
          "output_type": "stream",
          "name": "stdout",
          "text": [
            "Avg loss: 61526.402927 \n",
            "\n"
          ]
        },
        {
          "output_type": "stream",
          "name": "stderr",
          "text": [
            "<ipython-input-521-1b8ba5702f13>:5: VisibleDeprecationWarning: Creating an ndarray from ragged nested sequences (which is a list-or-tuple of lists-or-tuples-or ndarrays with different lengths or shapes) is deprecated. If you meant to do this, you must specify 'dtype=object' when creating the ndarray.\n",
            "  out[i]=np.array([feats[i*batch_size:(i+1)*batch_size],labels[i*batch_size:(i+1)*batch_size],i])\n"
          ]
        }
      ]
    },
    {
      "cell_type": "markdown",
      "metadata": {
        "id": "HI8tF6RiLE22"
      },
      "source": [
        "Task 3"
      ]
    },
    {
      "cell_type": "markdown",
      "source": [
        "I started with hyperparameters based off of the ones used for the MNIST PyTorch example. I tried increasing some of the values such as layer size and number of layers, however that didn't make any significant change in the average loss of the model. Following that, I decide to decrease layer size instead from 500 to 40 in order to improve runtime and efficiency, and I built it back up from there to a layer size of 200.\n",
        "\n",
        "I used normalization on two of the input values so that the initial loss values would not be exorbitantly high.\n",
        "\n",
        "I used the Adam optimization algorithm since SGD was not learning well for the regression task."
      ],
      "metadata": {
        "id": "aqydKHpIKIX7"
      }
    }
  ],
  "metadata": {
    "colab": {
      "provenance": [],
      "include_colab_link": true
    },
    "kernelspec": {
      "display_name": "Python 3",
      "name": "python3"
    },
    "language_info": {
      "name": "python"
    }
  },
  "nbformat": 4,
  "nbformat_minor": 0
}
