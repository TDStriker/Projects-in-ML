{
  "cells": [
    {
      "cell_type": "markdown",
      "metadata": {
        "id": "view-in-github",
        "colab_type": "text"
      },
      "source": [
        "<a href=\"https://colab.research.google.com/github/TDStriker/Projects-in-ML/blob/main/ML_Project_6.ipynb\" target=\"_parent\"><img src=\"https://colab.research.google.com/assets/colab-badge.svg\" alt=\"Open In Colab\"/></a>"
      ]
    },
    {
      "cell_type": "code",
      "source": [
        "!pip install datasets"
      ],
      "metadata": {
        "colab": {
          "base_uri": "https://localhost:8080/"
        },
        "id": "8AOX-AKBATVQ",
        "outputId": "7a80d3bf-5836-4207-a011-18df1828e965"
      },
      "execution_count": 9,
      "outputs": [
        {
          "output_type": "stream",
          "name": "stdout",
          "text": [
            "Requirement already satisfied: datasets in /usr/local/lib/python3.10/dist-packages (2.18.0)\n",
            "Requirement already satisfied: filelock in /usr/local/lib/python3.10/dist-packages (from datasets) (3.13.3)\n",
            "Requirement already satisfied: numpy>=1.17 in /usr/local/lib/python3.10/dist-packages (from datasets) (1.25.2)\n",
            "Requirement already satisfied: pyarrow>=12.0.0 in /usr/local/lib/python3.10/dist-packages (from datasets) (14.0.2)\n",
            "Requirement already satisfied: pyarrow-hotfix in /usr/local/lib/python3.10/dist-packages (from datasets) (0.6)\n",
            "Requirement already satisfied: dill<0.3.9,>=0.3.0 in /usr/local/lib/python3.10/dist-packages (from datasets) (0.3.8)\n",
            "Requirement already satisfied: pandas in /usr/local/lib/python3.10/dist-packages (from datasets) (1.5.3)\n",
            "Requirement already satisfied: requests>=2.19.0 in /usr/local/lib/python3.10/dist-packages (from datasets) (2.31.0)\n",
            "Requirement already satisfied: tqdm>=4.62.1 in /usr/local/lib/python3.10/dist-packages (from datasets) (4.66.2)\n",
            "Requirement already satisfied: xxhash in /usr/local/lib/python3.10/dist-packages (from datasets) (3.4.1)\n",
            "Requirement already satisfied: multiprocess in /usr/local/lib/python3.10/dist-packages (from datasets) (0.70.16)\n",
            "Requirement already satisfied: fsspec[http]<=2024.2.0,>=2023.1.0 in /usr/local/lib/python3.10/dist-packages (from datasets) (2023.6.0)\n",
            "Requirement already satisfied: aiohttp in /usr/local/lib/python3.10/dist-packages (from datasets) (3.9.3)\n",
            "Requirement already satisfied: huggingface-hub>=0.19.4 in /usr/local/lib/python3.10/dist-packages (from datasets) (0.20.3)\n",
            "Requirement already satisfied: packaging in /usr/local/lib/python3.10/dist-packages (from datasets) (24.0)\n",
            "Requirement already satisfied: pyyaml>=5.1 in /usr/local/lib/python3.10/dist-packages (from datasets) (6.0.1)\n",
            "Requirement already satisfied: aiosignal>=1.1.2 in /usr/local/lib/python3.10/dist-packages (from aiohttp->datasets) (1.3.1)\n",
            "Requirement already satisfied: attrs>=17.3.0 in /usr/local/lib/python3.10/dist-packages (from aiohttp->datasets) (23.2.0)\n",
            "Requirement already satisfied: frozenlist>=1.1.1 in /usr/local/lib/python3.10/dist-packages (from aiohttp->datasets) (1.4.1)\n",
            "Requirement already satisfied: multidict<7.0,>=4.5 in /usr/local/lib/python3.10/dist-packages (from aiohttp->datasets) (6.0.5)\n",
            "Requirement already satisfied: yarl<2.0,>=1.0 in /usr/local/lib/python3.10/dist-packages (from aiohttp->datasets) (1.9.4)\n",
            "Requirement already satisfied: async-timeout<5.0,>=4.0 in /usr/local/lib/python3.10/dist-packages (from aiohttp->datasets) (4.0.3)\n",
            "Requirement already satisfied: typing-extensions>=3.7.4.3 in /usr/local/lib/python3.10/dist-packages (from huggingface-hub>=0.19.4->datasets) (4.10.0)\n",
            "Requirement already satisfied: charset-normalizer<4,>=2 in /usr/local/lib/python3.10/dist-packages (from requests>=2.19.0->datasets) (3.3.2)\n",
            "Requirement already satisfied: idna<4,>=2.5 in /usr/local/lib/python3.10/dist-packages (from requests>=2.19.0->datasets) (3.6)\n",
            "Requirement already satisfied: urllib3<3,>=1.21.1 in /usr/local/lib/python3.10/dist-packages (from requests>=2.19.0->datasets) (2.0.7)\n",
            "Requirement already satisfied: certifi>=2017.4.17 in /usr/local/lib/python3.10/dist-packages (from requests>=2.19.0->datasets) (2024.2.2)\n",
            "Requirement already satisfied: python-dateutil>=2.8.1 in /usr/local/lib/python3.10/dist-packages (from pandas->datasets) (2.8.2)\n",
            "Requirement already satisfied: pytz>=2020.1 in /usr/local/lib/python3.10/dist-packages (from pandas->datasets) (2023.4)\n",
            "Requirement already satisfied: six>=1.5 in /usr/local/lib/python3.10/dist-packages (from python-dateutil>=2.8.1->pandas->datasets) (1.16.0)\n"
          ]
        }
      ]
    },
    {
      "cell_type": "code",
      "execution_count": 1,
      "metadata": {
        "colab": {
          "base_uri": "https://localhost:8080/"
        },
        "id": "fY9myfkaxQE_",
        "outputId": "319bafc5-4ce6-45ae-c5cb-5079d12d312e"
      },
      "outputs": [
        {
          "output_type": "stream",
          "name": "stdout",
          "text": [
            "Requirement already satisfied: transformers[torch] in /usr/local/lib/python3.10/dist-packages (4.38.2)\n",
            "Requirement already satisfied: filelock in /usr/local/lib/python3.10/dist-packages (from transformers[torch]) (3.13.3)\n",
            "Requirement already satisfied: huggingface-hub<1.0,>=0.19.3 in /usr/local/lib/python3.10/dist-packages (from transformers[torch]) (0.20.3)\n",
            "Requirement already satisfied: numpy>=1.17 in /usr/local/lib/python3.10/dist-packages (from transformers[torch]) (1.25.2)\n",
            "Requirement already satisfied: packaging>=20.0 in /usr/local/lib/python3.10/dist-packages (from transformers[torch]) (24.0)\n",
            "Requirement already satisfied: pyyaml>=5.1 in /usr/local/lib/python3.10/dist-packages (from transformers[torch]) (6.0.1)\n",
            "Requirement already satisfied: regex!=2019.12.17 in /usr/local/lib/python3.10/dist-packages (from transformers[torch]) (2023.12.25)\n",
            "Requirement already satisfied: requests in /usr/local/lib/python3.10/dist-packages (from transformers[torch]) (2.31.0)\n",
            "Requirement already satisfied: tokenizers<0.19,>=0.14 in /usr/local/lib/python3.10/dist-packages (from transformers[torch]) (0.15.2)\n",
            "Requirement already satisfied: safetensors>=0.4.1 in /usr/local/lib/python3.10/dist-packages (from transformers[torch]) (0.4.2)\n",
            "Requirement already satisfied: tqdm>=4.27 in /usr/local/lib/python3.10/dist-packages (from transformers[torch]) (4.66.2)\n",
            "Requirement already satisfied: torch in /usr/local/lib/python3.10/dist-packages (from transformers[torch]) (2.2.1+cu121)\n",
            "Requirement already satisfied: accelerate>=0.21.0 in /usr/local/lib/python3.10/dist-packages (from transformers[torch]) (0.28.0)\n",
            "Requirement already satisfied: psutil in /usr/local/lib/python3.10/dist-packages (from accelerate>=0.21.0->transformers[torch]) (5.9.5)\n",
            "Requirement already satisfied: fsspec>=2023.5.0 in /usr/local/lib/python3.10/dist-packages (from huggingface-hub<1.0,>=0.19.3->transformers[torch]) (2023.6.0)\n",
            "Requirement already satisfied: typing-extensions>=3.7.4.3 in /usr/local/lib/python3.10/dist-packages (from huggingface-hub<1.0,>=0.19.3->transformers[torch]) (4.10.0)\n",
            "Requirement already satisfied: sympy in /usr/local/lib/python3.10/dist-packages (from torch->transformers[torch]) (1.12)\n",
            "Requirement already satisfied: networkx in /usr/local/lib/python3.10/dist-packages (from torch->transformers[torch]) (3.2.1)\n",
            "Requirement already satisfied: jinja2 in /usr/local/lib/python3.10/dist-packages (from torch->transformers[torch]) (3.1.3)\n",
            "Requirement already satisfied: nvidia-cuda-nvrtc-cu12==12.1.105 in /usr/local/lib/python3.10/dist-packages (from torch->transformers[torch]) (12.1.105)\n",
            "Requirement already satisfied: nvidia-cuda-runtime-cu12==12.1.105 in /usr/local/lib/python3.10/dist-packages (from torch->transformers[torch]) (12.1.105)\n",
            "Requirement already satisfied: nvidia-cuda-cupti-cu12==12.1.105 in /usr/local/lib/python3.10/dist-packages (from torch->transformers[torch]) (12.1.105)\n",
            "Requirement already satisfied: nvidia-cudnn-cu12==8.9.2.26 in /usr/local/lib/python3.10/dist-packages (from torch->transformers[torch]) (8.9.2.26)\n",
            "Requirement already satisfied: nvidia-cublas-cu12==12.1.3.1 in /usr/local/lib/python3.10/dist-packages (from torch->transformers[torch]) (12.1.3.1)\n",
            "Requirement already satisfied: nvidia-cufft-cu12==11.0.2.54 in /usr/local/lib/python3.10/dist-packages (from torch->transformers[torch]) (11.0.2.54)\n",
            "Requirement already satisfied: nvidia-curand-cu12==10.3.2.106 in /usr/local/lib/python3.10/dist-packages (from torch->transformers[torch]) (10.3.2.106)\n",
            "Requirement already satisfied: nvidia-cusolver-cu12==11.4.5.107 in /usr/local/lib/python3.10/dist-packages (from torch->transformers[torch]) (11.4.5.107)\n",
            "Requirement already satisfied: nvidia-cusparse-cu12==12.1.0.106 in /usr/local/lib/python3.10/dist-packages (from torch->transformers[torch]) (12.1.0.106)\n",
            "Requirement already satisfied: nvidia-nccl-cu12==2.19.3 in /usr/local/lib/python3.10/dist-packages (from torch->transformers[torch]) (2.19.3)\n",
            "Requirement already satisfied: nvidia-nvtx-cu12==12.1.105 in /usr/local/lib/python3.10/dist-packages (from torch->transformers[torch]) (12.1.105)\n",
            "Requirement already satisfied: triton==2.2.0 in /usr/local/lib/python3.10/dist-packages (from torch->transformers[torch]) (2.2.0)\n",
            "Requirement already satisfied: nvidia-nvjitlink-cu12 in /usr/local/lib/python3.10/dist-packages (from nvidia-cusolver-cu12==11.4.5.107->torch->transformers[torch]) (12.4.99)\n",
            "Requirement already satisfied: charset-normalizer<4,>=2 in /usr/local/lib/python3.10/dist-packages (from requests->transformers[torch]) (3.3.2)\n",
            "Requirement already satisfied: idna<4,>=2.5 in /usr/local/lib/python3.10/dist-packages (from requests->transformers[torch]) (3.6)\n",
            "Requirement already satisfied: urllib3<3,>=1.21.1 in /usr/local/lib/python3.10/dist-packages (from requests->transformers[torch]) (2.0.7)\n",
            "Requirement already satisfied: certifi>=2017.4.17 in /usr/local/lib/python3.10/dist-packages (from requests->transformers[torch]) (2024.2.2)\n",
            "Requirement already satisfied: MarkupSafe>=2.0 in /usr/local/lib/python3.10/dist-packages (from jinja2->torch->transformers[torch]) (2.1.5)\n",
            "Requirement already satisfied: mpmath>=0.19 in /usr/local/lib/python3.10/dist-packages (from sympy->torch->transformers[torch]) (1.3.0)\n"
          ]
        }
      ],
      "source": [
        "!pip install transformers[torch]"
      ]
    },
    {
      "cell_type": "code",
      "execution_count": 2,
      "metadata": {
        "colab": {
          "base_uri": "https://localhost:8080/"
        },
        "id": "P38zlh6kyZrE",
        "outputId": "567c53b7-c1f7-47ec-a0a7-deca5e8a4d4a"
      },
      "outputs": [
        {
          "output_type": "stream",
          "name": "stdout",
          "text": [
            "Requirement already satisfied: accelerate in /usr/local/lib/python3.10/dist-packages (0.28.0)\n",
            "Requirement already satisfied: numpy>=1.17 in /usr/local/lib/python3.10/dist-packages (from accelerate) (1.25.2)\n",
            "Requirement already satisfied: packaging>=20.0 in /usr/local/lib/python3.10/dist-packages (from accelerate) (24.0)\n",
            "Requirement already satisfied: psutil in /usr/local/lib/python3.10/dist-packages (from accelerate) (5.9.5)\n",
            "Requirement already satisfied: pyyaml in /usr/local/lib/python3.10/dist-packages (from accelerate) (6.0.1)\n",
            "Requirement already satisfied: torch>=1.10.0 in /usr/local/lib/python3.10/dist-packages (from accelerate) (2.2.1+cu121)\n",
            "Requirement already satisfied: huggingface-hub in /usr/local/lib/python3.10/dist-packages (from accelerate) (0.20.3)\n",
            "Requirement already satisfied: safetensors>=0.3.1 in /usr/local/lib/python3.10/dist-packages (from accelerate) (0.4.2)\n",
            "Requirement already satisfied: filelock in /usr/local/lib/python3.10/dist-packages (from torch>=1.10.0->accelerate) (3.13.3)\n",
            "Requirement already satisfied: typing-extensions>=4.8.0 in /usr/local/lib/python3.10/dist-packages (from torch>=1.10.0->accelerate) (4.10.0)\n",
            "Requirement already satisfied: sympy in /usr/local/lib/python3.10/dist-packages (from torch>=1.10.0->accelerate) (1.12)\n",
            "Requirement already satisfied: networkx in /usr/local/lib/python3.10/dist-packages (from torch>=1.10.0->accelerate) (3.2.1)\n",
            "Requirement already satisfied: jinja2 in /usr/local/lib/python3.10/dist-packages (from torch>=1.10.0->accelerate) (3.1.3)\n",
            "Requirement already satisfied: fsspec in /usr/local/lib/python3.10/dist-packages (from torch>=1.10.0->accelerate) (2023.6.0)\n",
            "Requirement already satisfied: nvidia-cuda-nvrtc-cu12==12.1.105 in /usr/local/lib/python3.10/dist-packages (from torch>=1.10.0->accelerate) (12.1.105)\n",
            "Requirement already satisfied: nvidia-cuda-runtime-cu12==12.1.105 in /usr/local/lib/python3.10/dist-packages (from torch>=1.10.0->accelerate) (12.1.105)\n",
            "Requirement already satisfied: nvidia-cuda-cupti-cu12==12.1.105 in /usr/local/lib/python3.10/dist-packages (from torch>=1.10.0->accelerate) (12.1.105)\n",
            "Requirement already satisfied: nvidia-cudnn-cu12==8.9.2.26 in /usr/local/lib/python3.10/dist-packages (from torch>=1.10.0->accelerate) (8.9.2.26)\n",
            "Requirement already satisfied: nvidia-cublas-cu12==12.1.3.1 in /usr/local/lib/python3.10/dist-packages (from torch>=1.10.0->accelerate) (12.1.3.1)\n",
            "Requirement already satisfied: nvidia-cufft-cu12==11.0.2.54 in /usr/local/lib/python3.10/dist-packages (from torch>=1.10.0->accelerate) (11.0.2.54)\n",
            "Requirement already satisfied: nvidia-curand-cu12==10.3.2.106 in /usr/local/lib/python3.10/dist-packages (from torch>=1.10.0->accelerate) (10.3.2.106)\n",
            "Requirement already satisfied: nvidia-cusolver-cu12==11.4.5.107 in /usr/local/lib/python3.10/dist-packages (from torch>=1.10.0->accelerate) (11.4.5.107)\n",
            "Requirement already satisfied: nvidia-cusparse-cu12==12.1.0.106 in /usr/local/lib/python3.10/dist-packages (from torch>=1.10.0->accelerate) (12.1.0.106)\n",
            "Requirement already satisfied: nvidia-nccl-cu12==2.19.3 in /usr/local/lib/python3.10/dist-packages (from torch>=1.10.0->accelerate) (2.19.3)\n",
            "Requirement already satisfied: nvidia-nvtx-cu12==12.1.105 in /usr/local/lib/python3.10/dist-packages (from torch>=1.10.0->accelerate) (12.1.105)\n",
            "Requirement already satisfied: triton==2.2.0 in /usr/local/lib/python3.10/dist-packages (from torch>=1.10.0->accelerate) (2.2.0)\n",
            "Requirement already satisfied: nvidia-nvjitlink-cu12 in /usr/local/lib/python3.10/dist-packages (from nvidia-cusolver-cu12==11.4.5.107->torch>=1.10.0->accelerate) (12.4.99)\n",
            "Requirement already satisfied: requests in /usr/local/lib/python3.10/dist-packages (from huggingface-hub->accelerate) (2.31.0)\n",
            "Requirement already satisfied: tqdm>=4.42.1 in /usr/local/lib/python3.10/dist-packages (from huggingface-hub->accelerate) (4.66.2)\n",
            "Requirement already satisfied: MarkupSafe>=2.0 in /usr/local/lib/python3.10/dist-packages (from jinja2->torch>=1.10.0->accelerate) (2.1.5)\n",
            "Requirement already satisfied: charset-normalizer<4,>=2 in /usr/local/lib/python3.10/dist-packages (from requests->huggingface-hub->accelerate) (3.3.2)\n",
            "Requirement already satisfied: idna<4,>=2.5 in /usr/local/lib/python3.10/dist-packages (from requests->huggingface-hub->accelerate) (3.6)\n",
            "Requirement already satisfied: urllib3<3,>=1.21.1 in /usr/local/lib/python3.10/dist-packages (from requests->huggingface-hub->accelerate) (2.0.7)\n",
            "Requirement already satisfied: certifi>=2017.4.17 in /usr/local/lib/python3.10/dist-packages (from requests->huggingface-hub->accelerate) (2024.2.2)\n",
            "Requirement already satisfied: mpmath>=0.19 in /usr/local/lib/python3.10/dist-packages (from sympy->torch>=1.10.0->accelerate) (1.3.0)\n"
          ]
        }
      ],
      "source": [
        "!pip install accelerate -U"
      ]
    },
    {
      "cell_type": "code",
      "execution_count": 1,
      "metadata": {
        "id": "vlN12HTvPWe2"
      },
      "outputs": [],
      "source": [
        "from transformers import pipeline\n",
        "import pandas\n",
        "import transformers\n",
        "from transformers import AutoTokenizer, AutoModelForSeq2SeqLM, Seq2SeqTrainingArguments, Seq2SeqTrainer\n",
        "import numpy as np\n",
        "import nltk"
      ]
    },
    {
      "cell_type": "markdown",
      "metadata": {
        "id": "FLYgO9VDQs4d"
      },
      "source": [
        "NLP"
      ]
    },
    {
      "cell_type": "markdown",
      "metadata": {
        "id": "b2gmvgZ5rs7c"
      },
      "source": [
        "The dataset is a collection of CNN news articles\n",
        "\n",
        "https://data.world/opensnippets/cnn-news-dataset"
      ]
    },
    {
      "cell_type": "code",
      "execution_count": 4,
      "metadata": {
        "colab": {
          "base_uri": "https://localhost:8080/"
        },
        "id": "pb_o94jZSi3l",
        "outputId": "fe6bef99-f6c2-4b90-f08f-9f65352731fb"
      },
      "outputs": [
        {
          "output_type": "stream",
          "name": "stdout",
          "text": [
            "Archive:  cnn_data.zip\n",
            "replace cnn_data copy.json? [y]es, [n]o, [A]ll, [N]one, [r]ename: N\n"
          ]
        }
      ],
      "source": [
        "!unzip cnn_data.zip"
      ]
    },
    {
      "cell_type": "code",
      "execution_count": 2,
      "metadata": {
        "id": "ZRxp1ldkTXbZ"
      },
      "outputs": [],
      "source": [
        "articles = pandas.read_json(\"cnn_data copy.json\")"
      ]
    },
    {
      "cell_type": "code",
      "execution_count": 3,
      "metadata": {
        "colab": {
          "base_uri": "https://localhost:8080/",
          "height": 1000
        },
        "id": "cpOyFIXOUBCG",
        "outputId": "487f9ad9-b397-4009-de2f-c5745e026247"
      },
      "outputs": [
        {
          "output_type": "execute_result",
          "data": {
            "text/plain": [
              "                                                  title  \\\n",
              "0     Fleetwood and Hoey lead big names in Dunhill L...   \n",
              "1                  Senna to replace Heidfeld in Belgium   \n",
              "2          Zvonareva beats Kvitova to reach Tokyo final   \n",
              "3                            Country profile: Macedonia   \n",
              "4                     Manchester City ban talk of Tevez   \n",
              "...                                                 ...   \n",
              "3495  Kremlin critic Lebedev: Why I lashed out on TV...   \n",
              "3496                   Never forget: Football remembers   \n",
              "3497                  Schumacher coy over Sauber switch   \n",
              "3498  It's official: Vettel is three-time champion a...   \n",
              "3499     English Premier League's hidden costs revealed   \n",
              "\n",
              "                                                    url  \\\n",
              "0     https://edition.cnn.com/2011/09/30/sport/golf/...   \n",
              "1     https://edition.cnn.com/2011/08/24/sport/motor...   \n",
              "2     https://edition.cnn.com/2011/09/30/sport/tenni...   \n",
              "3     https://edition.cnn.com/2011/09/30/world/europ...   \n",
              "4     https://edition.cnn.com/2011/09/30/sport/footb...   \n",
              "...                                                 ...   \n",
              "3495  https://edition.cnn.com/2012/10/01/world/europ...   \n",
              "3496  https://edition.cnn.com/2012/11/30/sport/footb...   \n",
              "3497  https://edition.cnn.com/2012/10/01/sport/motor...   \n",
              "3498  https://edition.cnn.com/2012/11/30/sport/motor...   \n",
              "3499  https://edition.cnn.com/2012/11/30/sport/footb...   \n",
              "\n",
              "                  published_at          last_modified_at  \\\n",
              "0    2011-09-30 19:30:12+00:00 2011-09-30 20:19:30+00:00   \n",
              "1    2011-08-24 17:54:07+00:00 2011-08-26 16:49:15+00:00   \n",
              "2    2011-09-30 14:59:26+00:00 2011-09-30 20:22:34+00:00   \n",
              "3    2011-09-30 04:34:03+00:00 2011-09-30 04:34:03+00:00   \n",
              "4    2011-09-30 16:54:25+00:00 2011-09-30 16:55:10+00:00   \n",
              "...                        ...                       ...   \n",
              "3495 2012-10-01 11:47:24+00:00 2012-10-01 12:38:45+00:00   \n",
              "3496 2012-11-30 20:55:24+00:00 2012-12-01 18:46:18+00:00   \n",
              "3497 2012-10-01 15:51:41+00:00 2012-10-01 16:02:52+00:00   \n",
              "3498 2012-11-30 12:21:35+00:00 2012-11-30 12:21:35+00:00   \n",
              "3499 2012-11-30 18:18:11+00:00 2012-12-01 21:19:11+00:00   \n",
              "\n",
              "                                              author  \\\n",
              "0                                                By    \n",
              "1                                                By    \n",
              "2                                                By    \n",
              "3     By Catriona Davies and Eoghan Macguire for CNN   \n",
              "4                                                By    \n",
              "...                                              ...   \n",
              "3495          By Phil Black and Peter Wilkinson, CNN   \n",
              "3496                           By James Masters, CNN   \n",
              "3497                                             By    \n",
              "3498                                             By    \n",
              "3499                           By James Masters, CNN   \n",
              "\n",
              "                                      short_description  \\\n",
              "0     Unheralded pair Tommy Fleetwood of England and...   \n",
              "1     Brazilian driver Bruno Senna will replace Nick...   \n",
              "2     Russian Vera Zvonareva came from 5-1 down in t...   \n",
              "3     Macedonia is a small landlocked country border...   \n",
              "4     Manchester City banned journalists from asking...   \n",
              "...                                                 ...   \n",
              "3495  Russian billionaire businessman and outspoken ...   \n",
              "3496  The Premier League's 'Christmas Truce' tournam...   \n",
              "3497  Michael Schumacher is keeping all his options ...   \n",
              "3498  It's official: Sebastian Vettel is a three-tim...   \n",
              "3499  The Premier League released figures showing th...   \n",
              "\n",
              "                                           header_image  \\\n",
              "0     https://cdn.cnn.com/cnnnext/dam/assets/1109300...   \n",
              "1     https://cdn.cnn.com/cnnnext/dam/assets/1108240...   \n",
              "2     https://cdn.cnn.com/cnnnext/dam/assets/1109300...   \n",
              "3     https://cdn.cnn.com/cnnnext/dam/assets/1109291...   \n",
              "4     https://cdn.cnn.com/cnnnext/dam/assets/1109300...   \n",
              "...                                                 ...   \n",
              "3495  https://cdn.cnn.com/cnnnext/dam/assets/1209300...   \n",
              "3496  https://cdn.cnn.com/cnnnext/dam/assets/1211300...   \n",
              "3497  https://cdn.cnn.com/cnnnext/dam/assets/1210010...   \n",
              "3498  https://cdn.cnn.com/cnnnext/dam/assets/1211281...   \n",
              "3499  https://cdn.cnn.com/cnnnext/dam/assets/1211300...   \n",
              "\n",
              "                                            raw_content  \\\n",
              "0     <div class=\"l-container\"><div class=\"el__leafm...   \n",
              "1     <div class=\"l-container\"><div class=\"el__leafm...   \n",
              "2     <div class=\"l-container\"><div class=\"el__leafm...   \n",
              "3     <div class=\"l-container\"><div class=\"el__leafm...   \n",
              "4     <div class=\"l-container\"><div class=\"el__leafm...   \n",
              "...                                                 ...   \n",
              "3495  <div class=\"l-container\"><div class=\"el__leafm...   \n",
              "3496  <div class=\"l-container\"><div class=\"el__leafm...   \n",
              "3497  <div class=\"l-container\"><div class=\"el__leafm...   \n",
              "3498  <div class=\"l-container\"><div class=\"el__leafm...   \n",
              "3499  <div class=\"l-container\"><div class=\"el__leafm...   \n",
              "\n",
              "                                                content          crawled_at  \\\n",
              "0     Fleetwood and Hoey lead big names in Dunhill L... 2021-07-23 00:15:23   \n",
              "1     Senna to replace Heidfeld in BelgiumBy Updated... 2021-07-23 00:15:23   \n",
              "2     Zvonareva beats Kvitova to reach Tokyo finalBy... 2021-07-23 00:15:23   \n",
              "3     Country profile: MacedoniaBy Catriona Davies a... 2021-07-23 00:15:23   \n",
              "4     Manchester City ban talk of TevezBy Updated 16... 2021-07-23 00:15:24   \n",
              "...                                                 ...                 ...   \n",
              "3495  Kremlin critic Lebedev: Why I lashed out on TV... 2021-07-23 00:23:05   \n",
              "3496  Never forget: Football remembersBy James Maste... 2021-07-23 00:23:05   \n",
              "3497  Schumacher coy over Sauber switchBy Updated 16... 2021-07-23 00:23:05   \n",
              "3498  It's official: Vettel is three-time champion a... 2021-07-23 00:23:05   \n",
              "3499  English Premier League's hidden costs revealed... 2021-07-23 00:23:05   \n",
              "\n",
              "                                       _id           source  \n",
              "0     0d641f2c-1b43-5651-adb5-18ccea4df489  edition.cnn.com  \n",
              "1     2419cdcf-50a7-5b04-a9fc-fd7813731fe9  edition.cnn.com  \n",
              "2     fc9c8863-007f-540f-9f6f-4981f2ae6cb6  edition.cnn.com  \n",
              "3     f7625158-e643-5859-819c-6736f7e40d31  edition.cnn.com  \n",
              "4     91e56668-cad7-5654-ad7f-770c92ac443e  edition.cnn.com  \n",
              "...                                    ...              ...  \n",
              "3495  946e3153-3697-558d-80e7-1c0587174d88  edition.cnn.com  \n",
              "3496  855f08d9-9872-51aa-b93b-a576b2d4b46b  edition.cnn.com  \n",
              "3497  437298b0-aa5d-57a9-9898-49cac6a7ba70  edition.cnn.com  \n",
              "3498  498e98d8-ef98-5596-a001-be76db0318fb  edition.cnn.com  \n",
              "3499  bf1c7c3d-63b8-541a-b4cf-8e5499d56be7  edition.cnn.com  \n",
              "\n",
              "[3500 rows x 12 columns]"
            ],
            "text/html": [
              "\n",
              "  <div id=\"df-43957a39-fbdc-40a2-bec1-41dc9751297b\" class=\"colab-df-container\">\n",
              "    <div>\n",
              "<style scoped>\n",
              "    .dataframe tbody tr th:only-of-type {\n",
              "        vertical-align: middle;\n",
              "    }\n",
              "\n",
              "    .dataframe tbody tr th {\n",
              "        vertical-align: top;\n",
              "    }\n",
              "\n",
              "    .dataframe thead th {\n",
              "        text-align: right;\n",
              "    }\n",
              "</style>\n",
              "<table border=\"1\" class=\"dataframe\">\n",
              "  <thead>\n",
              "    <tr style=\"text-align: right;\">\n",
              "      <th></th>\n",
              "      <th>title</th>\n",
              "      <th>url</th>\n",
              "      <th>published_at</th>\n",
              "      <th>last_modified_at</th>\n",
              "      <th>author</th>\n",
              "      <th>short_description</th>\n",
              "      <th>header_image</th>\n",
              "      <th>raw_content</th>\n",
              "      <th>content</th>\n",
              "      <th>crawled_at</th>\n",
              "      <th>_id</th>\n",
              "      <th>source</th>\n",
              "    </tr>\n",
              "  </thead>\n",
              "  <tbody>\n",
              "    <tr>\n",
              "      <th>0</th>\n",
              "      <td>Fleetwood and Hoey lead big names in Dunhill L...</td>\n",
              "      <td>https://edition.cnn.com/2011/09/30/sport/golf/...</td>\n",
              "      <td>2011-09-30 19:30:12+00:00</td>\n",
              "      <td>2011-09-30 20:19:30+00:00</td>\n",
              "      <td>By</td>\n",
              "      <td>Unheralded pair Tommy Fleetwood of England and...</td>\n",
              "      <td>https://cdn.cnn.com/cnnnext/dam/assets/1109300...</td>\n",
              "      <td>&lt;div class=\"l-container\"&gt;&lt;div class=\"el__leafm...</td>\n",
              "      <td>Fleetwood and Hoey lead big names in Dunhill L...</td>\n",
              "      <td>2021-07-23 00:15:23</td>\n",
              "      <td>0d641f2c-1b43-5651-adb5-18ccea4df489</td>\n",
              "      <td>edition.cnn.com</td>\n",
              "    </tr>\n",
              "    <tr>\n",
              "      <th>1</th>\n",
              "      <td>Senna to replace Heidfeld in Belgium</td>\n",
              "      <td>https://edition.cnn.com/2011/08/24/sport/motor...</td>\n",
              "      <td>2011-08-24 17:54:07+00:00</td>\n",
              "      <td>2011-08-26 16:49:15+00:00</td>\n",
              "      <td>By</td>\n",
              "      <td>Brazilian driver Bruno Senna will replace Nick...</td>\n",
              "      <td>https://cdn.cnn.com/cnnnext/dam/assets/1108240...</td>\n",
              "      <td>&lt;div class=\"l-container\"&gt;&lt;div class=\"el__leafm...</td>\n",
              "      <td>Senna to replace Heidfeld in BelgiumBy Updated...</td>\n",
              "      <td>2021-07-23 00:15:23</td>\n",
              "      <td>2419cdcf-50a7-5b04-a9fc-fd7813731fe9</td>\n",
              "      <td>edition.cnn.com</td>\n",
              "    </tr>\n",
              "    <tr>\n",
              "      <th>2</th>\n",
              "      <td>Zvonareva beats Kvitova to reach Tokyo final</td>\n",
              "      <td>https://edition.cnn.com/2011/09/30/sport/tenni...</td>\n",
              "      <td>2011-09-30 14:59:26+00:00</td>\n",
              "      <td>2011-09-30 20:22:34+00:00</td>\n",
              "      <td>By</td>\n",
              "      <td>Russian Vera Zvonareva came from 5-1 down in t...</td>\n",
              "      <td>https://cdn.cnn.com/cnnnext/dam/assets/1109300...</td>\n",
              "      <td>&lt;div class=\"l-container\"&gt;&lt;div class=\"el__leafm...</td>\n",
              "      <td>Zvonareva beats Kvitova to reach Tokyo finalBy...</td>\n",
              "      <td>2021-07-23 00:15:23</td>\n",
              "      <td>fc9c8863-007f-540f-9f6f-4981f2ae6cb6</td>\n",
              "      <td>edition.cnn.com</td>\n",
              "    </tr>\n",
              "    <tr>\n",
              "      <th>3</th>\n",
              "      <td>Country profile: Macedonia</td>\n",
              "      <td>https://edition.cnn.com/2011/09/30/world/europ...</td>\n",
              "      <td>2011-09-30 04:34:03+00:00</td>\n",
              "      <td>2011-09-30 04:34:03+00:00</td>\n",
              "      <td>By Catriona Davies and Eoghan Macguire for CNN</td>\n",
              "      <td>Macedonia is a small landlocked country border...</td>\n",
              "      <td>https://cdn.cnn.com/cnnnext/dam/assets/1109291...</td>\n",
              "      <td>&lt;div class=\"l-container\"&gt;&lt;div class=\"el__leafm...</td>\n",
              "      <td>Country profile: MacedoniaBy Catriona Davies a...</td>\n",
              "      <td>2021-07-23 00:15:23</td>\n",
              "      <td>f7625158-e643-5859-819c-6736f7e40d31</td>\n",
              "      <td>edition.cnn.com</td>\n",
              "    </tr>\n",
              "    <tr>\n",
              "      <th>4</th>\n",
              "      <td>Manchester City ban talk of Tevez</td>\n",
              "      <td>https://edition.cnn.com/2011/09/30/sport/footb...</td>\n",
              "      <td>2011-09-30 16:54:25+00:00</td>\n",
              "      <td>2011-09-30 16:55:10+00:00</td>\n",
              "      <td>By</td>\n",
              "      <td>Manchester City banned journalists from asking...</td>\n",
              "      <td>https://cdn.cnn.com/cnnnext/dam/assets/1109300...</td>\n",
              "      <td>&lt;div class=\"l-container\"&gt;&lt;div class=\"el__leafm...</td>\n",
              "      <td>Manchester City ban talk of TevezBy Updated 16...</td>\n",
              "      <td>2021-07-23 00:15:24</td>\n",
              "      <td>91e56668-cad7-5654-ad7f-770c92ac443e</td>\n",
              "      <td>edition.cnn.com</td>\n",
              "    </tr>\n",
              "    <tr>\n",
              "      <th>...</th>\n",
              "      <td>...</td>\n",
              "      <td>...</td>\n",
              "      <td>...</td>\n",
              "      <td>...</td>\n",
              "      <td>...</td>\n",
              "      <td>...</td>\n",
              "      <td>...</td>\n",
              "      <td>...</td>\n",
              "      <td>...</td>\n",
              "      <td>...</td>\n",
              "      <td>...</td>\n",
              "      <td>...</td>\n",
              "    </tr>\n",
              "    <tr>\n",
              "      <th>3495</th>\n",
              "      <td>Kremlin critic Lebedev: Why I lashed out on TV...</td>\n",
              "      <td>https://edition.cnn.com/2012/10/01/world/europ...</td>\n",
              "      <td>2012-10-01 11:47:24+00:00</td>\n",
              "      <td>2012-10-01 12:38:45+00:00</td>\n",
              "      <td>By Phil Black and Peter Wilkinson, CNN</td>\n",
              "      <td>Russian billionaire businessman and outspoken ...</td>\n",
              "      <td>https://cdn.cnn.com/cnnnext/dam/assets/1209300...</td>\n",
              "      <td>&lt;div class=\"l-container\"&gt;&lt;div class=\"el__leafm...</td>\n",
              "      <td>Kremlin critic Lebedev: Why I lashed out on TV...</td>\n",
              "      <td>2021-07-23 00:23:05</td>\n",
              "      <td>946e3153-3697-558d-80e7-1c0587174d88</td>\n",
              "      <td>edition.cnn.com</td>\n",
              "    </tr>\n",
              "    <tr>\n",
              "      <th>3496</th>\n",
              "      <td>Never forget: Football remembers</td>\n",
              "      <td>https://edition.cnn.com/2012/11/30/sport/footb...</td>\n",
              "      <td>2012-11-30 20:55:24+00:00</td>\n",
              "      <td>2012-12-01 18:46:18+00:00</td>\n",
              "      <td>By James Masters, CNN</td>\n",
              "      <td>The Premier League's 'Christmas Truce' tournam...</td>\n",
              "      <td>https://cdn.cnn.com/cnnnext/dam/assets/1211300...</td>\n",
              "      <td>&lt;div class=\"l-container\"&gt;&lt;div class=\"el__leafm...</td>\n",
              "      <td>Never forget: Football remembersBy James Maste...</td>\n",
              "      <td>2021-07-23 00:23:05</td>\n",
              "      <td>855f08d9-9872-51aa-b93b-a576b2d4b46b</td>\n",
              "      <td>edition.cnn.com</td>\n",
              "    </tr>\n",
              "    <tr>\n",
              "      <th>3497</th>\n",
              "      <td>Schumacher coy over Sauber switch</td>\n",
              "      <td>https://edition.cnn.com/2012/10/01/sport/motor...</td>\n",
              "      <td>2012-10-01 15:51:41+00:00</td>\n",
              "      <td>2012-10-01 16:02:52+00:00</td>\n",
              "      <td>By</td>\n",
              "      <td>Michael Schumacher is keeping all his options ...</td>\n",
              "      <td>https://cdn.cnn.com/cnnnext/dam/assets/1210010...</td>\n",
              "      <td>&lt;div class=\"l-container\"&gt;&lt;div class=\"el__leafm...</td>\n",
              "      <td>Schumacher coy over Sauber switchBy Updated 16...</td>\n",
              "      <td>2021-07-23 00:23:05</td>\n",
              "      <td>437298b0-aa5d-57a9-9898-49cac6a7ba70</td>\n",
              "      <td>edition.cnn.com</td>\n",
              "    </tr>\n",
              "    <tr>\n",
              "      <th>3498</th>\n",
              "      <td>It's official: Vettel is three-time champion a...</td>\n",
              "      <td>https://edition.cnn.com/2012/11/30/sport/motor...</td>\n",
              "      <td>2012-11-30 12:21:35+00:00</td>\n",
              "      <td>2012-11-30 12:21:35+00:00</td>\n",
              "      <td>By</td>\n",
              "      <td>It's official: Sebastian Vettel is a three-tim...</td>\n",
              "      <td>https://cdn.cnn.com/cnnnext/dam/assets/1211281...</td>\n",
              "      <td>&lt;div class=\"l-container\"&gt;&lt;div class=\"el__leafm...</td>\n",
              "      <td>It's official: Vettel is three-time champion a...</td>\n",
              "      <td>2021-07-23 00:23:05</td>\n",
              "      <td>498e98d8-ef98-5596-a001-be76db0318fb</td>\n",
              "      <td>edition.cnn.com</td>\n",
              "    </tr>\n",
              "    <tr>\n",
              "      <th>3499</th>\n",
              "      <td>English Premier League's hidden costs revealed</td>\n",
              "      <td>https://edition.cnn.com/2012/11/30/sport/footb...</td>\n",
              "      <td>2012-11-30 18:18:11+00:00</td>\n",
              "      <td>2012-12-01 21:19:11+00:00</td>\n",
              "      <td>By James Masters, CNN</td>\n",
              "      <td>The Premier League released figures showing th...</td>\n",
              "      <td>https://cdn.cnn.com/cnnnext/dam/assets/1211300...</td>\n",
              "      <td>&lt;div class=\"l-container\"&gt;&lt;div class=\"el__leafm...</td>\n",
              "      <td>English Premier League's hidden costs revealed...</td>\n",
              "      <td>2021-07-23 00:23:05</td>\n",
              "      <td>bf1c7c3d-63b8-541a-b4cf-8e5499d56be7</td>\n",
              "      <td>edition.cnn.com</td>\n",
              "    </tr>\n",
              "  </tbody>\n",
              "</table>\n",
              "<p>3500 rows × 12 columns</p>\n",
              "</div>\n",
              "    <div class=\"colab-df-buttons\">\n",
              "\n",
              "  <div class=\"colab-df-container\">\n",
              "    <button class=\"colab-df-convert\" onclick=\"convertToInteractive('df-43957a39-fbdc-40a2-bec1-41dc9751297b')\"\n",
              "            title=\"Convert this dataframe to an interactive table.\"\n",
              "            style=\"display:none;\">\n",
              "\n",
              "  <svg xmlns=\"http://www.w3.org/2000/svg\" height=\"24px\" viewBox=\"0 -960 960 960\">\n",
              "    <path d=\"M120-120v-720h720v720H120Zm60-500h600v-160H180v160Zm220 220h160v-160H400v160Zm0 220h160v-160H400v160ZM180-400h160v-160H180v160Zm440 0h160v-160H620v160ZM180-180h160v-160H180v160Zm440 0h160v-160H620v160Z\"/>\n",
              "  </svg>\n",
              "    </button>\n",
              "\n",
              "  <style>\n",
              "    .colab-df-container {\n",
              "      display:flex;\n",
              "      gap: 12px;\n",
              "    }\n",
              "\n",
              "    .colab-df-convert {\n",
              "      background-color: #E8F0FE;\n",
              "      border: none;\n",
              "      border-radius: 50%;\n",
              "      cursor: pointer;\n",
              "      display: none;\n",
              "      fill: #1967D2;\n",
              "      height: 32px;\n",
              "      padding: 0 0 0 0;\n",
              "      width: 32px;\n",
              "    }\n",
              "\n",
              "    .colab-df-convert:hover {\n",
              "      background-color: #E2EBFA;\n",
              "      box-shadow: 0px 1px 2px rgba(60, 64, 67, 0.3), 0px 1px 3px 1px rgba(60, 64, 67, 0.15);\n",
              "      fill: #174EA6;\n",
              "    }\n",
              "\n",
              "    .colab-df-buttons div {\n",
              "      margin-bottom: 4px;\n",
              "    }\n",
              "\n",
              "    [theme=dark] .colab-df-convert {\n",
              "      background-color: #3B4455;\n",
              "      fill: #D2E3FC;\n",
              "    }\n",
              "\n",
              "    [theme=dark] .colab-df-convert:hover {\n",
              "      background-color: #434B5C;\n",
              "      box-shadow: 0px 1px 3px 1px rgba(0, 0, 0, 0.15);\n",
              "      filter: drop-shadow(0px 1px 2px rgba(0, 0, 0, 0.3));\n",
              "      fill: #FFFFFF;\n",
              "    }\n",
              "  </style>\n",
              "\n",
              "    <script>\n",
              "      const buttonEl =\n",
              "        document.querySelector('#df-43957a39-fbdc-40a2-bec1-41dc9751297b button.colab-df-convert');\n",
              "      buttonEl.style.display =\n",
              "        google.colab.kernel.accessAllowed ? 'block' : 'none';\n",
              "\n",
              "      async function convertToInteractive(key) {\n",
              "        const element = document.querySelector('#df-43957a39-fbdc-40a2-bec1-41dc9751297b');\n",
              "        const dataTable =\n",
              "          await google.colab.kernel.invokeFunction('convertToInteractive',\n",
              "                                                    [key], {});\n",
              "        if (!dataTable) return;\n",
              "\n",
              "        const docLinkHtml = 'Like what you see? Visit the ' +\n",
              "          '<a target=\"_blank\" href=https://colab.research.google.com/notebooks/data_table.ipynb>data table notebook</a>'\n",
              "          + ' to learn more about interactive tables.';\n",
              "        element.innerHTML = '';\n",
              "        dataTable['output_type'] = 'display_data';\n",
              "        await google.colab.output.renderOutput(dataTable, element);\n",
              "        const docLink = document.createElement('div');\n",
              "        docLink.innerHTML = docLinkHtml;\n",
              "        element.appendChild(docLink);\n",
              "      }\n",
              "    </script>\n",
              "  </div>\n",
              "\n",
              "\n",
              "<div id=\"df-19fb1f31-6118-4a09-8f87-8dd2b02c2c03\">\n",
              "  <button class=\"colab-df-quickchart\" onclick=\"quickchart('df-19fb1f31-6118-4a09-8f87-8dd2b02c2c03')\"\n",
              "            title=\"Suggest charts\"\n",
              "            style=\"display:none;\">\n",
              "\n",
              "<svg xmlns=\"http://www.w3.org/2000/svg\" height=\"24px\"viewBox=\"0 0 24 24\"\n",
              "     width=\"24px\">\n",
              "    <g>\n",
              "        <path d=\"M19 3H5c-1.1 0-2 .9-2 2v14c0 1.1.9 2 2 2h14c1.1 0 2-.9 2-2V5c0-1.1-.9-2-2-2zM9 17H7v-7h2v7zm4 0h-2V7h2v10zm4 0h-2v-4h2v4z\"/>\n",
              "    </g>\n",
              "</svg>\n",
              "  </button>\n",
              "\n",
              "<style>\n",
              "  .colab-df-quickchart {\n",
              "      --bg-color: #E8F0FE;\n",
              "      --fill-color: #1967D2;\n",
              "      --hover-bg-color: #E2EBFA;\n",
              "      --hover-fill-color: #174EA6;\n",
              "      --disabled-fill-color: #AAA;\n",
              "      --disabled-bg-color: #DDD;\n",
              "  }\n",
              "\n",
              "  [theme=dark] .colab-df-quickchart {\n",
              "      --bg-color: #3B4455;\n",
              "      --fill-color: #D2E3FC;\n",
              "      --hover-bg-color: #434B5C;\n",
              "      --hover-fill-color: #FFFFFF;\n",
              "      --disabled-bg-color: #3B4455;\n",
              "      --disabled-fill-color: #666;\n",
              "  }\n",
              "\n",
              "  .colab-df-quickchart {\n",
              "    background-color: var(--bg-color);\n",
              "    border: none;\n",
              "    border-radius: 50%;\n",
              "    cursor: pointer;\n",
              "    display: none;\n",
              "    fill: var(--fill-color);\n",
              "    height: 32px;\n",
              "    padding: 0;\n",
              "    width: 32px;\n",
              "  }\n",
              "\n",
              "  .colab-df-quickchart:hover {\n",
              "    background-color: var(--hover-bg-color);\n",
              "    box-shadow: 0 1px 2px rgba(60, 64, 67, 0.3), 0 1px 3px 1px rgba(60, 64, 67, 0.15);\n",
              "    fill: var(--button-hover-fill-color);\n",
              "  }\n",
              "\n",
              "  .colab-df-quickchart-complete:disabled,\n",
              "  .colab-df-quickchart-complete:disabled:hover {\n",
              "    background-color: var(--disabled-bg-color);\n",
              "    fill: var(--disabled-fill-color);\n",
              "    box-shadow: none;\n",
              "  }\n",
              "\n",
              "  .colab-df-spinner {\n",
              "    border: 2px solid var(--fill-color);\n",
              "    border-color: transparent;\n",
              "    border-bottom-color: var(--fill-color);\n",
              "    animation:\n",
              "      spin 1s steps(1) infinite;\n",
              "  }\n",
              "\n",
              "  @keyframes spin {\n",
              "    0% {\n",
              "      border-color: transparent;\n",
              "      border-bottom-color: var(--fill-color);\n",
              "      border-left-color: var(--fill-color);\n",
              "    }\n",
              "    20% {\n",
              "      border-color: transparent;\n",
              "      border-left-color: var(--fill-color);\n",
              "      border-top-color: var(--fill-color);\n",
              "    }\n",
              "    30% {\n",
              "      border-color: transparent;\n",
              "      border-left-color: var(--fill-color);\n",
              "      border-top-color: var(--fill-color);\n",
              "      border-right-color: var(--fill-color);\n",
              "    }\n",
              "    40% {\n",
              "      border-color: transparent;\n",
              "      border-right-color: var(--fill-color);\n",
              "      border-top-color: var(--fill-color);\n",
              "    }\n",
              "    60% {\n",
              "      border-color: transparent;\n",
              "      border-right-color: var(--fill-color);\n",
              "    }\n",
              "    80% {\n",
              "      border-color: transparent;\n",
              "      border-right-color: var(--fill-color);\n",
              "      border-bottom-color: var(--fill-color);\n",
              "    }\n",
              "    90% {\n",
              "      border-color: transparent;\n",
              "      border-bottom-color: var(--fill-color);\n",
              "    }\n",
              "  }\n",
              "</style>\n",
              "\n",
              "  <script>\n",
              "    async function quickchart(key) {\n",
              "      const quickchartButtonEl =\n",
              "        document.querySelector('#' + key + ' button');\n",
              "      quickchartButtonEl.disabled = true;  // To prevent multiple clicks.\n",
              "      quickchartButtonEl.classList.add('colab-df-spinner');\n",
              "      try {\n",
              "        const charts = await google.colab.kernel.invokeFunction(\n",
              "            'suggestCharts', [key], {});\n",
              "      } catch (error) {\n",
              "        console.error('Error during call to suggestCharts:', error);\n",
              "      }\n",
              "      quickchartButtonEl.classList.remove('colab-df-spinner');\n",
              "      quickchartButtonEl.classList.add('colab-df-quickchart-complete');\n",
              "    }\n",
              "    (() => {\n",
              "      let quickchartButtonEl =\n",
              "        document.querySelector('#df-19fb1f31-6118-4a09-8f87-8dd2b02c2c03 button');\n",
              "      quickchartButtonEl.style.display =\n",
              "        google.colab.kernel.accessAllowed ? 'block' : 'none';\n",
              "    })();\n",
              "  </script>\n",
              "</div>\n",
              "\n",
              "  <div id=\"id_87aed383-c661-4a31-961c-a0e04cd7cb18\">\n",
              "    <style>\n",
              "      .colab-df-generate {\n",
              "        background-color: #E8F0FE;\n",
              "        border: none;\n",
              "        border-radius: 50%;\n",
              "        cursor: pointer;\n",
              "        display: none;\n",
              "        fill: #1967D2;\n",
              "        height: 32px;\n",
              "        padding: 0 0 0 0;\n",
              "        width: 32px;\n",
              "      }\n",
              "\n",
              "      .colab-df-generate:hover {\n",
              "        background-color: #E2EBFA;\n",
              "        box-shadow: 0px 1px 2px rgba(60, 64, 67, 0.3), 0px 1px 3px 1px rgba(60, 64, 67, 0.15);\n",
              "        fill: #174EA6;\n",
              "      }\n",
              "\n",
              "      [theme=dark] .colab-df-generate {\n",
              "        background-color: #3B4455;\n",
              "        fill: #D2E3FC;\n",
              "      }\n",
              "\n",
              "      [theme=dark] .colab-df-generate:hover {\n",
              "        background-color: #434B5C;\n",
              "        box-shadow: 0px 1px 3px 1px rgba(0, 0, 0, 0.15);\n",
              "        filter: drop-shadow(0px 1px 2px rgba(0, 0, 0, 0.3));\n",
              "        fill: #FFFFFF;\n",
              "      }\n",
              "    </style>\n",
              "    <button class=\"colab-df-generate\" onclick=\"generateWithVariable('articles')\"\n",
              "            title=\"Generate code using this dataframe.\"\n",
              "            style=\"display:none;\">\n",
              "\n",
              "  <svg xmlns=\"http://www.w3.org/2000/svg\" height=\"24px\"viewBox=\"0 0 24 24\"\n",
              "       width=\"24px\">\n",
              "    <path d=\"M7,19H8.4L18.45,9,17,7.55,7,17.6ZM5,21V16.75L18.45,3.32a2,2,0,0,1,2.83,0l1.4,1.43a1.91,1.91,0,0,1,.58,1.4,1.91,1.91,0,0,1-.58,1.4L9.25,21ZM18.45,9,17,7.55Zm-12,3A5.31,5.31,0,0,0,4.9,8.1,5.31,5.31,0,0,0,1,6.5,5.31,5.31,0,0,0,4.9,4.9,5.31,5.31,0,0,0,6.5,1,5.31,5.31,0,0,0,8.1,4.9,5.31,5.31,0,0,0,12,6.5,5.46,5.46,0,0,0,6.5,12Z\"/>\n",
              "  </svg>\n",
              "    </button>\n",
              "    <script>\n",
              "      (() => {\n",
              "      const buttonEl =\n",
              "        document.querySelector('#id_87aed383-c661-4a31-961c-a0e04cd7cb18 button.colab-df-generate');\n",
              "      buttonEl.style.display =\n",
              "        google.colab.kernel.accessAllowed ? 'block' : 'none';\n",
              "\n",
              "      buttonEl.onclick = () => {\n",
              "        google.colab.notebook.generateWithVariable('articles');\n",
              "      }\n",
              "      })();\n",
              "    </script>\n",
              "  </div>\n",
              "\n",
              "    </div>\n",
              "  </div>\n"
            ],
            "application/vnd.google.colaboratory.intrinsic+json": {
              "type": "dataframe",
              "variable_name": "articles",
              "summary": "{\n  \"name\": \"articles\",\n  \"rows\": 3500,\n  \"fields\": [\n    {\n      \"column\": \"title\",\n      \"properties\": {\n        \"dtype\": \"string\",\n        \"num_unique_values\": 3486,\n        \"samples\": [\n          \"Girls given equal rights to British throne under law changes\",\n          \"Kahne wins NASCAR's longest race, the Coca-Cola 600\",\n          \"Van Persie hat-trick sinks brave Saints after embarrassing penalty miss\"\n        ],\n        \"semantic_type\": \"\",\n        \"description\": \"\"\n      }\n    },\n    {\n      \"column\": \"url\",\n      \"properties\": {\n        \"dtype\": \"string\",\n        \"num_unique_values\": 3499,\n        \"samples\": [\n          \"https://edition.cnn.com/2012/03/22/world/europe/toulouse-siege-french-election/index.html\",\n          \"https://edition.cnn.com/2012/06/23/sport/tennis/blue-clay-banned-atp/index.html\",\n          \"https://edition.cnn.com/2012/05/20/world/europe/italy-blast/index.html\"\n        ],\n        \"semantic_type\": \"\",\n        \"description\": \"\"\n      }\n    },\n    {\n      \"column\": \"published_at\",\n      \"properties\": {\n        \"dtype\": \"date\",\n        \"min\": \"2011-08-24 17:54:07+00:00\",\n        \"max\": \"2012-11-30 20:55:24+00:00\",\n        \"num_unique_values\": 3499,\n        \"samples\": [\n          \"2012-03-22 16:08:21+00:00\",\n          \"2012-06-23 18:28:43+00:00\",\n          \"2012-05-20 09:04:43+00:00\"\n        ],\n        \"semantic_type\": \"\",\n        \"description\": \"\"\n      }\n    },\n    {\n      \"column\": \"last_modified_at\",\n      \"properties\": {\n        \"dtype\": \"date\",\n        \"min\": \"2011-08-26 16:49:15+00:00\",\n        \"max\": \"2016-12-01 11:09:25+00:00\",\n        \"num_unique_values\": 3497,\n        \"samples\": [\n          \"2012-03-21 14:16:13+00:00\",\n          \"2012-06-23 15:35:51+00:00\",\n          \"2012-06-01 14:05:42+00:00\"\n        ],\n        \"semantic_type\": \"\",\n        \"description\": \"\"\n      }\n    },\n    {\n      \"column\": \"author\",\n      \"properties\": {\n        \"dtype\": \"category\",\n        \"num_unique_values\": 452,\n        \"samples\": [\n          \"By Susanne Gargiulo, for CNN\",\n          \"By Dave Gilbert and Teo Kermeliotis, CNN\",\n          \"By Gul Tuysuz and Anna Ozbek, For CNN\"\n        ],\n        \"semantic_type\": \"\",\n        \"description\": \"\"\n      }\n    },\n    {\n      \"column\": \"short_description\",\n      \"properties\": {\n        \"dtype\": \"string\",\n        \"num_unique_values\": 3490,\n        \"samples\": [\n          \"The \\\"Occupy Wall Street\\\" movement went global Saturday, crossing the Atlantic to European cities, where protesters gathered for largely peaceful demonstrations.\",\n          \"Palace officials slammed the decision of the Irish Daily Star to print topless pictures of Prince William's wife Catherine as driven by greed.\",\n          \"Ireland's Shane Lowry carded a superb five-under 66 to claim the Portugal Masters Sunday -- his second win on the European Tour.\"\n        ],\n        \"semantic_type\": \"\",\n        \"description\": \"\"\n      }\n    },\n    {\n      \"column\": \"header_image\",\n      \"properties\": {\n        \"dtype\": \"string\",\n        \"num_unique_values\": 2851,\n        \"samples\": [\n          \"https://cdn.cnn.com/cnnnext/dam/assets/120425055559-golf-bubba-story-top.jpg\",\n          \"https://cdn.cnn.com/cnnnext/dam/assets/111004101133-golf-tiger-woods-smiles-story-top.jpg\",\n          \"https://cdn.cnn.com/cnnnext/dam/assets/120307102431-paton-walsh-british-soldiers-killed-00004603-story-top.jpg\"\n        ],\n        \"semantic_type\": \"\",\n        \"description\": \"\"\n      }\n    },\n    {\n      \"column\": \"raw_content\",\n      \"properties\": {\n        \"dtype\": \"string\",\n        \"num_unique_values\": 3498,\n        \"samples\": [\n          \"<div class=\\\"l-container\\\"><div class=\\\"el__leafmedia el__leafmedia--storyhighlights\\\"><div class=\\\"el__storyhighlights_wrapper\\\"><div class=\\\"el__storyhighlights\\\"><h3 class=\\\"el__headline\\\">Story highlights</h3><ul class=\\\"el__storyhighlights__list\\\"><li class=\\\"el__storyhighlights__item el__storyhighlights--normal\\\">Campaigning resumed in the French presidential election on Thursday following the death of Mohammed Merah </li><li class=\\\"el__storyhighlights__item el__storyhighlights--normal\\\">Most candidates in the election suspended campaigning following the most recent shooting in Toulouse</li><li class=\\\"el__storyhighlights__item el__storyhighlights--normal\\\">Normal politics resumed following the bloody end to the siege</li><li class=\\\"el__storyhighlights__item el__storyhighlights--normal\\\">Most candidates called for national unity amid the national outpouring of grief for the victims</li></ul></div><div class=\\\"ad ad--epic\\\" data-ad-text=\\\"show\\\"></div></div></div><div class=\\\"zn-body__paragraph speakable\\\">Campaigning resumed in the French presidential election on Thursday following the violent death of shooting suspect Mohammed Merah following a police siege in Toulouse. </div><div class=\\\"zn-body__paragraph speakable\\\">Merah was wanted for the killings of three French paratroopers and of three children and a rabbi at a Jewish school in the city, in a string of shootings beginning March 11 that shook the nation.</div><div class=\\\"zn-body__paragraph speakable\\\">Merah had told French police he trained with al Qaeda in Pakistan, and he had planned to attack more soldiers and police, Paris prosecutor Francois Molins said. He said he was acting alone, the prosecutor added.</div><div class=\\\"zn-body__paragraph\\\">Most candidates in the election suspended campaigning following the most recent shooting in Toulouse, but normal politics resumed following the bloody end to the siege. </div><div class=\\\"zn-body__paragraph\\\"><strong>How did candidates react to the crisis?</strong></div><div class=\\\"zn-body__paragraph\\\">Most candidates called for national unity amid the national outpouring of grief for the victims. President Nicolas Sarkozy, who is running for a second term, visited Toulouse and offered his sympathies to bereaved families. Other candidates even flew to the city on the same plane to show their respects.</div><div class=\\\"zn-body__paragraph\\\">Sarkozy's main rival, Socialist Party candidate Francois Hollande, suspended his campaign \\\"to honor the memories\\\" of the victims. Far-right candidate Marine Le Pen initially cancelled campaign events, saying politics must be suspended \\\"as a sign of compassion and solidarity.\\\"</div><div class=\\\"el__embedded el__embedded--standard\\\"><div class=\\\"el__video--standard js__video--standard\\\" data-autoplay=\\\"false\\\"><div class=\\\"el__video__close--standard js__video__close--standard el__storyelements--close cnn-icon\\\"></div><script>'use strict';CNN.Videx = CNN.Videx || {};CNN.Videx.mobile = {};CNN.INJECTOR.executeFeature('video').then(function () {CNN.VideoPlayer.handleUnmutePlayer = function handleUnmutePlayer(containerId, dataObj) {'use strict';var playerInstance,playerPropertyObj,rememberTime,unmuteCTA,unmuteIdSelector = 'unmute_' + containerId,isPlayerMute;dataObj = dataObj || {};if (CNN.VideoPlayer.getLibraryName(containerId) === 'fave') {playerInstance = FAVE.player.getInstance(containerId) || null;} else {playerInstance = containerId && window.cnnVideoManager.getPlayerByContainer(containerId).videoInstance.cvp || null;}isPlayerMute = (typeof dataObj.muted === 'boolean') ? dataObj.muted : false;if (CNN.VideoPlayer.playerProperties && CNN.VideoPlayer.playerProperties[containerId]) {playerPropertyObj = CNN.VideoPlayer.playerProperties[containerId];}if (playerPropertyObj.mute && playerPropertyObj.contentPlayed) {if (isPlayerMute === false) {unmuteCTA = jQuery(document.getElementById(unmuteIdSelector));playerInstance.unmute();if (unmuteCTA.length > 0) {unmuteCTA.removeClass('video__unmute--active').addClass('video__unmute--inactive');unmuteCTA.off('click');rememberTime = 0;if (rememberTime < 0) {rememberTime = 360 / 60;}CNN.Utils.storeLocalValue('unmute_europe', 'X', rememberTime);}} else {playerInstance.mute();}}};CNN.VideoPlayer.showFlashSlate = function showFlashSlate(container) {'use strict';var $vidEndSlate;$vidEndSlate = container.parent().find('.js-video__end-slate').eq(0);if ($vidEndSlate.length > 0) {$vidEndSlate.find('.l-container').html('<a href=\\\"https://get.adobe.com/flashplayer/\\\" target=\\\"_blank\\\"><div class=\\\"flash-slate\\\"></div></a>');$vidEndSlate.removeClass('video__end-slate--inactive').addClass('video__end-slate--active');}};CNN.autoPlayVideoExist = (CNN.autoPlayVideoExist === true) ? true : false;var configObj = {thumb: 'none',video: 'world/2012/03/22/sot-france-seige-sarkozy-statement.french-pool',width: '100%',height: '100%',section: 'international',profile: 'expansion',network: 'cnn',markupId: 'body-text_8',theoplayer: {allowNativeFullscreen: true},adsection: 'const-article-inpage',frameWidth: '100%',frameHeight: '100%',posterImageOverride: {\\\"mini\\\":{\\\"height\\\":144,\\\"width\\\":256,\\\"type\\\":\\\"JPG\\\",\\\"uri\\\":\\\"//cdn.cnn.com/cnnnext/dam/assets/120322012920-sot-france-seige-sarkozy-statement-00020021-hp-video.jpg\\\"},\\\"xsmall\\\":{\\\"height\\\":169,\\\"width\\\":300,\\\"type\\\":\\\"JPG\\\",\\\"uri\\\":\\\"//cdn.cnn.com/cnnnext/dam/assets/120322012920-sot-france-seige-sarkozy-statement-00020021-story-body.jpg\\\"},\\\"small\\\":{\\\"height\\\":360,\\\"width\\\":640,\\\"type\\\":\\\"JPG\\\",\\\"uri\\\":\\\"//cdn.cnn.com/cnnnext/dam/assets/120322012920-sot-france-seige-sarkozy-statement-00020021-story-top.jpg\\\"},\\\"medium\\\":{\\\"height\\\":552,\\\"width\\\":980,\\\"type\\\":\\\"JPG\\\",\\\"uri\\\":\\\"//cdn.cnn.com/cnnnext/dam/assets/120322012920-sot-france-seige-sarkozy-statement-00020021-horizontal-large-gallery.jpg\\\"},\\\"large\\\":{\\\"height\\\":552,\\\"width\\\":980,\\\"type\\\":\\\"JPG\\\",\\\"uri\\\":\\\"//cdn.cnn.com/cnnnext/dam/assets/120322012920-sot-france-seige-sarkozy-statement-00020021-horizontal-large-gallery.jpg\\\"},\\\"full16x9\\\":{\\\"height\\\":552,\\\"width\\\":980,\\\"type\\\":\\\"JPG\\\",\\\"uri\\\":\\\"//cdn.cnn.com/cnnnext/dam/assets/120322012920-sot-france-seige-sarkozy-statement-00020021-horizontal-large-gallery.jpg\\\"},\\\"mini1x1\\\":{\\\"height\\\":60,\\\"width\\\":60,\\\"type\\\":\\\"JPG\\\",\\\"uri\\\":\\\"//cdn.cnn.com/cnnnext/dam/assets/120322012920-sot-france-seige-sarkozy-statement-00020021-topics.jpg\\\"}}},autoStartVideo = false,isVideoReplayClicked = false,callbackObj,containerEl,currentVideoCollection = [],currentVideoCollectionId = '',isLivePlayer = false,mediaMetadataCallbacks,mobilePinnedView = null,moveToNextTimeout,mutePlayerEnabled = false,nextVideoId = '',nextVideoUrl = '',turnOnFlashMessaging = false,videoPinner,videoEndSlateImpl;if (CNN.autoPlayVideoExist === false) {autoStartVideo = false;autoStartVideo = typeof CNN.isLoggedInVideoCheck === 'function' ? CNN.isLoggedInVideoCheck(autoStartVideo) : autoStartVideo;if (autoStartVideo === true) {if (turnOnFlashMessaging === true) {autoStartVideo = false;containerEl = jQuery(document.getElementById(configObj.markupId));CNN.VideoPlayer.showFlashSlate(containerEl);} else {CNN.autoPlayVideoExist = true;}}}configObj.autostart = CNN.Features.enableAutoplayBlock ? false : autoStartVideo;CNN.VideoPlayer.setPlayerProperties(configObj.markupId, autoStartVideo, isLivePlayer, isVideoReplayClicked, mutePlayerEnabled);CNN.VideoPlayer.setFirstVideoInCollection(currentVideoCollection, configObj.markupId);videoEndSlateImpl = new CNN.VideoEndSlate('body-text_8');function findNextVideo(currentVideoId) {var i,vidObj;if (currentVideoId && jQuery.isArray(currentVideoCollection) && currentVideoCollection.length > 0) {for (i = 0; i < currentVideoCollection.length; i++) {vidObj = currentVideoCollection[i];if (typeof vidObj !== 'undefined' && vidObj.videoId === currentVideoId) {if (i < currentVideoCollection.length - 1) {nextVideoId = currentVideoCollection[i + 1].videoId;nextVideoUrl = currentVideoCollection[i + 1].videoUrl;} else {nextVideoId = currentVideoCollection[0].videoId;nextVideoUrl = currentVideoCollection[0].videoUrl;}break;}}if (!nextVideoUrl) {nextVideoId = currentVideoCollection[0].videoId;nextVideoUrl = currentVideoCollection[0].videoUrl;}currentVideoCollectionId = (window.jsmd && window.jsmd.v && window.jsmd.v.eVar60) || nextVideoUrl.replace(/^.+\\\\/video\\\\/playlists\\\\/(.+)\\\\//, '$1');} else {nextVideoId = '';nextVideoUrl = '';}}findNextVideo('world/2012/03/22/sot-france-seige-sarkozy-statement.french-pool');function navigateToNextVideo(currentVideoId, containerId) {var $endSlate,nextVideoPlayTimeout = 1500;findNextVideo(currentVideoId);if (nextVideoUrl) {moveToNextTimeout = setTimeout(function () {location.href = nextVideoUrl;}, nextVideoPlayTimeout);} else {$endSlate = jQuery(document.getElementById(containerId)).parent().find('.js-video__end-slate').eq(0);if ($endSlate.length > 0) {videoEndSlateImpl.showEndSlateForContainer();if (mobilePinnedView) {mobilePinnedView.disable();}}}}callbackObj = {onPlayerReady: function (containerId) {var playerInstance,containerClassId = '#' + containerId;CNN.VideoPlayer.handleInitialExpandableVideoState(containerId);CNN.VideoPlayer.handleAdOnCVPVisibilityChange(containerId, CNN.pageVis.isDocumentVisible());if (CNN.Features.enableMobileWebFloatingPlayer &&Modernizr &&(Modernizr.phone || Modernizr.mobile || Modernizr.tablet) &&CNN.VideoPlayer.getLibraryName(containerId) === 'fave' &&jQuery(containerClassId).parents('.js-pg-rail-tall__head').length > 0 &&CNN.contentModel.pageType === 'article') {playerInstance = FAVE.player.getInstance(containerId);mobilePinnedView = new CNN.MobilePinnedView({element: jQuery(containerClassId),enabled: false,transition: CNN.MobileWebFloatingPlayer.transition,onPin: function () {playerInstance.hideUI();},onUnpin: function () {playerInstance.showUI();},onPlayerClick: function () {if (mobilePinnedView) {playerInstance.enterFullscreen();playerInstance.showUI();}},onDismiss: function() {CNN.Videx.mobile.pinnedPlayer.disable();playerInstance.pause();}});/* Storing pinned view on CNN.Videx.mobile.pinnedPlayer So that all players can see the single pinned player */CNN.Videx = CNN.Videx || {};CNN.Videx.mobile = CNN.Videx.mobile || {};CNN.Videx.mobile.pinnedPlayer = mobilePinnedView;}if (Modernizr && !Modernizr.phone && !Modernizr.mobile && !Modernizr.tablet) {if (jQuery(containerClassId).parents('.js-pg-rail-tall__head').length) {videoPinner = new CNN.VideoPinner(containerClassId);videoPinner.init();} else {CNN.VideoPlayer.hideThumbnail(containerId);}}},onContentEntryLoad: function(containerId, playerId, contentid, isQueue) {CNN.VideoPlayer.showSpinner(containerId);},onContentPause: function (containerId, playerId, videoId, paused) {if (mobilePinnedView) {CNN.VideoPlayer.handleMobilePinnedPlayerStates(containerId, paused);}},onContentMetadata: function (containerId, playerId, metadata, contentId, duration, width, height) {var endSlateLen = jQuery(document.getElementById(containerId)).parent().find('.js-video__end-slate').eq(0).length;CNN.VideoSourceUtils.updateSource(containerId, metadata);if (endSlateLen > 0) {videoEndSlateImpl.fetchAndShowRecommendedVideos(metadata);}},onAdPlay: function (containerId, cvpId, token, mode, id, duration, blockId, adType) {/* Dismissing the pinnedPlayer if another video players plays an Ad */CNN.VideoPlayer.dismissMobilePinnedPlayer(containerId);clearTimeout(moveToNextTimeout);CNN.VideoPlayer.hideSpinner(containerId);if (Modernizr && !Modernizr.phone && !Modernizr.mobile && !Modernizr.tablet) {if (typeof videoPinner !== 'undefined' && videoPinner !== null) {videoPinner.setIsPlaying(true);videoPinner.animateDown();}}},onAdPause: function (containerId, playerId, token, mode, id, duration, blockId, adType, instance, isAdPause) {if (mobilePinnedView) {CNN.VideoPlayer.handleMobilePinnedPlayerStates(containerId, isAdPause);}},onTrackingFullscreen: function (containerId, PlayerId, dataObj) {CNN.VideoPlayer.handleFullscreenChange(containerId, dataObj);if (mobilePinnedView &&typeof dataObj === 'object' &&FAVE.Utils.os === 'iOS' && !dataObj.fullscreen) {jQuery(document).scrollTop(mobilePinnedView.getScrollPosition());playerInstance.hideUI();}},onContentPlay: function (containerId, cvpId, event) {var playerInstance,prevVideoId;if (CNN.companion && typeof CNN.companion.updateCompanionLayout === 'function') {CNN.companion.updateCompanionLayout('restoreEpicAds');}clearTimeout(moveToNextTimeout);CNN.VideoPlayer.hideSpinner(containerId);if (Modernizr && !Modernizr.phone && !Modernizr.mobile && !Modernizr.tablet) {if (typeof videoPinner !== 'undefined' && videoPinner !== null) {videoPinner.setIsPlaying(true);videoPinner.animateDown();}}},onContentReplayRequest: function (containerId, cvpId, contentId) {if (Modernizr && !Modernizr.phone && !Modernizr.mobile && !Modernizr.tablet) {if (typeof videoPinner !== 'undefined' && videoPinner !== null) {videoPinner.setIsPlaying(true);var $endSlate = jQuery(document.getElementById(containerId)).parent().find('.js-video__end-slate').eq(0);if ($endSlate.length > 0) {$endSlate.removeClass('video__end-slate--active').addClass('video__end-slate--inactive');}}}},onContentBegin: function (containerId, cvpId, contentId) {if (mobilePinnedView) {mobilePinnedView.enable();}/* Dismissing the pinnedPlayer if another video players plays a video. */CNN.VideoPlayer.dismissMobilePinnedPlayer(containerId);CNN.VideoPlayer.mutePlayer(containerId);if (CNN.companion && typeof CNN.companion.updateCompanionLayout === 'function') {CNN.companion.updateCompanionLayout('removeEpicAds');}CNN.VideoPlayer.hideSpinner(containerId);clearTimeout(moveToNextTimeout);CNN.VideoSourceUtils.clearSource(containerId);jQuery(document).triggerVideoContentStarted();},onContentComplete: function (containerId, cvpId, contentId) {if (CNN.companion && typeof CNN.companion.updateCompanionLayout === 'function') {CNN.companion.updateCompanionLayout('restoreFreewheel');}navigateToNextVideo(contentId, containerId);},onContentEnd: function (containerId, cvpId, contentId) {if (Modernizr && !Modernizr.phone && !Modernizr.mobile && !Modernizr.tablet) {if (typeof videoPinner !== 'undefined' && videoPinner !== null) {videoPinner.setIsPlaying(false);}}},onCVPVisibilityChange: function (containerId, cvpId, visible) {CNN.VideoPlayer.handleAdOnCVPVisibilityChange(containerId, visible);}};if (typeof configObj.context !== 'string' || configObj.context.length <= 0) {configObj.context = 'europe'.replace(/[\\\\(\\\\)\\\\-]/g, '');}if (typeof configObj.adsection === 'undefined' && typeof window.ssid === 'string' && window.ssid.length > 0) {configObj.adsection = window.ssid;}CNN.autoPlayVideoExist = (CNN.autoPlayVideoExist === true) ? true : false;CNN.VideoPlayer.getLibrary(configObj, callbackObj, isLivePlayer);});CNN.INJECTOR.scriptComplete('videodemanddust');</script><div class=\\\"js-media__video media__video\\\" id=\\\"media__video_body-text_8--wrapper\\\"><div id=\\\"body-text_8--thumbnail\\\" class=\\\"media__video--thumbnail\\\"><img class=\\\"media__image media__image--responsive\\\" alt=\\\"Sarkozy calls for unity in France\\\" data-src-mini=\\\"//cdn.cnn.com/cnnnext/dam/assets/120322012920-sot-france-seige-sarkozy-statement-00020021-hp-video.jpg\\\" data-src-xsmall=\\\"//cdn.cnn.com/cnnnext/dam/assets/120322012920-sot-france-seige-sarkozy-statement-00020021-story-body.jpg\\\" data-src-small=\\\"//cdn.cnn.com/cnnnext/dam/assets/120322012920-sot-france-seige-sarkozy-statement-00020021-story-top.jpg\\\" data-src-medium=\\\"//cdn.cnn.com/cnnnext/dam/assets/120322012920-sot-france-seige-sarkozy-statement-00020021-horizontal-large-gallery.jpg\\\" data-src-large=\\\"//cdn.cnn.com/cnnnext/dam/assets/120322012920-sot-france-seige-sarkozy-statement-00020021-horizontal-large-gallery.jpg\\\" data-src-full16x9=\\\"//cdn.cnn.com/cnnnext/dam/assets/120322012920-sot-france-seige-sarkozy-statement-00020021-horizontal-large-gallery.jpg\\\" data-src-mini1x1=\\\"//cdn.cnn.com/cnnnext/dam/assets/120322012920-sot-france-seige-sarkozy-statement-00020021-topics.jpg\\\" data-demand-load=\\\"not-loaded\\\" data-eq-pts=\\\"mini: 0, xsmall: 221, small: 308, medium: 461, large: 781\\\" src=\\\"data:image/gif;base64,R0lGODlhEAAJAJEAAAAAAP///////wAAACH5BAEAAAIALAAAAAAQAAkAAAIKlI+py+0Po5yUFQA7\\\"><div class=\\\"img__preloader\\\"></div><noscript><img alt=\\\"Sarkozy calls for unity in France\\\" class=\\\"media__image\\\" src=\\\"//cdn.cnn.com/cnnnext/dam/assets/120322012920-sot-france-seige-sarkozy-statement-00020021-story-top.jpg\\\"></noscript><div aria-hidden=\\\"true\\\" class=\\\"js-video-demand media__video--demand\\\"></div><div aria-hidden=\\\"true\\\" class=\\\"js-video-demand media__video--demand\\\"></div></div><div id=\\\"spinner_body-text_8\\\" class=\\\"video-red-spinner\\\"></div><div class=\\\"media__video--thumbnail-wrapper\\\"><div class=\\\"video__end-slate--inactive video__end-slate js-video__end-slate\\\" data-eq-pts=\\\"xsmall: 0, small: 300, medium: 460, large: 780\\\"><div class=\\\"l-container\\\"><div class=\\\"video__end-slate__top-wrapper\\\"><div class=\\\"js-el__video__replayer-wrapper el__video__replayer-wrapper\\\"><img alt=\\\"Sarkozy calls for unity in France\\\" class=\\\"media__image\\\" src=\\\"//cdn.cnn.com/cnnnext/dam/assets/120322012920-sot-france-seige-sarkozy-statement-00020021-story-top.jpg\\\"><a class=\\\"el__video__replay-button-wrapper\\\" href=\\\"javascript:void(0);\\\" title=\\\"Click to watch this video\\\"><div class=\\\"js-el__video__replay-button el__video__replay-button\\\"></div></a></div><div class=\\\"video__end-slate__secondary\\\"><ul class=\\\"cn cn-list-hierarchical-xs cn--idx-0\\\"><h3 class=\\\"cd__headline-title\\\">JUST WATCHED</h3><h2 class=\\\"cd__headline\\\"><span class=\\\"cd__headline-text js-cd__headline-text\\\">Sarkozy calls for unity in France</span></h2></ul><div class=\\\"video__end-slate__replay\\\"><a class=\\\"js-video__end-slate__replay\\\"><div class=\\\"video__end-slate__replay-icon cnn-icon\\\"></div></a></div><div class=\\\"video__end-slate__engage__wrapper\\\"><div class=\\\"video__end-slate__engage__text\\\"><a class=\\\"js-video__end-slate__replay-text video__end-slate__replay-text\\\">Replay</a></div><div class=\\\"video__end-slate__engage__more\\\"><a href=\\\"/videos\\\" class=\\\"video__end-slate__replay-text\\\">More Videos ...</a></div></div></div></div><h4 class=\\\"video__end-slate__tertiary-title\\\">MUST WATCH</h4><div class=\\\"js-video__end-slate__tertiary video__end-slate__tertiary\\\"><div class=\\\"js-video__end-slate__carousel video__end-slate__carousel\\\"></div></div></div></div><script type=\\\"application/ld+json\\\" name=\\\"metaScript\\\">{\\\"@context\\\": \\\"https://schema.org\\\",\\\"@type\\\": \\\"VideoObject\\\",\\\"name\\\": \\\"Sarkozy calls for unity in France\\\",\\\"description\\\": \\\"French President Nicolas Sarkozy calls for unity after the death of a man suspected in a string of shootings.\\\",\\\"thumbnailURL\\\": \\\"https://cdn.cnn.com/cnnnext/dam/assets/120322012920-sot-france-seige-sarkozy-statement-00020021-story-top.jpg\\\",\\\"image\\\": \\\"https://cdn.cnn.com/cnnnext/dam/assets/120322012920-sot-france-seige-sarkozy-statement-00020021-story-top.jpg\\\",\\\"duration\\\": \\\"PT3M39S\\\",\\\"uploadDate\\\": \\\"2012-03-22T13:39:38Z\\\",\\\"contentUrl\\\": \\\"https://edition.cnn.com/videos/world/2012/03/22/sot-france-seige-sarkozy-statement.french-pool\\\",\\\"url\\\": \\\"https://edition.cnn.com/videos/world/2012/03/22/sot-france-seige-sarkozy-statement.french-pool\\\",\\\"embedUrl\\\": \\\"https://fave.api.cnn.io/v1/fav/?video=world/2012/03/22/sot-france-seige-sarkozy-statement.french-pool&customer=cnn&edition=international&env=prod\\\"}</script><div id=\\\"body-text_8\\\" class=\\\"media__video--responsive \\\" data-video-id=\\\"world/2012/03/22/sot-france-seige-sarkozy-statement.french-pool\\\"></div><div id=\\\"body-text_8-metadata\\\" class=\\\"metadata\\\"><p class=\\\"metadata__source\\\"><span class=\\\"metadata__source-name\\\"></span></p></div></div><div class=\\\"media__caption el__storyelement__title\\\"><span class=\\\"el__storyelement__header\\\">Sarkozy calls for unity in France</span> <span class=\\\"el__storyelement__gray\\\">03:38</span></div></div></div></div><div class=\\\"el__embedded el__embedded--standard\\\"><div class=\\\"el__gallery--standard js__gallery--standard js__leafmedia--gallery\\\"><div class=\\\"js__gallery__close--standard el__gallery__close--standard el__storyelements--close cnn-icon\\\"></div><div class=\\\"el__gallery--teaseimage\\\"><div class=\\\"el__resize\\\"><div class=\\\"el__position media js-gallery-aspect-ratio-wrapper\\\"><img class=\\\"media__image media__image--responsive media__image--cut-format\\\" alt=\\\"French Interior Minister Claude Gueant confirms shooting suspect Mohammed Merah is dead after a siege lasting more than 31 hours on Thursday, March 22. \\\" data-src-mini=\\\"//cdn.cnn.com/cnnnext/dam/assets/120322115843-france-shooting-french-interior-minister-march-22-horizontal-large-gallery.jpg\\\" data-src-xsmall=\\\"//cdn.cnn.com/cnnnext/dam/assets/120322115843-france-shooting-french-interior-minister-march-22-horizontal-large-gallery.jpg\\\" data-src-small=\\\"//cdn.cnn.com/cnnnext/dam/assets/120322115843-france-shooting-french-interior-minister-march-22-horizontal-large-gallery.jpg\\\" data-src-medium=\\\"//cdn.cnn.com/cnnnext/dam/assets/120322115843-france-shooting-french-interior-minister-march-22-horizontal-large-gallery.jpg\\\" data-src-large=\\\"//cdn.cnn.com/cnnnext/dam/assets/120322115843-france-shooting-french-interior-minister-march-22-horizontal-large-gallery.jpg\\\" data-src-full16x9=\\\"//cdn.cnn.com/cnnnext/dam/assets/120322115843-france-shooting-french-interior-minister-march-22-horizontal-large-gallery.jpg\\\" data-src-mini1x1=\\\"//cdn.cnn.com/cnnnext/dam/assets/120322115843-france-shooting-french-interior-minister-march-22-topics.jpg\\\" data-demand-load=\\\"not-loaded\\\" data-eq-pts=\\\"mini: 0, xsmall: 221, small: 308, medium: 461, large: 781\\\" src=\\\"data:image/gif;base64,R0lGODlhEAAJAJEAAAAAAP///////wAAACH5BAEAAAIALAAAAAAQAAkAAAIKlI+py+0Po5yUFQA7\\\" data-cut-format=\\\"Horizontal Gallery\\\"><div class=\\\"img__preloader\\\"></div><noscript><img alt=\\\"French Interior Minister Claude Gueant confirms shooting suspect Mohammed Merah is dead after a siege lasting more than 31 hours on Thursday, March 22. \\\" class=\\\"media__image\\\" src=\\\"//cdn.cnn.com/cnnnext/dam/assets/120322115843-france-shooting-french-interior-minister-march-22-horizontal-large-gallery.jpg\\\"></noscript><div class=\\\"media__icon icon-media-gallery cnn-icon\\\"></div></div></div><div class=\\\"js-media__caption media__caption el__storyelement__title\\\"><div class=\\\"element-raw appearance-standard\\\"><span class=\\\"el__storyelement__header\\\"> Photos:</span> <span class=\\\"el__storyelement__gray\\\">Police siege in Toulouse</span></div></div></div><div class=\\\"el-carousel__wrapper\\\"><div class=\\\" js-owl-carousel owl-carousel carousel--full body\\\" data-galleryname=\\\"Police raid on Toulouse shooting suspect\\\" data-cut-format=\\\"16:9\\\" data-is-gallery=\\\"true\\\" data-slide-count=\\\"20\\\"><div data-slidename=\\\"Police raid on Toulouse shooting suspect\\\" data-analytics=\\\"_body_image\\\"><div class=\\\"el__resize\\\"><div class=\\\"el__position media js-gallery-aspect-ratio-wrapper\\\"><img class=\\\"media__image media__image--responsive media__image--cut-format\\\" alt=\\\"French Interior Minister Claude Gueant confirms shooting suspect Mohammed Merah is dead after a siege lasting more than 31 hours on Thursday, March 22. \\\" data-src-mini=\\\"//cdn.cnn.com/cnnnext/dam/assets/120322115843-france-shooting-french-interior-minister-march-22-horizontal-large-gallery.jpg\\\" data-src-xsmall=\\\"//cdn.cnn.com/cnnnext/dam/assets/120322115843-france-shooting-french-interior-minister-march-22-horizontal-large-gallery.jpg\\\" data-src-small=\\\"//cdn.cnn.com/cnnnext/dam/assets/120322115843-france-shooting-french-interior-minister-march-22-horizontal-large-gallery.jpg\\\" data-src-medium=\\\"//cdn.cnn.com/cnnnext/dam/assets/120322115843-france-shooting-french-interior-minister-march-22-horizontal-large-gallery.jpg\\\" data-src-large=\\\"//cdn.cnn.com/cnnnext/dam/assets/120322115843-france-shooting-french-interior-minister-march-22-horizontal-large-gallery.jpg\\\" data-src-full16x9=\\\"//cdn.cnn.com/cnnnext/dam/assets/120322115843-france-shooting-french-interior-minister-march-22-horizontal-large-gallery.jpg\\\" data-src-mini1x1=\\\"//cdn.cnn.com/cnnnext/dam/assets/120322115843-france-shooting-french-interior-minister-march-22-topics.jpg\\\" data-eq-pts=\\\"mini: 0, xsmall: 221, small: 308, medium: 461, large: 781\\\" src=\\\"data:image/gif;base64,R0lGODlhEAAJAJEAAAAAAP///////wAAACH5BAEAAAIALAAAAAAQAAkAAAIKlI+py+0Po5yUFQA7\\\" data-cut-format=\\\"Horizontal Gallery\\\"><div class=\\\"img__preloader\\\"></div><noscript><img alt=\\\"French Interior Minister Claude Gueant confirms shooting suspect Mohammed Merah is dead after a siege lasting more than 31 hours on Thursday, March 22. \\\" class=\\\"media__image\\\" src=\\\"//cdn.cnn.com/cnnnext/dam/assets/120322115843-france-shooting-french-interior-minister-march-22-horizontal-large-gallery.jpg\\\"></noscript></div></div><div class=\\\"js-media__caption media__caption el__storyelement__title\\\"><div class=\\\"element-raw appearance-standard\\\"><span class=\\\"el__storyelement__header\\\"> Photos:</span> <span class=\\\"el__storyelement__gray\\\">Police siege in Toulouse</span></div></div><div class=\\\"media__caption el__gallery_image-title\\\"><span class=\\\"media__caption-head\\\">How Toulouse siege unfolded</span> \\u2013 <span class=\\\"el__storyelement__gray\\\">French Interior Minister Claude Gueant confirms shooting suspect Mohammed Merah is dead after a siege lasting more than 31 hours on Thursday, March 22. </span></div><div class=\\\"el__gallery-showhide js__gallery-showhide\\\"><div class=\\\"js-el__gallery-caption el__gallery-caption\\\">Hide Caption</div><div class=\\\"el__gallery-photocount\\\"> 1 of 20</div></div></div><div data-slidename=\\\"Police raid on Toulouse shooting suspect\\\" data-analytics=\\\"_body_image\\\"><div class=\\\"el__resize\\\"><div class=\\\"el__position media js-gallery-aspect-ratio-wrapper\\\"><img class=\\\"media__image media__image--responsive media__image--cut-format\\\" alt=\\\"Police and rescue members are pictured after the siege ends on Thursday. Police burst into the apartment of Mohammed Merah, prompting a shootout that ended with Merah, gun in hand, jumping out a window to his death, authorities said Thursday.\\\" data-src-mini=\\\"//cdn.cnn.com/cnnnext/dam/assets/120322120628-france-shooting-assult-ends-march-22-horizontal-large-gallery.jpg\\\" data-src-xsmall=\\\"//cdn.cnn.com/cnnnext/dam/assets/120322120628-france-shooting-assult-ends-march-22-horizontal-large-gallery.jpg\\\" data-src-small=\\\"//cdn.cnn.com/cnnnext/dam/assets/120322120628-france-shooting-assult-ends-march-22-horizontal-large-gallery.jpg\\\" data-src-medium=\\\"//cdn.cnn.com/cnnnext/dam/assets/120322120628-france-shooting-assult-ends-march-22-horizontal-large-gallery.jpg\\\" data-src-large=\\\"//cdn.cnn.com/cnnnext/dam/assets/120322120628-france-shooting-assult-ends-march-22-horizontal-large-gallery.jpg\\\" data-src-full16x9=\\\"//cdn.cnn.com/cnnnext/dam/assets/120322120628-france-shooting-assult-ends-march-22-horizontal-large-gallery.jpg\\\" data-src-mini1x1=\\\"//cdn.cnn.com/cnnnext/dam/assets/120322120628-france-shooting-assult-ends-march-22-topics.jpg\\\" data-eq-pts=\\\"mini: 0, xsmall: 221, small: 308, medium: 461, large: 781\\\" src=\\\"data:image/gif;base64,R0lGODlhEAAJAJEAAAAAAP///////wAAACH5BAEAAAIALAAAAAAQAAkAAAIKlI+py+0Po5yUFQA7\\\" data-cut-format=\\\"Horizontal Gallery\\\"><div class=\\\"img__preloader\\\"></div><noscript><img alt=\\\"Police and rescue members are pictured after the siege ends on Thursday. Police burst into the apartment of Mohammed Merah, prompting a shootout that ended with Merah, gun in hand, jumping out a window to his death, authorities said Thursday.\\\" class=\\\"media__image\\\" src=\\\"//cdn.cnn.com/cnnnext/dam/assets/120322120628-france-shooting-assult-ends-march-22-horizontal-large-gallery.jpg\\\"></noscript></div></div><div class=\\\"js-media__caption media__caption el__storyelement__title\\\"><div class=\\\"element-raw appearance-standard\\\"><span class=\\\"el__storyelement__header\\\"> Photos:</span> <span class=\\\"el__storyelement__gray\\\">Police siege in Toulouse</span></div></div><div class=\\\"media__caption el__gallery_image-title\\\"><span class=\\\"media__caption-head\\\">How Toulouse siege unfolded</span> \\u2013 <span class=\\\"el__storyelement__gray\\\">Police and rescue members are pictured after the siege ends on Thursday. Police burst into the apartment of Mohammed Merah, prompting a shootout that ended with Merah, gun in hand, jumping out a window to his death, authorities said Thursday.</span></div><div class=\\\"el__gallery-showhide js__gallery-showhide\\\"><div class=\\\"js-el__gallery-caption el__gallery-caption\\\">Hide Caption</div><div class=\\\"el__gallery-photocount\\\"> 2 of 20</div></div></div><div data-slidename=\\\"Police raid on Toulouse shooting suspect\\\" data-analytics=\\\"_body_image\\\"><div class=\\\"el__resize\\\"><div class=\\\"el__position media js-gallery-aspect-ratio-wrapper\\\"><img class=\\\"media__image media__image--responsive media__image--cut-format\\\" alt=\\\"Two police officers were injured in the raid, Interior Minister Claude Gueant said. Merah had said he wanted to &amp;quot;die with weapons in his hands.\\\" data-src-mini=\\\"//cdn.cnn.com/cnnnext/dam/assets/120322120939-france-shooting-assult-march-22-horizontal-large-gallery.jpg\\\" data-src-xsmall=\\\"//cdn.cnn.com/cnnnext/dam/assets/120322120939-france-shooting-assult-march-22-horizontal-large-gallery.jpg\\\" data-src-small=\\\"//cdn.cnn.com/cnnnext/dam/assets/120322120939-france-shooting-assult-march-22-horizontal-large-gallery.jpg\\\" data-src-medium=\\\"//cdn.cnn.com/cnnnext/dam/assets/120322120939-france-shooting-assult-march-22-horizontal-large-gallery.jpg\\\" data-src-large=\\\"//cdn.cnn.com/cnnnext/dam/assets/120322120939-france-shooting-assult-march-22-horizontal-large-gallery.jpg\\\" data-src-full16x9=\\\"//cdn.cnn.com/cnnnext/dam/assets/120322120939-france-shooting-assult-march-22-horizontal-large-gallery.jpg\\\" data-src-mini1x1=\\\"//cdn.cnn.com/cnnnext/dam/assets/120322120939-france-shooting-assult-march-22-topics.jpg\\\" data-eq-pts=\\\"mini: 0, xsmall: 221, small: 308, medium: 461, large: 781\\\" src=\\\"data:image/gif;base64,R0lGODlhEAAJAJEAAAAAAP///////wAAACH5BAEAAAIALAAAAAAQAAkAAAIKlI+py+0Po5yUFQA7\\\" data-cut-format=\\\"Horizontal Gallery\\\"><div class=\\\"img__preloader\\\"></div><noscript><img alt=\\\"Two police officers were injured in the raid, Interior Minister Claude Gueant said. Merah had said he wanted to &amp;quot;die with weapons in his hands.\\\" class=\\\"media__image\\\" src=\\\"//cdn.cnn.com/cnnnext/dam/assets/120322120939-france-shooting-assult-march-22-horizontal-large-gallery.jpg\\\"></noscript></div></div><div class=\\\"js-media__caption media__caption el__storyelement__title\\\"><div class=\\\"element-raw appearance-standard\\\"><span class=\\\"el__storyelement__header\\\"> Photos:</span> <span class=\\\"el__storyelement__gray\\\">Police siege in Toulouse</span></div></div><div class=\\\"media__caption el__gallery_image-title\\\"><span class=\\\"media__caption-head\\\">How Toulouse siege unfolded</span> \\u2013 <span class=\\\"el__storyelement__gray\\\">Two police officers were injured in the raid, Interior Minister Claude Gueant said. Merah had said he wanted to \\\"die with weapons in his hands.</span></div><div class=\\\"el__gallery-showhide js__gallery-showhide\\\"><div class=\\\"js-el__gallery-caption el__gallery-caption\\\">Hide Caption</div><div class=\\\"el__gallery-photocount\\\"> 3 of 20</div></div></div><div data-slidename=\\\"Police raid on Toulouse shooting suspect\\\" data-analytics=\\\"_body_image\\\"><div class=\\\"el__resize\\\"><div class=\\\"el__position media js-gallery-aspect-ratio-wrapper\\\"><img class=\\\"media__image media__image--responsive media__image--cut-format\\\" alt=\\\"Merah, 23, was wanted in the killings of three French paratroopers and of three students and a rabbi at a Jewish school in Toulouse, in a string of shootings that began on March 11.\\\" data-src-mini=\\\"//cdn.cnn.com/cnnnext/dam/assets/120322104342-police-thurs2-horizontal-large-gallery.jpg\\\" data-src-xsmall=\\\"//cdn.cnn.com/cnnnext/dam/assets/120322104342-police-thurs2-horizontal-large-gallery.jpg\\\" data-src-small=\\\"//cdn.cnn.com/cnnnext/dam/assets/120322104342-police-thurs2-horizontal-large-gallery.jpg\\\" data-src-medium=\\\"//cdn.cnn.com/cnnnext/dam/assets/120322104342-police-thurs2-horizontal-large-gallery.jpg\\\" data-src-large=\\\"//cdn.cnn.com/cnnnext/dam/assets/120322104342-police-thurs2-horizontal-large-gallery.jpg\\\" data-src-full16x9=\\\"//cdn.cnn.com/cnnnext/dam/assets/120322104342-police-thurs2-horizontal-large-gallery.jpg\\\" data-src-mini1x1=\\\"//cdn.cnn.com/cnnnext/dam/assets/120322104342-police-thurs2-topics.jpg\\\" data-eq-pts=\\\"mini: 0, xsmall: 221, small: 308, medium: 461, large: 781\\\" src=\\\"data:image/gif;base64,R0lGODlhEAAJAJEAAAAAAP///////wAAACH5BAEAAAIALAAAAAAQAAkAAAIKlI+py+0Po5yUFQA7\\\" data-cut-format=\\\"Horizontal Gallery\\\"><div class=\\\"img__preloader\\\"></div><noscript><img alt=\\\"Merah, 23, was wanted in the killings of three French paratroopers and of three students and a rabbi at a Jewish school in Toulouse, in a string of shootings that began on March 11.\\\" class=\\\"media__image\\\" src=\\\"//cdn.cnn.com/cnnnext/dam/assets/120322104342-police-thurs2-horizontal-large-gallery.jpg\\\"></noscript></div></div><div class=\\\"js-media__caption media__caption el__storyelement__title\\\"><div class=\\\"element-raw appearance-standard\\\"><span class=\\\"el__storyelement__header\\\"> Photos:</span> <span class=\\\"el__storyelement__gray\\\">Police siege in Toulouse</span></div></div><div class=\\\"media__caption el__gallery_image-title\\\"><span class=\\\"media__caption-head\\\">How Toulouse siege unfolded</span> \\u2013 <span class=\\\"el__storyelement__gray\\\">Merah, 23, was wanted in the killings of three French paratroopers and of three students and a rabbi at a Jewish school in Toulouse, in a string of shootings that began on March 11.</span></div><div class=\\\"el__gallery-showhide js__gallery-showhide\\\"><div class=\\\"js-el__gallery-caption el__gallery-caption\\\">Hide Caption</div><div class=\\\"el__gallery-photocount\\\"> 4 of 20</div></div></div><div data-slidename=\\\"Police raid on Toulouse shooting suspect\\\" data-analytics=\\\"_body_image\\\"><div class=\\\"el__resize\\\"><div class=\\\"el__position media js-gallery-aspect-ratio-wrapper\\\"><img class=\\\"media__image media__image--responsive media__image--cut-format\\\" alt=\\\"Merah had told French police that he had trained with al Qaeda in Pakistan&amp;#39;s Waziristan region, bordering Afghanistan, and that he had planned to attack more soldiers and police Wednesday.\\\" data-src-mini=\\\"//cdn.cnn.com/cnnnext/dam/assets/120322091812-toulouse-thursday-horizontal-large-gallery.jpg\\\" data-src-xsmall=\\\"//cdn.cnn.com/cnnnext/dam/assets/120322091812-toulouse-thursday-horizontal-large-gallery.jpg\\\" data-src-small=\\\"//cdn.cnn.com/cnnnext/dam/assets/120322091812-toulouse-thursday-horizontal-large-gallery.jpg\\\" data-src-medium=\\\"//cdn.cnn.com/cnnnext/dam/assets/120322091812-toulouse-thursday-horizontal-large-gallery.jpg\\\" data-src-large=\\\"//cdn.cnn.com/cnnnext/dam/assets/120322091812-toulouse-thursday-horizontal-large-gallery.jpg\\\" data-src-full16x9=\\\"//cdn.cnn.com/cnnnext/dam/assets/120322091812-toulouse-thursday-horizontal-large-gallery.jpg\\\" data-src-mini1x1=\\\"//cdn.cnn.com/cnnnext/dam/assets/120322091812-toulouse-thursday-topics.jpg\\\" data-eq-pts=\\\"mini: 0, xsmall: 221, small: 308, medium: 461, large: 781\\\" src=\\\"data:image/gif;base64,R0lGODlhEAAJAJEAAAAAAP///////wAAACH5BAEAAAIALAAAAAAQAAkAAAIKlI+py+0Po5yUFQA7\\\" data-cut-format=\\\"Horizontal Gallery\\\"><div class=\\\"img__preloader\\\"></div><noscript><img alt=\\\"Merah had told French police that he had trained with al Qaeda in Pakistan&amp;#39;s Waziristan region, bordering Afghanistan, and that he had planned to attack more soldiers and police Wednesday.\\\" class=\\\"media__image\\\" src=\\\"//cdn.cnn.com/cnnnext/dam/assets/120322091812-toulouse-thursday-horizontal-large-gallery.jpg\\\"></noscript></div></div><div class=\\\"js-media__caption media__caption el__storyelement__title\\\"><div class=\\\"element-raw appearance-standard\\\"><span class=\\\"el__storyelement__header\\\"> Photos:</span> <span class=\\\"el__storyelement__gray\\\">Police siege in Toulouse</span></div></div><div class=\\\"media__caption el__gallery_image-title\\\"><span class=\\\"media__caption-head\\\">How Toulouse siege unfolded</span> \\u2013 <span class=\\\"el__storyelement__gray\\\">Merah had told French police that he had trained with al Qaeda in Pakistan's Waziristan region, bordering Afghanistan, and that he had planned to attack more soldiers and police Wednesday.</span></div><div class=\\\"el__gallery-showhide js__gallery-showhide\\\"><div class=\\\"js-el__gallery-caption el__gallery-caption\\\">Hide Caption</div><div class=\\\"el__gallery-photocount\\\"> 5 of 20</div></div></div><div data-slidename=\\\"Police raid on Toulouse shooting suspect\\\" data-analytics=\\\"_body_image\\\"><div class=\\\"el__resize\\\"><div class=\\\"el__position media js-gallery-aspect-ratio-wrapper\\\"><img class=\\\"media__image media__image--responsive media__image--cut-format\\\" alt=\\\"Police fired stun grenades at the building every hour through the night Wednesday, but there was no response. French Interior Ministry spokesman Pierre-Henry Brandet told CNN the blasts were meant to pressure Merah back into talks with negotiators.\\\" data-src-mini=\\\"//cdn.cnn.com/cnnnext/dam/assets/120322062726-france-siege-horizontal-large-gallery.jpg\\\" data-src-xsmall=\\\"//cdn.cnn.com/cnnnext/dam/assets/120322062726-france-siege-horizontal-large-gallery.jpg\\\" data-src-small=\\\"//cdn.cnn.com/cnnnext/dam/assets/120322062726-france-siege-horizontal-large-gallery.jpg\\\" data-src-medium=\\\"//cdn.cnn.com/cnnnext/dam/assets/120322062726-france-siege-horizontal-large-gallery.jpg\\\" data-src-large=\\\"//cdn.cnn.com/cnnnext/dam/assets/120322062726-france-siege-horizontal-large-gallery.jpg\\\" data-src-full16x9=\\\"//cdn.cnn.com/cnnnext/dam/assets/120322062726-france-siege-horizontal-large-gallery.jpg\\\" data-src-mini1x1=\\\"//cdn.cnn.com/cnnnext/dam/assets/120322062726-france-siege-topics.jpg\\\" data-eq-pts=\\\"mini: 0, xsmall: 221, small: 308, medium: 461, large: 781\\\" src=\\\"data:image/gif;base64,R0lGODlhEAAJAJEAAAAAAP///////wAAACH5BAEAAAIALAAAAAAQAAkAAAIKlI+py+0Po5yUFQA7\\\" data-cut-format=\\\"Horizontal Gallery\\\"><div class=\\\"img__preloader\\\"></div><noscript><img alt=\\\"Police fired stun grenades at the building every hour through the night Wednesday, but there was no response. French Interior Ministry spokesman Pierre-Henry Brandet told CNN the blasts were meant to pressure Merah back into talks with negotiators.\\\" class=\\\"media__image\\\" src=\\\"//cdn.cnn.com/cnnnext/dam/assets/120322062726-france-siege-horizontal-large-gallery.jpg\\\"></noscript></div></div><div class=\\\"js-media__caption media__caption el__storyelement__title\\\"><div class=\\\"element-raw appearance-standard\\\"><span class=\\\"el__storyelement__header\\\"> Photos:</span> <span class=\\\"el__storyelement__gray\\\">Police siege in Toulouse</span></div></div><div class=\\\"media__caption el__gallery_image-title\\\"><span class=\\\"media__caption-head\\\">How Toulouse siege unfolded</span> \\u2013 <span class=\\\"el__storyelement__gray\\\">Police fired stun grenades at the building every hour through the night Wednesday, but there was no response. French Interior Ministry spokesman Pierre-Henry Brandet told CNN the blasts were meant to pressure Merah back into talks with negotiators.</span></div><div class=\\\"el__gallery-showhide js__gallery-showhide\\\"><div class=\\\"js-el__gallery-caption el__gallery-caption\\\">Hide Caption</div><div class=\\\"el__gallery-photocount\\\"> 6 of 20</div></div></div><div data-slidename=\\\"Police raid on Toulouse shooting suspect\\\" data-analytics=\\\"_body_image\\\"><div class=\\\"el__resize\\\"><div class=\\\"el__position media js-gallery-aspect-ratio-wrapper\\\"><img class=\\\"media__image media__image--responsive media__image--cut-format\\\" alt=\\\"Around 300 police officers surrounded the apartment in Toulouse on Wednesday March 21, during an operation to arrest Mohammed Merah. Authorities say he was a self-styled al Qaeda jihadist.\\\" data-src-mini=\\\"//cdn.cnn.com/cnnnext/dam/assets/120321101832-france-toulouse-siege-horizontal-large-gallery.jpg\\\" data-src-xsmall=\\\"//cdn.cnn.com/cnnnext/dam/assets/120321101832-france-toulouse-siege-horizontal-large-gallery.jpg\\\" data-src-small=\\\"//cdn.cnn.com/cnnnext/dam/assets/120321101832-france-toulouse-siege-horizontal-large-gallery.jpg\\\" data-src-medium=\\\"//cdn.cnn.com/cnnnext/dam/assets/120321101832-france-toulouse-siege-horizontal-large-gallery.jpg\\\" data-src-large=\\\"//cdn.cnn.com/cnnnext/dam/assets/120321101832-france-toulouse-siege-horizontal-large-gallery.jpg\\\" data-src-full16x9=\\\"//cdn.cnn.com/cnnnext/dam/assets/120321101832-france-toulouse-siege-horizontal-large-gallery.jpg\\\" data-src-mini1x1=\\\"//cdn.cnn.com/cnnnext/dam/assets/120321101832-france-toulouse-siege-topics.jpg\\\" data-eq-pts=\\\"mini: 0, xsmall: 221, small: 308, medium: 461, large: 781\\\" src=\\\"data:image/gif;base64,R0lGODlhEAAJAJEAAAAAAP///////wAAACH5BAEAAAIALAAAAAAQAAkAAAIKlI+py+0Po5yUFQA7\\\" data-cut-format=\\\"Horizontal Gallery\\\"><div class=\\\"img__preloader\\\"></div><noscript><img alt=\\\"Around 300 police officers surrounded the apartment in Toulouse on Wednesday March 21, during an operation to arrest Mohammed Merah. Authorities say he was a self-styled al Qaeda jihadist.\\\" class=\\\"media__image\\\" src=\\\"//cdn.cnn.com/cnnnext/dam/assets/120321101832-france-toulouse-siege-horizontal-large-gallery.jpg\\\"></noscript></div></div><div class=\\\"js-media__caption media__caption el__storyelement__title\\\"><div class=\\\"element-raw appearance-standard\\\"><span class=\\\"el__storyelement__header\\\"> Photos:</span> <span class=\\\"el__storyelement__gray\\\">Police siege in Toulouse</span></div></div><div class=\\\"media__caption el__gallery_image-title\\\"><span class=\\\"media__caption-head\\\">How Toulouse siege unfolded</span> \\u2013 <span class=\\\"el__storyelement__gray\\\">Around 300 police officers surrounded the apartment in Toulouse on Wednesday March 21, during an operation to arrest Mohammed Merah. Authorities say he was a self-styled al Qaeda jihadist.</span></div><div class=\\\"el__gallery-showhide js__gallery-showhide\\\"><div class=\\\"js-el__gallery-caption el__gallery-caption\\\">Hide Caption</div><div class=\\\"el__gallery-photocount\\\"> 7 of 20</div></div></div><div data-slidename=\\\"Police raid on Toulouse shooting suspect\\\" data-analytics=\\\"_body_image\\\"><div class=\\\"el__resize\\\"><div class=\\\"el__position media js-gallery-aspect-ratio-wrapper\\\"><img class=\\\"media__image media__image--responsive media__image--cut-format\\\" alt=\\\"Local residents are evacuated from the area as police surround the suspect&amp;#39;s property on Wednesday. It is believed Mohammed Merah had been under surveillance by French intelligence for years.\\\" data-src-mini=\\\"//cdn.cnn.com/cnnnext/dam/assets/120321120845-france-shooting-residents-evacuated-horizontal-large-gallery.jpg\\\" data-src-xsmall=\\\"//cdn.cnn.com/cnnnext/dam/assets/120321120845-france-shooting-residents-evacuated-horizontal-large-gallery.jpg\\\" data-src-small=\\\"//cdn.cnn.com/cnnnext/dam/assets/120321120845-france-shooting-residents-evacuated-horizontal-large-gallery.jpg\\\" data-src-medium=\\\"//cdn.cnn.com/cnnnext/dam/assets/120321120845-france-shooting-residents-evacuated-horizontal-large-gallery.jpg\\\" data-src-large=\\\"//cdn.cnn.com/cnnnext/dam/assets/120321120845-france-shooting-residents-evacuated-horizontal-large-gallery.jpg\\\" data-src-full16x9=\\\"//cdn.cnn.com/cnnnext/dam/assets/120321120845-france-shooting-residents-evacuated-horizontal-large-gallery.jpg\\\" data-src-mini1x1=\\\"//cdn.cnn.com/cnnnext/dam/assets/120321120845-france-shooting-residents-evacuated-topics.jpg\\\" data-eq-pts=\\\"mini: 0, xsmall: 221, small: 308, medium: 461, large: 781\\\" src=\\\"data:image/gif;base64,R0lGODlhEAAJAJEAAAAAAP///////wAAACH5BAEAAAIALAAAAAAQAAkAAAIKlI+py+0Po5yUFQA7\\\" data-cut-format=\\\"Horizontal Gallery\\\"><div class=\\\"img__preloader\\\"></div><noscript><img alt=\\\"Local residents are evacuated from the area as police surround the suspect&amp;#39;s property on Wednesday. It is believed Mohammed Merah had been under surveillance by French intelligence for years.\\\" class=\\\"media__image\\\" src=\\\"//cdn.cnn.com/cnnnext/dam/assets/120321120845-france-shooting-residents-evacuated-horizontal-large-gallery.jpg\\\"></noscript></div></div><div class=\\\"js-media__caption media__caption el__storyelement__title\\\"><div class=\\\"element-raw appearance-standard\\\"><span class=\\\"el__storyelement__header\\\"> Photos:</span> <span class=\\\"el__storyelement__gray\\\">Police siege in Toulouse</span></div></div><div class=\\\"media__caption el__gallery_image-title\\\"><span class=\\\"media__caption-head\\\">How Toulouse siege unfolded</span> \\u2013 <span class=\\\"el__storyelement__gray\\\">Local residents are evacuated from the area as police surround the suspect's property on Wednesday. It is believed Mohammed Merah had been under surveillance by French intelligence for years.</span></div><div class=\\\"el__gallery-showhide js__gallery-showhide\\\"><div class=\\\"js-el__gallery-caption el__gallery-caption\\\">Hide Caption</div><div class=\\\"el__gallery-photocount\\\"> 8 of 20</div></div></div><div data-slidename=\\\"Police raid on Toulouse shooting suspect\\\" data-analytics=\\\"_body_image\\\"><div class=\\\"el__resize\\\"><div class=\\\"el__position media js-gallery-aspect-ratio-wrapper\\\"><img class=\\\"media__image media__image--responsive media__image--cut-format\\\" alt=\\\"French President Nicolas Sarkozy on Wednesday tells representatives of French Jewish and Muslim communities: &amp;quot;We must be united. We must give in neither to discrimination nor revenge.&amp;quot;\\\" data-src-mini=\\\"//cdn.cnn.com/cnnnext/dam/assets/120321120204-france-shooting-sarkozy-speech-21-march-horizontal-large-gallery.jpg\\\" data-src-xsmall=\\\"//cdn.cnn.com/cnnnext/dam/assets/120321120204-france-shooting-sarkozy-speech-21-march-horizontal-large-gallery.jpg\\\" data-src-small=\\\"//cdn.cnn.com/cnnnext/dam/assets/120321120204-france-shooting-sarkozy-speech-21-march-horizontal-large-gallery.jpg\\\" data-src-medium=\\\"//cdn.cnn.com/cnnnext/dam/assets/120321120204-france-shooting-sarkozy-speech-21-march-horizontal-large-gallery.jpg\\\" data-src-large=\\\"//cdn.cnn.com/cnnnext/dam/assets/120321120204-france-shooting-sarkozy-speech-21-march-horizontal-large-gallery.jpg\\\" data-src-full16x9=\\\"//cdn.cnn.com/cnnnext/dam/assets/120321120204-france-shooting-sarkozy-speech-21-march-horizontal-large-gallery.jpg\\\" data-src-mini1x1=\\\"//cdn.cnn.com/cnnnext/dam/assets/120321120204-france-shooting-sarkozy-speech-21-march-topics.jpg\\\" data-eq-pts=\\\"mini: 0, xsmall: 221, small: 308, medium: 461, large: 781\\\" src=\\\"data:image/gif;base64,R0lGODlhEAAJAJEAAAAAAP///////wAAACH5BAEAAAIALAAAAAAQAAkAAAIKlI+py+0Po5yUFQA7\\\" data-cut-format=\\\"Horizontal Gallery\\\"><div class=\\\"img__preloader\\\"></div><noscript><img alt=\\\"French President Nicolas Sarkozy on Wednesday tells representatives of French Jewish and Muslim communities: &amp;quot;We must be united. We must give in neither to discrimination nor revenge.&amp;quot;\\\" class=\\\"media__image\\\" src=\\\"//cdn.cnn.com/cnnnext/dam/assets/120321120204-france-shooting-sarkozy-speech-21-march-horizontal-large-gallery.jpg\\\"></noscript></div></div><div class=\\\"js-media__caption media__caption el__storyelement__title\\\"><div class=\\\"element-raw appearance-standard\\\"><span class=\\\"el__storyelement__header\\\"> Photos:</span> <span class=\\\"el__storyelement__gray\\\">Police siege in Toulouse</span></div></div><div class=\\\"media__caption el__gallery_image-title\\\"><span class=\\\"media__caption-head\\\">How Toulouse siege unfolded</span> \\u2013 <span class=\\\"el__storyelement__gray\\\">French President Nicolas Sarkozy on Wednesday tells representatives of French Jewish and Muslim communities: \\\"We must be united. We must give in neither to discrimination nor revenge.\\\"</span></div><div class=\\\"el__gallery-showhide js__gallery-showhide\\\"><div class=\\\"js-el__gallery-caption el__gallery-caption\\\">Hide Caption</div><div class=\\\"el__gallery-photocount\\\"> 9 of 20</div></div></div><div data-slidename=\\\"Police raid on Toulouse shooting suspect\\\" data-analytics=\\\"_body_image\\\"><div class=\\\"el__resize\\\"><div class=\\\"el__position media js-gallery-aspect-ratio-wrapper\\\"><img class=\\\"media__image media__image--responsive media__image--cut-format\\\" alt=\\\"French 17th Parachute Engineer Regiment paratroopers carry the coffin of Abel Chennouf during his funeral at the Montauban cathedral on Wednesday. He was killed in the second attack in Montauban on March 15.\\\" data-src-mini=\\\"//cdn.cnn.com/cnnnext/dam/assets/120321115927-france-shooting-paratrooper-coffin-horizontal-large-gallery.jpg\\\" data-src-xsmall=\\\"//cdn.cnn.com/cnnnext/dam/assets/120321115927-france-shooting-paratrooper-coffin-horizontal-large-gallery.jpg\\\" data-src-small=\\\"//cdn.cnn.com/cnnnext/dam/assets/120321115927-france-shooting-paratrooper-coffin-horizontal-large-gallery.jpg\\\" data-src-medium=\\\"//cdn.cnn.com/cnnnext/dam/assets/120321115927-france-shooting-paratrooper-coffin-horizontal-large-gallery.jpg\\\" data-src-large=\\\"//cdn.cnn.com/cnnnext/dam/assets/120321115927-france-shooting-paratrooper-coffin-horizontal-large-gallery.jpg\\\" data-src-full16x9=\\\"//cdn.cnn.com/cnnnext/dam/assets/120321115927-france-shooting-paratrooper-coffin-horizontal-large-gallery.jpg\\\" data-src-mini1x1=\\\"//cdn.cnn.com/cnnnext/dam/assets/120321115927-france-shooting-paratrooper-coffin-topics.jpg\\\" data-eq-pts=\\\"mini: 0, xsmall: 221, small: 308, medium: 461, large: 781\\\" src=\\\"data:image/gif;base64,R0lGODlhEAAJAJEAAAAAAP///////wAAACH5BAEAAAIALAAAAAAQAAkAAAIKlI+py+0Po5yUFQA7\\\" data-cut-format=\\\"Horizontal Gallery\\\"><div class=\\\"img__preloader\\\"></div><noscript><img alt=\\\"French 17th Parachute Engineer Regiment paratroopers carry the coffin of Abel Chennouf during his funeral at the Montauban cathedral on Wednesday. He was killed in the second attack in Montauban on March 15.\\\" class=\\\"media__image\\\" src=\\\"//cdn.cnn.com/cnnnext/dam/assets/120321115927-france-shooting-paratrooper-coffin-horizontal-large-gallery.jpg\\\"></noscript></div></div><div class=\\\"js-media__caption media__caption el__storyelement__title\\\"><div class=\\\"element-raw appearance-standard\\\"><span class=\\\"el__storyelement__header\\\"> Photos:</span> <span class=\\\"el__storyelement__gray\\\">Police siege in Toulouse</span></div></div><div class=\\\"media__caption el__gallery_image-title\\\"><span class=\\\"media__caption-head\\\">How Toulouse siege unfolded</span> \\u2013 <span class=\\\"el__storyelement__gray\\\">French 17th Parachute Engineer Regiment paratroopers carry the coffin of Abel Chennouf during his funeral at the Montauban cathedral on Wednesday. He was killed in the second attack in Montauban on March 15.</span></div><div class=\\\"el__gallery-showhide js__gallery-showhide\\\"><div class=\\\"js-el__gallery-caption el__gallery-caption\\\">Hide Caption</div><div class=\\\"el__gallery-photocount\\\"> 10 of 20</div></div></div><div data-slidename=\\\"Police raid on Toulouse shooting suspect\\\" data-analytics=\\\"_body_image\\\"><div class=\\\"el__resize\\\"><div class=\\\"el__position media js-gallery-aspect-ratio-wrapper\\\"><img class=\\\"media__image media__image--responsive media__image--cut-format\\\" alt=\\\"French policemen stand near the apartment of Mohammed Merah on Wednesday. Interior Minister Gueant said the suspect was a French national of Algerian origin.\\\" data-src-mini=\\\"//cdn.cnn.com/cnnnext/dam/assets/120321103931-france-stad-off-02-horizontal-large-gallery.jpg\\\" data-src-xsmall=\\\"//cdn.cnn.com/cnnnext/dam/assets/120321103931-france-stad-off-02-horizontal-large-gallery.jpg\\\" data-src-small=\\\"//cdn.cnn.com/cnnnext/dam/assets/120321103931-france-stad-off-02-horizontal-large-gallery.jpg\\\" data-src-medium=\\\"//cdn.cnn.com/cnnnext/dam/assets/120321103931-france-stad-off-02-horizontal-large-gallery.jpg\\\" data-src-large=\\\"//cdn.cnn.com/cnnnext/dam/assets/120321103931-france-stad-off-02-horizontal-large-gallery.jpg\\\" data-src-full16x9=\\\"//cdn.cnn.com/cnnnext/dam/assets/120321103931-france-stad-off-02-horizontal-large-gallery.jpg\\\" data-src-mini1x1=\\\"//cdn.cnn.com/cnnnext/dam/assets/120321103931-france-stad-off-02-topics.jpg\\\" data-eq-pts=\\\"mini: 0, xsmall: 221, small: 308, medium: 461, large: 781\\\" src=\\\"data:image/gif;base64,R0lGODlhEAAJAJEAAAAAAP///////wAAACH5BAEAAAIALAAAAAAQAAkAAAIKlI+py+0Po5yUFQA7\\\" data-cut-format=\\\"Horizontal Gallery\\\"><div class=\\\"img__preloader\\\"></div><noscript><img alt=\\\"French policemen stand near the apartment of Mohammed Merah on Wednesday. Interior Minister Gueant said the suspect was a French national of Algerian origin.\\\" class=\\\"media__image\\\" src=\\\"//cdn.cnn.com/cnnnext/dam/assets/120321103931-france-stad-off-02-horizontal-large-gallery.jpg\\\"></noscript></div></div><div class=\\\"js-media__caption media__caption el__storyelement__title\\\"><div class=\\\"element-raw appearance-standard\\\"><span class=\\\"el__storyelement__header\\\"> Photos:</span> <span class=\\\"el__storyelement__gray\\\">Police siege in Toulouse</span></div></div><div class=\\\"media__caption el__gallery_image-title\\\"><span class=\\\"media__caption-head\\\">How Toulouse siege unfolded</span> \\u2013 <span class=\\\"el__storyelement__gray\\\">French policemen stand near the apartment of Mohammed Merah on Wednesday. Interior Minister Gueant said the suspect was a French national of Algerian origin.</span></div><div class=\\\"el__gallery-showhide js__gallery-showhide\\\"><div class=\\\"js-el__gallery-caption el__gallery-caption\\\">Hide Caption</div><div class=\\\"el__gallery-photocount\\\"> 11 of 20</div></div></div><div data-slidename=\\\"Police raid on Toulouse shooting suspect\\\" data-analytics=\\\"_body_image\\\"><div class=\\\"el__resize\\\"><div class=\\\"el__position media js-gallery-aspect-ratio-wrapper\\\"><img class=\\\"media__image media__image--responsive media__image--cut-format\\\" alt=\\\"The raid on Mohammed Merah&amp;#39;s apartment began at 3:30am local time on Wednesday. Shots rang out from inside the building, wounding two officers, police said.\\\" data-src-mini=\\\"//cdn.cnn.com/cnnnext/dam/assets/120321120429-france-shooting-police-seige-horizontal-large-gallery.jpg\\\" data-src-xsmall=\\\"//cdn.cnn.com/cnnnext/dam/assets/120321120429-france-shooting-police-seige-horizontal-large-gallery.jpg\\\" data-src-small=\\\"//cdn.cnn.com/cnnnext/dam/assets/120321120429-france-shooting-police-seige-horizontal-large-gallery.jpg\\\" data-src-medium=\\\"//cdn.cnn.com/cnnnext/dam/assets/120321120429-france-shooting-police-seige-horizontal-large-gallery.jpg\\\" data-src-large=\\\"//cdn.cnn.com/cnnnext/dam/assets/120321120429-france-shooting-police-seige-horizontal-large-gallery.jpg\\\" data-src-full16x9=\\\"//cdn.cnn.com/cnnnext/dam/assets/120321120429-france-shooting-police-seige-horizontal-large-gallery.jpg\\\" data-src-mini1x1=\\\"//cdn.cnn.com/cnnnext/dam/assets/120321120429-france-shooting-police-seige-topics.jpg\\\" data-eq-pts=\\\"mini: 0, xsmall: 221, small: 308, medium: 461, large: 781\\\" src=\\\"data:image/gif;base64,R0lGODlhEAAJAJEAAAAAAP///////wAAACH5BAEAAAIALAAAAAAQAAkAAAIKlI+py+0Po5yUFQA7\\\" data-cut-format=\\\"Horizontal Gallery\\\"><div class=\\\"img__preloader\\\"></div><noscript><img alt=\\\"The raid on Mohammed Merah&amp;#39;s apartment began at 3:30am local time on Wednesday. Shots rang out from inside the building, wounding two officers, police said.\\\" class=\\\"media__image\\\" src=\\\"//cdn.cnn.com/cnnnext/dam/assets/120321120429-france-shooting-police-seige-horizontal-large-gallery.jpg\\\"></noscript></div></div><div class=\\\"js-media__caption media__caption el__storyelement__title\\\"><div class=\\\"element-raw appearance-standard\\\"><span class=\\\"el__storyelement__header\\\"> Photos:</span> <span class=\\\"el__storyelement__gray\\\">Police siege in Toulouse</span></div></div><div class=\\\"media__caption el__gallery_image-title\\\"><span class=\\\"media__caption-head\\\">How Toulouse siege unfolded</span> \\u2013 <span class=\\\"el__storyelement__gray\\\">The raid on Mohammed Merah's apartment began at 3:30am local time on Wednesday. Shots rang out from inside the building, wounding two officers, police said.</span></div><div class=\\\"el__gallery-showhide js__gallery-showhide\\\"><div class=\\\"js-el__gallery-caption el__gallery-caption\\\">Hide Caption</div><div class=\\\"el__gallery-photocount\\\"> 12 of 20</div></div></div><div data-slidename=\\\"Police raid on Toulouse shooting suspect\\\" data-analytics=\\\"_body_image\\\"><div class=\\\"el__resize\\\"><div class=\\\"el__position media js-gallery-aspect-ratio-wrapper\\\"><img class=\\\"media__image media__image--responsive media__image--cut-format\\\" alt=\\\"The coffins containing the bodies of the victims of the shooting at the Ozar Hatorah Jewish school arrive at Ben Gurion Airport, Israel from France on March 20. They were buried in Jerusalem on Wednesday. \\\" data-src-mini=\\\"//cdn.cnn.com/cnnnext/dam/assets/120321121125-france-shooting-irael-coffin-horizontal-large-gallery.jpg\\\" data-src-xsmall=\\\"//cdn.cnn.com/cnnnext/dam/assets/120321121125-france-shooting-irael-coffin-horizontal-large-gallery.jpg\\\" data-src-small=\\\"//cdn.cnn.com/cnnnext/dam/assets/120321121125-france-shooting-irael-coffin-horizontal-large-gallery.jpg\\\" data-src-medium=\\\"//cdn.cnn.com/cnnnext/dam/assets/120321121125-france-shooting-irael-coffin-horizontal-large-gallery.jpg\\\" data-src-large=\\\"//cdn.cnn.com/cnnnext/dam/assets/120321121125-france-shooting-irael-coffin-horizontal-large-gallery.jpg\\\" data-src-full16x9=\\\"//cdn.cnn.com/cnnnext/dam/assets/120321121125-france-shooting-irael-coffin-horizontal-large-gallery.jpg\\\" data-src-mini1x1=\\\"//cdn.cnn.com/cnnnext/dam/assets/120321121125-france-shooting-irael-coffin-topics.jpg\\\" data-eq-pts=\\\"mini: 0, xsmall: 221, small: 308, medium: 461, large: 781\\\" src=\\\"data:image/gif;base64,R0lGODlhEAAJAJEAAAAAAP///////wAAACH5BAEAAAIALAAAAAAQAAkAAAIKlI+py+0Po5yUFQA7\\\" data-cut-format=\\\"Horizontal Gallery\\\"><div class=\\\"img__preloader\\\"></div><noscript><img alt=\\\"The coffins containing the bodies of the victims of the shooting at the Ozar Hatorah Jewish school arrive at Ben Gurion Airport, Israel from France on March 20. They were buried in Jerusalem on Wednesday. \\\" class=\\\"media__image\\\" src=\\\"//cdn.cnn.com/cnnnext/dam/assets/120321121125-france-shooting-irael-coffin-horizontal-large-gallery.jpg\\\"></noscript></div></div><div class=\\\"js-media__caption media__caption el__storyelement__title\\\"><div class=\\\"element-raw appearance-standard\\\"><span class=\\\"el__storyelement__header\\\"> Photos:</span> <span class=\\\"el__storyelement__gray\\\">Police siege in Toulouse</span></div></div><div class=\\\"media__caption el__gallery_image-title\\\"><span class=\\\"media__caption-head\\\">How Toulouse siege unfolded</span> \\u2013 <span class=\\\"el__storyelement__gray\\\">The coffins containing the bodies of the victims of the shooting at the Ozar Hatorah Jewish school arrive at Ben Gurion Airport, Israel from France on March 20. They were buried in Jerusalem on Wednesday. </span></div><div class=\\\"el__gallery-showhide js__gallery-showhide\\\"><div class=\\\"js-el__gallery-caption el__gallery-caption\\\">Hide Caption</div><div class=\\\"el__gallery-photocount\\\"> 13 of 20</div></div></div><div data-slidename=\\\"Police raid on Toulouse shooting suspect\\\" data-analytics=\\\"_body_image\\\"><div class=\\\"el__resize\\\"><div class=\\\"el__position media js-gallery-aspect-ratio-wrapper\\\"><img class=\\\"media__image media__image--responsive media__image--cut-format\\\" alt=\\\"A policeman stands guard on Tuesday in front of the Jewish school where four people were killed the day before in Toulouse.\\\" data-src-mini=\\\"//cdn.cnn.com/cnnnext/dam/assets/120320092712-france-guard-horizontal-large-gallery.jpg\\\" data-src-xsmall=\\\"//cdn.cnn.com/cnnnext/dam/assets/120320092712-france-guard-horizontal-large-gallery.jpg\\\" data-src-small=\\\"//cdn.cnn.com/cnnnext/dam/assets/120320092712-france-guard-horizontal-large-gallery.jpg\\\" data-src-medium=\\\"//cdn.cnn.com/cnnnext/dam/assets/120320092712-france-guard-horizontal-large-gallery.jpg\\\" data-src-large=\\\"//cdn.cnn.com/cnnnext/dam/assets/120320092712-france-guard-horizontal-large-gallery.jpg\\\" data-src-full16x9=\\\"//cdn.cnn.com/cnnnext/dam/assets/120320092712-france-guard-horizontal-large-gallery.jpg\\\" data-src-mini1x1=\\\"//cdn.cnn.com/cnnnext/dam/assets/120320092712-france-guard-topics.jpg\\\" data-eq-pts=\\\"mini: 0, xsmall: 221, small: 308, medium: 461, large: 781\\\" src=\\\"data:image/gif;base64,R0lGODlhEAAJAJEAAAAAAP///////wAAACH5BAEAAAIALAAAAAAQAAkAAAIKlI+py+0Po5yUFQA7\\\" data-cut-format=\\\"Horizontal Gallery\\\"><div class=\\\"img__preloader\\\"></div><noscript><img alt=\\\"A policeman stands guard on Tuesday in front of the Jewish school where four people were killed the day before in Toulouse.\\\" class=\\\"media__image\\\" src=\\\"//cdn.cnn.com/cnnnext/dam/assets/120320092712-france-guard-horizontal-large-gallery.jpg\\\"></noscript></div></div><div class=\\\"js-media__caption media__caption el__storyelement__title\\\"><div class=\\\"element-raw appearance-standard\\\"><span class=\\\"el__storyelement__header\\\"> Photos:</span> <span class=\\\"el__storyelement__gray\\\">Police siege in Toulouse</span></div></div><div class=\\\"media__caption el__gallery_image-title\\\"><span class=\\\"media__caption-head\\\">How Toulouse siege unfolded</span> \\u2013 <span class=\\\"el__storyelement__gray\\\">A policeman stands guard on Tuesday in front of the Jewish school where four people were killed the day before in Toulouse.</span></div><div class=\\\"el__gallery-showhide js__gallery-showhide\\\"><div class=\\\"js-el__gallery-caption el__gallery-caption\\\">Hide Caption</div><div class=\\\"el__gallery-photocount\\\"> 14 of 20</div></div></div><div data-slidename=\\\"Police raid on Toulouse shooting suspect\\\" data-analytics=\\\"_body_image\\\"><div class=\\\"el__resize\\\"><div class=\\\"el__position media js-gallery-aspect-ratio-wrapper\\\"><img class=\\\"media__image media__image--responsive media__image--cut-format\\\" alt=\\\"School children are comforted at the scene of the fatal shooting in Toulouse, France on Monday, March 19.\\\" data-src-mini=\\\"//cdn.cnn.com/cnnnext/dam/assets/120319115802-france-shooting-horizontal-large-gallery.jpg\\\" data-src-xsmall=\\\"//cdn.cnn.com/cnnnext/dam/assets/120319115802-france-shooting-horizontal-large-gallery.jpg\\\" data-src-small=\\\"//cdn.cnn.com/cnnnext/dam/assets/120319115802-france-shooting-horizontal-large-gallery.jpg\\\" data-src-medium=\\\"//cdn.cnn.com/cnnnext/dam/assets/120319115802-france-shooting-horizontal-large-gallery.jpg\\\" data-src-large=\\\"//cdn.cnn.com/cnnnext/dam/assets/120319115802-france-shooting-horizontal-large-gallery.jpg\\\" data-src-full16x9=\\\"//cdn.cnn.com/cnnnext/dam/assets/120319115802-france-shooting-horizontal-large-gallery.jpg\\\" data-src-mini1x1=\\\"//cdn.cnn.com/cnnnext/dam/assets/120319115802-france-shooting-topics.jpg\\\" data-eq-pts=\\\"mini: 0, xsmall: 221, small: 308, medium: 461, large: 781\\\" src=\\\"data:image/gif;base64,R0lGODlhEAAJAJEAAAAAAP///////wAAACH5BAEAAAIALAAAAAAQAAkAAAIKlI+py+0Po5yUFQA7\\\" data-cut-format=\\\"Horizontal Gallery\\\"><div class=\\\"img__preloader\\\"></div><noscript><img alt=\\\"School children are comforted at the scene of the fatal shooting in Toulouse, France on Monday, March 19.\\\" class=\\\"media__image\\\" src=\\\"//cdn.cnn.com/cnnnext/dam/assets/120319115802-france-shooting-horizontal-large-gallery.jpg\\\"></noscript></div></div><div class=\\\"js-media__caption media__caption el__storyelement__title\\\"><div class=\\\"element-raw appearance-standard\\\"><span class=\\\"el__storyelement__header\\\"> Photos:</span> <span class=\\\"el__storyelement__gray\\\">Police siege in Toulouse</span></div></div><div class=\\\"media__caption el__gallery_image-title\\\"><span class=\\\"media__caption-head\\\">How Toulouse siege unfolded</span> \\u2013 <span class=\\\"el__storyelement__gray\\\">School children are comforted at the scene of the fatal shooting in Toulouse, France on Monday, March 19.</span></div><div class=\\\"el__gallery-showhide js__gallery-showhide\\\"><div class=\\\"js-el__gallery-caption el__gallery-caption\\\">Hide Caption</div><div class=\\\"el__gallery-photocount\\\"> 15 of 20</div></div></div><div data-slidename=\\\"Police raid on Toulouse shooting suspect\\\" data-analytics=\\\"_body_image\\\"><div class=\\\"el__resize\\\"><div class=\\\"el__position media js-gallery-aspect-ratio-wrapper\\\"><img class=\\\"media__image media__image--responsive media__image--cut-format\\\" alt=\\\"French President Nicolas Sarkozy shakes hands with the mayor of Toulouse at the Ozar Hatorah school. Sarkozy flew to Toulouse on Monday, after the school shooting took place. He declared &amp;quot;everything must be done so the killer is arrested.&amp;quot;\\\" data-src-mini=\\\"//cdn.cnn.com/cnnnext/dam/assets/120319122103-france-shooting-sarkozy-horizontal-large-gallery.jpg\\\" data-src-xsmall=\\\"//cdn.cnn.com/cnnnext/dam/assets/120319122103-france-shooting-sarkozy-horizontal-large-gallery.jpg\\\" data-src-small=\\\"//cdn.cnn.com/cnnnext/dam/assets/120319122103-france-shooting-sarkozy-horizontal-large-gallery.jpg\\\" data-src-medium=\\\"//cdn.cnn.com/cnnnext/dam/assets/120319122103-france-shooting-sarkozy-horizontal-large-gallery.jpg\\\" data-src-large=\\\"//cdn.cnn.com/cnnnext/dam/assets/120319122103-france-shooting-sarkozy-horizontal-large-gallery.jpg\\\" data-src-full16x9=\\\"//cdn.cnn.com/cnnnext/dam/assets/120319122103-france-shooting-sarkozy-horizontal-large-gallery.jpg\\\" data-src-mini1x1=\\\"//cdn.cnn.com/cnnnext/dam/assets/120319122103-france-shooting-sarkozy-topics.jpg\\\" data-eq-pts=\\\"mini: 0, xsmall: 221, small: 308, medium: 461, large: 781\\\" src=\\\"data:image/gif;base64,R0lGODlhEAAJAJEAAAAAAP///////wAAACH5BAEAAAIALAAAAAAQAAkAAAIKlI+py+0Po5yUFQA7\\\" data-cut-format=\\\"Horizontal Gallery\\\"><div class=\\\"img__preloader\\\"></div><noscript><img alt=\\\"French President Nicolas Sarkozy shakes hands with the mayor of Toulouse at the Ozar Hatorah school. Sarkozy flew to Toulouse on Monday, after the school shooting took place. He declared &amp;quot;everything must be done so the killer is arrested.&amp;quot;\\\" class=\\\"media__image\\\" src=\\\"//cdn.cnn.com/cnnnext/dam/assets/120319122103-france-shooting-sarkozy-horizontal-large-gallery.jpg\\\"></noscript></div></div><div class=\\\"js-media__caption media__caption el__storyelement__title\\\"><div class=\\\"element-raw appearance-standard\\\"><span class=\\\"el__storyelement__header\\\"> Photos:</span> <span class=\\\"el__storyelement__gray\\\">Police siege in Toulouse</span></div></div><div class=\\\"media__caption el__gallery_image-title\\\"><span class=\\\"media__caption-head\\\">How Toulouse siege unfolded</span> \\u2013 <span class=\\\"el__storyelement__gray\\\">French President Nicolas Sarkozy shakes hands with the mayor of Toulouse at the Ozar Hatorah school. Sarkozy flew to Toulouse on Monday, after the school shooting took place. He declared \\\"everything must be done so the killer is arrested.\\\"</span></div><div class=\\\"el__gallery-showhide js__gallery-showhide\\\"><div class=\\\"js-el__gallery-caption el__gallery-caption\\\">Hide Caption</div><div class=\\\"el__gallery-photocount\\\"> 16 of 20</div></div></div><div data-slidename=\\\"Police raid on Toulouse shooting suspect\\\" data-analytics=\\\"_body_image\\\"><div class=\\\"el__resize\\\"><div class=\\\"el__position media js-gallery-aspect-ratio-wrapper\\\"><img class=\\\"media__image media__image--responsive media__image--cut-format\\\" alt=\\\"Rabbi Rav Gabriel directs families to the scene of the fatal shooting on Monday. France, which has one of the largest Jewish populations in Europe, had 389 reported acts of anti-Semitism in 2011, according to Representative Council of Jewish Institutions in France.\\\" data-src-mini=\\\"//cdn.cnn.com/cnnnext/dam/assets/120319011801-france-shooting-gallery-3-horizontal-large-gallery.jpg\\\" data-src-xsmall=\\\"//cdn.cnn.com/cnnnext/dam/assets/120319011801-france-shooting-gallery-3-horizontal-large-gallery.jpg\\\" data-src-small=\\\"//cdn.cnn.com/cnnnext/dam/assets/120319011801-france-shooting-gallery-3-horizontal-large-gallery.jpg\\\" data-src-medium=\\\"//cdn.cnn.com/cnnnext/dam/assets/120319011801-france-shooting-gallery-3-horizontal-large-gallery.jpg\\\" data-src-large=\\\"//cdn.cnn.com/cnnnext/dam/assets/120319011801-france-shooting-gallery-3-horizontal-large-gallery.jpg\\\" data-src-full16x9=\\\"//cdn.cnn.com/cnnnext/dam/assets/120319011801-france-shooting-gallery-3-horizontal-large-gallery.jpg\\\" data-src-mini1x1=\\\"//cdn.cnn.com/cnnnext/dam/assets/120319011801-france-shooting-gallery-3-topics.jpg\\\" data-eq-pts=\\\"mini: 0, xsmall: 221, small: 308, medium: 461, large: 781\\\" src=\\\"data:image/gif;base64,R0lGODlhEAAJAJEAAAAAAP///////wAAACH5BAEAAAIALAAAAAAQAAkAAAIKlI+py+0Po5yUFQA7\\\" data-cut-format=\\\"Horizontal Gallery\\\"><div class=\\\"img__preloader\\\"></div><noscript><img alt=\\\"Rabbi Rav Gabriel directs families to the scene of the fatal shooting on Monday. France, which has one of the largest Jewish populations in Europe, had 389 reported acts of anti-Semitism in 2011, according to Representative Council of Jewish Institutions in France.\\\" class=\\\"media__image\\\" src=\\\"//cdn.cnn.com/cnnnext/dam/assets/120319011801-france-shooting-gallery-3-horizontal-large-gallery.jpg\\\"></noscript></div></div><div class=\\\"js-media__caption media__caption el__storyelement__title\\\"><div class=\\\"element-raw appearance-standard\\\"><span class=\\\"el__storyelement__header\\\"> Photos:</span> <span class=\\\"el__storyelement__gray\\\">Police siege in Toulouse</span></div></div><div class=\\\"media__caption el__gallery_image-title\\\"><span class=\\\"media__caption-head\\\">How Toulouse siege unfolded</span> \\u2013 <span class=\\\"el__storyelement__gray\\\">Rabbi Rav Gabriel directs families to the scene of the fatal shooting on Monday. France, which has one of the largest Jewish populations in Europe, had 389 reported acts of anti-Semitism in 2011, according to Representative Council of Jewish Institutions in France.</span></div><div class=\\\"el__gallery-showhide js__gallery-showhide\\\"><div class=\\\"js-el__gallery-caption el__gallery-caption\\\">Hide Caption</div><div class=\\\"el__gallery-photocount\\\"> 17 of 20</div></div></div><div data-slidename=\\\"Police raid on Toulouse shooting suspect\\\" data-analytics=\\\"_body_image\\\"><div class=\\\"el__resize\\\"><div class=\\\"el__position media js-gallery-aspect-ratio-wrapper\\\"><img class=\\\"media__image media__image--responsive media__image--cut-format\\\" alt=\\\"Police investigators work at the scene of the crime on Monday.  Merah was sentenced 15 times by a Toulouse juvenile court when he was a minor.\\\" data-src-mini=\\\"//cdn.cnn.com/cnnnext/dam/assets/120319012120-france-shooting-gallery-4-horizontal-large-gallery.jpg\\\" data-src-xsmall=\\\"//cdn.cnn.com/cnnnext/dam/assets/120319012120-france-shooting-gallery-4-horizontal-large-gallery.jpg\\\" data-src-small=\\\"//cdn.cnn.com/cnnnext/dam/assets/120319012120-france-shooting-gallery-4-horizontal-large-gallery.jpg\\\" data-src-medium=\\\"//cdn.cnn.com/cnnnext/dam/assets/120319012120-france-shooting-gallery-4-horizontal-large-gallery.jpg\\\" data-src-large=\\\"//cdn.cnn.com/cnnnext/dam/assets/120319012120-france-shooting-gallery-4-horizontal-large-gallery.jpg\\\" data-src-full16x9=\\\"//cdn.cnn.com/cnnnext/dam/assets/120319012120-france-shooting-gallery-4-horizontal-large-gallery.jpg\\\" data-src-mini1x1=\\\"//cdn.cnn.com/cnnnext/dam/assets/120319012120-france-shooting-gallery-4-topics.jpg\\\" data-eq-pts=\\\"mini: 0, xsmall: 221, small: 308, medium: 461, large: 781\\\" src=\\\"data:image/gif;base64,R0lGODlhEAAJAJEAAAAAAP///////wAAACH5BAEAAAIALAAAAAAQAAkAAAIKlI+py+0Po5yUFQA7\\\" data-cut-format=\\\"Horizontal Gallery\\\"><div class=\\\"img__preloader\\\"></div><noscript><img alt=\\\"Police investigators work at the scene of the crime on Monday.  Merah was sentenced 15 times by a Toulouse juvenile court when he was a minor.\\\" class=\\\"media__image\\\" src=\\\"//cdn.cnn.com/cnnnext/dam/assets/120319012120-france-shooting-gallery-4-horizontal-large-gallery.jpg\\\"></noscript></div></div><div class=\\\"js-media__caption media__caption el__storyelement__title\\\"><div class=\\\"element-raw appearance-standard\\\"><span class=\\\"el__storyelement__header\\\"> Photos:</span> <span class=\\\"el__storyelement__gray\\\">Police siege in Toulouse</span></div></div><div class=\\\"media__caption el__gallery_image-title\\\"><span class=\\\"media__caption-head\\\">How Toulouse siege unfolded</span> \\u2013 <span class=\\\"el__storyelement__gray\\\">Police investigators work at the scene of the crime on Monday.  Merah was sentenced 15 times by a Toulouse juvenile court when he was a minor.</span></div><div class=\\\"el__gallery-showhide js__gallery-showhide\\\"><div class=\\\"js-el__gallery-caption el__gallery-caption\\\">Hide Caption</div><div class=\\\"el__gallery-photocount\\\"> 18 of 20</div></div></div><div data-slidename=\\\"Police raid on Toulouse shooting suspect\\\" data-analytics=\\\"_body_image\\\"><div class=\\\"el__resize\\\"><div class=\\\"el__position media js-gallery-aspect-ratio-wrapper\\\"><img class=\\\"media__image media__image--responsive media__image--cut-format\\\" alt=\\\"Merah was in a Toulouse court February 24 for causing an accident with injuries and driving without a license and was sentenced to a month in jail, his lawyer, Christian Etelin said. \\\" data-src-mini=\\\"//cdn.cnn.com/cnnnext/dam/assets/120319021418-france-shooting-gallery-7-horizontal-large-gallery.jpg\\\" data-src-xsmall=\\\"//cdn.cnn.com/cnnnext/dam/assets/120319021418-france-shooting-gallery-7-horizontal-large-gallery.jpg\\\" data-src-small=\\\"//cdn.cnn.com/cnnnext/dam/assets/120319021418-france-shooting-gallery-7-horizontal-large-gallery.jpg\\\" data-src-medium=\\\"//cdn.cnn.com/cnnnext/dam/assets/120319021418-france-shooting-gallery-7-horizontal-large-gallery.jpg\\\" data-src-large=\\\"//cdn.cnn.com/cnnnext/dam/assets/120319021418-france-shooting-gallery-7-horizontal-large-gallery.jpg\\\" data-src-full16x9=\\\"//cdn.cnn.com/cnnnext/dam/assets/120319021418-france-shooting-gallery-7-horizontal-large-gallery.jpg\\\" data-src-mini1x1=\\\"//cdn.cnn.com/cnnnext/dam/assets/120319021418-france-shooting-gallery-7-topics.jpg\\\" data-eq-pts=\\\"mini: 0, xsmall: 221, small: 308, medium: 461, large: 781\\\" src=\\\"data:image/gif;base64,R0lGODlhEAAJAJEAAAAAAP///////wAAACH5BAEAAAIALAAAAAAQAAkAAAIKlI+py+0Po5yUFQA7\\\" data-cut-format=\\\"Horizontal Gallery\\\"><div class=\\\"img__preloader\\\"></div><noscript><img alt=\\\"Merah was in a Toulouse court February 24 for causing an accident with injuries and driving without a license and was sentenced to a month in jail, his lawyer, Christian Etelin said. \\\" class=\\\"media__image\\\" src=\\\"//cdn.cnn.com/cnnnext/dam/assets/120319021418-france-shooting-gallery-7-horizontal-large-gallery.jpg\\\"></noscript></div></div><div class=\\\"js-media__caption media__caption el__storyelement__title\\\"><div class=\\\"element-raw appearance-standard\\\"><span class=\\\"el__storyelement__header\\\"> Photos:</span> <span class=\\\"el__storyelement__gray\\\">Police siege in Toulouse</span></div></div><div class=\\\"media__caption el__gallery_image-title\\\"><span class=\\\"media__caption-head\\\">How Toulouse siege unfolded</span> \\u2013 <span class=\\\"el__storyelement__gray\\\">Merah was in a Toulouse court February 24 for causing an accident with injuries and driving without a license and was sentenced to a month in jail, his lawyer, Christian Etelin said. </span></div><div class=\\\"el__gallery-showhide js__gallery-showhide\\\"><div class=\\\"js-el__gallery-caption el__gallery-caption\\\">Hide Caption</div><div class=\\\"el__gallery-photocount\\\"> 19 of 20</div></div></div><div data-slidename=\\\"Police raid on Toulouse shooting suspect\\\" data-analytics=\\\"_body_image\\\"><div class=\\\"el__resize\\\"><div class=\\\"el__position media js-gallery-aspect-ratio-wrapper\\\"><img class=\\\"media__image media__image--responsive media__image--cut-format\\\" alt=\\\"A woman places a bouquet of flowers on March 17, at the site where two French soldiers were killed on March 15, in the French city of Montauban.\\\" data-src-mini=\\\"//cdn.cnn.com/cnnnext/dam/assets/120319013947-france-shooting-gallery-6-horizontal-large-gallery.jpg\\\" data-src-xsmall=\\\"//cdn.cnn.com/cnnnext/dam/assets/120319013947-france-shooting-gallery-6-horizontal-large-gallery.jpg\\\" data-src-small=\\\"//cdn.cnn.com/cnnnext/dam/assets/120319013947-france-shooting-gallery-6-horizontal-large-gallery.jpg\\\" data-src-medium=\\\"//cdn.cnn.com/cnnnext/dam/assets/120319013947-france-shooting-gallery-6-horizontal-large-gallery.jpg\\\" data-src-large=\\\"//cdn.cnn.com/cnnnext/dam/assets/120319013947-france-shooting-gallery-6-horizontal-large-gallery.jpg\\\" data-src-full16x9=\\\"//cdn.cnn.com/cnnnext/dam/assets/120319013947-france-shooting-gallery-6-horizontal-large-gallery.jpg\\\" data-src-mini1x1=\\\"//cdn.cnn.com/cnnnext/dam/assets/120319013947-france-shooting-gallery-6-topics.jpg\\\" data-eq-pts=\\\"mini: 0, xsmall: 221, small: 308, medium: 461, large: 781\\\" src=\\\"data:image/gif;base64,R0lGODlhEAAJAJEAAAAAAP///////wAAACH5BAEAAAIALAAAAAAQAAkAAAIKlI+py+0Po5yUFQA7\\\" data-cut-format=\\\"Horizontal Gallery\\\"><div class=\\\"img__preloader\\\"></div><noscript><img alt=\\\"A woman places a bouquet of flowers on March 17, at the site where two French soldiers were killed on March 15, in the French city of Montauban.\\\" class=\\\"media__image\\\" src=\\\"//cdn.cnn.com/cnnnext/dam/assets/120319013947-france-shooting-gallery-6-horizontal-large-gallery.jpg\\\"></noscript></div></div><div class=\\\"js-media__caption media__caption el__storyelement__title\\\"><div class=\\\"element-raw appearance-standard\\\"><span class=\\\"el__storyelement__header\\\"> Photos:</span> <span class=\\\"el__storyelement__gray\\\">Police siege in Toulouse</span></div></div><div class=\\\"media__caption el__gallery_image-title\\\"><span class=\\\"media__caption-head\\\">How Toulouse siege unfolded</span> \\u2013 <span class=\\\"el__storyelement__gray\\\">A woman places a bouquet of flowers on March 17, at the site where two French soldiers were killed on March 15, in the French city of Montauban.</span></div><div class=\\\"el__gallery-showhide js__gallery-showhide\\\"><div class=\\\"js-el__gallery-caption el__gallery-caption\\\">Hide Caption</div><div class=\\\"el__gallery-photocount\\\"> 20 of 20</div></div></div></div><div class=\\\"owl-carousel js-owl-filmstrip owl-filmstrip\\\"><img class=\\\"media__image\\\" src=\\\"//cdn.cnn.com/cnnnext/dam/assets/120322115843-france-shooting-french-interior-minister-march-22-topics.jpg\\\" alt=\\\"\\\"><img class=\\\"media__image\\\" src=\\\"//cdn.cnn.com/cnnnext/dam/assets/120322120628-france-shooting-assult-ends-march-22-topics.jpg\\\" alt=\\\"\\\"><img class=\\\"media__image\\\" src=\\\"//cdn.cnn.com/cnnnext/dam/assets/120322120939-france-shooting-assult-march-22-topics.jpg\\\" alt=\\\"\\\"><img class=\\\"media__image\\\" src=\\\"//cdn.cnn.com/cnnnext/dam/assets/120322104342-police-thurs2-topics.jpg\\\" alt=\\\"\\\"><img class=\\\"media__image\\\" src=\\\"//cdn.cnn.com/cnnnext/dam/assets/120322091812-toulouse-thursday-topics.jpg\\\" alt=\\\"\\\"><img class=\\\"media__image\\\" src=\\\"//cdn.cnn.com/cnnnext/dam/assets/120322062726-france-siege-topics.jpg\\\" alt=\\\"\\\"><img class=\\\"media__image\\\" src=\\\"//cdn.cnn.com/cnnnext/dam/assets/120321101832-france-toulouse-siege-topics.jpg\\\" alt=\\\"\\\"><img class=\\\"media__image\\\" src=\\\"//cdn.cnn.com/cnnnext/dam/assets/120321120845-france-shooting-residents-evacuated-topics.jpg\\\" alt=\\\"\\\"><img class=\\\"media__image\\\" src=\\\"//cdn.cnn.com/cnnnext/dam/assets/120321120204-france-shooting-sarkozy-speech-21-march-topics.jpg\\\" alt=\\\"\\\"><img class=\\\"media__image\\\" src=\\\"//cdn.cnn.com/cnnnext/dam/assets/120321115927-france-shooting-paratrooper-coffin-topics.jpg\\\" alt=\\\"\\\"><img class=\\\"media__image\\\" src=\\\"//cdn.cnn.com/cnnnext/dam/assets/120321103931-france-stad-off-02-topics.jpg\\\" alt=\\\"\\\"><img class=\\\"media__image\\\" src=\\\"//cdn.cnn.com/cnnnext/dam/assets/120321120429-france-shooting-police-seige-topics.jpg\\\" alt=\\\"\\\"><img class=\\\"media__image\\\" src=\\\"//cdn.cnn.com/cnnnext/dam/assets/120321121125-france-shooting-irael-coffin-topics.jpg\\\" alt=\\\"\\\"><img class=\\\"media__image\\\" src=\\\"//cdn.cnn.com/cnnnext/dam/assets/120320092712-france-guard-topics.jpg\\\" alt=\\\"\\\"><img class=\\\"media__image\\\" src=\\\"//cdn.cnn.com/cnnnext/dam/assets/120319115802-france-shooting-topics.jpg\\\" alt=\\\"\\\"><img class=\\\"media__image\\\" src=\\\"//cdn.cnn.com/cnnnext/dam/assets/120319122103-france-shooting-sarkozy-topics.jpg\\\" alt=\\\"\\\"><img class=\\\"media__image\\\" src=\\\"//cdn.cnn.com/cnnnext/dam/assets/120319011801-france-shooting-gallery-3-topics.jpg\\\" alt=\\\"\\\"><img class=\\\"media__image\\\" src=\\\"//cdn.cnn.com/cnnnext/dam/assets/120319012120-france-shooting-gallery-4-topics.jpg\\\" alt=\\\"\\\"><img class=\\\"media__image\\\" src=\\\"//cdn.cnn.com/cnnnext/dam/assets/120319021418-france-shooting-gallery-7-topics.jpg\\\" alt=\\\"\\\"><img class=\\\"media__image\\\" src=\\\"//cdn.cnn.com/cnnnext/dam/assets/120319013947-france-shooting-gallery-6-topics.jpg\\\" alt=\\\"\\\"></div><div class=\\\"ad-slide--inactive ad-slide js-ad-slide\\\"><div class=\\\"ad-slide__prev\\\"></div><div class=\\\"ad-slide__next\\\"></div></div><script>/* global CNN */'use strict';jQuery(document).ready(function () {var galleryAdSlide = new CNN.AdSlide('el__gallery', false, CNN.contentModel.singletonFile);});</script></div></div></div><div class=\\\"el__embedded el__embedded--standard\\\"><div class=\\\"el__video--standard js__video--standard\\\" data-autoplay=\\\"false\\\"><div class=\\\"el__video__close--standard js__video__close--standard el__storyelements--close cnn-icon\\\"></div><script>'use strict';CNN.Videx = CNN.Videx || {};CNN.Videx.mobile = {};CNN.INJECTOR.executeFeature('video').then(function () {CNN.VideoPlayer.handleUnmutePlayer = function handleUnmutePlayer(containerId, dataObj) {'use strict';var playerInstance,playerPropertyObj,rememberTime,unmuteCTA,unmuteIdSelector = 'unmute_' + containerId,isPlayerMute;dataObj = dataObj || {};if (CNN.VideoPlayer.getLibraryName(containerId) === 'fave') {playerInstance = FAVE.player.getInstance(containerId) || null;} else {playerInstance = containerId && window.cnnVideoManager.getPlayerByContainer(containerId).videoInstance.cvp || null;}isPlayerMute = (typeof dataObj.muted === 'boolean') ? dataObj.muted : false;if (CNN.VideoPlayer.playerProperties && CNN.VideoPlayer.playerProperties[containerId]) {playerPropertyObj = CNN.VideoPlayer.playerProperties[containerId];}if (playerPropertyObj.mute && playerPropertyObj.contentPlayed) {if (isPlayerMute === false) {unmuteCTA = jQuery(document.getElementById(unmuteIdSelector));playerInstance.unmute();if (unmuteCTA.length > 0) {unmuteCTA.removeClass('video__unmute--active').addClass('video__unmute--inactive');unmuteCTA.off('click');rememberTime = 0;if (rememberTime < 0) {rememberTime = 360 / 60;}CNN.Utils.storeLocalValue('unmute_europe', 'X', rememberTime);}} else {playerInstance.mute();}}};CNN.VideoPlayer.showFlashSlate = function showFlashSlate(container) {'use strict';var $vidEndSlate;$vidEndSlate = container.parent().find('.js-video__end-slate').eq(0);if ($vidEndSlate.length > 0) {$vidEndSlate.find('.l-container').html('<a href=\\\"https://get.adobe.com/flashplayer/\\\" target=\\\"_blank\\\"><div class=\\\"flash-slate\\\"></div></a>');$vidEndSlate.removeClass('video__end-slate--inactive').addClass('video__end-slate--active');}};CNN.autoPlayVideoExist = (CNN.autoPlayVideoExist === true) ? true : false;var configObj = {thumb: 'none',video: 'world/2012/03/22/magnay-france-suspect-videos.cnn',width: '100%',height: '100%',section: 'international',profile: 'expansion',network: 'cnn',markupId: 'body-text_10',theoplayer: {allowNativeFullscreen: true},adsection: 'const-article-inpage',frameWidth: '100%',frameHeight: '100%',posterImageOverride: {\\\"mini\\\":{\\\"height\\\":144,\\\"width\\\":256,\\\"type\\\":\\\"JPG\\\",\\\"uri\\\":\\\"//cdn.cnn.com/cnnnext/dam/assets/120321110043-mohammed-merah-hp-video.jpg\\\"},\\\"xsmall\\\":{\\\"height\\\":169,\\\"width\\\":300,\\\"type\\\":\\\"JPG\\\",\\\"uri\\\":\\\"//cdn.cnn.com/cnnnext/dam/assets/120321110043-mohammed-merah-story-body.jpg\\\"},\\\"small\\\":{\\\"height\\\":360,\\\"width\\\":640,\\\"type\\\":\\\"JPG\\\",\\\"uri\\\":\\\"//cdn.cnn.com/cnnnext/dam/assets/120321110043-mohammed-merah-story-top.jpg\\\"},\\\"medium\\\":{\\\"height\\\":552,\\\"width\\\":980,\\\"type\\\":\\\"JPG\\\",\\\"uri\\\":\\\"//cdn.cnn.com/cnnnext/dam/assets/120321110043-mohammed-merah-horizontal-large-gallery.jpg\\\"},\\\"large\\\":{\\\"height\\\":552,\\\"width\\\":980,\\\"type\\\":\\\"JPG\\\",\\\"uri\\\":\\\"//cdn.cnn.com/cnnnext/dam/assets/120321110043-mohammed-merah-horizontal-large-gallery.jpg\\\"},\\\"full16x9\\\":{\\\"height\\\":552,\\\"width\\\":980,\\\"type\\\":\\\"JPG\\\",\\\"uri\\\":\\\"//cdn.cnn.com/cnnnext/dam/assets/120321110043-mohammed-merah-horizontal-large-gallery.jpg\\\"},\\\"mini1x1\\\":{\\\"height\\\":60,\\\"width\\\":60,\\\"type\\\":\\\"JPG\\\",\\\"uri\\\":\\\"//cdn.cnn.com/cnnnext/dam/assets/120321110043-mohammed-merah-topics.jpg\\\"}}},autoStartVideo = false,isVideoReplayClicked = false,callbackObj,containerEl,currentVideoCollection = [],currentVideoCollectionId = '',isLivePlayer = false,mediaMetadataCallbacks,mobilePinnedView = null,moveToNextTimeout,mutePlayerEnabled = false,nextVideoId = '',nextVideoUrl = '',turnOnFlashMessaging = false,videoPinner,videoEndSlateImpl;if (CNN.autoPlayVideoExist === false) {autoStartVideo = false;autoStartVideo = typeof CNN.isLoggedInVideoCheck === 'function' ? CNN.isLoggedInVideoCheck(autoStartVideo) : autoStartVideo;if (autoStartVideo === true) {if (turnOnFlashMessaging === true) {autoStartVideo = false;containerEl = jQuery(document.getElementById(configObj.markupId));CNN.VideoPlayer.showFlashSlate(containerEl);} else {CNN.autoPlayVideoExist = true;}}}configObj.autostart = CNN.Features.enableAutoplayBlock ? false : autoStartVideo;CNN.VideoPlayer.setPlayerProperties(configObj.markupId, autoStartVideo, isLivePlayer, isVideoReplayClicked, mutePlayerEnabled);CNN.VideoPlayer.setFirstVideoInCollection(currentVideoCollection, configObj.markupId);videoEndSlateImpl = new CNN.VideoEndSlate('body-text_10');function findNextVideo(currentVideoId) {var i,vidObj;if (currentVideoId && jQuery.isArray(currentVideoCollection) && currentVideoCollection.length > 0) {for (i = 0; i < currentVideoCollection.length; i++) {vidObj = currentVideoCollection[i];if (typeof vidObj !== 'undefined' && vidObj.videoId === currentVideoId) {if (i < currentVideoCollection.length - 1) {nextVideoId = currentVideoCollection[i + 1].videoId;nextVideoUrl = currentVideoCollection[i + 1].videoUrl;} else {nextVideoId = currentVideoCollection[0].videoId;nextVideoUrl = currentVideoCollection[0].videoUrl;}break;}}if (!nextVideoUrl) {nextVideoId = currentVideoCollection[0].videoId;nextVideoUrl = currentVideoCollection[0].videoUrl;}currentVideoCollectionId = (window.jsmd && window.jsmd.v && window.jsmd.v.eVar60) || nextVideoUrl.replace(/^.+\\\\/video\\\\/playlists\\\\/(.+)\\\\//, '$1');} else {nextVideoId = '';nextVideoUrl = '';}}findNextVideo('world/2012/03/22/magnay-france-suspect-videos.cnn');function navigateToNextVideo(currentVideoId, containerId) {var $endSlate,nextVideoPlayTimeout = 1500;findNextVideo(currentVideoId);if (nextVideoUrl) {moveToNextTimeout = setTimeout(function () {location.href = nextVideoUrl;}, nextVideoPlayTimeout);} else {$endSlate = jQuery(document.getElementById(containerId)).parent().find('.js-video__end-slate').eq(0);if ($endSlate.length > 0) {videoEndSlateImpl.showEndSlateForContainer();if (mobilePinnedView) {mobilePinnedView.disable();}}}}callbackObj = {onPlayerReady: function (containerId) {var playerInstance,containerClassId = '#' + containerId;CNN.VideoPlayer.handleInitialExpandableVideoState(containerId);CNN.VideoPlayer.handleAdOnCVPVisibilityChange(containerId, CNN.pageVis.isDocumentVisible());if (CNN.Features.enableMobileWebFloatingPlayer &&Modernizr &&(Modernizr.phone || Modernizr.mobile || Modernizr.tablet) &&CNN.VideoPlayer.getLibraryName(containerId) === 'fave' &&jQuery(containerClassId).parents('.js-pg-rail-tall__head').length > 0 &&CNN.contentModel.pageType === 'article') {playerInstance = FAVE.player.getInstance(containerId);mobilePinnedView = new CNN.MobilePinnedView({element: jQuery(containerClassId),enabled: false,transition: CNN.MobileWebFloatingPlayer.transition,onPin: function () {playerInstance.hideUI();},onUnpin: function () {playerInstance.showUI();},onPlayerClick: function () {if (mobilePinnedView) {playerInstance.enterFullscreen();playerInstance.showUI();}},onDismiss: function() {CNN.Videx.mobile.pinnedPlayer.disable();playerInstance.pause();}});/* Storing pinned view on CNN.Videx.mobile.pinnedPlayer So that all players can see the single pinned player */CNN.Videx = CNN.Videx || {};CNN.Videx.mobile = CNN.Videx.mobile || {};CNN.Videx.mobile.pinnedPlayer = mobilePinnedView;}if (Modernizr && !Modernizr.phone && !Modernizr.mobile && !Modernizr.tablet) {if (jQuery(containerClassId).parents('.js-pg-rail-tall__head').length) {videoPinner = new CNN.VideoPinner(containerClassId);videoPinner.init();} else {CNN.VideoPlayer.hideThumbnail(containerId);}}},onContentEntryLoad: function(containerId, playerId, contentid, isQueue) {CNN.VideoPlayer.showSpinner(containerId);},onContentPause: function (containerId, playerId, videoId, paused) {if (mobilePinnedView) {CNN.VideoPlayer.handleMobilePinnedPlayerStates(containerId, paused);}},onContentMetadata: function (containerId, playerId, metadata, contentId, duration, width, height) {var endSlateLen = jQuery(document.getElementById(containerId)).parent().find('.js-video__end-slate').eq(0).length;CNN.VideoSourceUtils.updateSource(containerId, metadata);if (endSlateLen > 0) {videoEndSlateImpl.fetchAndShowRecommendedVideos(metadata);}},onAdPlay: function (containerId, cvpId, token, mode, id, duration, blockId, adType) {/* Dismissing the pinnedPlayer if another video players plays an Ad */CNN.VideoPlayer.dismissMobilePinnedPlayer(containerId);clearTimeout(moveToNextTimeout);CNN.VideoPlayer.hideSpinner(containerId);if (Modernizr && !Modernizr.phone && !Modernizr.mobile && !Modernizr.tablet) {if (typeof videoPinner !== 'undefined' && videoPinner !== null) {videoPinner.setIsPlaying(true);videoPinner.animateDown();}}},onAdPause: function (containerId, playerId, token, mode, id, duration, blockId, adType, instance, isAdPause) {if (mobilePinnedView) {CNN.VideoPlayer.handleMobilePinnedPlayerStates(containerId, isAdPause);}},onTrackingFullscreen: function (containerId, PlayerId, dataObj) {CNN.VideoPlayer.handleFullscreenChange(containerId, dataObj);if (mobilePinnedView &&typeof dataObj === 'object' &&FAVE.Utils.os === 'iOS' && !dataObj.fullscreen) {jQuery(document).scrollTop(mobilePinnedView.getScrollPosition());playerInstance.hideUI();}},onContentPlay: function (containerId, cvpId, event) {var playerInstance,prevVideoId;if (CNN.companion && typeof CNN.companion.updateCompanionLayout === 'function') {CNN.companion.updateCompanionLayout('restoreEpicAds');}clearTimeout(moveToNextTimeout);CNN.VideoPlayer.hideSpinner(containerId);if (Modernizr && !Modernizr.phone && !Modernizr.mobile && !Modernizr.tablet) {if (typeof videoPinner !== 'undefined' && videoPinner !== null) {videoPinner.setIsPlaying(true);videoPinner.animateDown();}}},onContentReplayRequest: function (containerId, cvpId, contentId) {if (Modernizr && !Modernizr.phone && !Modernizr.mobile && !Modernizr.tablet) {if (typeof videoPinner !== 'undefined' && videoPinner !== null) {videoPinner.setIsPlaying(true);var $endSlate = jQuery(document.getElementById(containerId)).parent().find('.js-video__end-slate').eq(0);if ($endSlate.length > 0) {$endSlate.removeClass('video__end-slate--active').addClass('video__end-slate--inactive');}}}},onContentBegin: function (containerId, cvpId, contentId) {if (mobilePinnedView) {mobilePinnedView.enable();}/* Dismissing the pinnedPlayer if another video players plays a video. */CNN.VideoPlayer.dismissMobilePinnedPlayer(containerId);CNN.VideoPlayer.mutePlayer(containerId);if (CNN.companion && typeof CNN.companion.updateCompanionLayout === 'function') {CNN.companion.updateCompanionLayout('removeEpicAds');}CNN.VideoPlayer.hideSpinner(containerId);clearTimeout(moveToNextTimeout);CNN.VideoSourceUtils.clearSource(containerId);jQuery(document).triggerVideoContentStarted();},onContentComplete: function (containerId, cvpId, contentId) {if (CNN.companion && typeof CNN.companion.updateCompanionLayout === 'function') {CNN.companion.updateCompanionLayout('restoreFreewheel');}navigateToNextVideo(contentId, containerId);},onContentEnd: function (containerId, cvpId, contentId) {if (Modernizr && !Modernizr.phone && !Modernizr.mobile && !Modernizr.tablet) {if (typeof videoPinner !== 'undefined' && videoPinner !== null) {videoPinner.setIsPlaying(false);}}},onCVPVisibilityChange: function (containerId, cvpId, visible) {CNN.VideoPlayer.handleAdOnCVPVisibilityChange(containerId, visible);}};if (typeof configObj.context !== 'string' || configObj.context.length <= 0) {configObj.context = 'europe'.replace(/[\\\\(\\\\)\\\\-]/g, '');}if (typeof configObj.adsection === 'undefined' && typeof window.ssid === 'string' && window.ssid.length > 0) {configObj.adsection = window.ssid;}CNN.autoPlayVideoExist = (CNN.autoPlayVideoExist === true) ? true : false;CNN.VideoPlayer.getLibrary(configObj, callbackObj, isLivePlayer);});CNN.INJECTOR.scriptComplete('videodemanddust');</script><div class=\\\"js-media__video media__video\\\" id=\\\"media__video_body-text_10--wrapper\\\"><div id=\\\"body-text_10--thumbnail\\\" class=\\\"media__video--thumbnail\\\"><img class=\\\"media__image media__image--responsive\\\" alt=\\\"Gunman&amp;#39;s attack videos reportedly found \\\" data-src-mini=\\\"//cdn.cnn.com/cnnnext/dam/assets/120321110043-mohammed-merah-hp-video.jpg\\\" data-src-xsmall=\\\"//cdn.cnn.com/cnnnext/dam/assets/120321110043-mohammed-merah-story-body.jpg\\\" data-src-small=\\\"//cdn.cnn.com/cnnnext/dam/assets/120321110043-mohammed-merah-story-top.jpg\\\" data-src-medium=\\\"//cdn.cnn.com/cnnnext/dam/assets/120321110043-mohammed-merah-horizontal-large-gallery.jpg\\\" data-src-large=\\\"//cdn.cnn.com/cnnnext/dam/assets/120321110043-mohammed-merah-horizontal-large-gallery.jpg\\\" data-src-full16x9=\\\"//cdn.cnn.com/cnnnext/dam/assets/120321110043-mohammed-merah-horizontal-large-gallery.jpg\\\" data-src-mini1x1=\\\"//cdn.cnn.com/cnnnext/dam/assets/120321110043-mohammed-merah-topics.jpg\\\" data-demand-load=\\\"not-loaded\\\" data-eq-pts=\\\"mini: 0, xsmall: 221, small: 308, medium: 461, large: 781\\\" src=\\\"data:image/gif;base64,R0lGODlhEAAJAJEAAAAAAP///////wAAACH5BAEAAAIALAAAAAAQAAkAAAIKlI+py+0Po5yUFQA7\\\"><div class=\\\"img__preloader\\\"></div><noscript><img alt=\\\"Gunman&amp;#39;s attack videos reportedly found \\\" class=\\\"media__image\\\" src=\\\"//cdn.cnn.com/cnnnext/dam/assets/120321110043-mohammed-merah-story-top.jpg\\\"></noscript><div aria-hidden=\\\"true\\\" class=\\\"js-video-demand media__video--demand\\\"></div><div aria-hidden=\\\"true\\\" class=\\\"js-video-demand media__video--demand\\\"></div></div><div id=\\\"spinner_body-text_10\\\" class=\\\"video-red-spinner\\\"></div><div class=\\\"media__video--thumbnail-wrapper\\\"><div class=\\\"video__end-slate--inactive video__end-slate js-video__end-slate\\\" data-eq-pts=\\\"xsmall: 0, small: 300, medium: 460, large: 780\\\"><div class=\\\"l-container\\\"><div class=\\\"video__end-slate__top-wrapper\\\"><div class=\\\"js-el__video__replayer-wrapper el__video__replayer-wrapper\\\"><img alt=\\\"Gunman's attack videos reportedly found \\\" class=\\\"media__image\\\" src=\\\"//cdn.cnn.com/cnnnext/dam/assets/120321110043-mohammed-merah-story-top.jpg\\\"><a class=\\\"el__video__replay-button-wrapper\\\" href=\\\"javascript:void(0);\\\" title=\\\"Click to watch this video\\\"><div class=\\\"js-el__video__replay-button el__video__replay-button\\\"></div></a></div><div class=\\\"video__end-slate__secondary\\\"><ul class=\\\"cn cn-list-hierarchical-xs cn--idx-0\\\"><h3 class=\\\"cd__headline-title\\\">JUST WATCHED</h3><h2 class=\\\"cd__headline\\\"><span class=\\\"cd__headline-text js-cd__headline-text\\\">Gunman's attack videos reportedly found </span></h2></ul><div class=\\\"video__end-slate__replay\\\"><a class=\\\"js-video__end-slate__replay\\\"><div class=\\\"video__end-slate__replay-icon cnn-icon\\\"></div></a></div><div class=\\\"video__end-slate__engage__wrapper\\\"><div class=\\\"video__end-slate__engage__text\\\"><a class=\\\"js-video__end-slate__replay-text video__end-slate__replay-text\\\">Replay</a></div><div class=\\\"video__end-slate__engage__more\\\"><a href=\\\"/videos\\\" class=\\\"video__end-slate__replay-text\\\">More Videos ...</a></div></div></div></div><h4 class=\\\"video__end-slate__tertiary-title\\\">MUST WATCH</h4><div class=\\\"js-video__end-slate__tertiary video__end-slate__tertiary\\\"><div class=\\\"js-video__end-slate__carousel video__end-slate__carousel\\\"></div></div></div></div><script type=\\\"application/ld+json\\\" name=\\\"metaScript\\\">{\\\"@context\\\": \\\"https://schema.org\\\",\\\"@type\\\": \\\"VideoObject\\\",\\\"name\\\": \\\"Gunman&#39;s attack videos reportedly found \\\",\\\"description\\\": \\\"CNN&#39;s Diana Magnay reports that police found horrific videos of Mohammed Merah&#39;s attacks in his belongings. \\\",\\\"thumbnailURL\\\": \\\"https://cdn.cnn.com/cnnnext/dam/assets/120321110043-mohammed-merah-story-top.jpg\\\",\\\"image\\\": \\\"https://cdn.cnn.com/cnnnext/dam/assets/120321110043-mohammed-merah-story-top.jpg\\\",\\\"duration\\\": \\\"PT4M57S\\\",\\\"uploadDate\\\": \\\"2012-03-22T15:25:28Z\\\",\\\"contentUrl\\\": \\\"https://edition.cnn.com/videos/world/2012/03/22/magnay-france-suspect-videos.cnn\\\",\\\"url\\\": \\\"https://edition.cnn.com/videos/world/2012/03/22/magnay-france-suspect-videos.cnn\\\",\\\"embedUrl\\\": \\\"https://fave.api.cnn.io/v1/fav/?video=world/2012/03/22/magnay-france-suspect-videos.cnn&customer=cnn&edition=international&env=prod\\\"}</script><div id=\\\"body-text_10\\\" class=\\\"media__video--responsive \\\" data-video-id=\\\"world/2012/03/22/magnay-france-suspect-videos.cnn\\\"></div><div id=\\\"body-text_10-metadata\\\" class=\\\"metadata\\\"><p class=\\\"metadata__source\\\"><span class=\\\"metadata__source-name\\\"></span></p></div></div><div class=\\\"media__caption el__storyelement__title\\\"><span class=\\\"el__storyelement__header\\\">Gunman's attack videos reportedly found </span> <span class=\\\"el__storyelement__gray\\\">04:56</span></div></div></div></div><div class=\\\"zn-body__paragraph\\\"><strong>Did the mood of unity hold?</strong></div><div class=\\\"zn-body__paragraph\\\">In a word, no. Le Pen, who is running in third place in opinion polls, was the first to break ranks with this rare outbreak of political consensus, CNN's Jim Bittermann noted. The National Front leader said \\\"The danger of fundamentalism has been under-estimated in our country.\\\"</div><div class=\\\"zn-body__paragraph\\\">This sparked an angry response from far-left challenger Jean-Luc Melenchon, who accused the National Front of being \\\"vultures\\\" feeding at the scene of crimes. Centrist candidate Francois Bayrou accused the extreme right of trying to \\\"surf\\\" to power on the back of the attacks.</div><div class=\\\"zn-body__paragraph\\\">Bayrou, currently in fourth place, refused to suspend his campaign during the hunt for the attackers, and criticized rivals for their anti-immigrant comments, which he said may have provoked the suspect into action. Other candidates said it was impossible to make this link.</div><div class=\\\"zn-body__paragraph\\\"><strong>Was race an issue before the attacks?</strong></div><div class=\\\"zn-body__paragraph\\\">Along with the economic crisis, immigration and race have been prevalent themes in the campaign for the presidential election, the first round of which takes place next month. Sarkozy declared this month there were \\\"too many foreigners\\\" in France, while Le Pen has criticized the production of Islamic halal meat in Paris. </div><div class=\\\"zn-body__paragraph\\\">Political analyst Simon Persico, from the Center of European Studies in Paris, said Sarkozy won the 2007 election by being right-wing, and taking a strong stance on race, but had found it difficult to maintain this stance while in power. \\\"In this election, Le Pen is saying the original is better than the copy, and that voters should not believe Sarkozy on race,\\\" he told CNN.</div><div class=\\\"zn-body__paragraph\\\">\\\"Whichever viewpoint is true though, the president has a record of five years of creating conflict, and while he may say he was right to raise the issue of the growth of Islamic fundamentalists in France, maybe now is the time to appease tensions on race.\\\"</div><div class=\\\"zn-body__paragraph\\\"><strong>How do the public view Sarkozy's handling of the crisis</strong>?</div><div class=\\\"el__embedded el__embedded--standard\\\"><div class=\\\"el__video--standard js__video--standard\\\" data-autoplay=\\\"false\\\"><div class=\\\"el__video__close--standard js__video__close--standard el__storyelements--close cnn-icon\\\"></div><script>'use strict';CNN.Videx = CNN.Videx || {};CNN.Videx.mobile = {};CNN.INJECTOR.executeFeature('video').then(function () {CNN.VideoPlayer.handleUnmutePlayer = function handleUnmutePlayer(containerId, dataObj) {'use strict';var playerInstance,playerPropertyObj,rememberTime,unmuteCTA,unmuteIdSelector = 'unmute_' + containerId,isPlayerMute;dataObj = dataObj || {};if (CNN.VideoPlayer.getLibraryName(containerId) === 'fave') {playerInstance = FAVE.player.getInstance(containerId) || null;} else {playerInstance = containerId && window.cnnVideoManager.getPlayerByContainer(containerId).videoInstance.cvp || null;}isPlayerMute = (typeof dataObj.muted === 'boolean') ? dataObj.muted : false;if (CNN.VideoPlayer.playerProperties && CNN.VideoPlayer.playerProperties[containerId]) {playerPropertyObj = CNN.VideoPlayer.playerProperties[containerId];}if (playerPropertyObj.mute && playerPropertyObj.contentPlayed) {if (isPlayerMute === false) {unmuteCTA = jQuery(document.getElementById(unmuteIdSelector));playerInstance.unmute();if (unmuteCTA.length > 0) {unmuteCTA.removeClass('video__unmute--active').addClass('video__unmute--inactive');unmuteCTA.off('click');rememberTime = 0;if (rememberTime < 0) {rememberTime = 360 / 60;}CNN.Utils.storeLocalValue('unmute_europe', 'X', rememberTime);}} else {playerInstance.mute();}}};CNN.VideoPlayer.showFlashSlate = function showFlashSlate(container) {'use strict';var $vidEndSlate;$vidEndSlate = container.parent().find('.js-video__end-slate').eq(0);if ($vidEndSlate.length > 0) {$vidEndSlate.find('.l-container').html('<a href=\\\"https://get.adobe.com/flashplayer/\\\" target=\\\"_blank\\\"><div class=\\\"flash-slate\\\"></div></a>');$vidEndSlate.removeClass('video__end-slate--inactive').addClass('video__end-slate--active');}};CNN.autoPlayVideoExist = (CNN.autoPlayVideoExist === true) ? true : false;var configObj = {thumb: 'none',video: 'world/2012/03/22/nat-france-standoff-ends.cnn',width: '100%',height: '100%',section: 'international',profile: 'expansion',network: 'cnn',markupId: 'body-text_20',theoplayer: {allowNativeFullscreen: true},adsection: 'const-article-inpage',frameWidth: '100%',frameHeight: '100%',posterImageOverride: {\\\"mini\\\":{\\\"height\\\":144,\\\"width\\\":256,\\\"type\\\":\\\"JPG\\\",\\\"uri\\\":\\\"//cdn.cnn.com/cnnnext/dam/assets/120322021734-nat-france-standoff-ends-00001530-hp-video.jpg\\\"},\\\"xsmall\\\":{\\\"height\\\":169,\\\"width\\\":300,\\\"type\\\":\\\"JPG\\\",\\\"uri\\\":\\\"//cdn.cnn.com/cnnnext/dam/assets/120322021734-nat-france-standoff-ends-00001530-story-body.jpg\\\"},\\\"small\\\":{\\\"height\\\":360,\\\"width\\\":640,\\\"type\\\":\\\"JPG\\\",\\\"uri\\\":\\\"//cdn.cnn.com/cnnnext/dam/assets/120322021734-nat-france-standoff-ends-00001530-story-top.jpg\\\"},\\\"medium\\\":{\\\"height\\\":552,\\\"width\\\":980,\\\"type\\\":\\\"JPG\\\",\\\"uri\\\":\\\"//cdn.cnn.com/cnnnext/dam/assets/120322021734-nat-france-standoff-ends-00001530-horizontal-large-gallery.jpg\\\"},\\\"large\\\":{\\\"height\\\":552,\\\"width\\\":980,\\\"type\\\":\\\"JPG\\\",\\\"uri\\\":\\\"//cdn.cnn.com/cnnnext/dam/assets/120322021734-nat-france-standoff-ends-00001530-horizontal-large-gallery.jpg\\\"},\\\"full16x9\\\":{\\\"height\\\":552,\\\"width\\\":980,\\\"type\\\":\\\"JPG\\\",\\\"uri\\\":\\\"//cdn.cnn.com/cnnnext/dam/assets/120322021734-nat-france-standoff-ends-00001530-horizontal-large-gallery.jpg\\\"},\\\"mini1x1\\\":{\\\"height\\\":60,\\\"width\\\":60,\\\"type\\\":\\\"JPG\\\",\\\"uri\\\":\\\"//cdn.cnn.com/cnnnext/dam/assets/120322021734-nat-france-standoff-ends-00001530-topics.jpg\\\"}}},autoStartVideo = false,isVideoReplayClicked = false,callbackObj,containerEl,currentVideoCollection = [],currentVideoCollectionId = '',isLivePlayer = false,mediaMetadataCallbacks,mobilePinnedView = null,moveToNextTimeout,mutePlayerEnabled = false,nextVideoId = '',nextVideoUrl = '',turnOnFlashMessaging = false,videoPinner,videoEndSlateImpl;if (CNN.autoPlayVideoExist === false) {autoStartVideo = false;autoStartVideo = typeof CNN.isLoggedInVideoCheck === 'function' ? CNN.isLoggedInVideoCheck(autoStartVideo) : autoStartVideo;if (autoStartVideo === true) {if (turnOnFlashMessaging === true) {autoStartVideo = false;containerEl = jQuery(document.getElementById(configObj.markupId));CNN.VideoPlayer.showFlashSlate(containerEl);} else {CNN.autoPlayVideoExist = true;}}}configObj.autostart = CNN.Features.enableAutoplayBlock ? false : autoStartVideo;CNN.VideoPlayer.setPlayerProperties(configObj.markupId, autoStartVideo, isLivePlayer, isVideoReplayClicked, mutePlayerEnabled);CNN.VideoPlayer.setFirstVideoInCollection(currentVideoCollection, configObj.markupId);videoEndSlateImpl = new CNN.VideoEndSlate('body-text_20');function findNextVideo(currentVideoId) {var i,vidObj;if (currentVideoId && jQuery.isArray(currentVideoCollection) && currentVideoCollection.length > 0) {for (i = 0; i < currentVideoCollection.length; i++) {vidObj = currentVideoCollection[i];if (typeof vidObj !== 'undefined' && vidObj.videoId === currentVideoId) {if (i < currentVideoCollection.length - 1) {nextVideoId = currentVideoCollection[i + 1].videoId;nextVideoUrl = currentVideoCollection[i + 1].videoUrl;} else {nextVideoId = currentVideoCollection[0].videoId;nextVideoUrl = currentVideoCollection[0].videoUrl;}break;}}if (!nextVideoUrl) {nextVideoId = currentVideoCollection[0].videoId;nextVideoUrl = currentVideoCollection[0].videoUrl;}currentVideoCollectionId = (window.jsmd && window.jsmd.v && window.jsmd.v.eVar60) || nextVideoUrl.replace(/^.+\\\\/video\\\\/playlists\\\\/(.+)\\\\//, '$1');} else {nextVideoId = '';nextVideoUrl = '';}}findNextVideo('world/2012/03/22/nat-france-standoff-ends.cnn');function navigateToNextVideo(currentVideoId, containerId) {var $endSlate,nextVideoPlayTimeout = 1500;findNextVideo(currentVideoId);if (nextVideoUrl) {moveToNextTimeout = setTimeout(function () {location.href = nextVideoUrl;}, nextVideoPlayTimeout);} else {$endSlate = jQuery(document.getElementById(containerId)).parent().find('.js-video__end-slate').eq(0);if ($endSlate.length > 0) {videoEndSlateImpl.showEndSlateForContainer();if (mobilePinnedView) {mobilePinnedView.disable();}}}}callbackObj = {onPlayerReady: function (containerId) {var playerInstance,containerClassId = '#' + containerId;CNN.VideoPlayer.handleInitialExpandableVideoState(containerId);CNN.VideoPlayer.handleAdOnCVPVisibilityChange(containerId, CNN.pageVis.isDocumentVisible());if (CNN.Features.enableMobileWebFloatingPlayer &&Modernizr &&(Modernizr.phone || Modernizr.mobile || Modernizr.tablet) &&CNN.VideoPlayer.getLibraryName(containerId) === 'fave' &&jQuery(containerClassId).parents('.js-pg-rail-tall__head').length > 0 &&CNN.contentModel.pageType === 'article') {playerInstance = FAVE.player.getInstance(containerId);mobilePinnedView = new CNN.MobilePinnedView({element: jQuery(containerClassId),enabled: false,transition: CNN.MobileWebFloatingPlayer.transition,onPin: function () {playerInstance.hideUI();},onUnpin: function () {playerInstance.showUI();},onPlayerClick: function () {if (mobilePinnedView) {playerInstance.enterFullscreen();playerInstance.showUI();}},onDismiss: function() {CNN.Videx.mobile.pinnedPlayer.disable();playerInstance.pause();}});/* Storing pinned view on CNN.Videx.mobile.pinnedPlayer So that all players can see the single pinned player */CNN.Videx = CNN.Videx || {};CNN.Videx.mobile = CNN.Videx.mobile || {};CNN.Videx.mobile.pinnedPlayer = mobilePinnedView;}if (Modernizr && !Modernizr.phone && !Modernizr.mobile && !Modernizr.tablet) {if (jQuery(containerClassId).parents('.js-pg-rail-tall__head').length) {videoPinner = new CNN.VideoPinner(containerClassId);videoPinner.init();} else {CNN.VideoPlayer.hideThumbnail(containerId);}}},onContentEntryLoad: function(containerId, playerId, contentid, isQueue) {CNN.VideoPlayer.showSpinner(containerId);},onContentPause: function (containerId, playerId, videoId, paused) {if (mobilePinnedView) {CNN.VideoPlayer.handleMobilePinnedPlayerStates(containerId, paused);}},onContentMetadata: function (containerId, playerId, metadata, contentId, duration, width, height) {var endSlateLen = jQuery(document.getElementById(containerId)).parent().find('.js-video__end-slate').eq(0).length;CNN.VideoSourceUtils.updateSource(containerId, metadata);if (endSlateLen > 0) {videoEndSlateImpl.fetchAndShowRecommendedVideos(metadata);}},onAdPlay: function (containerId, cvpId, token, mode, id, duration, blockId, adType) {/* Dismissing the pinnedPlayer if another video players plays an Ad */CNN.VideoPlayer.dismissMobilePinnedPlayer(containerId);clearTimeout(moveToNextTimeout);CNN.VideoPlayer.hideSpinner(containerId);if (Modernizr && !Modernizr.phone && !Modernizr.mobile && !Modernizr.tablet) {if (typeof videoPinner !== 'undefined' && videoPinner !== null) {videoPinner.setIsPlaying(true);videoPinner.animateDown();}}},onAdPause: function (containerId, playerId, token, mode, id, duration, blockId, adType, instance, isAdPause) {if (mobilePinnedView) {CNN.VideoPlayer.handleMobilePinnedPlayerStates(containerId, isAdPause);}},onTrackingFullscreen: function (containerId, PlayerId, dataObj) {CNN.VideoPlayer.handleFullscreenChange(containerId, dataObj);if (mobilePinnedView &&typeof dataObj === 'object' &&FAVE.Utils.os === 'iOS' && !dataObj.fullscreen) {jQuery(document).scrollTop(mobilePinnedView.getScrollPosition());playerInstance.hideUI();}},onContentPlay: function (containerId, cvpId, event) {var playerInstance,prevVideoId;if (CNN.companion && typeof CNN.companion.updateCompanionLayout === 'function') {CNN.companion.updateCompanionLayout('restoreEpicAds');}clearTimeout(moveToNextTimeout);CNN.VideoPlayer.hideSpinner(containerId);if (Modernizr && !Modernizr.phone && !Modernizr.mobile && !Modernizr.tablet) {if (typeof videoPinner !== 'undefined' && videoPinner !== null) {videoPinner.setIsPlaying(true);videoPinner.animateDown();}}},onContentReplayRequest: function (containerId, cvpId, contentId) {if (Modernizr && !Modernizr.phone && !Modernizr.mobile && !Modernizr.tablet) {if (typeof videoPinner !== 'undefined' && videoPinner !== null) {videoPinner.setIsPlaying(true);var $endSlate = jQuery(document.getElementById(containerId)).parent().find('.js-video__end-slate').eq(0);if ($endSlate.length > 0) {$endSlate.removeClass('video__end-slate--active').addClass('video__end-slate--inactive');}}}},onContentBegin: function (containerId, cvpId, contentId) {if (mobilePinnedView) {mobilePinnedView.enable();}/* Dismissing the pinnedPlayer if another video players plays a video. */CNN.VideoPlayer.dismissMobilePinnedPlayer(containerId);CNN.VideoPlayer.mutePlayer(containerId);if (CNN.companion && typeof CNN.companion.updateCompanionLayout === 'function') {CNN.companion.updateCompanionLayout('removeEpicAds');}CNN.VideoPlayer.hideSpinner(containerId);clearTimeout(moveToNextTimeout);CNN.VideoSourceUtils.clearSource(containerId);jQuery(document).triggerVideoContentStarted();},onContentComplete: function (containerId, cvpId, contentId) {if (CNN.companion && typeof CNN.companion.updateCompanionLayout === 'function') {CNN.companion.updateCompanionLayout('restoreFreewheel');}navigateToNextVideo(contentId, containerId);},onContentEnd: function (containerId, cvpId, contentId) {if (Modernizr && !Modernizr.phone && !Modernizr.mobile && !Modernizr.tablet) {if (typeof videoPinner !== 'undefined' && videoPinner !== null) {videoPinner.setIsPlaying(false);}}},onCVPVisibilityChange: function (containerId, cvpId, visible) {CNN.VideoPlayer.handleAdOnCVPVisibilityChange(containerId, visible);}};if (typeof configObj.context !== 'string' || configObj.context.length <= 0) {configObj.context = 'europe'.replace(/[\\\\(\\\\)\\\\-]/g, '');}if (typeof configObj.adsection === 'undefined' && typeof window.ssid === 'string' && window.ssid.length > 0) {configObj.adsection = window.ssid;}CNN.autoPlayVideoExist = (CNN.autoPlayVideoExist === true) ? true : false;CNN.VideoPlayer.getLibrary(configObj, callbackObj, isLivePlayer);});CNN.INJECTOR.scriptComplete('videodemanddust');</script><div class=\\\"js-media__video media__video\\\" id=\\\"media__video_body-text_20--wrapper\\\"><div id=\\\"body-text_20--thumbnail\\\" class=\\\"media__video--thumbnail\\\"><img class=\\\"media__image media__image--responsive\\\" alt=\\\"Gunfire heard as police carried out raid\\\" data-src-mini=\\\"//cdn.cnn.com/cnnnext/dam/assets/120322021734-nat-france-standoff-ends-00001530-hp-video.jpg\\\" data-src-xsmall=\\\"//cdn.cnn.com/cnnnext/dam/assets/120322021734-nat-france-standoff-ends-00001530-story-body.jpg\\\" data-src-small=\\\"//cdn.cnn.com/cnnnext/dam/assets/120322021734-nat-france-standoff-ends-00001530-story-top.jpg\\\" data-src-medium=\\\"//cdn.cnn.com/cnnnext/dam/assets/120322021734-nat-france-standoff-ends-00001530-horizontal-large-gallery.jpg\\\" data-src-large=\\\"//cdn.cnn.com/cnnnext/dam/assets/120322021734-nat-france-standoff-ends-00001530-horizontal-large-gallery.jpg\\\" data-src-full16x9=\\\"//cdn.cnn.com/cnnnext/dam/assets/120322021734-nat-france-standoff-ends-00001530-horizontal-large-gallery.jpg\\\" data-src-mini1x1=\\\"//cdn.cnn.com/cnnnext/dam/assets/120322021734-nat-france-standoff-ends-00001530-topics.jpg\\\" data-demand-load=\\\"not-loaded\\\" data-eq-pts=\\\"mini: 0, xsmall: 221, small: 308, medium: 461, large: 781\\\" src=\\\"data:image/gif;base64,R0lGODlhEAAJAJEAAAAAAP///////wAAACH5BAEAAAIALAAAAAAQAAkAAAIKlI+py+0Po5yUFQA7\\\"><div class=\\\"img__preloader\\\"></div><noscript><img alt=\\\"Gunfire heard as police carried out raid\\\" class=\\\"media__image\\\" src=\\\"//cdn.cnn.com/cnnnext/dam/assets/120322021734-nat-france-standoff-ends-00001530-story-top.jpg\\\"></noscript><div aria-hidden=\\\"true\\\" class=\\\"js-video-demand media__video--demand\\\"></div><div aria-hidden=\\\"true\\\" class=\\\"js-video-demand media__video--demand\\\"></div></div><div id=\\\"spinner_body-text_20\\\" class=\\\"video-red-spinner\\\"></div><div class=\\\"media__video--thumbnail-wrapper\\\"><div class=\\\"video__end-slate--inactive video__end-slate js-video__end-slate\\\" data-eq-pts=\\\"xsmall: 0, small: 300, medium: 460, large: 780\\\"><div class=\\\"l-container\\\"><div class=\\\"video__end-slate__top-wrapper\\\"><div class=\\\"js-el__video__replayer-wrapper el__video__replayer-wrapper\\\"><img alt=\\\"Gunfire heard as police carried out raid\\\" class=\\\"media__image\\\" src=\\\"//cdn.cnn.com/cnnnext/dam/assets/120322021734-nat-france-standoff-ends-00001530-story-top.jpg\\\"><a class=\\\"el__video__replay-button-wrapper\\\" href=\\\"javascript:void(0);\\\" title=\\\"Click to watch this video\\\"><div class=\\\"js-el__video__replay-button el__video__replay-button\\\"></div></a></div><div class=\\\"video__end-slate__secondary\\\"><ul class=\\\"cn cn-list-hierarchical-xs cn--idx-0\\\"><h3 class=\\\"cd__headline-title\\\">JUST WATCHED</h3><h2 class=\\\"cd__headline\\\"><span class=\\\"cd__headline-text js-cd__headline-text\\\">Gunfire heard as police carried out raid</span></h2></ul><div class=\\\"video__end-slate__replay\\\"><a class=\\\"js-video__end-slate__replay\\\"><div class=\\\"video__end-slate__replay-icon cnn-icon\\\"></div></a></div><div class=\\\"video__end-slate__engage__wrapper\\\"><div class=\\\"video__end-slate__engage__text\\\"><a class=\\\"js-video__end-slate__replay-text video__end-slate__replay-text\\\">Replay</a></div><div class=\\\"video__end-slate__engage__more\\\"><a href=\\\"/videos\\\" class=\\\"video__end-slate__replay-text\\\">More Videos ...</a></div></div></div></div><h4 class=\\\"video__end-slate__tertiary-title\\\">MUST WATCH</h4><div class=\\\"js-video__end-slate__tertiary video__end-slate__tertiary\\\"><div class=\\\"js-video__end-slate__carousel video__end-slate__carousel\\\"></div></div></div></div><script type=\\\"application/ld+json\\\" name=\\\"metaScript\\\">{\\\"@context\\\": \\\"https://schema.org\\\",\\\"@type\\\": \\\"VideoObject\\\",\\\"name\\\": \\\"Gunfire heard as police carried out raid\\\",\\\"description\\\": \\\"A CNN crew recorded intense gunfire as police raided Mohammed Merah&#39;s apartment\\\",\\\"thumbnailURL\\\": \\\"https://cdn.cnn.com/cnnnext/dam/assets/120322021734-nat-france-standoff-ends-00001530-story-top.jpg\\\",\\\"image\\\": \\\"https://cdn.cnn.com/cnnnext/dam/assets/120322021734-nat-france-standoff-ends-00001530-story-top.jpg\\\",\\\"duration\\\": \\\"PT53S\\\",\\\"uploadDate\\\": \\\"2012-03-22T14:26:08Z\\\",\\\"contentUrl\\\": \\\"https://edition.cnn.com/videos/world/2012/03/22/nat-france-standoff-ends.cnn\\\",\\\"url\\\": \\\"https://edition.cnn.com/videos/world/2012/03/22/nat-france-standoff-ends.cnn\\\",\\\"embedUrl\\\": \\\"https://fave.api.cnn.io/v1/fav/?video=world/2012/03/22/nat-france-standoff-ends.cnn&customer=cnn&edition=international&env=prod\\\"}</script><div id=\\\"body-text_20\\\" class=\\\"media__video--responsive \\\" data-video-id=\\\"world/2012/03/22/nat-france-standoff-ends.cnn\\\"></div><div id=\\\"body-text_20-metadata\\\" class=\\\"metadata\\\"><p class=\\\"metadata__source\\\"><span class=\\\"metadata__source-name\\\"></span></p></div></div><div class=\\\"media__caption el__storyelement__title\\\"><span class=\\\"el__storyelement__header\\\">Gunfire heard as police carried out raid</span> <span class=\\\"el__storyelement__gray\\\">00:52</span></div></div></div></div><div class=\\\"el__embedded el__embedded--standard\\\"><div class=\\\"el__video--standard js__video--standard\\\" data-autoplay=\\\"false\\\"><div class=\\\"el__video__close--standard js__video__close--standard el__storyelements--close cnn-icon\\\"></div><script>'use strict';CNN.Videx = CNN.Videx || {};CNN.Videx.mobile = {};CNN.INJECTOR.executeFeature('video').then(function () {CNN.VideoPlayer.handleUnmutePlayer = function handleUnmutePlayer(containerId, dataObj) {'use strict';var playerInstance,playerPropertyObj,rememberTime,unmuteCTA,unmuteIdSelector = 'unmute_' + containerId,isPlayerMute;dataObj = dataObj || {};if (CNN.VideoPlayer.getLibraryName(containerId) === 'fave') {playerInstance = FAVE.player.getInstance(containerId) || null;} else {playerInstance = containerId && window.cnnVideoManager.getPlayerByContainer(containerId).videoInstance.cvp || null;}isPlayerMute = (typeof dataObj.muted === 'boolean') ? dataObj.muted : false;if (CNN.VideoPlayer.playerProperties && CNN.VideoPlayer.playerProperties[containerId]) {playerPropertyObj = CNN.VideoPlayer.playerProperties[containerId];}if (playerPropertyObj.mute && playerPropertyObj.contentPlayed) {if (isPlayerMute === false) {unmuteCTA = jQuery(document.getElementById(unmuteIdSelector));playerInstance.unmute();if (unmuteCTA.length > 0) {unmuteCTA.removeClass('video__unmute--active').addClass('video__unmute--inactive');unmuteCTA.off('click');rememberTime = 0;if (rememberTime < 0) {rememberTime = 360 / 60;}CNN.Utils.storeLocalValue('unmute_europe', 'X', rememberTime);}} else {playerInstance.mute();}}};CNN.VideoPlayer.showFlashSlate = function showFlashSlate(container) {'use strict';var $vidEndSlate;$vidEndSlate = container.parent().find('.js-video__end-slate').eq(0);if ($vidEndSlate.length > 0) {$vidEndSlate.find('.l-container').html('<a href=\\\"https://get.adobe.com/flashplayer/\\\" target=\\\"_blank\\\"><div class=\\\"flash-slate\\\"></div></a>');$vidEndSlate.removeClass('video__end-slate--inactive').addClass('video__end-slate--active');}};CNN.autoPlayVideoExist = (CNN.autoPlayVideoExist === true) ? true : false;var configObj = {thumb: 'none',video: 'world/2012/03/22/magnay-france-suspect-dead.cnn',width: '100%',height: '100%',section: 'international',profile: 'expansion',network: 'cnn',markupId: 'body-text_21',theoplayer: {allowNativeFullscreen: true},adsection: 'const-article-inpage',frameWidth: '100%',frameHeight: '100%',posterImageOverride: {\\\"mini\\\":{\\\"height\\\":144,\\\"width\\\":256,\\\"type\\\":\\\"JPG\\\",\\\"uri\\\":\\\"//cdn.cnn.com/cnnnext/dam/assets/120322120338-france-toulouse-scene-police-hp-video.jpg\\\"},\\\"xsmall\\\":{\\\"height\\\":169,\\\"width\\\":300,\\\"type\\\":\\\"JPG\\\",\\\"uri\\\":\\\"//cdn.cnn.com/cnnnext/dam/assets/120322120338-france-toulouse-scene-police-story-body.jpg\\\"},\\\"small\\\":{\\\"height\\\":360,\\\"width\\\":640,\\\"type\\\":\\\"JPG\\\",\\\"uri\\\":\\\"//cdn.cnn.com/cnnnext/dam/assets/120322120338-france-toulouse-scene-police-story-top.jpg\\\"},\\\"medium\\\":{\\\"height\\\":552,\\\"width\\\":980,\\\"type\\\":\\\"JPG\\\",\\\"uri\\\":\\\"//cdn.cnn.com/cnnnext/dam/assets/120322120338-france-toulouse-scene-police-horizontal-large-gallery.jpg\\\"},\\\"large\\\":{\\\"height\\\":552,\\\"width\\\":980,\\\"type\\\":\\\"JPG\\\",\\\"uri\\\":\\\"//cdn.cnn.com/cnnnext/dam/assets/120322120338-france-toulouse-scene-police-horizontal-large-gallery.jpg\\\"},\\\"full16x9\\\":{\\\"height\\\":552,\\\"width\\\":980,\\\"type\\\":\\\"JPG\\\",\\\"uri\\\":\\\"//cdn.cnn.com/cnnnext/dam/assets/120322120338-france-toulouse-scene-police-horizontal-large-gallery.jpg\\\"},\\\"mini1x1\\\":{\\\"height\\\":60,\\\"width\\\":60,\\\"type\\\":\\\"JPG\\\",\\\"uri\\\":\\\"//cdn.cnn.com/cnnnext/dam/assets/120322120338-france-toulouse-scene-police-topics.jpg\\\"}}},autoStartVideo = false,isVideoReplayClicked = false,callbackObj,containerEl,currentVideoCollection = [],currentVideoCollectionId = '',isLivePlayer = false,mediaMetadataCallbacks,mobilePinnedView = null,moveToNextTimeout,mutePlayerEnabled = false,nextVideoId = '',nextVideoUrl = '',turnOnFlashMessaging = false,videoPinner,videoEndSlateImpl;if (CNN.autoPlayVideoExist === false) {autoStartVideo = false;autoStartVideo = typeof CNN.isLoggedInVideoCheck === 'function' ? CNN.isLoggedInVideoCheck(autoStartVideo) : autoStartVideo;if (autoStartVideo === true) {if (turnOnFlashMessaging === true) {autoStartVideo = false;containerEl = jQuery(document.getElementById(configObj.markupId));CNN.VideoPlayer.showFlashSlate(containerEl);} else {CNN.autoPlayVideoExist = true;}}}configObj.autostart = CNN.Features.enableAutoplayBlock ? false : autoStartVideo;CNN.VideoPlayer.setPlayerProperties(configObj.markupId, autoStartVideo, isLivePlayer, isVideoReplayClicked, mutePlayerEnabled);CNN.VideoPlayer.setFirstVideoInCollection(currentVideoCollection, configObj.markupId);videoEndSlateImpl = new CNN.VideoEndSlate('body-text_21');function findNextVideo(currentVideoId) {var i,vidObj;if (currentVideoId && jQuery.isArray(currentVideoCollection) && currentVideoCollection.length > 0) {for (i = 0; i < currentVideoCollection.length; i++) {vidObj = currentVideoCollection[i];if (typeof vidObj !== 'undefined' && vidObj.videoId === currentVideoId) {if (i < currentVideoCollection.length - 1) {nextVideoId = currentVideoCollection[i + 1].videoId;nextVideoUrl = currentVideoCollection[i + 1].videoUrl;} else {nextVideoId = currentVideoCollection[0].videoId;nextVideoUrl = currentVideoCollection[0].videoUrl;}break;}}if (!nextVideoUrl) {nextVideoId = currentVideoCollection[0].videoId;nextVideoUrl = currentVideoCollection[0].videoUrl;}currentVideoCollectionId = (window.jsmd && window.jsmd.v && window.jsmd.v.eVar60) || nextVideoUrl.replace(/^.+\\\\/video\\\\/playlists\\\\/(.+)\\\\//, '$1');} else {nextVideoId = '';nextVideoUrl = '';}}findNextVideo('world/2012/03/22/magnay-france-suspect-dead.cnn');function navigateToNextVideo(currentVideoId, containerId) {var $endSlate,nextVideoPlayTimeout = 1500;findNextVideo(currentVideoId);if (nextVideoUrl) {moveToNextTimeout = setTimeout(function () {location.href = nextVideoUrl;}, nextVideoPlayTimeout);} else {$endSlate = jQuery(document.getElementById(containerId)).parent().find('.js-video__end-slate').eq(0);if ($endSlate.length > 0) {videoEndSlateImpl.showEndSlateForContainer();if (mobilePinnedView) {mobilePinnedView.disable();}}}}callbackObj = {onPlayerReady: function (containerId) {var playerInstance,containerClassId = '#' + containerId;CNN.VideoPlayer.handleInitialExpandableVideoState(containerId);CNN.VideoPlayer.handleAdOnCVPVisibilityChange(containerId, CNN.pageVis.isDocumentVisible());if (CNN.Features.enableMobileWebFloatingPlayer &&Modernizr &&(Modernizr.phone || Modernizr.mobile || Modernizr.tablet) &&CNN.VideoPlayer.getLibraryName(containerId) === 'fave' &&jQuery(containerClassId).parents('.js-pg-rail-tall__head').length > 0 &&CNN.contentModel.pageType === 'article') {playerInstance = FAVE.player.getInstance(containerId);mobilePinnedView = new CNN.MobilePinnedView({element: jQuery(containerClassId),enabled: false,transition: CNN.MobileWebFloatingPlayer.transition,onPin: function () {playerInstance.hideUI();},onUnpin: function () {playerInstance.showUI();},onPlayerClick: function () {if (mobilePinnedView) {playerInstance.enterFullscreen();playerInstance.showUI();}},onDismiss: function() {CNN.Videx.mobile.pinnedPlayer.disable();playerInstance.pause();}});/* Storing pinned view on CNN.Videx.mobile.pinnedPlayer So that all players can see the single pinned player */CNN.Videx = CNN.Videx || {};CNN.Videx.mobile = CNN.Videx.mobile || {};CNN.Videx.mobile.pinnedPlayer = mobilePinnedView;}if (Modernizr && !Modernizr.phone && !Modernizr.mobile && !Modernizr.tablet) {if (jQuery(containerClassId).parents('.js-pg-rail-tall__head').length) {videoPinner = new CNN.VideoPinner(containerClassId);videoPinner.init();} else {CNN.VideoPlayer.hideThumbnail(containerId);}}},onContentEntryLoad: function(containerId, playerId, contentid, isQueue) {CNN.VideoPlayer.showSpinner(containerId);},onContentPause: function (containerId, playerId, videoId, paused) {if (mobilePinnedView) {CNN.VideoPlayer.handleMobilePinnedPlayerStates(containerId, paused);}},onContentMetadata: function (containerId, playerId, metadata, contentId, duration, width, height) {var endSlateLen = jQuery(document.getElementById(containerId)).parent().find('.js-video__end-slate').eq(0).length;CNN.VideoSourceUtils.updateSource(containerId, metadata);if (endSlateLen > 0) {videoEndSlateImpl.fetchAndShowRecommendedVideos(metadata);}},onAdPlay: function (containerId, cvpId, token, mode, id, duration, blockId, adType) {/* Dismissing the pinnedPlayer if another video players plays an Ad */CNN.VideoPlayer.dismissMobilePinnedPlayer(containerId);clearTimeout(moveToNextTimeout);CNN.VideoPlayer.hideSpinner(containerId);if (Modernizr && !Modernizr.phone && !Modernizr.mobile && !Modernizr.tablet) {if (typeof videoPinner !== 'undefined' && videoPinner !== null) {videoPinner.setIsPlaying(true);videoPinner.animateDown();}}},onAdPause: function (containerId, playerId, token, mode, id, duration, blockId, adType, instance, isAdPause) {if (mobilePinnedView) {CNN.VideoPlayer.handleMobilePinnedPlayerStates(containerId, isAdPause);}},onTrackingFullscreen: function (containerId, PlayerId, dataObj) {CNN.VideoPlayer.handleFullscreenChange(containerId, dataObj);if (mobilePinnedView &&typeof dataObj === 'object' &&FAVE.Utils.os === 'iOS' && !dataObj.fullscreen) {jQuery(document).scrollTop(mobilePinnedView.getScrollPosition());playerInstance.hideUI();}},onContentPlay: function (containerId, cvpId, event) {var playerInstance,prevVideoId;if (CNN.companion && typeof CNN.companion.updateCompanionLayout === 'function') {CNN.companion.updateCompanionLayout('restoreEpicAds');}clearTimeout(moveToNextTimeout);CNN.VideoPlayer.hideSpinner(containerId);if (Modernizr && !Modernizr.phone && !Modernizr.mobile && !Modernizr.tablet) {if (typeof videoPinner !== 'undefined' && videoPinner !== null) {videoPinner.setIsPlaying(true);videoPinner.animateDown();}}},onContentReplayRequest: function (containerId, cvpId, contentId) {if (Modernizr && !Modernizr.phone && !Modernizr.mobile && !Modernizr.tablet) {if (typeof videoPinner !== 'undefined' && videoPinner !== null) {videoPinner.setIsPlaying(true);var $endSlate = jQuery(document.getElementById(containerId)).parent().find('.js-video__end-slate').eq(0);if ($endSlate.length > 0) {$endSlate.removeClass('video__end-slate--active').addClass('video__end-slate--inactive');}}}},onContentBegin: function (containerId, cvpId, contentId) {if (mobilePinnedView) {mobilePinnedView.enable();}/* Dismissing the pinnedPlayer if another video players plays a video. */CNN.VideoPlayer.dismissMobilePinnedPlayer(containerId);CNN.VideoPlayer.mutePlayer(containerId);if (CNN.companion && typeof CNN.companion.updateCompanionLayout === 'function') {CNN.companion.updateCompanionLayout('removeEpicAds');}CNN.VideoPlayer.hideSpinner(containerId);clearTimeout(moveToNextTimeout);CNN.VideoSourceUtils.clearSource(containerId);jQuery(document).triggerVideoContentStarted();},onContentComplete: function (containerId, cvpId, contentId) {if (CNN.companion && typeof CNN.companion.updateCompanionLayout === 'function') {CNN.companion.updateCompanionLayout('restoreFreewheel');}navigateToNextVideo(contentId, containerId);},onContentEnd: function (containerId, cvpId, contentId) {if (Modernizr && !Modernizr.phone && !Modernizr.mobile && !Modernizr.tablet) {if (typeof videoPinner !== 'undefined' && videoPinner !== null) {videoPinner.setIsPlaying(false);}}},onCVPVisibilityChange: function (containerId, cvpId, visible) {CNN.VideoPlayer.handleAdOnCVPVisibilityChange(containerId, visible);}};if (typeof configObj.context !== 'string' || configObj.context.length <= 0) {configObj.context = 'europe'.replace(/[\\\\(\\\\)\\\\-]/g, '');}if (typeof configObj.adsection === 'undefined' && typeof window.ssid === 'string' && window.ssid.length > 0) {configObj.adsection = window.ssid;}CNN.autoPlayVideoExist = (CNN.autoPlayVideoExist === true) ? true : false;CNN.VideoPlayer.getLibrary(configObj, callbackObj, isLivePlayer);});CNN.INJECTOR.scriptComplete('videodemanddust');</script><div class=\\\"js-media__video media__video\\\" id=\\\"media__video_body-text_21--wrapper\\\"><div id=\\\"body-text_21--thumbnail\\\" class=\\\"media__video--thumbnail\\\"><img class=\\\"media__image media__image--responsive\\\" alt=\\\"Suspect in French terror attacks dead\\\" data-src-mini=\\\"//cdn.cnn.com/cnnnext/dam/assets/120322120338-france-toulouse-scene-police-hp-video.jpg\\\" data-src-xsmall=\\\"//cdn.cnn.com/cnnnext/dam/assets/120322120338-france-toulouse-scene-police-story-body.jpg\\\" data-src-small=\\\"//cdn.cnn.com/cnnnext/dam/assets/120322120338-france-toulouse-scene-police-story-top.jpg\\\" data-src-medium=\\\"//cdn.cnn.com/cnnnext/dam/assets/120322120338-france-toulouse-scene-police-horizontal-large-gallery.jpg\\\" data-src-large=\\\"//cdn.cnn.com/cnnnext/dam/assets/120322120338-france-toulouse-scene-police-horizontal-large-gallery.jpg\\\" data-src-full16x9=\\\"//cdn.cnn.com/cnnnext/dam/assets/120322120338-france-toulouse-scene-police-horizontal-large-gallery.jpg\\\" data-src-mini1x1=\\\"//cdn.cnn.com/cnnnext/dam/assets/120322120338-france-toulouse-scene-police-topics.jpg\\\" data-demand-load=\\\"not-loaded\\\" data-eq-pts=\\\"mini: 0, xsmall: 221, small: 308, medium: 461, large: 781\\\" src=\\\"data:image/gif;base64,R0lGODlhEAAJAJEAAAAAAP///////wAAACH5BAEAAAIALAAAAAAQAAkAAAIKlI+py+0Po5yUFQA7\\\"><div class=\\\"img__preloader\\\"></div><noscript><img alt=\\\"Suspect in French terror attacks dead\\\" class=\\\"media__image\\\" src=\\\"//cdn.cnn.com/cnnnext/dam/assets/120322120338-france-toulouse-scene-police-story-top.jpg\\\"></noscript><div aria-hidden=\\\"true\\\" class=\\\"js-video-demand media__video--demand\\\"></div><div aria-hidden=\\\"true\\\" class=\\\"js-video-demand media__video--demand\\\"></div></div><div id=\\\"spinner_body-text_21\\\" class=\\\"video-red-spinner\\\"></div><div class=\\\"media__video--thumbnail-wrapper\\\"><div class=\\\"video__end-slate--inactive video__end-slate js-video__end-slate\\\" data-eq-pts=\\\"xsmall: 0, small: 300, medium: 460, large: 780\\\"><div class=\\\"l-container\\\"><div class=\\\"video__end-slate__top-wrapper\\\"><div class=\\\"js-el__video__replayer-wrapper el__video__replayer-wrapper\\\"><img alt=\\\"Suspect in French terror attacks dead\\\" class=\\\"media__image\\\" src=\\\"//cdn.cnn.com/cnnnext/dam/assets/120322120338-france-toulouse-scene-police-story-top.jpg\\\"><a class=\\\"el__video__replay-button-wrapper\\\" href=\\\"javascript:void(0);\\\" title=\\\"Click to watch this video\\\"><div class=\\\"js-el__video__replay-button el__video__replay-button\\\"></div></a></div><div class=\\\"video__end-slate__secondary\\\"><ul class=\\\"cn cn-list-hierarchical-xs cn--idx-0\\\"><h3 class=\\\"cd__headline-title\\\">JUST WATCHED</h3><h2 class=\\\"cd__headline\\\"><span class=\\\"cd__headline-text js-cd__headline-text\\\">Suspect in French terror attacks dead</span></h2></ul><div class=\\\"video__end-slate__replay\\\"><a class=\\\"js-video__end-slate__replay\\\"><div class=\\\"video__end-slate__replay-icon cnn-icon\\\"></div></a></div><div class=\\\"video__end-slate__engage__wrapper\\\"><div class=\\\"video__end-slate__engage__text\\\"><a class=\\\"js-video__end-slate__replay-text video__end-slate__replay-text\\\">Replay</a></div><div class=\\\"video__end-slate__engage__more\\\"><a href=\\\"/videos\\\" class=\\\"video__end-slate__replay-text\\\">More Videos ...</a></div></div></div></div><h4 class=\\\"video__end-slate__tertiary-title\\\">MUST WATCH</h4><div class=\\\"js-video__end-slate__tertiary video__end-slate__tertiary\\\"><div class=\\\"js-video__end-slate__carousel video__end-slate__carousel\\\"></div></div></div></div><script type=\\\"application/ld+json\\\" name=\\\"metaScript\\\">{\\\"@context\\\": \\\"https://schema.org\\\",\\\"@type\\\": \\\"VideoObject\\\",\\\"name\\\": \\\"Suspect in French terror attacks dead\\\",\\\"description\\\": \\\"Authorities say Toulouse suspect Mohammed Merah jumped out of a window to his death, ending a lengthy standoff.\\\",\\\"thumbnailURL\\\": \\\"https://cdn.cnn.com/cnnnext/dam/assets/120322120338-france-toulouse-scene-police-story-top.jpg\\\",\\\"image\\\": \\\"https://cdn.cnn.com/cnnnext/dam/assets/120322120338-france-toulouse-scene-police-story-top.jpg\\\",\\\"duration\\\": \\\"PT2M25S\\\",\\\"uploadDate\\\": \\\"2012-03-22T12:09:21Z\\\",\\\"contentUrl\\\": \\\"https://edition.cnn.com/videos/world/2012/03/22/magnay-france-suspect-dead.cnn\\\",\\\"url\\\": \\\"https://edition.cnn.com/videos/world/2012/03/22/magnay-france-suspect-dead.cnn\\\",\\\"embedUrl\\\": \\\"https://fave.api.cnn.io/v1/fav/?video=world/2012/03/22/magnay-france-suspect-dead.cnn&customer=cnn&edition=international&env=prod\\\"}</script><div id=\\\"body-text_21\\\" class=\\\"media__video--responsive \\\" data-video-id=\\\"world/2012/03/22/magnay-france-suspect-dead.cnn\\\"></div><div id=\\\"body-text_21-metadata\\\" class=\\\"metadata\\\"><p class=\\\"metadata__source\\\"><span class=\\\"metadata__source-name\\\"></span></p></div></div><div class=\\\"media__caption el__storyelement__title\\\"><span class=\\\"el__storyelement__header\\\">Suspect in French terror attacks dead</span> <span class=\\\"el__storyelement__gray\\\">02:24</span></div></div></div></div><div class=\\\"el__embedded el__embedded--standard\\\"><div class=\\\"el__video--standard js__video--standard\\\" data-autoplay=\\\"false\\\"><div class=\\\"el__video__close--standard js__video__close--standard el__storyelements--close cnn-icon\\\"></div><script>'use strict';CNN.Videx = CNN.Videx || {};CNN.Videx.mobile = {};CNN.INJECTOR.executeFeature('video').then(function () {CNN.VideoPlayer.handleUnmutePlayer = function handleUnmutePlayer(containerId, dataObj) {'use strict';var playerInstance,playerPropertyObj,rememberTime,unmuteCTA,unmuteIdSelector = 'unmute_' + containerId,isPlayerMute;dataObj = dataObj || {};if (CNN.VideoPlayer.getLibraryName(containerId) === 'fave') {playerInstance = FAVE.player.getInstance(containerId) || null;} else {playerInstance = containerId && window.cnnVideoManager.getPlayerByContainer(containerId).videoInstance.cvp || null;}isPlayerMute = (typeof dataObj.muted === 'boolean') ? dataObj.muted : false;if (CNN.VideoPlayer.playerProperties && CNN.VideoPlayer.playerProperties[containerId]) {playerPropertyObj = CNN.VideoPlayer.playerProperties[containerId];}if (playerPropertyObj.mute && playerPropertyObj.contentPlayed) {if (isPlayerMute === false) {unmuteCTA = jQuery(document.getElementById(unmuteIdSelector));playerInstance.unmute();if (unmuteCTA.length > 0) {unmuteCTA.removeClass('video__unmute--active').addClass('video__unmute--inactive');unmuteCTA.off('click');rememberTime = 0;if (rememberTime < 0) {rememberTime = 360 / 60;}CNN.Utils.storeLocalValue('unmute_europe', 'X', rememberTime);}} else {playerInstance.mute();}}};CNN.VideoPlayer.showFlashSlate = function showFlashSlate(container) {'use strict';var $vidEndSlate;$vidEndSlate = container.parent().find('.js-video__end-slate').eq(0);if ($vidEndSlate.length > 0) {$vidEndSlate.find('.l-container').html('<a href=\\\"https://get.adobe.com/flashplayer/\\\" target=\\\"_blank\\\"><div class=\\\"flash-slate\\\"></div></a>');$vidEndSlate.removeClass('video__end-slate--inactive').addClass('video__end-slate--active');}};CNN.autoPlayVideoExist = (CNN.autoPlayVideoExist === true) ? true : false;var configObj = {thumb: 'none',video: 'bestoftv/2012/03/22/exp-point-townsend-french-shooter.cnn',width: '100%',height: '100%',section: 'international',profile: 'expansion',network: 'cnn',markupId: 'body-text_22',theoplayer: {allowNativeFullscreen: true},adsection: 'const-article-inpage',frameWidth: '100%',frameHeight: '100%',posterImageOverride: {\\\"mini\\\":{\\\"height\\\":144,\\\"width\\\":256,\\\"type\\\":\\\"JPG\\\",\\\"uri\\\":\\\"//cdn.cnn.com/cnnnext/dam/assets/120322113848-exp-point-townsend-french-shooter-00002001-hp-video.jpg\\\"},\\\"xsmall\\\":{\\\"height\\\":169,\\\"width\\\":300,\\\"type\\\":\\\"JPG\\\",\\\"uri\\\":\\\"//cdn.cnn.com/cnnnext/dam/assets/120322113848-exp-point-townsend-french-shooter-00002001-story-body.jpg\\\"},\\\"small\\\":{\\\"height\\\":360,\\\"width\\\":640,\\\"type\\\":\\\"JPG\\\",\\\"uri\\\":\\\"//cdn.cnn.com/cnnnext/dam/assets/120322113848-exp-point-townsend-french-shooter-00002001-story-top.jpg\\\"},\\\"medium\\\":{\\\"height\\\":552,\\\"width\\\":980,\\\"type\\\":\\\"JPG\\\",\\\"uri\\\":\\\"//cdn.cnn.com/cnnnext/dam/assets/120322113848-exp-point-townsend-french-shooter-00002001-horizontal-large-gallery.jpg\\\"},\\\"large\\\":{\\\"height\\\":552,\\\"width\\\":980,\\\"type\\\":\\\"JPG\\\",\\\"uri\\\":\\\"//cdn.cnn.com/cnnnext/dam/assets/120322113848-exp-point-townsend-french-shooter-00002001-horizontal-large-gallery.jpg\\\"},\\\"full16x9\\\":{\\\"height\\\":552,\\\"width\\\":980,\\\"type\\\":\\\"JPG\\\",\\\"uri\\\":\\\"//cdn.cnn.com/cnnnext/dam/assets/120322113848-exp-point-townsend-french-shooter-00002001-horizontal-large-gallery.jpg\\\"},\\\"mini1x1\\\":{\\\"height\\\":60,\\\"width\\\":60,\\\"type\\\":\\\"JPG\\\",\\\"uri\\\":\\\"//cdn.cnn.com/cnnnext/dam/assets/120322113848-exp-point-townsend-french-shooter-00002001-topics.jpg\\\"}}},autoStartVideo = false,isVideoReplayClicked = false,callbackObj,containerEl,currentVideoCollection = [],currentVideoCollectionId = '',isLivePlayer = false,mediaMetadataCallbacks,mobilePinnedView = null,moveToNextTimeout,mutePlayerEnabled = false,nextVideoId = '',nextVideoUrl = '',turnOnFlashMessaging = false,videoPinner,videoEndSlateImpl;if (CNN.autoPlayVideoExist === false) {autoStartVideo = false;autoStartVideo = typeof CNN.isLoggedInVideoCheck === 'function' ? CNN.isLoggedInVideoCheck(autoStartVideo) : autoStartVideo;if (autoStartVideo === true) {if (turnOnFlashMessaging === true) {autoStartVideo = false;containerEl = jQuery(document.getElementById(configObj.markupId));CNN.VideoPlayer.showFlashSlate(containerEl);} else {CNN.autoPlayVideoExist = true;}}}configObj.autostart = CNN.Features.enableAutoplayBlock ? false : autoStartVideo;CNN.VideoPlayer.setPlayerProperties(configObj.markupId, autoStartVideo, isLivePlayer, isVideoReplayClicked, mutePlayerEnabled);CNN.VideoPlayer.setFirstVideoInCollection(currentVideoCollection, configObj.markupId);videoEndSlateImpl = new CNN.VideoEndSlate('body-text_22');function findNextVideo(currentVideoId) {var i,vidObj;if (currentVideoId && jQuery.isArray(currentVideoCollection) && currentVideoCollection.length > 0) {for (i = 0; i < currentVideoCollection.length; i++) {vidObj = currentVideoCollection[i];if (typeof vidObj !== 'undefined' && vidObj.videoId === currentVideoId) {if (i < currentVideoCollection.length - 1) {nextVideoId = currentVideoCollection[i + 1].videoId;nextVideoUrl = currentVideoCollection[i + 1].videoUrl;} else {nextVideoId = currentVideoCollection[0].videoId;nextVideoUrl = currentVideoCollection[0].videoUrl;}break;}}if (!nextVideoUrl) {nextVideoId = currentVideoCollection[0].videoId;nextVideoUrl = currentVideoCollection[0].videoUrl;}currentVideoCollectionId = (window.jsmd && window.jsmd.v && window.jsmd.v.eVar60) || nextVideoUrl.replace(/^.+\\\\/video\\\\/playlists\\\\/(.+)\\\\//, '$1');} else {nextVideoId = '';nextVideoUrl = '';}}findNextVideo('bestoftv/2012/03/22/exp-point-townsend-french-shooter.cnn');function navigateToNextVideo(currentVideoId, containerId) {var $endSlate,nextVideoPlayTimeout = 1500;findNextVideo(currentVideoId);if (nextVideoUrl) {moveToNextTimeout = setTimeout(function () {location.href = nextVideoUrl;}, nextVideoPlayTimeout);} else {$endSlate = jQuery(document.getElementById(containerId)).parent().find('.js-video__end-slate').eq(0);if ($endSlate.length > 0) {videoEndSlateImpl.showEndSlateForContainer();if (mobilePinnedView) {mobilePinnedView.disable();}}}}callbackObj = {onPlayerReady: function (containerId) {var playerInstance,containerClassId = '#' + containerId;CNN.VideoPlayer.handleInitialExpandableVideoState(containerId);CNN.VideoPlayer.handleAdOnCVPVisibilityChange(containerId, CNN.pageVis.isDocumentVisible());if (CNN.Features.enableMobileWebFloatingPlayer &&Modernizr &&(Modernizr.phone || Modernizr.mobile || Modernizr.tablet) &&CNN.VideoPlayer.getLibraryName(containerId) === 'fave' &&jQuery(containerClassId).parents('.js-pg-rail-tall__head').length > 0 &&CNN.contentModel.pageType === 'article') {playerInstance = FAVE.player.getInstance(containerId);mobilePinnedView = new CNN.MobilePinnedView({element: jQuery(containerClassId),enabled: false,transition: CNN.MobileWebFloatingPlayer.transition,onPin: function () {playerInstance.hideUI();},onUnpin: function () {playerInstance.showUI();},onPlayerClick: function () {if (mobilePinnedView) {playerInstance.enterFullscreen();playerInstance.showUI();}},onDismiss: function() {CNN.Videx.mobile.pinnedPlayer.disable();playerInstance.pause();}});/* Storing pinned view on CNN.Videx.mobile.pinnedPlayer So that all players can see the single pinned player */CNN.Videx = CNN.Videx || {};CNN.Videx.mobile = CNN.Videx.mobile || {};CNN.Videx.mobile.pinnedPlayer = mobilePinnedView;}if (Modernizr && !Modernizr.phone && !Modernizr.mobile && !Modernizr.tablet) {if (jQuery(containerClassId).parents('.js-pg-rail-tall__head').length) {videoPinner = new CNN.VideoPinner(containerClassId);videoPinner.init();} else {CNN.VideoPlayer.hideThumbnail(containerId);}}},onContentEntryLoad: function(containerId, playerId, contentid, isQueue) {CNN.VideoPlayer.showSpinner(containerId);},onContentPause: function (containerId, playerId, videoId, paused) {if (mobilePinnedView) {CNN.VideoPlayer.handleMobilePinnedPlayerStates(containerId, paused);}},onContentMetadata: function (containerId, playerId, metadata, contentId, duration, width, height) {var endSlateLen = jQuery(document.getElementById(containerId)).parent().find('.js-video__end-slate').eq(0).length;CNN.VideoSourceUtils.updateSource(containerId, metadata);if (endSlateLen > 0) {videoEndSlateImpl.fetchAndShowRecommendedVideos(metadata);}},onAdPlay: function (containerId, cvpId, token, mode, id, duration, blockId, adType) {/* Dismissing the pinnedPlayer if another video players plays an Ad */CNN.VideoPlayer.dismissMobilePinnedPlayer(containerId);clearTimeout(moveToNextTimeout);CNN.VideoPlayer.hideSpinner(containerId);if (Modernizr && !Modernizr.phone && !Modernizr.mobile && !Modernizr.tablet) {if (typeof videoPinner !== 'undefined' && videoPinner !== null) {videoPinner.setIsPlaying(true);videoPinner.animateDown();}}},onAdPause: function (containerId, playerId, token, mode, id, duration, blockId, adType, instance, isAdPause) {if (mobilePinnedView) {CNN.VideoPlayer.handleMobilePinnedPlayerStates(containerId, isAdPause);}},onTrackingFullscreen: function (containerId, PlayerId, dataObj) {CNN.VideoPlayer.handleFullscreenChange(containerId, dataObj);if (mobilePinnedView &&typeof dataObj === 'object' &&FAVE.Utils.os === 'iOS' && !dataObj.fullscreen) {jQuery(document).scrollTop(mobilePinnedView.getScrollPosition());playerInstance.hideUI();}},onContentPlay: function (containerId, cvpId, event) {var playerInstance,prevVideoId;if (CNN.companion && typeof CNN.companion.updateCompanionLayout === 'function') {CNN.companion.updateCompanionLayout('restoreEpicAds');}clearTimeout(moveToNextTimeout);CNN.VideoPlayer.hideSpinner(containerId);if (Modernizr && !Modernizr.phone && !Modernizr.mobile && !Modernizr.tablet) {if (typeof videoPinner !== 'undefined' && videoPinner !== null) {videoPinner.setIsPlaying(true);videoPinner.animateDown();}}},onContentReplayRequest: function (containerId, cvpId, contentId) {if (Modernizr && !Modernizr.phone && !Modernizr.mobile && !Modernizr.tablet) {if (typeof videoPinner !== 'undefined' && videoPinner !== null) {videoPinner.setIsPlaying(true);var $endSlate = jQuery(document.getElementById(containerId)).parent().find('.js-video__end-slate').eq(0);if ($endSlate.length > 0) {$endSlate.removeClass('video__end-slate--active').addClass('video__end-slate--inactive');}}}},onContentBegin: function (containerId, cvpId, contentId) {if (mobilePinnedView) {mobilePinnedView.enable();}/* Dismissing the pinnedPlayer if another video players plays a video. */CNN.VideoPlayer.dismissMobilePinnedPlayer(containerId);CNN.VideoPlayer.mutePlayer(containerId);if (CNN.companion && typeof CNN.companion.updateCompanionLayout === 'function') {CNN.companion.updateCompanionLayout('removeEpicAds');}CNN.VideoPlayer.hideSpinner(containerId);clearTimeout(moveToNextTimeout);CNN.VideoSourceUtils.clearSource(containerId);jQuery(document).triggerVideoContentStarted();},onContentComplete: function (containerId, cvpId, contentId) {if (CNN.companion && typeof CNN.companion.updateCompanionLayout === 'function') {CNN.companion.updateCompanionLayout('restoreFreewheel');}navigateToNextVideo(contentId, containerId);},onContentEnd: function (containerId, cvpId, contentId) {if (Modernizr && !Modernizr.phone && !Modernizr.mobile && !Modernizr.tablet) {if (typeof videoPinner !== 'undefined' && videoPinner !== null) {videoPinner.setIsPlaying(false);}}},onCVPVisibilityChange: function (containerId, cvpId, visible) {CNN.VideoPlayer.handleAdOnCVPVisibilityChange(containerId, visible);}};if (typeof configObj.context !== 'string' || configObj.context.length <= 0) {configObj.context = 'europe'.replace(/[\\\\(\\\\)\\\\-]/g, '');}if (typeof configObj.adsection === 'undefined' && typeof window.ssid === 'string' && window.ssid.length > 0) {configObj.adsection = window.ssid;}CNN.autoPlayVideoExist = (CNN.autoPlayVideoExist === true) ? true : false;CNN.VideoPlayer.getLibrary(configObj, callbackObj, isLivePlayer);});CNN.INJECTOR.scriptComplete('videodemanddust');</script><div class=\\\"js-media__video media__video\\\" id=\\\"media__video_body-text_22--wrapper\\\"><div id=\\\"body-text_22--thumbnail\\\" class=\\\"media__video--thumbnail\\\"><img class=\\\"media__image media__image--responsive\\\" alt=\\\"Townsend: Fear of &amp;#39;lone wolf&amp;#39; scenario\\\" data-src-mini=\\\"//cdn.cnn.com/cnnnext/dam/assets/120322113848-exp-point-townsend-french-shooter-00002001-hp-video.jpg\\\" data-src-xsmall=\\\"//cdn.cnn.com/cnnnext/dam/assets/120322113848-exp-point-townsend-french-shooter-00002001-story-body.jpg\\\" data-src-small=\\\"//cdn.cnn.com/cnnnext/dam/assets/120322113848-exp-point-townsend-french-shooter-00002001-story-top.jpg\\\" data-src-medium=\\\"//cdn.cnn.com/cnnnext/dam/assets/120322113848-exp-point-townsend-french-shooter-00002001-horizontal-large-gallery.jpg\\\" data-src-large=\\\"//cdn.cnn.com/cnnnext/dam/assets/120322113848-exp-point-townsend-french-shooter-00002001-horizontal-large-gallery.jpg\\\" data-src-full16x9=\\\"//cdn.cnn.com/cnnnext/dam/assets/120322113848-exp-point-townsend-french-shooter-00002001-horizontal-large-gallery.jpg\\\" data-src-mini1x1=\\\"//cdn.cnn.com/cnnnext/dam/assets/120322113848-exp-point-townsend-french-shooter-00002001-topics.jpg\\\" data-demand-load=\\\"not-loaded\\\" data-eq-pts=\\\"mini: 0, xsmall: 221, small: 308, medium: 461, large: 781\\\" src=\\\"data:image/gif;base64,R0lGODlhEAAJAJEAAAAAAP///////wAAACH5BAEAAAIALAAAAAAQAAkAAAIKlI+py+0Po5yUFQA7\\\"><div class=\\\"img__preloader\\\"></div><noscript><img alt=\\\"Townsend: Fear of &amp;#39;lone wolf&amp;#39; scenario\\\" class=\\\"media__image\\\" src=\\\"//cdn.cnn.com/cnnnext/dam/assets/120322113848-exp-point-townsend-french-shooter-00002001-story-top.jpg\\\"></noscript><div aria-hidden=\\\"true\\\" class=\\\"js-video-demand media__video--demand\\\"></div><div aria-hidden=\\\"true\\\" class=\\\"js-video-demand media__video--demand\\\"></div></div><div id=\\\"spinner_body-text_22\\\" class=\\\"video-red-spinner\\\"></div><div class=\\\"media__video--thumbnail-wrapper\\\"><div class=\\\"video__end-slate--inactive video__end-slate js-video__end-slate\\\" data-eq-pts=\\\"xsmall: 0, small: 300, medium: 460, large: 780\\\"><div class=\\\"l-container\\\"><div class=\\\"video__end-slate__top-wrapper\\\"><div class=\\\"js-el__video__replayer-wrapper el__video__replayer-wrapper\\\"><img alt=\\\"Townsend: Fear of 'lone wolf' scenario\\\" class=\\\"media__image\\\" src=\\\"//cdn.cnn.com/cnnnext/dam/assets/120322113848-exp-point-townsend-french-shooter-00002001-story-top.jpg\\\"><a class=\\\"el__video__replay-button-wrapper\\\" href=\\\"javascript:void(0);\\\" title=\\\"Click to watch this video\\\"><div class=\\\"js-el__video__replay-button el__video__replay-button\\\"></div></a></div><div class=\\\"video__end-slate__secondary\\\"><ul class=\\\"cn cn-list-hierarchical-xs cn--idx-0\\\"><h3 class=\\\"cd__headline-title\\\">JUST WATCHED</h3><h2 class=\\\"cd__headline\\\"><span class=\\\"cd__headline-text js-cd__headline-text\\\">Townsend: Fear of 'lone wolf' scenario</span></h2></ul><div class=\\\"video__end-slate__replay\\\"><a class=\\\"js-video__end-slate__replay\\\"><div class=\\\"video__end-slate__replay-icon cnn-icon\\\"></div></a></div><div class=\\\"video__end-slate__engage__wrapper\\\"><div class=\\\"video__end-slate__engage__text\\\"><a class=\\\"js-video__end-slate__replay-text video__end-slate__replay-text\\\">Replay</a></div><div class=\\\"video__end-slate__engage__more\\\"><a href=\\\"/videos\\\" class=\\\"video__end-slate__replay-text\\\">More Videos ...</a></div></div></div></div><h4 class=\\\"video__end-slate__tertiary-title\\\">MUST WATCH</h4><div class=\\\"js-video__end-slate__tertiary video__end-slate__tertiary\\\"><div class=\\\"js-video__end-slate__carousel video__end-slate__carousel\\\"></div></div></div></div><script type=\\\"application/ld+json\\\" name=\\\"metaScript\\\">{\\\"@context\\\": \\\"https://schema.org\\\",\\\"@type\\\": \\\"VideoObject\\\",\\\"name\\\": \\\"Townsend: Fear of &#39;lone wolf&#39; scenario\\\",\\\"description\\\": \\\"CNN national security contributor Fran Townsend says France shooter is France&#39;s version of our fear about a &#39;lone wolf.&#39;\\\",\\\"thumbnailURL\\\": \\\"https://cdn.cnn.com/cnnnext/dam/assets/120322113848-exp-point-townsend-french-shooter-00002001-story-top.jpg\\\",\\\"image\\\": \\\"https://cdn.cnn.com/cnnnext/dam/assets/120322113848-exp-point-townsend-french-shooter-00002001-story-top.jpg\\\",\\\"duration\\\": \\\"PT3M17S\\\",\\\"uploadDate\\\": \\\"2012-03-22T12:01:28Z\\\",\\\"contentUrl\\\": \\\"https://edition.cnn.com/videos/bestoftv/2012/03/22/exp-point-townsend-french-shooter.cnn\\\",\\\"url\\\": \\\"https://edition.cnn.com/videos/bestoftv/2012/03/22/exp-point-townsend-french-shooter.cnn\\\",\\\"embedUrl\\\": \\\"https://fave.api.cnn.io/v1/fav/?video=bestoftv/2012/03/22/exp-point-townsend-french-shooter.cnn&customer=cnn&edition=international&env=prod\\\"}</script><div id=\\\"body-text_22\\\" class=\\\"media__video--responsive \\\" data-video-id=\\\"bestoftv/2012/03/22/exp-point-townsend-french-shooter.cnn\\\"></div><div id=\\\"body-text_22-metadata\\\" class=\\\"metadata\\\"><p class=\\\"metadata__source\\\"><span class=\\\"metadata__source-name\\\"></span></p></div></div><div class=\\\"media__caption el__storyelement__title\\\"><span class=\\\"el__storyelement__header\\\">Townsend: Fear of 'lone wolf' scenario</span> <span class=\\\"el__storyelement__gray\\\">03:16</span></div></div></div></div><div class=\\\"zn-body__paragraph\\\">The president, who had been lagging behind Hollande for most of the campaign, seems to have received an initial political boost from the tragedy, said political commentator Christian Malard, senior analyst for France 3 TV. \\\"Sarkozy is observed by many people to have been acting well and decisively during the crisis,\\\" he said. But the socialists were asking why it took more than 30 hours to kill Merah -- and how he could kill so many people while he was under surveillance by security services.</div><div class=\\\"zn-body__paragraph\\\">\\\"Sarkozy must tread warily: a year ago he oversaw the ban on Islamic veils in public but he is aware there are six million Muslims in France, half of them from North African former colonies, and he is careful to say few of them are radical.</div><div class=\\\"zn-body__paragraph\\\">\\\"So if Sarkozy is to beat Hollande he must win over the electorate of both the center, and the far-right of Le Pen. He needs all the people.\\\"</div><div class=\\\"zn-body__paragraph\\\">The crisis could yet have a negative effect on Sarkozy though, with the far-right saying that the government had failed to protect French people from Islamic fundamentalists. Thierry Arnaud, senior political correspondent for BFM TV, said that while Sarkozy had benefited from appearing statesmanlike in recent weeks it remained to be seen what long-term advantage he would gain. \\\"He is certainly anxious to resume campaigning\\\" to create momentum, Arnaud noted.</div><div class=\\\"zn-body__paragraph\\\"><strong>What impact will the attacks have on campaigning?</strong></div><div class=\\\"zn-body__paragraph\\\">Many voters are keen for the political rhetoric to cool and the focus to turn to more mundane matters. The state of the economy and unemployment, especially among the young and ethnic minorities, remains the main concern for most voters. For this reason, as Persico noted, Sarkozy may be keen to keep the focus on security and the Toulouse attacks -- issues on which he looks strong.</div><div class=\\\"zn-body__paragraph\\\">Before the crisis, Hollande was ahead in the polls thanks to a strong showing on economic issues, Malard said but added that even on this issue the president was gaining ground. \\\"Lots of people are telling me that between Hollande and Sarkozy, 'we might switch our votes to Sarkozy.' </div><div class=\\\"zn-body__paragraph\\\">\\\"This debate between Sarkozy and Hollande is turning into a battle between two heavyweight fighters, but amid the storm of the economic crisis and world upheavals a lot of people are coming back to Sarkozy.\\\"</div></div><div class=\\\"l-container\\\"><div class=\\\"video__end-slate__top-wrapper\\\"><div class=\\\"js-el__video__replayer-wrapper el__video__replayer-wrapper\\\"><img alt=\\\"Sarkozy calls for unity in France\\\" class=\\\"media__image\\\" src=\\\"//cdn.cnn.com/cnnnext/dam/assets/120322012920-sot-france-seige-sarkozy-statement-00020021-story-top.jpg\\\"><a class=\\\"el__video__replay-button-wrapper\\\" href=\\\"javascript:void(0);\\\" title=\\\"Click to watch this video\\\"><div class=\\\"js-el__video__replay-button el__video__replay-button\\\"></div></a></div><div class=\\\"video__end-slate__secondary\\\"><ul class=\\\"cn cn-list-hierarchical-xs cn--idx-0\\\"><h3 class=\\\"cd__headline-title\\\">JUST WATCHED</h3><h2 class=\\\"cd__headline\\\"><span class=\\\"cd__headline-text js-cd__headline-text\\\">Sarkozy calls for unity in France</span></h2></ul><div class=\\\"video__end-slate__replay\\\"><a class=\\\"js-video__end-slate__replay\\\"><div class=\\\"video__end-slate__replay-icon cnn-icon\\\"></div></a></div><div class=\\\"video__end-slate__engage__wrapper\\\"><div class=\\\"video__end-slate__engage__text\\\"><a class=\\\"js-video__end-slate__replay-text video__end-slate__replay-text\\\">Replay</a></div><div class=\\\"video__end-slate__engage__more\\\"><a href=\\\"/videos\\\" class=\\\"video__end-slate__replay-text\\\">More Videos ...</a></div></div></div></div><h4 class=\\\"video__end-slate__tertiary-title\\\">MUST WATCH</h4><div class=\\\"js-video__end-slate__tertiary video__end-slate__tertiary\\\"><div class=\\\"js-video__end-slate__carousel video__end-slate__carousel\\\"></div></div></div><div class=\\\"l-container\\\"><div class=\\\"video__end-slate__top-wrapper\\\"><div class=\\\"js-el__video__replayer-wrapper el__video__replayer-wrapper\\\"><img alt=\\\"Gunman's attack videos reportedly found \\\" class=\\\"media__image\\\" src=\\\"//cdn.cnn.com/cnnnext/dam/assets/120321110043-mohammed-merah-story-top.jpg\\\"><a class=\\\"el__video__replay-button-wrapper\\\" href=\\\"javascript:void(0);\\\" title=\\\"Click to watch this video\\\"><div class=\\\"js-el__video__replay-button el__video__replay-button\\\"></div></a></div><div class=\\\"video__end-slate__secondary\\\"><ul class=\\\"cn cn-list-hierarchical-xs cn--idx-0\\\"><h3 class=\\\"cd__headline-title\\\">JUST WATCHED</h3><h2 class=\\\"cd__headline\\\"><span class=\\\"cd__headline-text js-cd__headline-text\\\">Gunman's attack videos reportedly found </span></h2></ul><div class=\\\"video__end-slate__replay\\\"><a class=\\\"js-video__end-slate__replay\\\"><div class=\\\"video__end-slate__replay-icon cnn-icon\\\"></div></a></div><div class=\\\"video__end-slate__engage__wrapper\\\"><div class=\\\"video__end-slate__engage__text\\\"><a class=\\\"js-video__end-slate__replay-text video__end-slate__replay-text\\\">Replay</a></div><div class=\\\"video__end-slate__engage__more\\\"><a href=\\\"/videos\\\" class=\\\"video__end-slate__replay-text\\\">More Videos ...</a></div></div></div></div><h4 class=\\\"video__end-slate__tertiary-title\\\">MUST WATCH</h4><div class=\\\"js-video__end-slate__tertiary video__end-slate__tertiary\\\"><div class=\\\"js-video__end-slate__carousel video__end-slate__carousel\\\"></div></div></div><div class=\\\"l-container\\\"><div class=\\\"video__end-slate__top-wrapper\\\"><div class=\\\"js-el__video__replayer-wrapper el__video__replayer-wrapper\\\"><img alt=\\\"Gunfire heard as police carried out raid\\\" class=\\\"media__image\\\" src=\\\"//cdn.cnn.com/cnnnext/dam/assets/120322021734-nat-france-standoff-ends-00001530-story-top.jpg\\\"><a class=\\\"el__video__replay-button-wrapper\\\" href=\\\"javascript:void(0);\\\" title=\\\"Click to watch this video\\\"><div class=\\\"js-el__video__replay-button el__video__replay-button\\\"></div></a></div><div class=\\\"video__end-slate__secondary\\\"><ul class=\\\"cn cn-list-hierarchical-xs cn--idx-0\\\"><h3 class=\\\"cd__headline-title\\\">JUST WATCHED</h3><h2 class=\\\"cd__headline\\\"><span class=\\\"cd__headline-text js-cd__headline-text\\\">Gunfire heard as police carried out raid</span></h2></ul><div class=\\\"video__end-slate__replay\\\"><a class=\\\"js-video__end-slate__replay\\\"><div class=\\\"video__end-slate__replay-icon cnn-icon\\\"></div></a></div><div class=\\\"video__end-slate__engage__wrapper\\\"><div class=\\\"video__end-slate__engage__text\\\"><a class=\\\"js-video__end-slate__replay-text video__end-slate__replay-text\\\">Replay</a></div><div class=\\\"video__end-slate__engage__more\\\"><a href=\\\"/videos\\\" class=\\\"video__end-slate__replay-text\\\">More Videos ...</a></div></div></div></div><h4 class=\\\"video__end-slate__tertiary-title\\\">MUST WATCH</h4><div class=\\\"js-video__end-slate__tertiary video__end-slate__tertiary\\\"><div class=\\\"js-video__end-slate__carousel video__end-slate__carousel\\\"></div></div></div><div class=\\\"l-container\\\"><div class=\\\"video__end-slate__top-wrapper\\\"><div class=\\\"js-el__video__replayer-wrapper el__video__replayer-wrapper\\\"><img alt=\\\"Suspect in French terror attacks dead\\\" class=\\\"media__image\\\" src=\\\"//cdn.cnn.com/cnnnext/dam/assets/120322120338-france-toulouse-scene-police-story-top.jpg\\\"><a class=\\\"el__video__replay-button-wrapper\\\" href=\\\"javascript:void(0);\\\" title=\\\"Click to watch this video\\\"><div class=\\\"js-el__video__replay-button el__video__replay-button\\\"></div></a></div><div class=\\\"video__end-slate__secondary\\\"><ul class=\\\"cn cn-list-hierarchical-xs cn--idx-0\\\"><h3 class=\\\"cd__headline-title\\\">JUST WATCHED</h3><h2 class=\\\"cd__headline\\\"><span class=\\\"cd__headline-text js-cd__headline-text\\\">Suspect in French terror attacks dead</span></h2></ul><div class=\\\"video__end-slate__replay\\\"><a class=\\\"js-video__end-slate__replay\\\"><div class=\\\"video__end-slate__replay-icon cnn-icon\\\"></div></a></div><div class=\\\"video__end-slate__engage__wrapper\\\"><div class=\\\"video__end-slate__engage__text\\\"><a class=\\\"js-video__end-slate__replay-text video__end-slate__replay-text\\\">Replay</a></div><div class=\\\"video__end-slate__engage__more\\\"><a href=\\\"/videos\\\" class=\\\"video__end-slate__replay-text\\\">More Videos ...</a></div></div></div></div><h4 class=\\\"video__end-slate__tertiary-title\\\">MUST WATCH</h4><div class=\\\"js-video__end-slate__tertiary video__end-slate__tertiary\\\"><div class=\\\"js-video__end-slate__carousel video__end-slate__carousel\\\"></div></div></div><div class=\\\"l-container\\\"><div class=\\\"video__end-slate__top-wrapper\\\"><div class=\\\"js-el__video__replayer-wrapper el__video__replayer-wrapper\\\"><img alt=\\\"Townsend: Fear of 'lone wolf' scenario\\\" class=\\\"media__image\\\" src=\\\"//cdn.cnn.com/cnnnext/dam/assets/120322113848-exp-point-townsend-french-shooter-00002001-story-top.jpg\\\"><a class=\\\"el__video__replay-button-wrapper\\\" href=\\\"javascript:void(0);\\\" title=\\\"Click to watch this video\\\"><div class=\\\"js-el__video__replay-button el__video__replay-button\\\"></div></a></div><div class=\\\"video__end-slate__secondary\\\"><ul class=\\\"cn cn-list-hierarchical-xs cn--idx-0\\\"><h3 class=\\\"cd__headline-title\\\">JUST WATCHED</h3><h2 class=\\\"cd__headline\\\"><span class=\\\"cd__headline-text js-cd__headline-text\\\">Townsend: Fear of 'lone wolf' scenario</span></h2></ul><div class=\\\"video__end-slate__replay\\\"><a class=\\\"js-video__end-slate__replay\\\"><div class=\\\"video__end-slate__replay-icon cnn-icon\\\"></div></a></div><div class=\\\"video__end-slate__engage__wrapper\\\"><div class=\\\"video__end-slate__engage__text\\\"><a class=\\\"js-video__end-slate__replay-text video__end-slate__replay-text\\\">Replay</a></div><div class=\\\"video__end-slate__engage__more\\\"><a href=\\\"/videos\\\" class=\\\"video__end-slate__replay-text\\\">More Videos ...</a></div></div></div></div><h4 class=\\\"video__end-slate__tertiary-title\\\">MUST WATCH</h4><div class=\\\"js-video__end-slate__tertiary video__end-slate__tertiary\\\"><div class=\\\"js-video__end-slate__carousel video__end-slate__carousel\\\"></div></div></div>\",\n          \"<div class=\\\"l-container\\\"><div class=\\\"el__leafmedia el__leafmedia--storyhighlights\\\"><div class=\\\"el__storyhighlights_wrapper\\\"><div class=\\\"el__storyhighlights\\\"><h3 class=\\\"el__headline\\\">Story highlights</h3><ul class=\\\"el__storyhighlights__list\\\"><li class=\\\"el__storyhighlights__item el__storyhighlights--normal\\\">Blue clay used at Madrid Masters this year has been banned by the ATP for all 2013 World Tour events </li><li class=\\\"el__storyhighlights__item el__storyhighlights--normal\\\">Rafael Nadal and Novak Djokovic voiced disapproval after losing matches on surface</li><li class=\\\"el__storyhighlights__item el__storyhighlights--normal\\\">Surface pioneered by former Romanian tennis star and businessman Ion Tiriac</li></ul></div><div class=\\\"ad ad--epic\\\" data-ad-text=\\\"show\\\"></div></div></div><div class=\\\"zn-body__paragraph speakable\\\">The blue clay used at this year's Madrid Masters which was severely criticized by world No.1 Novak Djokovic and Rafael Nadal has been banned from all ATP World Tour events in 2013. </div><div class=\\\"zn-body__paragraph speakable\\\">The announcement was made after a meeting of the ATP Board of Directors in London on Saturday. </div><div class=\\\"zn-body__paragraph speakable\\\">\\\"After careful consideration, I have decided that blue clay courts will not be allowed next year. I very much believe in innovation and exploring ways to enhance our sport. While the blue clay may have offered better visibility on television, there were clearly issues with the quality of the courts in Madrid this year ...\\\" Executive Chairman and President Brad Drewett said in a statement.   </div><div class=\\\"zn-body__paragraph\\\">\\\"Regardless of color, we must first ensure that courts are safe and fair for players,\\\" he added.</div><div class=\\\"zn-body__paragraph\\\"><a href=\\\"http://edition.cnn.com/2012/06/22/sport/tennis/kvitova-wimbledon-sharapova-tennis/index.html\\\">Kvitova: 'Tennis without pressure is boring'</a></div><div class=\\\"el__embedded el__embedded--standard\\\"><div class=\\\"el__video--standard js__video--standard\\\" data-autoplay=\\\"false\\\"><div class=\\\"el__video__close--standard js__video__close--standard el__storyelements--close cnn-icon\\\"></div><script>'use strict';CNN.Videx = CNN.Videx || {};CNN.Videx.mobile = {};CNN.INJECTOR.executeFeature('video').then(function () {CNN.VideoPlayer.handleUnmutePlayer = function handleUnmutePlayer(containerId, dataObj) {'use strict';var playerInstance,playerPropertyObj,rememberTime,unmuteCTA,unmuteIdSelector = 'unmute_' + containerId,isPlayerMute;dataObj = dataObj || {};if (CNN.VideoPlayer.getLibraryName(containerId) === 'fave') {playerInstance = FAVE.player.getInstance(containerId) || null;} else {playerInstance = containerId && window.cnnVideoManager.getPlayerByContainer(containerId).videoInstance.cvp || null;}isPlayerMute = (typeof dataObj.muted === 'boolean') ? dataObj.muted : false;if (CNN.VideoPlayer.playerProperties && CNN.VideoPlayer.playerProperties[containerId]) {playerPropertyObj = CNN.VideoPlayer.playerProperties[containerId];}if (playerPropertyObj.mute && playerPropertyObj.contentPlayed) {if (isPlayerMute === false) {unmuteCTA = jQuery(document.getElementById(unmuteIdSelector));playerInstance.unmute();if (unmuteCTA.length > 0) {unmuteCTA.removeClass('video__unmute--active').addClass('video__unmute--inactive');unmuteCTA.off('click');rememberTime = 0;if (rememberTime < 0) {rememberTime = 360 / 60;}CNN.Utils.storeLocalValue('unmute_tennis', 'X', rememberTime);}} else {playerInstance.mute();}}};CNN.VideoPlayer.showFlashSlate = function showFlashSlate(container) {'use strict';var $vidEndSlate;$vidEndSlate = container.parent().find('.js-video__end-slate').eq(0);if ($vidEndSlate.length > 0) {$vidEndSlate.find('.l-container').html('<a href=\\\"https://get.adobe.com/flashplayer/\\\" target=\\\"_blank\\\"><div class=\\\"flash-slate\\\"></div></a>');$vidEndSlate.removeClass('video__end-slate--inactive').addClass('video__end-slate--active');}};CNN.autoPlayVideoExist = (CNN.autoPlayVideoExist === true) ? true : false;var configObj = {thumb: 'none',video: 'sports/2012/06/22/tennis-nadal-djokovic-sharapova.cnn',width: '100%',height: '100%',section: 'international',profile: 'expansion',network: 'cnn',markupId: 'body-text_6',theoplayer: {allowNativeFullscreen: true},adsection: 'const-article-inpage',frameWidth: '100%',frameHeight: '100%',posterImageOverride: {\\\"mini\\\":{\\\"height\\\":144,\\\"width\\\":256,\\\"type\\\":\\\"JPG\\\",\\\"uri\\\":\\\"//cdn.cnn.com/cnnnext/dam/assets/120622073638-tennis-nadal-djokovic-sharapova-00003226-hp-video.jpg\\\"},\\\"xsmall\\\":{\\\"height\\\":169,\\\"width\\\":300,\\\"type\\\":\\\"JPG\\\",\\\"uri\\\":\\\"//cdn.cnn.com/cnnnext/dam/assets/120622073638-tennis-nadal-djokovic-sharapova-00003226-story-body.jpg\\\"},\\\"small\\\":{\\\"height\\\":360,\\\"width\\\":640,\\\"type\\\":\\\"JPG\\\",\\\"uri\\\":\\\"//cdn.cnn.com/cnnnext/dam/assets/120622073638-tennis-nadal-djokovic-sharapova-00003226-story-top.jpg\\\"},\\\"medium\\\":{\\\"height\\\":552,\\\"width\\\":980,\\\"type\\\":\\\"JPG\\\",\\\"uri\\\":\\\"//cdn.cnn.com/cnnnext/dam/assets/120622073638-tennis-nadal-djokovic-sharapova-00003226-horizontal-large-gallery.jpg\\\"},\\\"large\\\":{\\\"height\\\":552,\\\"width\\\":980,\\\"type\\\":\\\"JPG\\\",\\\"uri\\\":\\\"//cdn.cnn.com/cnnnext/dam/assets/120622073638-tennis-nadal-djokovic-sharapova-00003226-horizontal-large-gallery.jpg\\\"},\\\"full16x9\\\":{\\\"height\\\":552,\\\"width\\\":980,\\\"type\\\":\\\"JPG\\\",\\\"uri\\\":\\\"//cdn.cnn.com/cnnnext/dam/assets/120622073638-tennis-nadal-djokovic-sharapova-00003226-horizontal-large-gallery.jpg\\\"},\\\"mini1x1\\\":{\\\"height\\\":60,\\\"width\\\":60,\\\"type\\\":\\\"JPG\\\",\\\"uri\\\":\\\"//cdn.cnn.com/cnnnext/dam/assets/120622073638-tennis-nadal-djokovic-sharapova-00003226-topics.jpg\\\"}}},autoStartVideo = false,isVideoReplayClicked = false,callbackObj,containerEl,currentVideoCollection = [],currentVideoCollectionId = '',isLivePlayer = false,mediaMetadataCallbacks,mobilePinnedView = null,moveToNextTimeout,mutePlayerEnabled = false,nextVideoId = '',nextVideoUrl = '',turnOnFlashMessaging = false,videoPinner,videoEndSlateImpl;if (CNN.autoPlayVideoExist === false) {autoStartVideo = false;autoStartVideo = typeof CNN.isLoggedInVideoCheck === 'function' ? CNN.isLoggedInVideoCheck(autoStartVideo) : autoStartVideo;if (autoStartVideo === true) {if (turnOnFlashMessaging === true) {autoStartVideo = false;containerEl = jQuery(document.getElementById(configObj.markupId));CNN.VideoPlayer.showFlashSlate(containerEl);} else {CNN.autoPlayVideoExist = true;}}}configObj.autostart = CNN.Features.enableAutoplayBlock ? false : autoStartVideo;CNN.VideoPlayer.setPlayerProperties(configObj.markupId, autoStartVideo, isLivePlayer, isVideoReplayClicked, mutePlayerEnabled);CNN.VideoPlayer.setFirstVideoInCollection(currentVideoCollection, configObj.markupId);videoEndSlateImpl = new CNN.VideoEndSlate('body-text_6');function findNextVideo(currentVideoId) {var i,vidObj;if (currentVideoId && jQuery.isArray(currentVideoCollection) && currentVideoCollection.length > 0) {for (i = 0; i < currentVideoCollection.length; i++) {vidObj = currentVideoCollection[i];if (typeof vidObj !== 'undefined' && vidObj.videoId === currentVideoId) {if (i < currentVideoCollection.length - 1) {nextVideoId = currentVideoCollection[i + 1].videoId;nextVideoUrl = currentVideoCollection[i + 1].videoUrl;} else {nextVideoId = currentVideoCollection[0].videoId;nextVideoUrl = currentVideoCollection[0].videoUrl;}break;}}if (!nextVideoUrl) {nextVideoId = currentVideoCollection[0].videoId;nextVideoUrl = currentVideoCollection[0].videoUrl;}currentVideoCollectionId = (window.jsmd && window.jsmd.v && window.jsmd.v.eVar60) || nextVideoUrl.replace(/^.+\\\\/video\\\\/playlists\\\\/(.+)\\\\//, '$1');} else {nextVideoId = '';nextVideoUrl = '';}}findNextVideo('sports/2012/06/22/tennis-nadal-djokovic-sharapova.cnn');function navigateToNextVideo(currentVideoId, containerId) {var $endSlate,nextVideoPlayTimeout = 1500;findNextVideo(currentVideoId);if (nextVideoUrl) {moveToNextTimeout = setTimeout(function () {location.href = nextVideoUrl;}, nextVideoPlayTimeout);} else {$endSlate = jQuery(document.getElementById(containerId)).parent().find('.js-video__end-slate').eq(0);if ($endSlate.length > 0) {videoEndSlateImpl.showEndSlateForContainer();if (mobilePinnedView) {mobilePinnedView.disable();}}}}callbackObj = {onPlayerReady: function (containerId) {var playerInstance,containerClassId = '#' + containerId;CNN.VideoPlayer.handleInitialExpandableVideoState(containerId);CNN.VideoPlayer.handleAdOnCVPVisibilityChange(containerId, CNN.pageVis.isDocumentVisible());if (CNN.Features.enableMobileWebFloatingPlayer &&Modernizr &&(Modernizr.phone || Modernizr.mobile || Modernizr.tablet) &&CNN.VideoPlayer.getLibraryName(containerId) === 'fave' &&jQuery(containerClassId).parents('.js-pg-rail-tall__head').length > 0 &&CNN.contentModel.pageType === 'article') {playerInstance = FAVE.player.getInstance(containerId);mobilePinnedView = new CNN.MobilePinnedView({element: jQuery(containerClassId),enabled: false,transition: CNN.MobileWebFloatingPlayer.transition,onPin: function () {playerInstance.hideUI();},onUnpin: function () {playerInstance.showUI();},onPlayerClick: function () {if (mobilePinnedView) {playerInstance.enterFullscreen();playerInstance.showUI();}},onDismiss: function() {CNN.Videx.mobile.pinnedPlayer.disable();playerInstance.pause();}});/* Storing pinned view on CNN.Videx.mobile.pinnedPlayer So that all players can see the single pinned player */CNN.Videx = CNN.Videx || {};CNN.Videx.mobile = CNN.Videx.mobile || {};CNN.Videx.mobile.pinnedPlayer = mobilePinnedView;}if (Modernizr && !Modernizr.phone && !Modernizr.mobile && !Modernizr.tablet) {if (jQuery(containerClassId).parents('.js-pg-rail-tall__head').length) {videoPinner = new CNN.VideoPinner(containerClassId);videoPinner.init();} else {CNN.VideoPlayer.hideThumbnail(containerId);}}},onContentEntryLoad: function(containerId, playerId, contentid, isQueue) {CNN.VideoPlayer.showSpinner(containerId);},onContentPause: function (containerId, playerId, videoId, paused) {if (mobilePinnedView) {CNN.VideoPlayer.handleMobilePinnedPlayerStates(containerId, paused);}},onContentMetadata: function (containerId, playerId, metadata, contentId, duration, width, height) {var endSlateLen = jQuery(document.getElementById(containerId)).parent().find('.js-video__end-slate').eq(0).length;CNN.VideoSourceUtils.updateSource(containerId, metadata);if (endSlateLen > 0) {videoEndSlateImpl.fetchAndShowRecommendedVideos(metadata);}},onAdPlay: function (containerId, cvpId, token, mode, id, duration, blockId, adType) {/* Dismissing the pinnedPlayer if another video players plays an Ad */CNN.VideoPlayer.dismissMobilePinnedPlayer(containerId);clearTimeout(moveToNextTimeout);CNN.VideoPlayer.hideSpinner(containerId);if (Modernizr && !Modernizr.phone && !Modernizr.mobile && !Modernizr.tablet) {if (typeof videoPinner !== 'undefined' && videoPinner !== null) {videoPinner.setIsPlaying(true);videoPinner.animateDown();}}},onAdPause: function (containerId, playerId, token, mode, id, duration, blockId, adType, instance, isAdPause) {if (mobilePinnedView) {CNN.VideoPlayer.handleMobilePinnedPlayerStates(containerId, isAdPause);}},onTrackingFullscreen: function (containerId, PlayerId, dataObj) {CNN.VideoPlayer.handleFullscreenChange(containerId, dataObj);if (mobilePinnedView &&typeof dataObj === 'object' &&FAVE.Utils.os === 'iOS' && !dataObj.fullscreen) {jQuery(document).scrollTop(mobilePinnedView.getScrollPosition());playerInstance.hideUI();}},onContentPlay: function (containerId, cvpId, event) {var playerInstance,prevVideoId;if (CNN.companion && typeof CNN.companion.updateCompanionLayout === 'function') {CNN.companion.updateCompanionLayout('restoreEpicAds');}clearTimeout(moveToNextTimeout);CNN.VideoPlayer.hideSpinner(containerId);if (Modernizr && !Modernizr.phone && !Modernizr.mobile && !Modernizr.tablet) {if (typeof videoPinner !== 'undefined' && videoPinner !== null) {videoPinner.setIsPlaying(true);videoPinner.animateDown();}}},onContentReplayRequest: function (containerId, cvpId, contentId) {if (Modernizr && !Modernizr.phone && !Modernizr.mobile && !Modernizr.tablet) {if (typeof videoPinner !== 'undefined' && videoPinner !== null) {videoPinner.setIsPlaying(true);var $endSlate = jQuery(document.getElementById(containerId)).parent().find('.js-video__end-slate').eq(0);if ($endSlate.length > 0) {$endSlate.removeClass('video__end-slate--active').addClass('video__end-slate--inactive');}}}},onContentBegin: function (containerId, cvpId, contentId) {if (mobilePinnedView) {mobilePinnedView.enable();}/* Dismissing the pinnedPlayer if another video players plays a video. */CNN.VideoPlayer.dismissMobilePinnedPlayer(containerId);CNN.VideoPlayer.mutePlayer(containerId);if (CNN.companion && typeof CNN.companion.updateCompanionLayout === 'function') {CNN.companion.updateCompanionLayout('removeEpicAds');}CNN.VideoPlayer.hideSpinner(containerId);clearTimeout(moveToNextTimeout);CNN.VideoSourceUtils.clearSource(containerId);jQuery(document).triggerVideoContentStarted();},onContentComplete: function (containerId, cvpId, contentId) {if (CNN.companion && typeof CNN.companion.updateCompanionLayout === 'function') {CNN.companion.updateCompanionLayout('restoreFreewheel');}navigateToNextVideo(contentId, containerId);},onContentEnd: function (containerId, cvpId, contentId) {if (Modernizr && !Modernizr.phone && !Modernizr.mobile && !Modernizr.tablet) {if (typeof videoPinner !== 'undefined' && videoPinner !== null) {videoPinner.setIsPlaying(false);}}},onCVPVisibilityChange: function (containerId, cvpId, visible) {CNN.VideoPlayer.handleAdOnCVPVisibilityChange(containerId, visible);}};if (typeof configObj.context !== 'string' || configObj.context.length <= 0) {configObj.context = 'tennis'.replace(/[\\\\(\\\\)\\\\-]/g, '');}if (typeof configObj.adsection === 'undefined' && typeof window.ssid === 'string' && window.ssid.length > 0) {configObj.adsection = window.ssid;}CNN.autoPlayVideoExist = (CNN.autoPlayVideoExist === true) ? true : false;CNN.VideoPlayer.getLibrary(configObj, callbackObj, isLivePlayer);});CNN.INJECTOR.scriptComplete('videodemanddust');</script><div class=\\\"js-media__video media__video\\\" id=\\\"media__video_body-text_6--wrapper\\\"><div id=\\\"body-text_6--thumbnail\\\" class=\\\"media__video--thumbnail\\\"><img class=\\\"media__image media__image--responsive\\\" alt=\\\"Who will taste Wimbledon glory?\\\" data-src-mini=\\\"//cdn.cnn.com/cnnnext/dam/assets/120622073638-tennis-nadal-djokovic-sharapova-00003226-hp-video.jpg\\\" data-src-xsmall=\\\"//cdn.cnn.com/cnnnext/dam/assets/120622073638-tennis-nadal-djokovic-sharapova-00003226-story-body.jpg\\\" data-src-small=\\\"//cdn.cnn.com/cnnnext/dam/assets/120622073638-tennis-nadal-djokovic-sharapova-00003226-story-top.jpg\\\" data-src-medium=\\\"//cdn.cnn.com/cnnnext/dam/assets/120622073638-tennis-nadal-djokovic-sharapova-00003226-horizontal-large-gallery.jpg\\\" data-src-large=\\\"//cdn.cnn.com/cnnnext/dam/assets/120622073638-tennis-nadal-djokovic-sharapova-00003226-horizontal-large-gallery.jpg\\\" data-src-full16x9=\\\"//cdn.cnn.com/cnnnext/dam/assets/120622073638-tennis-nadal-djokovic-sharapova-00003226-horizontal-large-gallery.jpg\\\" data-src-mini1x1=\\\"//cdn.cnn.com/cnnnext/dam/assets/120622073638-tennis-nadal-djokovic-sharapova-00003226-topics.jpg\\\" data-demand-load=\\\"not-loaded\\\" data-eq-pts=\\\"mini: 0, xsmall: 221, small: 308, medium: 461, large: 781\\\" src=\\\"data:image/gif;base64,R0lGODlhEAAJAJEAAAAAAP///////wAAACH5BAEAAAIALAAAAAAQAAkAAAIKlI+py+0Po5yUFQA7\\\"><div class=\\\"img__preloader\\\"></div><noscript><img alt=\\\"Who will taste Wimbledon glory?\\\" class=\\\"media__image\\\" src=\\\"//cdn.cnn.com/cnnnext/dam/assets/120622073638-tennis-nadal-djokovic-sharapova-00003226-story-top.jpg\\\"></noscript><div aria-hidden=\\\"true\\\" class=\\\"js-video-demand media__video--demand\\\"></div><div aria-hidden=\\\"true\\\" class=\\\"js-video-demand media__video--demand\\\"></div></div><div id=\\\"spinner_body-text_6\\\" class=\\\"video-red-spinner\\\"></div><div class=\\\"media__video--thumbnail-wrapper\\\"><div class=\\\"video__end-slate--inactive video__end-slate js-video__end-slate\\\" data-eq-pts=\\\"xsmall: 0, small: 300, medium: 460, large: 780\\\"><div class=\\\"l-container\\\"><div class=\\\"video__end-slate__top-wrapper\\\"><div class=\\\"js-el__video__replayer-wrapper el__video__replayer-wrapper\\\"><img alt=\\\"Who will taste Wimbledon glory?\\\" class=\\\"media__image\\\" src=\\\"//cdn.cnn.com/cnnnext/dam/assets/120622073638-tennis-nadal-djokovic-sharapova-00003226-story-top.jpg\\\"><a class=\\\"el__video__replay-button-wrapper\\\" href=\\\"javascript:void(0);\\\" title=\\\"Click to watch this video\\\"><div class=\\\"js-el__video__replay-button el__video__replay-button\\\"></div></a></div><div class=\\\"video__end-slate__secondary\\\"><ul class=\\\"cn cn-list-hierarchical-xs cn--idx-0\\\"><h3 class=\\\"cd__headline-title\\\">JUST WATCHED</h3><h2 class=\\\"cd__headline\\\"><span class=\\\"cd__headline-text js-cd__headline-text\\\">Who will taste Wimbledon glory?</span></h2></ul><div class=\\\"video__end-slate__replay\\\"><a class=\\\"js-video__end-slate__replay\\\"><div class=\\\"video__end-slate__replay-icon cnn-icon\\\"></div></a></div><div class=\\\"video__end-slate__engage__wrapper\\\"><div class=\\\"video__end-slate__engage__text\\\"><a class=\\\"js-video__end-slate__replay-text video__end-slate__replay-text\\\">Replay</a></div><div class=\\\"video__end-slate__engage__more\\\"><a href=\\\"/videos\\\" class=\\\"video__end-slate__replay-text\\\">More Videos ...</a></div></div></div></div><h4 class=\\\"video__end-slate__tertiary-title\\\">MUST WATCH</h4><div class=\\\"js-video__end-slate__tertiary video__end-slate__tertiary\\\"><div class=\\\"js-video__end-slate__carousel video__end-slate__carousel\\\"></div></div></div></div><script type=\\\"application/ld+json\\\" name=\\\"metaScript\\\">{\\\"@context\\\": \\\"https://schema.org\\\",\\\"@type\\\": \\\"VideoObject\\\",\\\"name\\\": \\\"Who will taste Wimbledon glory?\\\",\\\"description\\\": \\\"Open Court looks at the build up to this summer showdown for the men and women&#39;s titles.\\\",\\\"thumbnailURL\\\": \\\"https://cdn.cnn.com/cnnnext/dam/assets/120622073638-tennis-nadal-djokovic-sharapova-00003226-story-top.jpg\\\",\\\"image\\\": \\\"https://cdn.cnn.com/cnnnext/dam/assets/120622073638-tennis-nadal-djokovic-sharapova-00003226-story-top.jpg\\\",\\\"duration\\\": \\\"PT3M3S\\\",\\\"uploadDate\\\": \\\"2012-06-22T19:43:44Z\\\",\\\"contentUrl\\\": \\\"https://edition.cnn.com/videos/sports/2012/06/22/tennis-nadal-djokovic-sharapova.cnn\\\",\\\"url\\\": \\\"https://edition.cnn.com/videos/sports/2012/06/22/tennis-nadal-djokovic-sharapova.cnn\\\",\\\"embedUrl\\\": \\\"https://fave.api.cnn.io/v1/fav/?video=sports/2012/06/22/tennis-nadal-djokovic-sharapova.cnn&customer=cnn&edition=international&env=prod\\\"}</script><div id=\\\"body-text_6\\\" class=\\\"media__video--responsive \\\" data-video-id=\\\"sports/2012/06/22/tennis-nadal-djokovic-sharapova.cnn\\\"></div><div id=\\\"body-text_6-metadata\\\" class=\\\"metadata\\\"><p class=\\\"metadata__source\\\"><span class=\\\"metadata__source-name\\\"></span></p></div></div><div class=\\\"media__caption el__storyelement__title\\\"><span class=\\\"el__storyelement__header\\\">Who will taste Wimbledon glory?</span> <span class=\\\"el__storyelement__gray\\\">03:02</span></div></div></div></div><div class=\\\"el__embedded el__embedded--standard\\\"><div class=\\\"el__video--standard js__video--standard\\\" data-autoplay=\\\"false\\\"><div class=\\\"el__video__close--standard js__video__close--standard el__storyelements--close cnn-icon\\\"></div><script>'use strict';CNN.Videx = CNN.Videx || {};CNN.Videx.mobile = {};CNN.INJECTOR.executeFeature('video').then(function () {CNN.VideoPlayer.handleUnmutePlayer = function handleUnmutePlayer(containerId, dataObj) {'use strict';var playerInstance,playerPropertyObj,rememberTime,unmuteCTA,unmuteIdSelector = 'unmute_' + containerId,isPlayerMute;dataObj = dataObj || {};if (CNN.VideoPlayer.getLibraryName(containerId) === 'fave') {playerInstance = FAVE.player.getInstance(containerId) || null;} else {playerInstance = containerId && window.cnnVideoManager.getPlayerByContainer(containerId).videoInstance.cvp || null;}isPlayerMute = (typeof dataObj.muted === 'boolean') ? dataObj.muted : false;if (CNN.VideoPlayer.playerProperties && CNN.VideoPlayer.playerProperties[containerId]) {playerPropertyObj = CNN.VideoPlayer.playerProperties[containerId];}if (playerPropertyObj.mute && playerPropertyObj.contentPlayed) {if (isPlayerMute === false) {unmuteCTA = jQuery(document.getElementById(unmuteIdSelector));playerInstance.unmute();if (unmuteCTA.length > 0) {unmuteCTA.removeClass('video__unmute--active').addClass('video__unmute--inactive');unmuteCTA.off('click');rememberTime = 0;if (rememberTime < 0) {rememberTime = 360 / 60;}CNN.Utils.storeLocalValue('unmute_tennis', 'X', rememberTime);}} else {playerInstance.mute();}}};CNN.VideoPlayer.showFlashSlate = function showFlashSlate(container) {'use strict';var $vidEndSlate;$vidEndSlate = container.parent().find('.js-video__end-slate').eq(0);if ($vidEndSlate.length > 0) {$vidEndSlate.find('.l-container').html('<a href=\\\"https://get.adobe.com/flashplayer/\\\" target=\\\"_blank\\\"><div class=\\\"flash-slate\\\"></div></a>');$vidEndSlate.removeClass('video__end-slate--inactive').addClass('video__end-slate--active');}};CNN.autoPlayVideoExist = (CNN.autoPlayVideoExist === true) ? true : false;var configObj = {thumb: 'none',video: 'sports/2012/06/22/tennis-murray-wimbledon-lendl.cnn',width: '100%',height: '100%',section: 'international',profile: 'expansion',network: 'cnn',markupId: 'body-text_7',theoplayer: {allowNativeFullscreen: true},adsection: 'const-article-inpage',frameWidth: '100%',frameHeight: '100%',posterImageOverride: {\\\"mini\\\":{\\\"height\\\":144,\\\"width\\\":256,\\\"type\\\":\\\"JPG\\\",\\\"uri\\\":\\\"//cdn.cnn.com/cnnnext/dam/assets/120622073047-tennis-murray-wimbledon-lendl-00004004-hp-video.jpg\\\"},\\\"xsmall\\\":{\\\"height\\\":169,\\\"width\\\":300,\\\"type\\\":\\\"JPG\\\",\\\"uri\\\":\\\"//cdn.cnn.com/cnnnext/dam/assets/120622073047-tennis-murray-wimbledon-lendl-00004004-story-body.jpg\\\"},\\\"small\\\":{\\\"height\\\":360,\\\"width\\\":640,\\\"type\\\":\\\"JPG\\\",\\\"uri\\\":\\\"//cdn.cnn.com/cnnnext/dam/assets/120622073047-tennis-murray-wimbledon-lendl-00004004-story-top.jpg\\\"},\\\"medium\\\":{\\\"height\\\":552,\\\"width\\\":980,\\\"type\\\":\\\"JPG\\\",\\\"uri\\\":\\\"//cdn.cnn.com/cnnnext/dam/assets/120622073047-tennis-murray-wimbledon-lendl-00004004-horizontal-large-gallery.jpg\\\"},\\\"large\\\":{\\\"height\\\":552,\\\"width\\\":980,\\\"type\\\":\\\"JPG\\\",\\\"uri\\\":\\\"//cdn.cnn.com/cnnnext/dam/assets/120622073047-tennis-murray-wimbledon-lendl-00004004-horizontal-large-gallery.jpg\\\"},\\\"full16x9\\\":{\\\"height\\\":552,\\\"width\\\":980,\\\"type\\\":\\\"JPG\\\",\\\"uri\\\":\\\"//cdn.cnn.com/cnnnext/dam/assets/120622073047-tennis-murray-wimbledon-lendl-00004004-horizontal-large-gallery.jpg\\\"},\\\"mini1x1\\\":{\\\"height\\\":60,\\\"width\\\":60,\\\"type\\\":\\\"JPG\\\",\\\"uri\\\":\\\"//cdn.cnn.com/cnnnext/dam/assets/120622073047-tennis-murray-wimbledon-lendl-00004004-topics.jpg\\\"}}},autoStartVideo = false,isVideoReplayClicked = false,callbackObj,containerEl,currentVideoCollection = [],currentVideoCollectionId = '',isLivePlayer = false,mediaMetadataCallbacks,mobilePinnedView = null,moveToNextTimeout,mutePlayerEnabled = false,nextVideoId = '',nextVideoUrl = '',turnOnFlashMessaging = false,videoPinner,videoEndSlateImpl;if (CNN.autoPlayVideoExist === false) {autoStartVideo = false;autoStartVideo = typeof CNN.isLoggedInVideoCheck === 'function' ? CNN.isLoggedInVideoCheck(autoStartVideo) : autoStartVideo;if (autoStartVideo === true) {if (turnOnFlashMessaging === true) {autoStartVideo = false;containerEl = jQuery(document.getElementById(configObj.markupId));CNN.VideoPlayer.showFlashSlate(containerEl);} else {CNN.autoPlayVideoExist = true;}}}configObj.autostart = CNN.Features.enableAutoplayBlock ? false : autoStartVideo;CNN.VideoPlayer.setPlayerProperties(configObj.markupId, autoStartVideo, isLivePlayer, isVideoReplayClicked, mutePlayerEnabled);CNN.VideoPlayer.setFirstVideoInCollection(currentVideoCollection, configObj.markupId);videoEndSlateImpl = new CNN.VideoEndSlate('body-text_7');function findNextVideo(currentVideoId) {var i,vidObj;if (currentVideoId && jQuery.isArray(currentVideoCollection) && currentVideoCollection.length > 0) {for (i = 0; i < currentVideoCollection.length; i++) {vidObj = currentVideoCollection[i];if (typeof vidObj !== 'undefined' && vidObj.videoId === currentVideoId) {if (i < currentVideoCollection.length - 1) {nextVideoId = currentVideoCollection[i + 1].videoId;nextVideoUrl = currentVideoCollection[i + 1].videoUrl;} else {nextVideoId = currentVideoCollection[0].videoId;nextVideoUrl = currentVideoCollection[0].videoUrl;}break;}}if (!nextVideoUrl) {nextVideoId = currentVideoCollection[0].videoId;nextVideoUrl = currentVideoCollection[0].videoUrl;}currentVideoCollectionId = (window.jsmd && window.jsmd.v && window.jsmd.v.eVar60) || nextVideoUrl.replace(/^.+\\\\/video\\\\/playlists\\\\/(.+)\\\\//, '$1');} else {nextVideoId = '';nextVideoUrl = '';}}findNextVideo('sports/2012/06/22/tennis-murray-wimbledon-lendl.cnn');function navigateToNextVideo(currentVideoId, containerId) {var $endSlate,nextVideoPlayTimeout = 1500;findNextVideo(currentVideoId);if (nextVideoUrl) {moveToNextTimeout = setTimeout(function () {location.href = nextVideoUrl;}, nextVideoPlayTimeout);} else {$endSlate = jQuery(document.getElementById(containerId)).parent().find('.js-video__end-slate').eq(0);if ($endSlate.length > 0) {videoEndSlateImpl.showEndSlateForContainer();if (mobilePinnedView) {mobilePinnedView.disable();}}}}callbackObj = {onPlayerReady: function (containerId) {var playerInstance,containerClassId = '#' + containerId;CNN.VideoPlayer.handleInitialExpandableVideoState(containerId);CNN.VideoPlayer.handleAdOnCVPVisibilityChange(containerId, CNN.pageVis.isDocumentVisible());if (CNN.Features.enableMobileWebFloatingPlayer &&Modernizr &&(Modernizr.phone || Modernizr.mobile || Modernizr.tablet) &&CNN.VideoPlayer.getLibraryName(containerId) === 'fave' &&jQuery(containerClassId).parents('.js-pg-rail-tall__head').length > 0 &&CNN.contentModel.pageType === 'article') {playerInstance = FAVE.player.getInstance(containerId);mobilePinnedView = new CNN.MobilePinnedView({element: jQuery(containerClassId),enabled: false,transition: CNN.MobileWebFloatingPlayer.transition,onPin: function () {playerInstance.hideUI();},onUnpin: function () {playerInstance.showUI();},onPlayerClick: function () {if (mobilePinnedView) {playerInstance.enterFullscreen();playerInstance.showUI();}},onDismiss: function() {CNN.Videx.mobile.pinnedPlayer.disable();playerInstance.pause();}});/* Storing pinned view on CNN.Videx.mobile.pinnedPlayer So that all players can see the single pinned player */CNN.Videx = CNN.Videx || {};CNN.Videx.mobile = CNN.Videx.mobile || {};CNN.Videx.mobile.pinnedPlayer = mobilePinnedView;}if (Modernizr && !Modernizr.phone && !Modernizr.mobile && !Modernizr.tablet) {if (jQuery(containerClassId).parents('.js-pg-rail-tall__head').length) {videoPinner = new CNN.VideoPinner(containerClassId);videoPinner.init();} else {CNN.VideoPlayer.hideThumbnail(containerId);}}},onContentEntryLoad: function(containerId, playerId, contentid, isQueue) {CNN.VideoPlayer.showSpinner(containerId);},onContentPause: function (containerId, playerId, videoId, paused) {if (mobilePinnedView) {CNN.VideoPlayer.handleMobilePinnedPlayerStates(containerId, paused);}},onContentMetadata: function (containerId, playerId, metadata, contentId, duration, width, height) {var endSlateLen = jQuery(document.getElementById(containerId)).parent().find('.js-video__end-slate').eq(0).length;CNN.VideoSourceUtils.updateSource(containerId, metadata);if (endSlateLen > 0) {videoEndSlateImpl.fetchAndShowRecommendedVideos(metadata);}},onAdPlay: function (containerId, cvpId, token, mode, id, duration, blockId, adType) {/* Dismissing the pinnedPlayer if another video players plays an Ad */CNN.VideoPlayer.dismissMobilePinnedPlayer(containerId);clearTimeout(moveToNextTimeout);CNN.VideoPlayer.hideSpinner(containerId);if (Modernizr && !Modernizr.phone && !Modernizr.mobile && !Modernizr.tablet) {if (typeof videoPinner !== 'undefined' && videoPinner !== null) {videoPinner.setIsPlaying(true);videoPinner.animateDown();}}},onAdPause: function (containerId, playerId, token, mode, id, duration, blockId, adType, instance, isAdPause) {if (mobilePinnedView) {CNN.VideoPlayer.handleMobilePinnedPlayerStates(containerId, isAdPause);}},onTrackingFullscreen: function (containerId, PlayerId, dataObj) {CNN.VideoPlayer.handleFullscreenChange(containerId, dataObj);if (mobilePinnedView &&typeof dataObj === 'object' &&FAVE.Utils.os === 'iOS' && !dataObj.fullscreen) {jQuery(document).scrollTop(mobilePinnedView.getScrollPosition());playerInstance.hideUI();}},onContentPlay: function (containerId, cvpId, event) {var playerInstance,prevVideoId;if (CNN.companion && typeof CNN.companion.updateCompanionLayout === 'function') {CNN.companion.updateCompanionLayout('restoreEpicAds');}clearTimeout(moveToNextTimeout);CNN.VideoPlayer.hideSpinner(containerId);if (Modernizr && !Modernizr.phone && !Modernizr.mobile && !Modernizr.tablet) {if (typeof videoPinner !== 'undefined' && videoPinner !== null) {videoPinner.setIsPlaying(true);videoPinner.animateDown();}}},onContentReplayRequest: function (containerId, cvpId, contentId) {if (Modernizr && !Modernizr.phone && !Modernizr.mobile && !Modernizr.tablet) {if (typeof videoPinner !== 'undefined' && videoPinner !== null) {videoPinner.setIsPlaying(true);var $endSlate = jQuery(document.getElementById(containerId)).parent().find('.js-video__end-slate').eq(0);if ($endSlate.length > 0) {$endSlate.removeClass('video__end-slate--active').addClass('video__end-slate--inactive');}}}},onContentBegin: function (containerId, cvpId, contentId) {if (mobilePinnedView) {mobilePinnedView.enable();}/* Dismissing the pinnedPlayer if another video players plays a video. */CNN.VideoPlayer.dismissMobilePinnedPlayer(containerId);CNN.VideoPlayer.mutePlayer(containerId);if (CNN.companion && typeof CNN.companion.updateCompanionLayout === 'function') {CNN.companion.updateCompanionLayout('removeEpicAds');}CNN.VideoPlayer.hideSpinner(containerId);clearTimeout(moveToNextTimeout);CNN.VideoSourceUtils.clearSource(containerId);jQuery(document).triggerVideoContentStarted();},onContentComplete: function (containerId, cvpId, contentId) {if (CNN.companion && typeof CNN.companion.updateCompanionLayout === 'function') {CNN.companion.updateCompanionLayout('restoreFreewheel');}navigateToNextVideo(contentId, containerId);},onContentEnd: function (containerId, cvpId, contentId) {if (Modernizr && !Modernizr.phone && !Modernizr.mobile && !Modernizr.tablet) {if (typeof videoPinner !== 'undefined' && videoPinner !== null) {videoPinner.setIsPlaying(false);}}},onCVPVisibilityChange: function (containerId, cvpId, visible) {CNN.VideoPlayer.handleAdOnCVPVisibilityChange(containerId, visible);}};if (typeof configObj.context !== 'string' || configObj.context.length <= 0) {configObj.context = 'tennis'.replace(/[\\\\(\\\\)\\\\-]/g, '');}if (typeof configObj.adsection === 'undefined' && typeof window.ssid === 'string' && window.ssid.length > 0) {configObj.adsection = window.ssid;}CNN.autoPlayVideoExist = (CNN.autoPlayVideoExist === true) ? true : false;CNN.VideoPlayer.getLibrary(configObj, callbackObj, isLivePlayer);});CNN.INJECTOR.scriptComplete('videodemanddust');</script><div class=\\\"js-media__video media__video\\\" id=\\\"media__video_body-text_7--wrapper\\\"><div id=\\\"body-text_7--thumbnail\\\" class=\\\"media__video--thumbnail\\\"><img class=\\\"media__image media__image--responsive\\\" alt=\\\"Andy Murray&amp;#39;s secret weapon\\\" data-src-mini=\\\"//cdn.cnn.com/cnnnext/dam/assets/120622073047-tennis-murray-wimbledon-lendl-00004004-hp-video.jpg\\\" data-src-xsmall=\\\"//cdn.cnn.com/cnnnext/dam/assets/120622073047-tennis-murray-wimbledon-lendl-00004004-story-body.jpg\\\" data-src-small=\\\"//cdn.cnn.com/cnnnext/dam/assets/120622073047-tennis-murray-wimbledon-lendl-00004004-story-top.jpg\\\" data-src-medium=\\\"//cdn.cnn.com/cnnnext/dam/assets/120622073047-tennis-murray-wimbledon-lendl-00004004-horizontal-large-gallery.jpg\\\" data-src-large=\\\"//cdn.cnn.com/cnnnext/dam/assets/120622073047-tennis-murray-wimbledon-lendl-00004004-horizontal-large-gallery.jpg\\\" data-src-full16x9=\\\"//cdn.cnn.com/cnnnext/dam/assets/120622073047-tennis-murray-wimbledon-lendl-00004004-horizontal-large-gallery.jpg\\\" data-src-mini1x1=\\\"//cdn.cnn.com/cnnnext/dam/assets/120622073047-tennis-murray-wimbledon-lendl-00004004-topics.jpg\\\" data-demand-load=\\\"not-loaded\\\" data-eq-pts=\\\"mini: 0, xsmall: 221, small: 308, medium: 461, large: 781\\\" src=\\\"data:image/gif;base64,R0lGODlhEAAJAJEAAAAAAP///////wAAACH5BAEAAAIALAAAAAAQAAkAAAIKlI+py+0Po5yUFQA7\\\"><div class=\\\"img__preloader\\\"></div><noscript><img alt=\\\"Andy Murray&amp;#39;s secret weapon\\\" class=\\\"media__image\\\" src=\\\"//cdn.cnn.com/cnnnext/dam/assets/120622073047-tennis-murray-wimbledon-lendl-00004004-story-top.jpg\\\"></noscript><div aria-hidden=\\\"true\\\" class=\\\"js-video-demand media__video--demand\\\"></div><div aria-hidden=\\\"true\\\" class=\\\"js-video-demand media__video--demand\\\"></div></div><div id=\\\"spinner_body-text_7\\\" class=\\\"video-red-spinner\\\"></div><div class=\\\"media__video--thumbnail-wrapper\\\"><div class=\\\"video__end-slate--inactive video__end-slate js-video__end-slate\\\" data-eq-pts=\\\"xsmall: 0, small: 300, medium: 460, large: 780\\\"><div class=\\\"l-container\\\"><div class=\\\"video__end-slate__top-wrapper\\\"><div class=\\\"js-el__video__replayer-wrapper el__video__replayer-wrapper\\\"><img alt=\\\"Andy Murray's secret weapon\\\" class=\\\"media__image\\\" src=\\\"//cdn.cnn.com/cnnnext/dam/assets/120622073047-tennis-murray-wimbledon-lendl-00004004-story-top.jpg\\\"><a class=\\\"el__video__replay-button-wrapper\\\" href=\\\"javascript:void(0);\\\" title=\\\"Click to watch this video\\\"><div class=\\\"js-el__video__replay-button el__video__replay-button\\\"></div></a></div><div class=\\\"video__end-slate__secondary\\\"><ul class=\\\"cn cn-list-hierarchical-xs cn--idx-0\\\"><h3 class=\\\"cd__headline-title\\\">JUST WATCHED</h3><h2 class=\\\"cd__headline\\\"><span class=\\\"cd__headline-text js-cd__headline-text\\\">Andy Murray's secret weapon</span></h2></ul><div class=\\\"video__end-slate__replay\\\"><a class=\\\"js-video__end-slate__replay\\\"><div class=\\\"video__end-slate__replay-icon cnn-icon\\\"></div></a></div><div class=\\\"video__end-slate__engage__wrapper\\\"><div class=\\\"video__end-slate__engage__text\\\"><a class=\\\"js-video__end-slate__replay-text video__end-slate__replay-text\\\">Replay</a></div><div class=\\\"video__end-slate__engage__more\\\"><a href=\\\"/videos\\\" class=\\\"video__end-slate__replay-text\\\">More Videos ...</a></div></div></div></div><h4 class=\\\"video__end-slate__tertiary-title\\\">MUST WATCH</h4><div class=\\\"js-video__end-slate__tertiary video__end-slate__tertiary\\\"><div class=\\\"js-video__end-slate__carousel video__end-slate__carousel\\\"></div></div></div></div><script type=\\\"application/ld+json\\\" name=\\\"metaScript\\\">{\\\"@context\\\": \\\"https://schema.org\\\",\\\"@type\\\": \\\"VideoObject\\\",\\\"name\\\": \\\"Andy Murray&#39;s secret weapon\\\",\\\"description\\\": \\\"Can new coach Ivan Lendl be a catalyst for Wimbledon success for  Andy Murray?\\\",\\\"thumbnailURL\\\": \\\"https://cdn.cnn.com/cnnnext/dam/assets/120622073047-tennis-murray-wimbledon-lendl-00004004-story-top.jpg\\\",\\\"image\\\": \\\"https://cdn.cnn.com/cnnnext/dam/assets/120622073047-tennis-murray-wimbledon-lendl-00004004-story-top.jpg\\\",\\\"duration\\\": \\\"PT3M20S\\\",\\\"uploadDate\\\": \\\"2012-06-24T18:40:59Z\\\",\\\"contentUrl\\\": \\\"https://edition.cnn.com/videos/sports/2012/06/22/tennis-murray-wimbledon-lendl.cnn\\\",\\\"url\\\": \\\"https://edition.cnn.com/videos/sports/2012/06/22/tennis-murray-wimbledon-lendl.cnn\\\",\\\"embedUrl\\\": \\\"https://fave.api.cnn.io/v1/fav/?video=sports/2012/06/22/tennis-murray-wimbledon-lendl.cnn&customer=cnn&edition=international&env=prod\\\"}</script><div id=\\\"body-text_7\\\" class=\\\"media__video--responsive \\\" data-video-id=\\\"sports/2012/06/22/tennis-murray-wimbledon-lendl.cnn\\\"></div><div id=\\\"body-text_7-metadata\\\" class=\\\"metadata\\\"><p class=\\\"metadata__source\\\"><span class=\\\"metadata__source-name\\\"></span></p></div></div><div class=\\\"media__caption el__storyelement__title\\\"><span class=\\\"el__storyelement__header\\\">Andy Murray's secret weapon</span> <span class=\\\"el__storyelement__gray\\\">03:19</span></div></div></div></div><div class=\\\"zn-body__paragraph\\\">It brings an abrupt end to the use of the surface pioneered by former Romanian tennis star turned businessman Ion Tiriac as a way of improving visibility for television viewers. </div><div class=\\\"zn-body__paragraph\\\">\\\"Ion has been a great supporter of the game for many years and I continue to encourage his ideas, including the testing of blue clay at non-ATP World Tour events. At this time, however, it's clear that further development is required before it can be considered for use at the ATP World Tour level,\\\" Drewett said. </div><div class=\\\"zn-body__paragraph\\\"><a href=\\\"http://worldsport.blogs.cnn.com/2012/06/22/can-champions-djokovic-and-kvitova-emulate-wimbledon-greats/\\\">Can Djokovic and Kvitova emulate Wimbledon greats?</a></div><div class=\\\"zn-body__paragraph\\\">The move ensures that both <a href=\\\"http://edition.cnn.com/2012/05/10/sport/tennis/tennis-madrid-open-blue-nadal-loses/index.html\\\">Nadal </a>and Djokovic will return to play in Madrid next year after<a href=\\\"http://edition.cnn.com/2012/05/11/sport/tennis/tennis-djokovic-federer-serena-madrid/index.html\\\"> threatening to boycott </a>the event if the blue clay was retained. </div><div class=\\\"zn-body__paragraph\\\">After losing to fellow Serb Janko Tipsarevic in straight sets on the surface last month, Djokovic said he wanted to \\\"forget this week\\\" and move on to \\\"real\\\" clay courts. </div><div class=\\\"el__embedded el__embedded--standard\\\"><div class=\\\"el__image--standard js__image--standard\\\"><div><script type=\\\"application/ld+json\\\" name=\\\"metaScript\\\">{\\\"@context\\\": \\\"http://schema.org\\\",\\\"@type\\\": \\\"ImageObject\\\",}</script></div></div></div><div class=\\\"zn-body__paragraph\\\"><a href=\\\"http://edition.cnn.com/2012/06/18/sport/tennis/nalbandian-queens-tennis-tantrums/index.html\\\">'You cannot be serious!' Tennis' top tantrums</a></div><div class=\\\"zn-body__paragraph\\\">\\\"It took me at least a week to try to get used to this surface and somehow find a way to win matches and play a decent level of tennis. There is no discussion in my eyes, it's very simple. No blue clay for me,\\\" Djokovic said.</div><div class=\\\"zn-body__paragraph\\\">Ukrainian player Sergiy Stakhovsky also joined the chorus of disapproval tweeting in May that the \\\"blueclay court 6\\\" was \\\"the worst court of @ATPWorldTour.\\\"</div><div class=\\\"zn-body__paragraph\\\">\\\"Ha! Blue clay.. It looks like something Smurfs would play on,\\\" ran another tweet from Croatain Ivo Karlovic. </div></div><div class=\\\"l-container\\\"><div class=\\\"video__end-slate__top-wrapper\\\"><div class=\\\"js-el__video__replayer-wrapper el__video__replayer-wrapper\\\"><img alt=\\\"Who will taste Wimbledon glory?\\\" class=\\\"media__image\\\" src=\\\"//cdn.cnn.com/cnnnext/dam/assets/120622073638-tennis-nadal-djokovic-sharapova-00003226-story-top.jpg\\\"><a class=\\\"el__video__replay-button-wrapper\\\" href=\\\"javascript:void(0);\\\" title=\\\"Click to watch this video\\\"><div class=\\\"js-el__video__replay-button el__video__replay-button\\\"></div></a></div><div class=\\\"video__end-slate__secondary\\\"><ul class=\\\"cn cn-list-hierarchical-xs cn--idx-0\\\"><h3 class=\\\"cd__headline-title\\\">JUST WATCHED</h3><h2 class=\\\"cd__headline\\\"><span class=\\\"cd__headline-text js-cd__headline-text\\\">Who will taste Wimbledon glory?</span></h2></ul><div class=\\\"video__end-slate__replay\\\"><a class=\\\"js-video__end-slate__replay\\\"><div class=\\\"video__end-slate__replay-icon cnn-icon\\\"></div></a></div><div class=\\\"video__end-slate__engage__wrapper\\\"><div class=\\\"video__end-slate__engage__text\\\"><a class=\\\"js-video__end-slate__replay-text video__end-slate__replay-text\\\">Replay</a></div><div class=\\\"video__end-slate__engage__more\\\"><a href=\\\"/videos\\\" class=\\\"video__end-slate__replay-text\\\">More Videos ...</a></div></div></div></div><h4 class=\\\"video__end-slate__tertiary-title\\\">MUST WATCH</h4><div class=\\\"js-video__end-slate__tertiary video__end-slate__tertiary\\\"><div class=\\\"js-video__end-slate__carousel video__end-slate__carousel\\\"></div></div></div><div class=\\\"l-container\\\"><div class=\\\"video__end-slate__top-wrapper\\\"><div class=\\\"js-el__video__replayer-wrapper el__video__replayer-wrapper\\\"><img alt=\\\"Andy Murray's secret weapon\\\" class=\\\"media__image\\\" src=\\\"//cdn.cnn.com/cnnnext/dam/assets/120622073047-tennis-murray-wimbledon-lendl-00004004-story-top.jpg\\\"><a class=\\\"el__video__replay-button-wrapper\\\" href=\\\"javascript:void(0);\\\" title=\\\"Click to watch this video\\\"><div class=\\\"js-el__video__replay-button el__video__replay-button\\\"></div></a></div><div class=\\\"video__end-slate__secondary\\\"><ul class=\\\"cn cn-list-hierarchical-xs cn--idx-0\\\"><h3 class=\\\"cd__headline-title\\\">JUST WATCHED</h3><h2 class=\\\"cd__headline\\\"><span class=\\\"cd__headline-text js-cd__headline-text\\\">Andy Murray's secret weapon</span></h2></ul><div class=\\\"video__end-slate__replay\\\"><a class=\\\"js-video__end-slate__replay\\\"><div class=\\\"video__end-slate__replay-icon cnn-icon\\\"></div></a></div><div class=\\\"video__end-slate__engage__wrapper\\\"><div class=\\\"video__end-slate__engage__text\\\"><a class=\\\"js-video__end-slate__replay-text video__end-slate__replay-text\\\">Replay</a></div><div class=\\\"video__end-slate__engage__more\\\"><a href=\\\"/videos\\\" class=\\\"video__end-slate__replay-text\\\">More Videos ...</a></div></div></div></div><h4 class=\\\"video__end-slate__tertiary-title\\\">MUST WATCH</h4><div class=\\\"js-video__end-slate__tertiary video__end-slate__tertiary\\\"><div class=\\\"js-video__end-slate__carousel video__end-slate__carousel\\\"></div></div></div>\",\n          \"<div class=\\\"l-container\\\"><div class=\\\"el__leafmedia el__leafmedia--storyhighlights\\\"><div class=\\\"el__storyhighlights_wrapper\\\"><div class=\\\"el__storyhighlights\\\"><h3 class=\\\"el__headline\\\">Story highlights</h3><ul class=\\\"el__storyhighlights__list\\\"><li class=\\\"el__storyhighlights__item el__storyhighlights--new\\\"> Prosecutor: Authorities have not ruled out the possibility that an accomplice was involved</li><li class=\\\"el__storyhighlights__item el__storyhighlights--normal\\\">At least one girl died from the blast, which took place Saturday </li><li class=\\\"el__storyhighlights__item el__storyhighlights--normal\\\">Official: \\\"It's the first time in our country that a school is under attack\\\"</li><li class=\\\"el__storyhighlights__item el__storyhighlights--normal\\\">It is not yet clear why the school was targeted</li></ul></div><div class=\\\"ad ad--epic\\\" data-ad-text=\\\"show\\\"></div></div></div><div class=\\\"zn-body__paragraph speakable\\\">A bombing at a school in Italy was likely \\\"the isolated action of a single man\\\" and not tied to the mafia, an official said Sunday.</div><div class=\\\"zn-body__paragraph speakable\\\">Surveillance video shows a suspect that authorities believe is an adult, said Marco Dinapoli, attorney general in Brindisi province.</div><div class=\\\"zn-body__paragraph speakable\\\">The possibility that an accomplice was involved has not been ruled out, he told reporters. </div><div class=\\\"zn-body__paragraph\\\">Earlier Sunday, Dinapoli told CNN that police were questioning two men in connection with Saturday's blast, which killed a 16-year-old girl and injured six other people outside a school in the southern Italian city of Brindisi. One of the injured is in very serious condition, Brindisi Mayor Mimmo Consales said. </div><div class=\\\"zn-body__paragraph\\\">The explosion caused a chaotic scene at the school, said Fabiano Amati, regional minister for Italy's civil protection agency.</div><div class=\\\"zn-body__paragraph\\\">\\\"There were school backpacks and notebooks everywhere. Many windows of the nearby buildings were broken,\\\" he said.</div><div class=\\\"zn-body__paragraph\\\">Flowers with messages for the student who died were left at the school's entrance Sunday, Italy's ANSA news agency reported.</div><div class=\\\"zn-body__paragraph\\\">Police found three gas cylinders at the site that were detonated with a remote control, authorities said.</div><div class=\\\"zn-body__paragraph\\\">The device \\\"wasn't very sophisticated but done by someone who knew electronics,\\\" Dinapoli said Sunday. Someone detonated it from a close distance, he said.</div><div class=\\\"zn-body__paragraph\\\">Police were still investigating the motive behind the attack, Dinapoli said.</div><div class=\\\"zn-body__paragraph\\\">\\\"It could be a fool or someone angry with the world or with some ideological goal, a terrorist,\\\" he said.</div><div class=\\\"zn-body__paragraph\\\">At demonstrations throughout the country, Italians expressed solidarity with the victims and condemned the violence.</div><div class=\\\"zn-body__paragraph\\\">\\\"It's an attack on all Italians because schools are considered a secure area,\\\" Amati said. \\\"It's the first time in our country that a school is under attack.\\\"</div><div class=\\\"zn-body__paragraph\\\">Italian Prime Minister Mario Monti said the government was determined to combat crime and unite the country.</div><div class=\\\"zn-body__paragraph\\\">He expressed the government's \\\"deep sorrow, dismay and outrage\\\" at what he called a \\\"most grave and heinous crime\\\" in a statement from the United States, where he was attending the G8 summit.</div><div class=\\\"zn-body__paragraph\\\">Monti has ordered the country's flag to be displayed at half-staff through Tuesday, and sent a message of condolence to those directly affected by the blast.</div><div class=\\\"zn-body__paragraph\\\">Italians gathered in front of the Pantheon in Rome and at Plebiscito square in Naples late Saturday to protest the violence and to show support for its victims.</div><div class=\\\"zn-body__paragraph\\\">The explosion occurred early Saturday as students were arriving at the school, which offers vocational training, Italy's ANSA news agency reported.</div><div class=\\\"zn-body__paragraph\\\">The Francesca Morvillo Falcone school is named after the wife of a prominent anti-mafia judge, which has fueled speculation that the organized crime group might be behind it. It has been 20 years since Falcone was assassinated in Palermo, Sicily, in May 1992.</div><div class=\\\"zn-body__paragraph\\\">The school is located near both the tribunal and the city's tax collection agency. </div><div class=\\\"zn-body__paragraph\\\">Italy's tax collection agencies, called Equitalia, have been targeted by mail bombs, Molotov cocktails and suicides in front of their offices in recent months, with the incidents occurring in the cities of Rome, Livorno and Bologna, respectively.</div><div class=\\\"zn-body__paragraph\\\">Italy's interior ministry said last week that it would start to deploy soldiers outside some government buildings because of the current tensions.</div><div class=\\\"zn-body__paragraph\\\">The local anti-racket commission of Mesagne, a town in Brindisi province, issued a warning last week of heightened threats by both organized crime groups and anarchists against government agencies. </div><div class=\\\"zn-body__paragraph\\\">An anti-mafia march scheduled for Sunday is expected to proceed as scheduled.</div></div>\"\n        ],\n        \"semantic_type\": \"\",\n        \"description\": \"\"\n      }\n    },\n    {\n      \"column\": \"content\",\n      \"properties\": {\n        \"dtype\": \"string\",\n        \"num_unique_values\": 3497,\n        \"samples\": [\n          \"Will of the Williams: Venus vows to rise again after illnessBy Tom McGowan, CNNUpdated 1416 GMT (2216 HKT) March 21, 2012  Photos: Venus Williams' careerGarbine Muguruza, left, celebrates her Wimbledon victory after beating Venus Williams 7-5, 6-0 in the final on Saturday, July 15. This was the second Grand Slam final of the season for Williams, who was beaten by her sister, Serena, in the Australian Open final in January.Hide Caption 1 of 20 Photos: Venus Williams' careerWilliams celebrates her semifinal win at Wimbledon on Thursday, July 13. The 37-year-old American, who has won seven Grand Slam singles titles, was the oldest player to make the Wimbledon final since Martina Navratilova in 1994.Hide Caption 2 of 20 Photos: Venus Williams' careerWilliams is 10 years old in this photo from August 1990. She and her sister, Serena, were trained by their father in the tough Los Angeles suburb of Compton before moving to West Palm Beach, Florida, to attend a tennis academy. Hide Caption 3 of 20 Photos: Venus Williams' careerVenus, left, is seen with her father, Richard, and her sister in 1991. Both of the girls would go on to become legends in their sport.Hide Caption 4 of 20 Photos: Venus Williams' careerVenus signs autographs after winning her professional debut in October 1994. She was 14 years old when she defeated Shaun Stafford at the Bank of the West Classic in Oakland, California.Hide Caption 5 of 20 Photos: Venus Williams' careerVenus hits an overhead during her first pro tournament in 1994.Hide Caption 6 of 20 Photos: Venus Williams' careerIn 1997, Venus became the first woman since Pam Shriver in 1978 to reach the final of her first US Open. She lost the showpiece match 6-0, 6-4 to Martina Hingis, seen at left.Hide Caption 7 of 20 Photos: Venus Williams' careerVenus hits a forehand during the Australian Open in January 1999. She advanced to the quarterfinals that year, but her breakthrough would come soon.Hide Caption 8 of 20 Photos: Venus Williams' careerThe Williams sisters pose for a photo with their mother, Oracene Price, in March 1999.Hide Caption 9 of 20 Photos: Venus Williams' careerVenus won her first Grand Slam title at the 1999 French Open, winning the doubles tournament with her sister, Serena. From left are Venus, Serena, Anna Kournikova and Hingis. The Williams sisters have had wildly successful singles careers, but they've also been a force as a team, winning 14 Grand Slam titles and three Olympic gold medals. Venus has also won two Grand Slams in mixed doubles.Hide Caption 10 of 20 Photos: Venus Williams' careerVenus and Serena hold their dogs after winning the US Open doubles title in September 1999.Hide Caption 11 of 20 Photos: Venus Williams' careerVenus got her first Grand Slam singles title in 2000, when she defeated Hingis in the Wimbledon final. She has won Wimbledon five times in her career, with her last title coming in 2008. Hide Caption 12 of 20 Photos: Venus Williams' careerJust a few months after her Wimbledon breakthrough, Venus won the US Open and an Olympic gold medal in Sydney. In 2002, she became No. 1 in the world for the first time in her career. Hide Caption 13 of 20 Photos: Venus Williams' careerVenus and Serena celebrate winning a gold medal together at the 2008 Beijing Olympics.Hide Caption 14 of 20 Photos: Venus Williams' careerVenus watches Serena embrace their father after Serena won Wimbledon in 2012. A year earlier, Venus had been diagnosed with Sjogren's Syndrome, an autoimmune disorder that causes joint pain and can deplete energy levels. She took some time off but eventually returned.Hide Caption 15 of 20 Photos: Venus Williams' careerThe sisters participate in a photo shoot together in 2012. Off the court, Williams has a fashion degree and her own line of active wear, EleVen.Hide Caption 16 of 20 Photos: Venus Williams' careerVenus is all smiles after winning her 700th career singles match in September 2015. She got the milestone victory at the Wuhan Open in China.Hide Caption 17 of 20 Photos: Venus Williams' careerVenus and Serena pose with Australian Open ball kids in January 2017.Hide Caption 18 of 20 Photos: Venus Williams' careerThe sisters played against each other in the final of this year's Australian Open, with Serena coming out on top to break the Open-era record for most Grand Slam singles titles (23). Over the years, the sisters have faced off in nine Grand Slam finals, with Serena winning seven of them.Hide Caption 19 of 20 Photos: Venus Williams' careerDuring a Wimbledon news conference this year, Venus broke down in tears when reporters questioned her about a fatal crash in June involving her SUV. A family has filed a wrongful death lawsuit against the tennis star, citing negligence in a Florida crash that claimed the life of 78-year-old Jerome Barson. No criminal charges have been filed in the crash, and police are still investigating.Hide Caption 20 of 20Story highlightsVenus and Serena Williams have been beset by health issues in recent timesSerena suffered blood clots on her lungs, and Venus has Sjogren's syndromeSeven-time grand slam winner Venus makes her return to the WTA Tour on WednesdayThe former world No. 1 has not played since pulling out of the U.S. Open in August 2011The Williams sisters have not had it easy in recent years. Two of the modern era's most successful women tennis players have been beset by health problems which have deprived the game of two of its most marketable stars.Serena has overcome life-threatening blood clots on both lungs, while older sibling Venus is this week making her long-awaited WTA Tour comeback as she battles a debilitating illness that has sidelined her since last year's U.S. Open.After pulling out of her second-round match in New York, Venus revealed she had been diagnosed with Sjogren's syndrome -- an incurable condition which affects energy levels and causes pain in the joints.\\\"I just didn't feel well before my second-round match, to the point where I couldn't play,\\\" the 31-year-old told CNN's Connect the World show.\\\"At the beginning of the tournament, I wasn't sure how far I would get or what I would do, I was kind of living on a hope and a dream.\\\"After a glittering 18-year professional career which has seen her become the first black woman to be ranked world No. 1 in the Open era, winning seven grand slam singles titles and 12 major doubles crowns alongside Serena, Williams would have been forgiven for deciding to chuck in the towel.JUST WATCHEDVenus Williams set for comebackReplayMore Videos ...MUST WATCHVenus Williams set for comeback 04:30But, instead of eying an early retirement, the winner of three Olympic gold medals set her sights on managing her illness and returning to the baseline ahead of this year's London Games.\\\"When you don't feel well and things are taken away from you, it's hard to stay positive,\\\" the former world No. 1 said. \\\"But, for me, it is not an option to get negative or to feel sorry for myself.\\\"It's easy to say, 'I've done enough' -- or it would be easy to go on a permanent vacation. But I need to look back and know that I gave everything. \\\"I know I still have so much more. Before I was sick I was on top of the world in singles and doubles. So that's my goal, to return to that.\\\"Williams has played just one Fed Cup doubles rubber for the U.S. team and an exhibition match against Serena since withdrawing in New York on August 31, and she will make her return as a wildcard at the Miami Masters this week -- an event she has won on three occasions.\\\"I'm looking forward to coming back,\\\" she said. \\\"Sjogren's syndrome definitely changed my life, it changed everything. It changed how I eat, it changed my whole life.\\\"Learning to manage her condition has given Williams hope of returning to her imperious best. By managing her diet, she is aiming to one day play unaffected by the syndrome's debilitating symptoms.\\\"I don't think the road will be perfect, but I think I can get it as close to perfect as possible,\\\" she said.\\\"My hope is to be symptom-free one day. I work with my doctors on that, but also I work on my diet, which I've found has been huge. With Sjogren's you deal with a lot of fatigue and joint pain and inflammation.\\\"It's because of the things I'm eating. I've started eating raw, vegan, unprocessed foods, doing lots of juicing, I juice twice a day. I drink wheatgrass. For me, it's worth doing everything I can to get back to what I love doing.\\\"Another motivator for Williams is the prospect of challenging for a fourth Olympic gold medal in London, where the tennis tournament will be held at Wimbledon. Williams has enjoyed huge success at the All England Club in the past, having won five singles titles and four doubles crowns at the prestigious grass-court venue.\\\"For me, the Olympics have been the pinnacle of my career -- this will be my fourth,\\\" she said.\\\"Serena and I talk about playing in every Olympics possible, we keep saying how we're going to be take spots on the team forever! \\\"It is our dream, it is beyond our dreams. To participate would be great, to win something would be amazing.\\\"Powered by Livefyre\",\n          \"8 killed as Czech bus crashes in CroatiaBy the CNN Wire StaffUpdated 1121 GMT (1921 HKT) June 23, 2012 Story highlights The number of people killed in the crash rises to 8More than 40 people were injured, a Czech foreign office spokesman saysThe cause of the crash is not yet knownThe bus was carrying 51 passengers to a vacation in CroatiaThe number of people killed when a bus carrying Czech vacationers crashed in Croatia has climbed to eight, a Czech foreign ministry spokesman said Saturday.More than 40 people were injured, said Karel Srol, deputy spokesman for the Czech Republic's foreign ministry.The bus was chartered by Atlas Adria travel agency, he told CNN. The 51 passengers were on their way from the Czech Republic to a summer holiday in Croatia when the crash happened Saturday morning, he said.\\\"Our embassy in Croatia is closely monitoring the situation. Diplomats and consular staff are en route to the scene of the incident and are visiting some of the injured in hospitals,\\\" Srol said.The cause of the accident is not yet known.Powered by Livefyre\",\n          \"Spitfires and parade mark Queen's Diamond JubileeBy the CNN Wire StaffUpdated 1405 GMT (2205 HKT) June 1, 2012 Queen Elizabeth II and Prince Philip watch the flypast in Windsor on Saturday.Story highlights78 aircraft take part in a dramatic flypast above Windsor CastleSome 2,500 members of the Army, Navy and Royal Air Force march past the QueenThe Queen is taking part in celebrations to mark her 60 years on the throneThousands of members of the British Armed Forces took part in a parade and flypast at Windsor Castle Saturday as part of celebrations to mark Queen Elizabeth II's 60 years on the throne.World War II era Spitfires and Lancaster bombers, helicopters and Tornado fighters were among the 78 aircraft to soar overhead as part of the Queen's Diamond Jubilee tribute.The flypast also featured Hawks flying in a formation to represent the Queen's initials and Tucanos flying in a \\\"60\\\" formation for the length of her reign.JUST WATCHEDQuestionable guests for Jubilee Lunch?ReplayMore Videos ...MUST WATCHQuestionable guests for Jubilee Lunch? 02:41JUST WATCHEDPrinces on TV: 'Don't mess' with queenReplayMore Videos ...MUST WATCHPrinces on TV: 'Don't mess' with queen 01:56On the ground, some 2,500 military personnel from the Army, Navy and Royal Air Force paraded past the Queen, who was colorfully dressed in blue, in a specially built arena in the castle grounds.Speaking at the event, Gen. Sir David Richards, Chief of the Defence Staff, said the three branches of the Armed Forces took great pride in marking the jubilee.\\\"The Queen's deep interest and commitment to the Armed Forces has touched many Servicemen and women and their families over the past 60 years,\\\" he said.\\\"I know I speak for all those who have the privilege to wear her uniform, when I offer my heartfelt thanks to Her Majesty for her dedication to the Armed Forces, and to our country.\\\"The Queen was joined in the audience by Prince Philip and other members of the British royal family, as well as more than 3,000 military personnel, veterans and their families.Monarchs from Denmark, Brunei, Lesotho, Norway, Sweden, Swaziland and Tonga were among a number of foreign royals to attend. The military parade and flypast are the first major national event to celebrate the Diamond Jubilee, the Ministry of Defence said.The central weekend of celebrations comes in early June, when the Queen will take part in concerts and a pageant involving more than 1,000 boats on the River Thames.The Queen hosted a lunch on Friday at Windsor Castle to which every monarch in the world was invited, also as part of the Diamond Jubilee celebrations.Prince Charles and the Duchess of Cornwall also hosted a dinner at Buckingham Palace on Friday evening for some of the royals.Human rights campaigners criticized the decision to include monarchs of countries with a poor record on human rights in Friday's events.Among those they highlighted were the king of Bahrain, whose government has come under fire for its handling of continuing unrest, and Swaziland's King Mswati III, accused by critics of enjoying a lavish lifestyle at public expense while his people suffer great poverty.Have you met the Queen or British Royals? Share your story or photos on iReport!Powered by Livefyre\"\n        ],\n        \"semantic_type\": \"\",\n        \"description\": \"\"\n      }\n    },\n    {\n      \"column\": \"crawled_at\",\n      \"properties\": {\n        \"dtype\": \"date\",\n        \"min\": \"2021-07-23 00:15:23\",\n        \"max\": \"2021-07-23 00:23:05\",\n        \"num_unique_values\": 463,\n        \"samples\": [\n          \"2021-07-23 00:19:08\",\n          \"2021-07-23 00:15:53\",\n          \"2021-07-23 00:16:02\"\n        ],\n        \"semantic_type\": \"\",\n        \"description\": \"\"\n      }\n    },\n    {\n      \"column\": \"_id\",\n      \"properties\": {\n        \"dtype\": \"string\",\n        \"num_unique_values\": 3499,\n        \"samples\": [\n          \"6430d1f6-cb85-512b-aaaa-f76a06a4d3b4\",\n          \"60adc872-96b9-518e-b93f-375432670ab9\",\n          \"028eea46-5fb8-5a52-91d7-d3687fae297f\"\n        ],\n        \"semantic_type\": \"\",\n        \"description\": \"\"\n      }\n    },\n    {\n      \"column\": \"source\",\n      \"properties\": {\n        \"dtype\": \"category\",\n        \"num_unique_values\": 1,\n        \"samples\": [\n          \"edition.cnn.com\"\n        ],\n        \"semantic_type\": \"\",\n        \"description\": \"\"\n      }\n    }\n  ]\n}"
            }
          },
          "metadata": {},
          "execution_count": 3
        }
      ],
      "source": [
        "articles"
      ]
    },
    {
      "cell_type": "code",
      "execution_count": 4,
      "metadata": {
        "id": "RlqHWdAJTtsD"
      },
      "outputs": [],
      "source": [
        "articles = articles.drop(columns=[\"title\",\"published_at\",\"last_modified_at\",\"header_image\",\"raw_content\",\"crawled_at\",\"_id\",\"source\",\"url\",\"author\"])"
      ]
    },
    {
      "cell_type": "code",
      "execution_count": 5,
      "metadata": {
        "colab": {
          "base_uri": "https://localhost:8080/",
          "height": 423
        },
        "id": "wCzBqwavWARM",
        "outputId": "eba8b956-43f8-4bff-eced-5836a9b92448"
      },
      "outputs": [
        {
          "output_type": "execute_result",
          "data": {
            "text/plain": [
              "                                      short_description  \\\n",
              "0     Unheralded pair Tommy Fleetwood of England and...   \n",
              "1     Brazilian driver Bruno Senna will replace Nick...   \n",
              "2     Russian Vera Zvonareva came from 5-1 down in t...   \n",
              "3     Macedonia is a small landlocked country border...   \n",
              "4     Manchester City banned journalists from asking...   \n",
              "...                                                 ...   \n",
              "3495  Russian billionaire businessman and outspoken ...   \n",
              "3496  The Premier League's 'Christmas Truce' tournam...   \n",
              "3497  Michael Schumacher is keeping all his options ...   \n",
              "3498  It's official: Sebastian Vettel is a three-tim...   \n",
              "3499  The Premier League released figures showing th...   \n",
              "\n",
              "                                                content  \n",
              "0     Fleetwood and Hoey lead big names in Dunhill L...  \n",
              "1     Senna to replace Heidfeld in BelgiumBy Updated...  \n",
              "2     Zvonareva beats Kvitova to reach Tokyo finalBy...  \n",
              "3     Country profile: MacedoniaBy Catriona Davies a...  \n",
              "4     Manchester City ban talk of TevezBy Updated 16...  \n",
              "...                                                 ...  \n",
              "3495  Kremlin critic Lebedev: Why I lashed out on TV...  \n",
              "3496  Never forget: Football remembersBy James Maste...  \n",
              "3497  Schumacher coy over Sauber switchBy Updated 16...  \n",
              "3498  It's official: Vettel is three-time champion a...  \n",
              "3499  English Premier League's hidden costs revealed...  \n",
              "\n",
              "[3500 rows x 2 columns]"
            ],
            "text/html": [
              "\n",
              "  <div id=\"df-c9de2858-d779-4b93-ad4e-403289e52b70\" class=\"colab-df-container\">\n",
              "    <div>\n",
              "<style scoped>\n",
              "    .dataframe tbody tr th:only-of-type {\n",
              "        vertical-align: middle;\n",
              "    }\n",
              "\n",
              "    .dataframe tbody tr th {\n",
              "        vertical-align: top;\n",
              "    }\n",
              "\n",
              "    .dataframe thead th {\n",
              "        text-align: right;\n",
              "    }\n",
              "</style>\n",
              "<table border=\"1\" class=\"dataframe\">\n",
              "  <thead>\n",
              "    <tr style=\"text-align: right;\">\n",
              "      <th></th>\n",
              "      <th>short_description</th>\n",
              "      <th>content</th>\n",
              "    </tr>\n",
              "  </thead>\n",
              "  <tbody>\n",
              "    <tr>\n",
              "      <th>0</th>\n",
              "      <td>Unheralded pair Tommy Fleetwood of England and...</td>\n",
              "      <td>Fleetwood and Hoey lead big names in Dunhill L...</td>\n",
              "    </tr>\n",
              "    <tr>\n",
              "      <th>1</th>\n",
              "      <td>Brazilian driver Bruno Senna will replace Nick...</td>\n",
              "      <td>Senna to replace Heidfeld in BelgiumBy Updated...</td>\n",
              "    </tr>\n",
              "    <tr>\n",
              "      <th>2</th>\n",
              "      <td>Russian Vera Zvonareva came from 5-1 down in t...</td>\n",
              "      <td>Zvonareva beats Kvitova to reach Tokyo finalBy...</td>\n",
              "    </tr>\n",
              "    <tr>\n",
              "      <th>3</th>\n",
              "      <td>Macedonia is a small landlocked country border...</td>\n",
              "      <td>Country profile: MacedoniaBy Catriona Davies a...</td>\n",
              "    </tr>\n",
              "    <tr>\n",
              "      <th>4</th>\n",
              "      <td>Manchester City banned journalists from asking...</td>\n",
              "      <td>Manchester City ban talk of TevezBy Updated 16...</td>\n",
              "    </tr>\n",
              "    <tr>\n",
              "      <th>...</th>\n",
              "      <td>...</td>\n",
              "      <td>...</td>\n",
              "    </tr>\n",
              "    <tr>\n",
              "      <th>3495</th>\n",
              "      <td>Russian billionaire businessman and outspoken ...</td>\n",
              "      <td>Kremlin critic Lebedev: Why I lashed out on TV...</td>\n",
              "    </tr>\n",
              "    <tr>\n",
              "      <th>3496</th>\n",
              "      <td>The Premier League's 'Christmas Truce' tournam...</td>\n",
              "      <td>Never forget: Football remembersBy James Maste...</td>\n",
              "    </tr>\n",
              "    <tr>\n",
              "      <th>3497</th>\n",
              "      <td>Michael Schumacher is keeping all his options ...</td>\n",
              "      <td>Schumacher coy over Sauber switchBy Updated 16...</td>\n",
              "    </tr>\n",
              "    <tr>\n",
              "      <th>3498</th>\n",
              "      <td>It's official: Sebastian Vettel is a three-tim...</td>\n",
              "      <td>It's official: Vettel is three-time champion a...</td>\n",
              "    </tr>\n",
              "    <tr>\n",
              "      <th>3499</th>\n",
              "      <td>The Premier League released figures showing th...</td>\n",
              "      <td>English Premier League's hidden costs revealed...</td>\n",
              "    </tr>\n",
              "  </tbody>\n",
              "</table>\n",
              "<p>3500 rows × 2 columns</p>\n",
              "</div>\n",
              "    <div class=\"colab-df-buttons\">\n",
              "\n",
              "  <div class=\"colab-df-container\">\n",
              "    <button class=\"colab-df-convert\" onclick=\"convertToInteractive('df-c9de2858-d779-4b93-ad4e-403289e52b70')\"\n",
              "            title=\"Convert this dataframe to an interactive table.\"\n",
              "            style=\"display:none;\">\n",
              "\n",
              "  <svg xmlns=\"http://www.w3.org/2000/svg\" height=\"24px\" viewBox=\"0 -960 960 960\">\n",
              "    <path d=\"M120-120v-720h720v720H120Zm60-500h600v-160H180v160Zm220 220h160v-160H400v160Zm0 220h160v-160H400v160ZM180-400h160v-160H180v160Zm440 0h160v-160H620v160ZM180-180h160v-160H180v160Zm440 0h160v-160H620v160Z\"/>\n",
              "  </svg>\n",
              "    </button>\n",
              "\n",
              "  <style>\n",
              "    .colab-df-container {\n",
              "      display:flex;\n",
              "      gap: 12px;\n",
              "    }\n",
              "\n",
              "    .colab-df-convert {\n",
              "      background-color: #E8F0FE;\n",
              "      border: none;\n",
              "      border-radius: 50%;\n",
              "      cursor: pointer;\n",
              "      display: none;\n",
              "      fill: #1967D2;\n",
              "      height: 32px;\n",
              "      padding: 0 0 0 0;\n",
              "      width: 32px;\n",
              "    }\n",
              "\n",
              "    .colab-df-convert:hover {\n",
              "      background-color: #E2EBFA;\n",
              "      box-shadow: 0px 1px 2px rgba(60, 64, 67, 0.3), 0px 1px 3px 1px rgba(60, 64, 67, 0.15);\n",
              "      fill: #174EA6;\n",
              "    }\n",
              "\n",
              "    .colab-df-buttons div {\n",
              "      margin-bottom: 4px;\n",
              "    }\n",
              "\n",
              "    [theme=dark] .colab-df-convert {\n",
              "      background-color: #3B4455;\n",
              "      fill: #D2E3FC;\n",
              "    }\n",
              "\n",
              "    [theme=dark] .colab-df-convert:hover {\n",
              "      background-color: #434B5C;\n",
              "      box-shadow: 0px 1px 3px 1px rgba(0, 0, 0, 0.15);\n",
              "      filter: drop-shadow(0px 1px 2px rgba(0, 0, 0, 0.3));\n",
              "      fill: #FFFFFF;\n",
              "    }\n",
              "  </style>\n",
              "\n",
              "    <script>\n",
              "      const buttonEl =\n",
              "        document.querySelector('#df-c9de2858-d779-4b93-ad4e-403289e52b70 button.colab-df-convert');\n",
              "      buttonEl.style.display =\n",
              "        google.colab.kernel.accessAllowed ? 'block' : 'none';\n",
              "\n",
              "      async function convertToInteractive(key) {\n",
              "        const element = document.querySelector('#df-c9de2858-d779-4b93-ad4e-403289e52b70');\n",
              "        const dataTable =\n",
              "          await google.colab.kernel.invokeFunction('convertToInteractive',\n",
              "                                                    [key], {});\n",
              "        if (!dataTable) return;\n",
              "\n",
              "        const docLinkHtml = 'Like what you see? Visit the ' +\n",
              "          '<a target=\"_blank\" href=https://colab.research.google.com/notebooks/data_table.ipynb>data table notebook</a>'\n",
              "          + ' to learn more about interactive tables.';\n",
              "        element.innerHTML = '';\n",
              "        dataTable['output_type'] = 'display_data';\n",
              "        await google.colab.output.renderOutput(dataTable, element);\n",
              "        const docLink = document.createElement('div');\n",
              "        docLink.innerHTML = docLinkHtml;\n",
              "        element.appendChild(docLink);\n",
              "      }\n",
              "    </script>\n",
              "  </div>\n",
              "\n",
              "\n",
              "<div id=\"df-60b702a2-a591-4b4e-977a-87549d5f77e3\">\n",
              "  <button class=\"colab-df-quickchart\" onclick=\"quickchart('df-60b702a2-a591-4b4e-977a-87549d5f77e3')\"\n",
              "            title=\"Suggest charts\"\n",
              "            style=\"display:none;\">\n",
              "\n",
              "<svg xmlns=\"http://www.w3.org/2000/svg\" height=\"24px\"viewBox=\"0 0 24 24\"\n",
              "     width=\"24px\">\n",
              "    <g>\n",
              "        <path d=\"M19 3H5c-1.1 0-2 .9-2 2v14c0 1.1.9 2 2 2h14c1.1 0 2-.9 2-2V5c0-1.1-.9-2-2-2zM9 17H7v-7h2v7zm4 0h-2V7h2v10zm4 0h-2v-4h2v4z\"/>\n",
              "    </g>\n",
              "</svg>\n",
              "  </button>\n",
              "\n",
              "<style>\n",
              "  .colab-df-quickchart {\n",
              "      --bg-color: #E8F0FE;\n",
              "      --fill-color: #1967D2;\n",
              "      --hover-bg-color: #E2EBFA;\n",
              "      --hover-fill-color: #174EA6;\n",
              "      --disabled-fill-color: #AAA;\n",
              "      --disabled-bg-color: #DDD;\n",
              "  }\n",
              "\n",
              "  [theme=dark] .colab-df-quickchart {\n",
              "      --bg-color: #3B4455;\n",
              "      --fill-color: #D2E3FC;\n",
              "      --hover-bg-color: #434B5C;\n",
              "      --hover-fill-color: #FFFFFF;\n",
              "      --disabled-bg-color: #3B4455;\n",
              "      --disabled-fill-color: #666;\n",
              "  }\n",
              "\n",
              "  .colab-df-quickchart {\n",
              "    background-color: var(--bg-color);\n",
              "    border: none;\n",
              "    border-radius: 50%;\n",
              "    cursor: pointer;\n",
              "    display: none;\n",
              "    fill: var(--fill-color);\n",
              "    height: 32px;\n",
              "    padding: 0;\n",
              "    width: 32px;\n",
              "  }\n",
              "\n",
              "  .colab-df-quickchart:hover {\n",
              "    background-color: var(--hover-bg-color);\n",
              "    box-shadow: 0 1px 2px rgba(60, 64, 67, 0.3), 0 1px 3px 1px rgba(60, 64, 67, 0.15);\n",
              "    fill: var(--button-hover-fill-color);\n",
              "  }\n",
              "\n",
              "  .colab-df-quickchart-complete:disabled,\n",
              "  .colab-df-quickchart-complete:disabled:hover {\n",
              "    background-color: var(--disabled-bg-color);\n",
              "    fill: var(--disabled-fill-color);\n",
              "    box-shadow: none;\n",
              "  }\n",
              "\n",
              "  .colab-df-spinner {\n",
              "    border: 2px solid var(--fill-color);\n",
              "    border-color: transparent;\n",
              "    border-bottom-color: var(--fill-color);\n",
              "    animation:\n",
              "      spin 1s steps(1) infinite;\n",
              "  }\n",
              "\n",
              "  @keyframes spin {\n",
              "    0% {\n",
              "      border-color: transparent;\n",
              "      border-bottom-color: var(--fill-color);\n",
              "      border-left-color: var(--fill-color);\n",
              "    }\n",
              "    20% {\n",
              "      border-color: transparent;\n",
              "      border-left-color: var(--fill-color);\n",
              "      border-top-color: var(--fill-color);\n",
              "    }\n",
              "    30% {\n",
              "      border-color: transparent;\n",
              "      border-left-color: var(--fill-color);\n",
              "      border-top-color: var(--fill-color);\n",
              "      border-right-color: var(--fill-color);\n",
              "    }\n",
              "    40% {\n",
              "      border-color: transparent;\n",
              "      border-right-color: var(--fill-color);\n",
              "      border-top-color: var(--fill-color);\n",
              "    }\n",
              "    60% {\n",
              "      border-color: transparent;\n",
              "      border-right-color: var(--fill-color);\n",
              "    }\n",
              "    80% {\n",
              "      border-color: transparent;\n",
              "      border-right-color: var(--fill-color);\n",
              "      border-bottom-color: var(--fill-color);\n",
              "    }\n",
              "    90% {\n",
              "      border-color: transparent;\n",
              "      border-bottom-color: var(--fill-color);\n",
              "    }\n",
              "  }\n",
              "</style>\n",
              "\n",
              "  <script>\n",
              "    async function quickchart(key) {\n",
              "      const quickchartButtonEl =\n",
              "        document.querySelector('#' + key + ' button');\n",
              "      quickchartButtonEl.disabled = true;  // To prevent multiple clicks.\n",
              "      quickchartButtonEl.classList.add('colab-df-spinner');\n",
              "      try {\n",
              "        const charts = await google.colab.kernel.invokeFunction(\n",
              "            'suggestCharts', [key], {});\n",
              "      } catch (error) {\n",
              "        console.error('Error during call to suggestCharts:', error);\n",
              "      }\n",
              "      quickchartButtonEl.classList.remove('colab-df-spinner');\n",
              "      quickchartButtonEl.classList.add('colab-df-quickchart-complete');\n",
              "    }\n",
              "    (() => {\n",
              "      let quickchartButtonEl =\n",
              "        document.querySelector('#df-60b702a2-a591-4b4e-977a-87549d5f77e3 button');\n",
              "      quickchartButtonEl.style.display =\n",
              "        google.colab.kernel.accessAllowed ? 'block' : 'none';\n",
              "    })();\n",
              "  </script>\n",
              "</div>\n",
              "\n",
              "  <div id=\"id_b0e7698e-5279-4613-960d-c5544fa1fcf0\">\n",
              "    <style>\n",
              "      .colab-df-generate {\n",
              "        background-color: #E8F0FE;\n",
              "        border: none;\n",
              "        border-radius: 50%;\n",
              "        cursor: pointer;\n",
              "        display: none;\n",
              "        fill: #1967D2;\n",
              "        height: 32px;\n",
              "        padding: 0 0 0 0;\n",
              "        width: 32px;\n",
              "      }\n",
              "\n",
              "      .colab-df-generate:hover {\n",
              "        background-color: #E2EBFA;\n",
              "        box-shadow: 0px 1px 2px rgba(60, 64, 67, 0.3), 0px 1px 3px 1px rgba(60, 64, 67, 0.15);\n",
              "        fill: #174EA6;\n",
              "      }\n",
              "\n",
              "      [theme=dark] .colab-df-generate {\n",
              "        background-color: #3B4455;\n",
              "        fill: #D2E3FC;\n",
              "      }\n",
              "\n",
              "      [theme=dark] .colab-df-generate:hover {\n",
              "        background-color: #434B5C;\n",
              "        box-shadow: 0px 1px 3px 1px rgba(0, 0, 0, 0.15);\n",
              "        filter: drop-shadow(0px 1px 2px rgba(0, 0, 0, 0.3));\n",
              "        fill: #FFFFFF;\n",
              "      }\n",
              "    </style>\n",
              "    <button class=\"colab-df-generate\" onclick=\"generateWithVariable('articles')\"\n",
              "            title=\"Generate code using this dataframe.\"\n",
              "            style=\"display:none;\">\n",
              "\n",
              "  <svg xmlns=\"http://www.w3.org/2000/svg\" height=\"24px\"viewBox=\"0 0 24 24\"\n",
              "       width=\"24px\">\n",
              "    <path d=\"M7,19H8.4L18.45,9,17,7.55,7,17.6ZM5,21V16.75L18.45,3.32a2,2,0,0,1,2.83,0l1.4,1.43a1.91,1.91,0,0,1,.58,1.4,1.91,1.91,0,0,1-.58,1.4L9.25,21ZM18.45,9,17,7.55Zm-12,3A5.31,5.31,0,0,0,4.9,8.1,5.31,5.31,0,0,0,1,6.5,5.31,5.31,0,0,0,4.9,4.9,5.31,5.31,0,0,0,6.5,1,5.31,5.31,0,0,0,8.1,4.9,5.31,5.31,0,0,0,12,6.5,5.46,5.46,0,0,0,6.5,12Z\"/>\n",
              "  </svg>\n",
              "    </button>\n",
              "    <script>\n",
              "      (() => {\n",
              "      const buttonEl =\n",
              "        document.querySelector('#id_b0e7698e-5279-4613-960d-c5544fa1fcf0 button.colab-df-generate');\n",
              "      buttonEl.style.display =\n",
              "        google.colab.kernel.accessAllowed ? 'block' : 'none';\n",
              "\n",
              "      buttonEl.onclick = () => {\n",
              "        google.colab.notebook.generateWithVariable('articles');\n",
              "      }\n",
              "      })();\n",
              "    </script>\n",
              "  </div>\n",
              "\n",
              "    </div>\n",
              "  </div>\n"
            ],
            "application/vnd.google.colaboratory.intrinsic+json": {
              "type": "dataframe",
              "variable_name": "articles",
              "summary": "{\n  \"name\": \"articles\",\n  \"rows\": 3500,\n  \"fields\": [\n    {\n      \"column\": \"short_description\",\n      \"properties\": {\n        \"dtype\": \"string\",\n        \"num_unique_values\": 3490,\n        \"samples\": [\n          \"The \\\"Occupy Wall Street\\\" movement went global Saturday, crossing the Atlantic to European cities, where protesters gathered for largely peaceful demonstrations.\",\n          \"Palace officials slammed the decision of the Irish Daily Star to print topless pictures of Prince William's wife Catherine as driven by greed.\",\n          \"Ireland's Shane Lowry carded a superb five-under 66 to claim the Portugal Masters Sunday -- his second win on the European Tour.\"\n        ],\n        \"semantic_type\": \"\",\n        \"description\": \"\"\n      }\n    },\n    {\n      \"column\": \"content\",\n      \"properties\": {\n        \"dtype\": \"string\",\n        \"num_unique_values\": 3497,\n        \"samples\": [\n          \"Will of the Williams: Venus vows to rise again after illnessBy Tom McGowan, CNNUpdated 1416 GMT (2216 HKT) March 21, 2012  Photos: Venus Williams' careerGarbine Muguruza, left, celebrates her Wimbledon victory after beating Venus Williams 7-5, 6-0 in the final on Saturday, July 15. This was the second Grand Slam final of the season for Williams, who was beaten by her sister, Serena, in the Australian Open final in January.Hide Caption 1 of 20 Photos: Venus Williams' careerWilliams celebrates her semifinal win at Wimbledon on Thursday, July 13. The 37-year-old American, who has won seven Grand Slam singles titles, was the oldest player to make the Wimbledon final since Martina Navratilova in 1994.Hide Caption 2 of 20 Photos: Venus Williams' careerWilliams is 10 years old in this photo from August 1990. She and her sister, Serena, were trained by their father in the tough Los Angeles suburb of Compton before moving to West Palm Beach, Florida, to attend a tennis academy. Hide Caption 3 of 20 Photos: Venus Williams' careerVenus, left, is seen with her father, Richard, and her sister in 1991. Both of the girls would go on to become legends in their sport.Hide Caption 4 of 20 Photos: Venus Williams' careerVenus signs autographs after winning her professional debut in October 1994. She was 14 years old when she defeated Shaun Stafford at the Bank of the West Classic in Oakland, California.Hide Caption 5 of 20 Photos: Venus Williams' careerVenus hits an overhead during her first pro tournament in 1994.Hide Caption 6 of 20 Photos: Venus Williams' careerIn 1997, Venus became the first woman since Pam Shriver in 1978 to reach the final of her first US Open. She lost the showpiece match 6-0, 6-4 to Martina Hingis, seen at left.Hide Caption 7 of 20 Photos: Venus Williams' careerVenus hits a forehand during the Australian Open in January 1999. She advanced to the quarterfinals that year, but her breakthrough would come soon.Hide Caption 8 of 20 Photos: Venus Williams' careerThe Williams sisters pose for a photo with their mother, Oracene Price, in March 1999.Hide Caption 9 of 20 Photos: Venus Williams' careerVenus won her first Grand Slam title at the 1999 French Open, winning the doubles tournament with her sister, Serena. From left are Venus, Serena, Anna Kournikova and Hingis. The Williams sisters have had wildly successful singles careers, but they've also been a force as a team, winning 14 Grand Slam titles and three Olympic gold medals. Venus has also won two Grand Slams in mixed doubles.Hide Caption 10 of 20 Photos: Venus Williams' careerVenus and Serena hold their dogs after winning the US Open doubles title in September 1999.Hide Caption 11 of 20 Photos: Venus Williams' careerVenus got her first Grand Slam singles title in 2000, when she defeated Hingis in the Wimbledon final. She has won Wimbledon five times in her career, with her last title coming in 2008. Hide Caption 12 of 20 Photos: Venus Williams' careerJust a few months after her Wimbledon breakthrough, Venus won the US Open and an Olympic gold medal in Sydney. In 2002, she became No. 1 in the world for the first time in her career. Hide Caption 13 of 20 Photos: Venus Williams' careerVenus and Serena celebrate winning a gold medal together at the 2008 Beijing Olympics.Hide Caption 14 of 20 Photos: Venus Williams' careerVenus watches Serena embrace their father after Serena won Wimbledon in 2012. A year earlier, Venus had been diagnosed with Sjogren's Syndrome, an autoimmune disorder that causes joint pain and can deplete energy levels. She took some time off but eventually returned.Hide Caption 15 of 20 Photos: Venus Williams' careerThe sisters participate in a photo shoot together in 2012. Off the court, Williams has a fashion degree and her own line of active wear, EleVen.Hide Caption 16 of 20 Photos: Venus Williams' careerVenus is all smiles after winning her 700th career singles match in September 2015. She got the milestone victory at the Wuhan Open in China.Hide Caption 17 of 20 Photos: Venus Williams' careerVenus and Serena pose with Australian Open ball kids in January 2017.Hide Caption 18 of 20 Photos: Venus Williams' careerThe sisters played against each other in the final of this year's Australian Open, with Serena coming out on top to break the Open-era record for most Grand Slam singles titles (23). Over the years, the sisters have faced off in nine Grand Slam finals, with Serena winning seven of them.Hide Caption 19 of 20 Photos: Venus Williams' careerDuring a Wimbledon news conference this year, Venus broke down in tears when reporters questioned her about a fatal crash in June involving her SUV. A family has filed a wrongful death lawsuit against the tennis star, citing negligence in a Florida crash that claimed the life of 78-year-old Jerome Barson. No criminal charges have been filed in the crash, and police are still investigating.Hide Caption 20 of 20Story highlightsVenus and Serena Williams have been beset by health issues in recent timesSerena suffered blood clots on her lungs, and Venus has Sjogren's syndromeSeven-time grand slam winner Venus makes her return to the WTA Tour on WednesdayThe former world No. 1 has not played since pulling out of the U.S. Open in August 2011The Williams sisters have not had it easy in recent years. Two of the modern era's most successful women tennis players have been beset by health problems which have deprived the game of two of its most marketable stars.Serena has overcome life-threatening blood clots on both lungs, while older sibling Venus is this week making her long-awaited WTA Tour comeback as she battles a debilitating illness that has sidelined her since last year's U.S. Open.After pulling out of her second-round match in New York, Venus revealed she had been diagnosed with Sjogren's syndrome -- an incurable condition which affects energy levels and causes pain in the joints.\\\"I just didn't feel well before my second-round match, to the point where I couldn't play,\\\" the 31-year-old told CNN's Connect the World show.\\\"At the beginning of the tournament, I wasn't sure how far I would get or what I would do, I was kind of living on a hope and a dream.\\\"After a glittering 18-year professional career which has seen her become the first black woman to be ranked world No. 1 in the Open era, winning seven grand slam singles titles and 12 major doubles crowns alongside Serena, Williams would have been forgiven for deciding to chuck in the towel.JUST WATCHEDVenus Williams set for comebackReplayMore Videos ...MUST WATCHVenus Williams set for comeback 04:30But, instead of eying an early retirement, the winner of three Olympic gold medals set her sights on managing her illness and returning to the baseline ahead of this year's London Games.\\\"When you don't feel well and things are taken away from you, it's hard to stay positive,\\\" the former world No. 1 said. \\\"But, for me, it is not an option to get negative or to feel sorry for myself.\\\"It's easy to say, 'I've done enough' -- or it would be easy to go on a permanent vacation. But I need to look back and know that I gave everything. \\\"I know I still have so much more. Before I was sick I was on top of the world in singles and doubles. So that's my goal, to return to that.\\\"Williams has played just one Fed Cup doubles rubber for the U.S. team and an exhibition match against Serena since withdrawing in New York on August 31, and she will make her return as a wildcard at the Miami Masters this week -- an event she has won on three occasions.\\\"I'm looking forward to coming back,\\\" she said. \\\"Sjogren's syndrome definitely changed my life, it changed everything. It changed how I eat, it changed my whole life.\\\"Learning to manage her condition has given Williams hope of returning to her imperious best. By managing her diet, she is aiming to one day play unaffected by the syndrome's debilitating symptoms.\\\"I don't think the road will be perfect, but I think I can get it as close to perfect as possible,\\\" she said.\\\"My hope is to be symptom-free one day. I work with my doctors on that, but also I work on my diet, which I've found has been huge. With Sjogren's you deal with a lot of fatigue and joint pain and inflammation.\\\"It's because of the things I'm eating. I've started eating raw, vegan, unprocessed foods, doing lots of juicing, I juice twice a day. I drink wheatgrass. For me, it's worth doing everything I can to get back to what I love doing.\\\"Another motivator for Williams is the prospect of challenging for a fourth Olympic gold medal in London, where the tennis tournament will be held at Wimbledon. Williams has enjoyed huge success at the All England Club in the past, having won five singles titles and four doubles crowns at the prestigious grass-court venue.\\\"For me, the Olympics have been the pinnacle of my career -- this will be my fourth,\\\" she said.\\\"Serena and I talk about playing in every Olympics possible, we keep saying how we're going to be take spots on the team forever! \\\"It is our dream, it is beyond our dreams. To participate would be great, to win something would be amazing.\\\"Powered by Livefyre\",\n          \"8 killed as Czech bus crashes in CroatiaBy the CNN Wire StaffUpdated 1121 GMT (1921 HKT) June 23, 2012 Story highlights The number of people killed in the crash rises to 8More than 40 people were injured, a Czech foreign office spokesman saysThe cause of the crash is not yet knownThe bus was carrying 51 passengers to a vacation in CroatiaThe number of people killed when a bus carrying Czech vacationers crashed in Croatia has climbed to eight, a Czech foreign ministry spokesman said Saturday.More than 40 people were injured, said Karel Srol, deputy spokesman for the Czech Republic's foreign ministry.The bus was chartered by Atlas Adria travel agency, he told CNN. The 51 passengers were on their way from the Czech Republic to a summer holiday in Croatia when the crash happened Saturday morning, he said.\\\"Our embassy in Croatia is closely monitoring the situation. Diplomats and consular staff are en route to the scene of the incident and are visiting some of the injured in hospitals,\\\" Srol said.The cause of the accident is not yet known.Powered by Livefyre\",\n          \"Spitfires and parade mark Queen's Diamond JubileeBy the CNN Wire StaffUpdated 1405 GMT (2205 HKT) June 1, 2012 Queen Elizabeth II and Prince Philip watch the flypast in Windsor on Saturday.Story highlights78 aircraft take part in a dramatic flypast above Windsor CastleSome 2,500 members of the Army, Navy and Royal Air Force march past the QueenThe Queen is taking part in celebrations to mark her 60 years on the throneThousands of members of the British Armed Forces took part in a parade and flypast at Windsor Castle Saturday as part of celebrations to mark Queen Elizabeth II's 60 years on the throne.World War II era Spitfires and Lancaster bombers, helicopters and Tornado fighters were among the 78 aircraft to soar overhead as part of the Queen's Diamond Jubilee tribute.The flypast also featured Hawks flying in a formation to represent the Queen's initials and Tucanos flying in a \\\"60\\\" formation for the length of her reign.JUST WATCHEDQuestionable guests for Jubilee Lunch?ReplayMore Videos ...MUST WATCHQuestionable guests for Jubilee Lunch? 02:41JUST WATCHEDPrinces on TV: 'Don't mess' with queenReplayMore Videos ...MUST WATCHPrinces on TV: 'Don't mess' with queen 01:56On the ground, some 2,500 military personnel from the Army, Navy and Royal Air Force paraded past the Queen, who was colorfully dressed in blue, in a specially built arena in the castle grounds.Speaking at the event, Gen. Sir David Richards, Chief of the Defence Staff, said the three branches of the Armed Forces took great pride in marking the jubilee.\\\"The Queen's deep interest and commitment to the Armed Forces has touched many Servicemen and women and their families over the past 60 years,\\\" he said.\\\"I know I speak for all those who have the privilege to wear her uniform, when I offer my heartfelt thanks to Her Majesty for her dedication to the Armed Forces, and to our country.\\\"The Queen was joined in the audience by Prince Philip and other members of the British royal family, as well as more than 3,000 military personnel, veterans and their families.Monarchs from Denmark, Brunei, Lesotho, Norway, Sweden, Swaziland and Tonga were among a number of foreign royals to attend. The military parade and flypast are the first major national event to celebrate the Diamond Jubilee, the Ministry of Defence said.The central weekend of celebrations comes in early June, when the Queen will take part in concerts and a pageant involving more than 1,000 boats on the River Thames.The Queen hosted a lunch on Friday at Windsor Castle to which every monarch in the world was invited, also as part of the Diamond Jubilee celebrations.Prince Charles and the Duchess of Cornwall also hosted a dinner at Buckingham Palace on Friday evening for some of the royals.Human rights campaigners criticized the decision to include monarchs of countries with a poor record on human rights in Friday's events.Among those they highlighted were the king of Bahrain, whose government has come under fire for its handling of continuing unrest, and Swaziland's King Mswati III, accused by critics of enjoying a lavish lifestyle at public expense while his people suffer great poverty.Have you met the Queen or British Royals? Share your story or photos on iReport!Powered by Livefyre\"\n        ],\n        \"semantic_type\": \"\",\n        \"description\": \"\"\n      }\n    }\n  ]\n}"
            }
          },
          "metadata": {},
          "execution_count": 5
        }
      ],
      "source": [
        "articles"
      ]
    },
    {
      "cell_type": "code",
      "execution_count": 6,
      "metadata": {
        "id": "tylR-UUYWz_M"
      },
      "outputs": [],
      "source": [
        "part = int(len(articles)*9/10)\n",
        "test = articles.iloc[part:]\n",
        "train = articles.iloc[:part]"
      ]
    },
    {
      "cell_type": "code",
      "execution_count": 7,
      "metadata": {
        "id": "8Knl6c2eJREf",
        "colab": {
          "base_uri": "https://localhost:8080/"
        },
        "outputId": "cd956905-6c64-4b46-a9f2-ad630de79e89"
      },
      "outputs": [
        {
          "output_type": "stream",
          "name": "stderr",
          "text": [
            "/usr/local/lib/python3.10/dist-packages/huggingface_hub/utils/_token.py:88: UserWarning: \n",
            "The secret `HF_TOKEN` does not exist in your Colab secrets.\n",
            "To authenticate with the Hugging Face Hub, create a token in your settings tab (https://huggingface.co/settings/tokens), set it as secret in your Google Colab and restart your session.\n",
            "You will be able to reuse this secret in all of your notebooks.\n",
            "Please note that authentication is recommended but still optional to access public models or datasets.\n",
            "  warnings.warn(\n"
          ]
        }
      ],
      "source": [
        "#Untrained summarizer\n",
        "summarizer = pipeline(\"summarization\", model=\"facebook/bart-large-cnn\")"
      ]
    },
    {
      "cell_type": "code",
      "execution_count": 8,
      "metadata": {
        "id": "2KJBUVBCYRik",
        "colab": {
          "base_uri": "https://localhost:8080/"
        },
        "outputId": "744841cd-066c-4558-d90e-4640011d089b"
      },
      "outputs": [
        {
          "output_type": "stream",
          "name": "stdout",
          "text": [
            "[{'summary_text': 'Bruno Senna will replace Nick Heidfeld for Renault at the Belgian Grand Prix. Senna is the nephew of three-time world champion Ayrton Senna. The Brazilian has not raced since the season-ending Abu Dhabi Grand Prix in November 2010. The 34-year-old has picked up 34 points so far this season.'}]\n"
          ]
        }
      ],
      "source": [
        "print(summarizer(articles[\"content\"].iloc[1]))"
      ]
    },
    {
      "cell_type": "code",
      "source": [
        "import datasets\n",
        "from datasets import load_dataset\n",
        "\n",
        "dataset = load_dataset(\"json\", data_files=\"cnn_data copy.json\",split=\"train[:90%]\")\n",
        "valset = load_dataset(\"json\", data_files=\"cnn_data copy.json\",split=\"train[90%:]\")"
      ],
      "metadata": {
        "id": "Ng-9GYP4_5Uu"
      },
      "execution_count": 1,
      "outputs": []
    },
    {
      "cell_type": "code",
      "source": [
        "dataset"
      ],
      "metadata": {
        "colab": {
          "base_uri": "https://localhost:8080/"
        },
        "id": "5pG-y48FDtRV",
        "outputId": "cf83d10a-8253-4105-a51d-3cff38d2c631"
      },
      "execution_count": 2,
      "outputs": [
        {
          "output_type": "execute_result",
          "data": {
            "text/plain": [
              "Dataset({\n",
              "    features: ['last_modified_at', 'raw_content', 'source', 'url', 'content', 'author', 'crawled_at', 'title', 'published_at', 'header_image', 'short_description', '_id'],\n",
              "    num_rows: 3150\n",
              "})"
            ]
          },
          "metadata": {},
          "execution_count": 2
        }
      ]
    },
    {
      "cell_type": "code",
      "source": [
        "from transformers import AutoTokenizer\n",
        "\n",
        "tokenizer = AutoTokenizer.from_pretrained(\"facebook/bart-base\")\n",
        "\n",
        "\n",
        "def tokenize_function(examples):\n",
        "    model_inputs = tokenizer(examples[\"content\"], padding='max_length', truncation=True)\n",
        "\n",
        "    with tokenizer.as_target_tokenizer():\n",
        "      targets = tokenizer(examples['short_description'], padding='max_length', truncation=True)\n",
        "\n",
        "    model_inputs['labels'] = targets['input_ids']\n",
        "\n",
        "    return model_inputs\n",
        "\n",
        "tokenized_datasets = dataset.map(tokenize_function, batched=True)\n",
        "tokenized_valsets = valset.map(tokenize_function, batched=True)"
      ],
      "metadata": {
        "colab": {
          "base_uri": "https://localhost:8080/"
        },
        "id": "Ejn2ups1A_i-",
        "outputId": "a82c6444-2f52-40e4-fa79-a65c59ceb99a"
      },
      "execution_count": 3,
      "outputs": [
        {
          "output_type": "stream",
          "name": "stderr",
          "text": [
            "/usr/local/lib/python3.10/dist-packages/huggingface_hub/utils/_token.py:88: UserWarning: \n",
            "The secret `HF_TOKEN` does not exist in your Colab secrets.\n",
            "To authenticate with the Hugging Face Hub, create a token in your settings tab (https://huggingface.co/settings/tokens), set it as secret in your Google Colab and restart your session.\n",
            "You will be able to reuse this secret in all of your notebooks.\n",
            "Please note that authentication is recommended but still optional to access public models or datasets.\n",
            "  warnings.warn(\n"
          ]
        }
      ]
    },
    {
      "cell_type": "code",
      "source": [
        "print(tokenized_datasets)"
      ],
      "metadata": {
        "colab": {
          "base_uri": "https://localhost:8080/"
        },
        "id": "lQsYoNCNBJmW",
        "outputId": "ad8dcfdc-6d49-496a-eda0-0ddefa07f3a0"
      },
      "execution_count": 4,
      "outputs": [
        {
          "output_type": "stream",
          "name": "stdout",
          "text": [
            "Dataset({\n",
            "    features: ['last_modified_at', 'raw_content', 'source', 'url', 'content', 'author', 'crawled_at', 'title', 'published_at', 'header_image', 'short_description', '_id', 'input_ids', 'attention_mask', 'labels'],\n",
            "    num_rows: 3150\n",
            "})\n"
          ]
        }
      ]
    },
    {
      "cell_type": "code",
      "source": [
        "tokenized_datasets = tokenized_datasets.remove_columns([\"last_modified_at\",\"raw_content\",\"source\",\"url\",\"content\",\"author\",\"crawled_at\",\"title\",\"published_at\",\"header_image\",\"_id\",\"short_description\"])\n",
        "tokenized_valsets = tokenized_valsets.remove_columns([\"last_modified_at\",\"raw_content\",\"source\",\"url\",\"content\",\"author\",\"crawled_at\",\"title\",\"published_at\",\"header_image\",\"_id\",\"short_description\"])"
      ],
      "metadata": {
        "id": "IMOcnfClBfm3"
      },
      "execution_count": 5,
      "outputs": []
    },
    {
      "cell_type": "code",
      "source": [
        "print(tokenized_datasets)"
      ],
      "metadata": {
        "colab": {
          "base_uri": "https://localhost:8080/"
        },
        "id": "Eea2ux0KB6bw",
        "outputId": "cbb7ea84-b01b-4818-c95d-bc08a441d5b4"
      },
      "execution_count": 6,
      "outputs": [
        {
          "output_type": "stream",
          "name": "stdout",
          "text": [
            "Dataset({\n",
            "    features: ['input_ids', 'attention_mask', 'labels'],\n",
            "    num_rows: 3150\n",
            "})\n"
          ]
        }
      ]
    },
    {
      "cell_type": "code",
      "source": [
        "# tokenized_datasets = tokenized_datasets.rename_column(\"short_description\", \"labels\")\n",
        "# tokenized_valsets = tokenized_valsets.rename_column(\"short_description\", \"labels\")"
      ],
      "metadata": {
        "id": "Lbwk6--XByZC"
      },
      "execution_count": 7,
      "outputs": []
    },
    {
      "cell_type": "code",
      "source": [
        "# print(tokenized_datasets)"
      ],
      "metadata": {
        "id": "xZSFt0CTB9Fq"
      },
      "execution_count": 8,
      "outputs": []
    },
    {
      "cell_type": "code",
      "source": [
        "tokenized_datasets.set_format(\"torch\")\n",
        "tokenized_valsets.set_format(\"torch\")"
      ],
      "metadata": {
        "id": "bD7Pe7e9B32n"
      },
      "execution_count": 9,
      "outputs": []
    },
    {
      "cell_type": "code",
      "source": [
        "train_dataset = tokenized_datasets.shuffle(seed=42)\n",
        "test_dataset = tokenized_valsets.shuffle(seed=42)"
      ],
      "metadata": {
        "id": "CTokHgnQCR4h"
      },
      "execution_count": 10,
      "outputs": []
    },
    {
      "cell_type": "code",
      "source": [
        "from torch.utils.data import DataLoader\n",
        "\n",
        "train_dataloader = DataLoader(train_dataset, shuffle=True, batch_size=8)\n",
        "eval_dataloader = DataLoader(test_dataset, batch_size=8)"
      ],
      "metadata": {
        "id": "f_MonOF-FalV"
      },
      "execution_count": 11,
      "outputs": []
    },
    {
      "cell_type": "code",
      "source": [
        "from transformers import AutoModelForSequenceClassification\n",
        "\n",
        "model = AutoModelForSequenceClassification.from_pretrained(\"facebook/bart-base\", num_labels=5)"
      ],
      "metadata": {
        "colab": {
          "base_uri": "https://localhost:8080/"
        },
        "id": "Gf7cLG-hFf9s",
        "outputId": "09253b5e-bf8f-41c0-ba9c-80bda8896a24"
      },
      "execution_count": 12,
      "outputs": [
        {
          "output_type": "stream",
          "name": "stderr",
          "text": [
            "Some weights of BartForSequenceClassification were not initialized from the model checkpoint at facebook/bart-base and are newly initialized: ['classification_head.dense.bias', 'classification_head.dense.weight', 'classification_head.out_proj.bias', 'classification_head.out_proj.weight']\n",
            "You should probably TRAIN this model on a down-stream task to be able to use it for predictions and inference.\n"
          ]
        }
      ]
    },
    {
      "cell_type": "code",
      "source": [
        "from torch.optim import AdamW\n",
        "\n",
        "optimizer = AdamW(model.parameters(), lr=1e-3)"
      ],
      "metadata": {
        "id": "_UCrfHAeFtee"
      },
      "execution_count": 13,
      "outputs": []
    },
    {
      "cell_type": "code",
      "source": [
        "num_epochs = 7"
      ],
      "metadata": {
        "id": "hvLqTAUDFwPq"
      },
      "execution_count": 14,
      "outputs": []
    },
    {
      "cell_type": "code",
      "source": [
        "import torch\n",
        "\n",
        "device = torch.device(\"cuda\") if torch.cuda.is_available() else torch.device(\"cpu\")\n",
        "model.to(device)"
      ],
      "metadata": {
        "colab": {
          "base_uri": "https://localhost:8080/"
        },
        "id": "RWI-IswKNQ22",
        "outputId": "bbaaf9d5-7a2e-48bb-e226-b35a96c8244c"
      },
      "execution_count": 15,
      "outputs": [
        {
          "output_type": "execute_result",
          "data": {
            "text/plain": [
              "BartForSequenceClassification(\n",
              "  (model): BartModel(\n",
              "    (shared): Embedding(50265, 768, padding_idx=1)\n",
              "    (encoder): BartEncoder(\n",
              "      (embed_tokens): Embedding(50265, 768, padding_idx=1)\n",
              "      (embed_positions): BartLearnedPositionalEmbedding(1026, 768)\n",
              "      (layers): ModuleList(\n",
              "        (0-5): 6 x BartEncoderLayer(\n",
              "          (self_attn): BartSdpaAttention(\n",
              "            (k_proj): Linear(in_features=768, out_features=768, bias=True)\n",
              "            (v_proj): Linear(in_features=768, out_features=768, bias=True)\n",
              "            (q_proj): Linear(in_features=768, out_features=768, bias=True)\n",
              "            (out_proj): Linear(in_features=768, out_features=768, bias=True)\n",
              "          )\n",
              "          (self_attn_layer_norm): LayerNorm((768,), eps=1e-05, elementwise_affine=True)\n",
              "          (activation_fn): GELUActivation()\n",
              "          (fc1): Linear(in_features=768, out_features=3072, bias=True)\n",
              "          (fc2): Linear(in_features=3072, out_features=768, bias=True)\n",
              "          (final_layer_norm): LayerNorm((768,), eps=1e-05, elementwise_affine=True)\n",
              "        )\n",
              "      )\n",
              "      (layernorm_embedding): LayerNorm((768,), eps=1e-05, elementwise_affine=True)\n",
              "    )\n",
              "    (decoder): BartDecoder(\n",
              "      (embed_tokens): Embedding(50265, 768, padding_idx=1)\n",
              "      (embed_positions): BartLearnedPositionalEmbedding(1026, 768)\n",
              "      (layers): ModuleList(\n",
              "        (0-5): 6 x BartDecoderLayer(\n",
              "          (self_attn): BartSdpaAttention(\n",
              "            (k_proj): Linear(in_features=768, out_features=768, bias=True)\n",
              "            (v_proj): Linear(in_features=768, out_features=768, bias=True)\n",
              "            (q_proj): Linear(in_features=768, out_features=768, bias=True)\n",
              "            (out_proj): Linear(in_features=768, out_features=768, bias=True)\n",
              "          )\n",
              "          (activation_fn): GELUActivation()\n",
              "          (self_attn_layer_norm): LayerNorm((768,), eps=1e-05, elementwise_affine=True)\n",
              "          (encoder_attn): BartSdpaAttention(\n",
              "            (k_proj): Linear(in_features=768, out_features=768, bias=True)\n",
              "            (v_proj): Linear(in_features=768, out_features=768, bias=True)\n",
              "            (q_proj): Linear(in_features=768, out_features=768, bias=True)\n",
              "            (out_proj): Linear(in_features=768, out_features=768, bias=True)\n",
              "          )\n",
              "          (encoder_attn_layer_norm): LayerNorm((768,), eps=1e-05, elementwise_affine=True)\n",
              "          (fc1): Linear(in_features=768, out_features=3072, bias=True)\n",
              "          (fc2): Linear(in_features=3072, out_features=768, bias=True)\n",
              "          (final_layer_norm): LayerNorm((768,), eps=1e-05, elementwise_affine=True)\n",
              "        )\n",
              "      )\n",
              "      (layernorm_embedding): LayerNorm((768,), eps=1e-05, elementwise_affine=True)\n",
              "    )\n",
              "  )\n",
              "  (classification_head): BartClassificationHead(\n",
              "    (dense): Linear(in_features=768, out_features=768, bias=True)\n",
              "    (dropout): Dropout(p=0.0, inplace=False)\n",
              "    (out_proj): Linear(in_features=768, out_features=5, bias=True)\n",
              "  )\n",
              ")"
            ]
          },
          "metadata": {},
          "execution_count": 15
        }
      ]
    },
    {
      "cell_type": "code",
      "source": [
        "model.train()\n",
        "for epoch in range(num_epochs):\n",
        "    for batch in train_dataloader:\n",
        "        items = batch.items()\n",
        "        batch = {k: v for k, v in items}\n",
        "        outputs = model(**batch)\n",
        "        loss = outputs.loss\n",
        "        loss.backward()\n",
        "\n",
        "        optimizer.step()\n",
        "        optimizer.zero_grad()"
      ],
      "metadata": {
        "id": "h62Jk4T9F1Ql"
      },
      "execution_count": null,
      "outputs": []
    },
    {
      "cell_type": "code",
      "source": [
        "!pip install evaluate"
      ],
      "metadata": {
        "id": "fnvlrwFmSLJl"
      },
      "execution_count": null,
      "outputs": []
    },
    {
      "cell_type": "code",
      "source": [
        "import evaluate\n",
        "\n",
        "bleu = evaluate.load(\"bleu\")\n",
        "rouge = evaluate.load('rouge')\n",
        "model.eval()\n",
        "for batch in eval_dataloader:\n",
        "    items = batch.items()\n",
        "    batch = {k: v for k, v in items}\n",
        "    with torch.no_grad():\n",
        "        outputs = model(**batch)\n",
        "\n",
        "    logits = outputs.logits\n",
        "    predictions = torch.argmax(logits, dim=-1)\n",
        "    rouge.add_batch(predictions=predictions, references=batch[\"labels\"])\n",
        "    bleu.add_batch(predictions=predictions, references=batch[\"labels\"])\n",
        "\n",
        "print(rouge.compute())\n",
        "print(bleu.compute())"
      ],
      "metadata": {
        "id": "5Uv20x7dGTjB"
      },
      "execution_count": null,
      "outputs": []
    },
    {
      "cell_type": "markdown",
      "source": [
        "The hyperparameters used were crucial for the impact of the training. The original learning rate being used was too small so I had to increase it in order to get the desired effects. Increasing batch size also helped the training process. Increasing num_epochs helped improve accuracy, but when it was increased too high it caused the program to crash from using too much memory.\n",
        "\n",
        "The choice of LLM definitely impacts results. BART base is a smaller model compared to ones like GPT-3, which definitely reduces the quality of the results compared to such models. BART does happen to excel in summarization however, sowhile overall the model might not perform as well it still is able to produce exceptional results."
      ],
      "metadata": {
        "id": "6K9OLq-KSbHH"
      }
    },
    {
      "cell_type": "markdown",
      "metadata": {
        "id": "AMLO1VfdQuN2"
      },
      "source": [
        "RL"
      ]
    },
    {
      "cell_type": "markdown",
      "metadata": {
        "id": "XD97tl6WQ0z9"
      },
      "source": [
        "Task 2: Driving a car to a destination can be formulated as an MDP. The states would be forks in the road, the actions would be the different paths you can take, and the transition model would be that whichever path you choose deterministically leads to the next state. The reward function would have negative rewards for gas consumption or time spent to incentivise quicker and more fuel efficient routes. There would also be a large positive reward at the destination."
      ]
    },
    {
      "cell_type": "markdown",
      "metadata": {
        "id": "qFF51UlfRzW_"
      },
      "source": [
        "Task 3:"
      ]
    },
    {
      "cell_type": "markdown",
      "source": [
        "In the field of healthcare, reinforcement learning works well for deciding treatment types and scheduling. This works well in the structure of RL as it can be modelled based on patient condition and treatment history, with treatment types and dosages serving as different types of action for the agent to chose from. Backed with knowledge from a deep RL network it may be able to efficiently determine treatments for patients.\n",
        "\n",
        "The article linked below uses Deep Reinforcement Learning to produce personalized treatment recommendation for patients. They propose using actor-critic methods to create a personalized ranking of different treatment options. The model starts by using an MDP to rank all of the candidate drugs. Each ranking is represented by a discrete time step in the MDP. At each time step the agent receives information on the previously ranked drugs and the ones that remain as candidates. The agent then uses its policy to select one of the remaining drugs to choose for the current ranking before moving to the next time step.\n",
        "\n",
        "The actor network consists of a MF layer followed up by an embedding and stacking layer that reformulates the data before sending it to the both a Cross Network and a Deep Network. The Cross Network is intended to learn high order interactions between cells and drugs, while the Deep Network attempts to gain generalized knowledge to help the model. The model also implements a GRU in an attempt to learn hidden preferences of the patients over time. The output from the GRU is then sent to a Concatenation Layer alongside the Cross and Deep Network outputs, where the model then calculates the final policy.\n",
        "\n",
        "The critic consists of several cross and deep layers followed by a feed foward layer. It takes the actor's policy as input and outputs a valuation to guide the model and its training.\n",
        "\n",
        "For this research they focused on ranking the top k drugs rather than trying to rank every single drug available.\n",
        "\n",
        "https://onlinelibrary.wiley.com/doi/epdf/10.1002/sim.9491"
      ],
      "metadata": {
        "id": "8cToTszUWQvx"
      }
    }
  ],
  "metadata": {
    "colab": {
      "provenance": [],
      "authorship_tag": "ABX9TyPuunHj6fT5O2c4iAOK1Rse",
      "include_colab_link": true
    },
    "kernelspec": {
      "display_name": "Python 3",
      "name": "python3"
    },
    "language_info": {
      "name": "python"
    }
  },
  "nbformat": 4,
  "nbformat_minor": 0
}