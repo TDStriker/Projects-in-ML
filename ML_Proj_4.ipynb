{
  "nbformat": 4,
  "nbformat_minor": 0,
  "metadata": {
    "colab": {
      "provenance": [],
      "authorship_tag": "ABX9TyMXmXd+O7v+nlEzAsHtVRyq",
      "include_colab_link": true
    },
    "kernelspec": {
      "name": "python3",
      "display_name": "Python 3"
    },
    "language_info": {
      "name": "python"
    }
  },
  "cells": [
    {
      "cell_type": "markdown",
      "metadata": {
        "id": "view-in-github",
        "colab_type": "text"
      },
      "source": [
        "<a href=\"https://colab.research.google.com/github/TDStriker/Projects-in-ML/blob/main/ML_Proj_4.ipynb\" target=\"_parent\"><img src=\"https://colab.research.google.com/assets/colab-badge.svg\" alt=\"Open In Colab\"/></a>"
      ]
    },
    {
      "cell_type": "markdown",
      "source": [
        "Potential data\n",
        "\n",
        "https://www.kaggle.com/datasets/samuelcortinhas/time-series-practice-dataset\n",
        "\n",
        "For this project I plan on making a model that will predict the quantity of a product sold given a date, store, and product id. Since this problem is dependent on time information most of all, an RNN is best suited to the task."
      ],
      "metadata": {
        "id": "B6FWPec97ZO3"
      }
    },
    {
      "cell_type": "markdown",
      "source": [
        "Dataset"
      ],
      "metadata": {
        "id": "nmh9EROwHGsa"
      }
    },
    {
      "cell_type": "code",
      "source": [
        "import numpy as np\n",
        "import pandas as pd\n",
        "from sklearn.preprocessing import LabelEncoder\n",
        "import matplotlib.pyplot as plt\n",
        "import random\n",
        "import torch\n",
        "from torch import nn\n",
        "from torch.utils.data import DataLoader\n",
        "from torchvision import datasets\n",
        "from torchvision.transforms import ToTensor"
      ],
      "metadata": {
        "id": "KeoKgz3bhjYv"
      },
      "execution_count": null,
      "outputs": []
    },
    {
      "cell_type": "code",
      "execution_count": null,
      "metadata": {
        "id": "tGz-aRsXKslY"
      },
      "outputs": [],
      "source": [
        "data = pd.read_csv('train.csv')\n",
        "test = pd.read_csv('test.csv')"
      ]
    },
    {
      "cell_type": "code",
      "source": [
        "print(data)"
      ],
      "metadata": {
        "colab": {
          "base_uri": "https://localhost:8080/"
        },
        "id": "Wqp5G1wqeOci",
        "outputId": "b4f45b7a-9dd2-44a5-b106-82cc9791bafc"
      },
      "execution_count": null,
      "outputs": [
        {
          "output_type": "stream",
          "name": "stdout",
          "text": [
            "              Date  store  product  number_sold\n",
            "0       2010-01-01      0        0          801\n",
            "1       2010-01-02      0        0          810\n",
            "2       2010-01-03      0        0          818\n",
            "3       2010-01-04      0        0          796\n",
            "4       2010-01-05      0        0          808\n",
            "...            ...    ...      ...          ...\n",
            "230085  2018-12-27      6        9          890\n",
            "230086  2018-12-28      6        9          892\n",
            "230087  2018-12-29      6        9          895\n",
            "230088  2018-12-30      6        9          899\n",
            "230089  2018-12-31      6        9          912\n",
            "\n",
            "[230090 rows x 4 columns]\n"
          ]
        }
      ]
    },
    {
      "cell_type": "code",
      "source": [
        "#Converting date strings into numerical values\n",
        "le = LabelEncoder()\n",
        "data['Date'] = le.fit_transform(data['Date'])\n",
        "test['Date'] = le.fit_transform(test['Date'])"
      ],
      "metadata": {
        "id": "gUAE719LTCeW"
      },
      "execution_count": null,
      "outputs": []
    },
    {
      "cell_type": "code",
      "source": [
        "print(data)"
      ],
      "metadata": {
        "colab": {
          "base_uri": "https://localhost:8080/"
        },
        "id": "dDEU-OPQTDRg",
        "outputId": "c25d8516-fa08-4eef-e50f-851fa1af64db"
      },
      "execution_count": null,
      "outputs": [
        {
          "output_type": "stream",
          "name": "stdout",
          "text": [
            "        Date  store  product  number_sold\n",
            "0          0      0        0          801\n",
            "1          1      0        0          810\n",
            "2          2      0        0          818\n",
            "3          3      0        0          796\n",
            "4          4      0        0          808\n",
            "...      ...    ...      ...          ...\n",
            "230085  3282      6        9          890\n",
            "230086  3283      6        9          892\n",
            "230087  3284      6        9          895\n",
            "230088  3285      6        9          899\n",
            "230089  3286      6        9          912\n",
            "\n",
            "[230090 rows x 4 columns]\n"
          ]
        }
      ]
    },
    {
      "cell_type": "code",
      "source": [
        "data.corr()"
      ],
      "metadata": {
        "colab": {
          "base_uri": "https://localhost:8080/",
          "height": 175
        },
        "id": "mosaSnj0mguR",
        "outputId": "448de4cc-12f7-49af-e58b-9122500d81eb"
      },
      "execution_count": null,
      "outputs": [
        {
          "output_type": "execute_result",
          "data": {
            "text/plain": [
              "                     Date         store       product  number_sold\n",
              "Date         1.000000e+00  8.550476e-16 -5.980923e-16     0.009668\n",
              "store        8.550476e-16  1.000000e+00  6.692764e-15     0.201994\n",
              "product     -5.980923e-16  6.692764e-15  1.000000e+00     0.033124\n",
              "number_sold  9.667716e-03  2.019938e-01  3.312389e-02     1.000000"
            ],
            "text/html": [
              "\n",
              "  <div id=\"df-7090b890-65bb-4988-a3d5-0cf02c5bf38e\" class=\"colab-df-container\">\n",
              "    <div>\n",
              "<style scoped>\n",
              "    .dataframe tbody tr th:only-of-type {\n",
              "        vertical-align: middle;\n",
              "    }\n",
              "\n",
              "    .dataframe tbody tr th {\n",
              "        vertical-align: top;\n",
              "    }\n",
              "\n",
              "    .dataframe thead th {\n",
              "        text-align: right;\n",
              "    }\n",
              "</style>\n",
              "<table border=\"1\" class=\"dataframe\">\n",
              "  <thead>\n",
              "    <tr style=\"text-align: right;\">\n",
              "      <th></th>\n",
              "      <th>Date</th>\n",
              "      <th>store</th>\n",
              "      <th>product</th>\n",
              "      <th>number_sold</th>\n",
              "    </tr>\n",
              "  </thead>\n",
              "  <tbody>\n",
              "    <tr>\n",
              "      <th>Date</th>\n",
              "      <td>1.000000e+00</td>\n",
              "      <td>8.550476e-16</td>\n",
              "      <td>-5.980923e-16</td>\n",
              "      <td>0.009668</td>\n",
              "    </tr>\n",
              "    <tr>\n",
              "      <th>store</th>\n",
              "      <td>8.550476e-16</td>\n",
              "      <td>1.000000e+00</td>\n",
              "      <td>6.692764e-15</td>\n",
              "      <td>0.201994</td>\n",
              "    </tr>\n",
              "    <tr>\n",
              "      <th>product</th>\n",
              "      <td>-5.980923e-16</td>\n",
              "      <td>6.692764e-15</td>\n",
              "      <td>1.000000e+00</td>\n",
              "      <td>0.033124</td>\n",
              "    </tr>\n",
              "    <tr>\n",
              "      <th>number_sold</th>\n",
              "      <td>9.667716e-03</td>\n",
              "      <td>2.019938e-01</td>\n",
              "      <td>3.312389e-02</td>\n",
              "      <td>1.000000</td>\n",
              "    </tr>\n",
              "  </tbody>\n",
              "</table>\n",
              "</div>\n",
              "    <div class=\"colab-df-buttons\">\n",
              "\n",
              "  <div class=\"colab-df-container\">\n",
              "    <button class=\"colab-df-convert\" onclick=\"convertToInteractive('df-7090b890-65bb-4988-a3d5-0cf02c5bf38e')\"\n",
              "            title=\"Convert this dataframe to an interactive table.\"\n",
              "            style=\"display:none;\">\n",
              "\n",
              "  <svg xmlns=\"http://www.w3.org/2000/svg\" height=\"24px\" viewBox=\"0 -960 960 960\">\n",
              "    <path d=\"M120-120v-720h720v720H120Zm60-500h600v-160H180v160Zm220 220h160v-160H400v160Zm0 220h160v-160H400v160ZM180-400h160v-160H180v160Zm440 0h160v-160H620v160ZM180-180h160v-160H180v160Zm440 0h160v-160H620v160Z\"/>\n",
              "  </svg>\n",
              "    </button>\n",
              "\n",
              "  <style>\n",
              "    .colab-df-container {\n",
              "      display:flex;\n",
              "      gap: 12px;\n",
              "    }\n",
              "\n",
              "    .colab-df-convert {\n",
              "      background-color: #E8F0FE;\n",
              "      border: none;\n",
              "      border-radius: 50%;\n",
              "      cursor: pointer;\n",
              "      display: none;\n",
              "      fill: #1967D2;\n",
              "      height: 32px;\n",
              "      padding: 0 0 0 0;\n",
              "      width: 32px;\n",
              "    }\n",
              "\n",
              "    .colab-df-convert:hover {\n",
              "      background-color: #E2EBFA;\n",
              "      box-shadow: 0px 1px 2px rgba(60, 64, 67, 0.3), 0px 1px 3px 1px rgba(60, 64, 67, 0.15);\n",
              "      fill: #174EA6;\n",
              "    }\n",
              "\n",
              "    .colab-df-buttons div {\n",
              "      margin-bottom: 4px;\n",
              "    }\n",
              "\n",
              "    [theme=dark] .colab-df-convert {\n",
              "      background-color: #3B4455;\n",
              "      fill: #D2E3FC;\n",
              "    }\n",
              "\n",
              "    [theme=dark] .colab-df-convert:hover {\n",
              "      background-color: #434B5C;\n",
              "      box-shadow: 0px 1px 3px 1px rgba(0, 0, 0, 0.15);\n",
              "      filter: drop-shadow(0px 1px 2px rgba(0, 0, 0, 0.3));\n",
              "      fill: #FFFFFF;\n",
              "    }\n",
              "  </style>\n",
              "\n",
              "    <script>\n",
              "      const buttonEl =\n",
              "        document.querySelector('#df-7090b890-65bb-4988-a3d5-0cf02c5bf38e button.colab-df-convert');\n",
              "      buttonEl.style.display =\n",
              "        google.colab.kernel.accessAllowed ? 'block' : 'none';\n",
              "\n",
              "      async function convertToInteractive(key) {\n",
              "        const element = document.querySelector('#df-7090b890-65bb-4988-a3d5-0cf02c5bf38e');\n",
              "        const dataTable =\n",
              "          await google.colab.kernel.invokeFunction('convertToInteractive',\n",
              "                                                    [key], {});\n",
              "        if (!dataTable) return;\n",
              "\n",
              "        const docLinkHtml = 'Like what you see? Visit the ' +\n",
              "          '<a target=\"_blank\" href=https://colab.research.google.com/notebooks/data_table.ipynb>data table notebook</a>'\n",
              "          + ' to learn more about interactive tables.';\n",
              "        element.innerHTML = '';\n",
              "        dataTable['output_type'] = 'display_data';\n",
              "        await google.colab.output.renderOutput(dataTable, element);\n",
              "        const docLink = document.createElement('div');\n",
              "        docLink.innerHTML = docLinkHtml;\n",
              "        element.appendChild(docLink);\n",
              "      }\n",
              "    </script>\n",
              "  </div>\n",
              "\n",
              "\n",
              "<div id=\"df-cb5aa276-0dab-4e01-a95f-392668c0c365\">\n",
              "  <button class=\"colab-df-quickchart\" onclick=\"quickchart('df-cb5aa276-0dab-4e01-a95f-392668c0c365')\"\n",
              "            title=\"Suggest charts\"\n",
              "            style=\"display:none;\">\n",
              "\n",
              "<svg xmlns=\"http://www.w3.org/2000/svg\" height=\"24px\"viewBox=\"0 0 24 24\"\n",
              "     width=\"24px\">\n",
              "    <g>\n",
              "        <path d=\"M19 3H5c-1.1 0-2 .9-2 2v14c0 1.1.9 2 2 2h14c1.1 0 2-.9 2-2V5c0-1.1-.9-2-2-2zM9 17H7v-7h2v7zm4 0h-2V7h2v10zm4 0h-2v-4h2v4z\"/>\n",
              "    </g>\n",
              "</svg>\n",
              "  </button>\n",
              "\n",
              "<style>\n",
              "  .colab-df-quickchart {\n",
              "      --bg-color: #E8F0FE;\n",
              "      --fill-color: #1967D2;\n",
              "      --hover-bg-color: #E2EBFA;\n",
              "      --hover-fill-color: #174EA6;\n",
              "      --disabled-fill-color: #AAA;\n",
              "      --disabled-bg-color: #DDD;\n",
              "  }\n",
              "\n",
              "  [theme=dark] .colab-df-quickchart {\n",
              "      --bg-color: #3B4455;\n",
              "      --fill-color: #D2E3FC;\n",
              "      --hover-bg-color: #434B5C;\n",
              "      --hover-fill-color: #FFFFFF;\n",
              "      --disabled-bg-color: #3B4455;\n",
              "      --disabled-fill-color: #666;\n",
              "  }\n",
              "\n",
              "  .colab-df-quickchart {\n",
              "    background-color: var(--bg-color);\n",
              "    border: none;\n",
              "    border-radius: 50%;\n",
              "    cursor: pointer;\n",
              "    display: none;\n",
              "    fill: var(--fill-color);\n",
              "    height: 32px;\n",
              "    padding: 0;\n",
              "    width: 32px;\n",
              "  }\n",
              "\n",
              "  .colab-df-quickchart:hover {\n",
              "    background-color: var(--hover-bg-color);\n",
              "    box-shadow: 0 1px 2px rgba(60, 64, 67, 0.3), 0 1px 3px 1px rgba(60, 64, 67, 0.15);\n",
              "    fill: var(--button-hover-fill-color);\n",
              "  }\n",
              "\n",
              "  .colab-df-quickchart-complete:disabled,\n",
              "  .colab-df-quickchart-complete:disabled:hover {\n",
              "    background-color: var(--disabled-bg-color);\n",
              "    fill: var(--disabled-fill-color);\n",
              "    box-shadow: none;\n",
              "  }\n",
              "\n",
              "  .colab-df-spinner {\n",
              "    border: 2px solid var(--fill-color);\n",
              "    border-color: transparent;\n",
              "    border-bottom-color: var(--fill-color);\n",
              "    animation:\n",
              "      spin 1s steps(1) infinite;\n",
              "  }\n",
              "\n",
              "  @keyframes spin {\n",
              "    0% {\n",
              "      border-color: transparent;\n",
              "      border-bottom-color: var(--fill-color);\n",
              "      border-left-color: var(--fill-color);\n",
              "    }\n",
              "    20% {\n",
              "      border-color: transparent;\n",
              "      border-left-color: var(--fill-color);\n",
              "      border-top-color: var(--fill-color);\n",
              "    }\n",
              "    30% {\n",
              "      border-color: transparent;\n",
              "      border-left-color: var(--fill-color);\n",
              "      border-top-color: var(--fill-color);\n",
              "      border-right-color: var(--fill-color);\n",
              "    }\n",
              "    40% {\n",
              "      border-color: transparent;\n",
              "      border-right-color: var(--fill-color);\n",
              "      border-top-color: var(--fill-color);\n",
              "    }\n",
              "    60% {\n",
              "      border-color: transparent;\n",
              "      border-right-color: var(--fill-color);\n",
              "    }\n",
              "    80% {\n",
              "      border-color: transparent;\n",
              "      border-right-color: var(--fill-color);\n",
              "      border-bottom-color: var(--fill-color);\n",
              "    }\n",
              "    90% {\n",
              "      border-color: transparent;\n",
              "      border-bottom-color: var(--fill-color);\n",
              "    }\n",
              "  }\n",
              "</style>\n",
              "\n",
              "  <script>\n",
              "    async function quickchart(key) {\n",
              "      const quickchartButtonEl =\n",
              "        document.querySelector('#' + key + ' button');\n",
              "      quickchartButtonEl.disabled = true;  // To prevent multiple clicks.\n",
              "      quickchartButtonEl.classList.add('colab-df-spinner');\n",
              "      try {\n",
              "        const charts = await google.colab.kernel.invokeFunction(\n",
              "            'suggestCharts', [key], {});\n",
              "      } catch (error) {\n",
              "        console.error('Error during call to suggestCharts:', error);\n",
              "      }\n",
              "      quickchartButtonEl.classList.remove('colab-df-spinner');\n",
              "      quickchartButtonEl.classList.add('colab-df-quickchart-complete');\n",
              "    }\n",
              "    (() => {\n",
              "      let quickchartButtonEl =\n",
              "        document.querySelector('#df-cb5aa276-0dab-4e01-a95f-392668c0c365 button');\n",
              "      quickchartButtonEl.style.display =\n",
              "        google.colab.kernel.accessAllowed ? 'block' : 'none';\n",
              "    })();\n",
              "  </script>\n",
              "</div>\n",
              "\n",
              "    </div>\n",
              "  </div>\n"
            ],
            "application/vnd.google.colaboratory.intrinsic+json": {
              "type": "dataframe",
              "summary": "{\n  \"name\": \"data\",\n  \"rows\": 4,\n  \"fields\": [\n    {\n      \"column\": \"Date\",\n      \"properties\": {\n        \"dtype\": \"number\",\n        \"std\": 0.4984095505934382,\n        \"min\": -5.980922858475238e-16,\n        \"max\": 1.0,\n        \"num_unique_values\": 4,\n        \"samples\": [\n          8.550475905064197e-16,\n          0.00966771637329349,\n          1.0\n        ],\n        \"semantic_type\": \"\",\n        \"description\": \"\"\n      }\n    },\n    {\n      \"column\": \"store\",\n      \"properties\": {\n        \"dtype\": \"number\",\n        \"std\": 0.4759566583373445,\n        \"min\": 8.550475905064197e-16,\n        \"max\": 1.0,\n        \"num_unique_values\": 4,\n        \"samples\": [\n          1.0,\n          0.20199379787761526,\n          8.550475905064197e-16\n        ],\n        \"semantic_type\": \"\",\n        \"description\": \"\"\n      }\n    },\n    {\n      \"column\": \"product\",\n      \"properties\": {\n        \"dtype\": \"number\",\n        \"std\": 0.49472583352074045,\n        \"min\": -5.980922858475238e-16,\n        \"max\": 1.0,\n        \"num_unique_values\": 4,\n        \"samples\": [\n          6.6927644261625746e-15,\n          0.033123885576803326,\n          -5.980922858475238e-16\n        ],\n        \"semantic_type\": \"\",\n        \"description\": \"\"\n      }\n    },\n    {\n      \"column\": \"number_sold\",\n      \"properties\": {\n        \"dtype\": \"number\",\n        \"std\": 0.4671257782120155,\n        \"min\": 0.00966771637329349,\n        \"max\": 1.0,\n        \"num_unique_values\": 4,\n        \"samples\": [\n          0.20199379787761526,\n          1.0,\n          0.00966771637329349\n        ],\n        \"semantic_type\": \"\",\n        \"description\": \"\"\n      }\n    }\n  ]\n}"
            }
          },
          "metadata": {},
          "execution_count": 19
        }
      ]
    },
    {
      "cell_type": "code",
      "source": [
        "#Train-dev-test split\n",
        "half = int(len(test)/2)\n",
        "valid = test.iloc[:half]\n",
        "test = test.iloc[half:]"
      ],
      "metadata": {
        "id": "pTdEecYVo5uY"
      },
      "execution_count": null,
      "outputs": []
    },
    {
      "cell_type": "code",
      "source": [
        "#Feature Label split\n",
        "train_label = data[\"number_sold\"].to_numpy()\n",
        "train_feat = data.drop(columns=[\"number_sold\"]).to_numpy()\n",
        "test_label = test[\"number_sold\"].to_numpy()\n",
        "test_feat = test.drop(columns=[\"number_sold\"]).to_numpy()\n",
        "valid_label = valid[\"number_sold\"].to_numpy()\n",
        "valid_feat = valid.drop(columns=[\"number_sold\"]).to_numpy()"
      ],
      "metadata": {
        "id": "DnyI9YwzpyA_"
      },
      "execution_count": null,
      "outputs": []
    },
    {
      "cell_type": "markdown",
      "source": [
        "Task 2"
      ],
      "metadata": {
        "id": "3eRaIHm038Hk"
      }
    },
    {
      "cell_type": "markdown",
      "source": [
        "2-1"
      ],
      "metadata": {
        "id": "I-ehUhO84EyC"
      }
    },
    {
      "cell_type": "markdown",
      "source": [
        "The RNN is implemented using PyTorch, which uses tanh as the default activation function for RNN layers. It uses the basic RNN cell structure of cells receiving both input and hidden information, which it uses to produce output and send hidden information to the next cell.\n",
        "\n",
        "The final loss output will be used to measure the effectiveness of the model."
      ],
      "metadata": {
        "id": "FzDYRXNSDFt9"
      }
    },
    {
      "cell_type": "code",
      "source": [
        "#Hyperparameters\n",
        "learning_rate=1e-3\n",
        "layer_size=50\n",
        "num_hidden_layers=2\n",
        "batch_size = 64\n",
        "epochs = 10\n",
        "\n",
        "in_dim = 3\n",
        "out_dim=1"
      ],
      "metadata": {
        "id": "8H6DfB4Jj_ey"
      },
      "execution_count": null,
      "outputs": []
    },
    {
      "cell_type": "code",
      "source": [
        "class RNNetwork(nn.Module):\n",
        "    def __init__(self,in_dim,out_dim,layer_size,num_hidden_layers=1):\n",
        "        super().__init__()\n",
        "        self.in_dim = in_dim\n",
        "        self.num_hidden_layers = num_hidden_layers\n",
        "        self.num_layers = num_hidden_layers*2+1\n",
        "        self.layer_size = layer_size\n",
        "\n",
        "        self.rnn = nn.RNN(in_dim, layer_size, num_hidden_layers, batch_first=True)\n",
        "\n",
        "        self.lin = nn.Linear(layer_size, out_dim)\n",
        "\n",
        "    def forward(self, x):\n",
        "        hidden = torch.zeros(self.num_hidden_layers, self.layer_size)\n",
        "\n",
        "        out, hidden = self.rnn(x, hidden)\n",
        "\n",
        "        out = out.contiguous().view(-1, self.layer_size)\n",
        "        out = self.lin(out)\n",
        "\n",
        "        return out"
      ],
      "metadata": {
        "id": "xoIj_dmVbotp"
      },
      "execution_count": null,
      "outputs": []
    },
    {
      "cell_type": "code",
      "source": [
        "def load_data(feats,labels):\n",
        "  segments = int(len(feats)/batch_size + .999)\n",
        "  out = [0]*segments\n",
        "  for i in range(segments):\n",
        "    out[i]=[feats[i*batch_size:(i+1)*batch_size],labels[i*batch_size:(i+1)*batch_size],i]\n",
        "  return out"
      ],
      "metadata": {
        "id": "KWh39CFJj9wv"
      },
      "execution_count": null,
      "outputs": []
    },
    {
      "cell_type": "code",
      "source": [
        "def train_loop(feats,labels, model, loss_fn, optimizer):\n",
        "    size = len(feats)\n",
        "\n",
        "    model.train()\n",
        "    for (X, y, batch) in load_data(feats,labels):\n",
        "        # Compute prediction and loss\n",
        "        X = torch.tensor(X.astype(np.float32))\n",
        "        y = torch.tensor(y.astype(np.float32))\n",
        "\n",
        "        pred = model(X)\n",
        "        loss = loss_fn(pred, y)\n",
        "\n",
        "        # Backpropagation\n",
        "        loss.backward()\n",
        "        optimizer.step()\n",
        "        optimizer.zero_grad()\n",
        "\n",
        "        if batch % 100 == 0:\n",
        "            loss, current = loss.item(), batch * batch_size + len(X)\n",
        "            print(f\"loss: {loss:>7f}  [{current:>5d}/{size:>5d}]\")\n",
        "\n",
        "\n",
        "def test_loop(feats,labels, model, loss_fn):\n",
        "    model.eval()\n",
        "    size = len(feats)\n",
        "    num_batches = int((len(feats)/batch_size)+.999)\n",
        "    test_loss, correct = 0, 0\n",
        "\n",
        "    with torch.no_grad():\n",
        "        for X, y, _ in load_data(feats,labels):\n",
        "            X = torch.tensor(X.astype(np.float32))\n",
        "            y = torch.tensor(y.astype(np.float32))\n",
        "\n",
        "            pred = model(X)\n",
        "            test_loss += loss_fn(pred, y).item()\n",
        "\n",
        "    test_loss /= num_batches\n",
        "    print(f\"Avg loss: {test_loss:>8f} \\n\")"
      ],
      "metadata": {
        "id": "7daljN2u0Tc3"
      },
      "execution_count": null,
      "outputs": []
    },
    {
      "cell_type": "code",
      "source": [
        "device = (\n",
        "    \"cuda\"\n",
        "    if torch.cuda.is_available()\n",
        "    else \"mps\"\n",
        "    if torch.backends.mps.is_available()\n",
        "    else \"cpu\"\n",
        ")\n",
        "\n",
        "model = RNNetwork(in_dim,out_dim,layer_size,num_hidden_layers)\n",
        "\n",
        "# Initialize the loss function\n",
        "loss_fn = nn.L1Loss()\n",
        "optimizer = torch.optim.Adam(model.parameters(), lr=learning_rate)"
      ],
      "metadata": {
        "id": "s7i1B3QRk21F"
      },
      "execution_count": null,
      "outputs": []
    },
    {
      "cell_type": "code",
      "source": [
        "for t in range(epochs):\n",
        "    print(f\"Epoch {t+1}\\n-------------------------------\")\n",
        "    train_loop(train_feat,train_label, model, loss_fn, optimizer)\n",
        "    test_loop(valid_feat,valid_label, model, loss_fn)\n",
        "print(\"Done!\")"
      ],
      "metadata": {
        "id": "hu9pObSwk6cS"
      },
      "execution_count": null,
      "outputs": []
    },
    {
      "cell_type": "code",
      "source": [
        "test_loop(test_feat,test_label, model, loss_fn)"
      ],
      "metadata": {
        "id": "NFVDFAWOTjL5"
      },
      "execution_count": null,
      "outputs": []
    },
    {
      "cell_type": "markdown",
      "source": [
        "2-2"
      ],
      "metadata": {
        "id": "abDIlDbK4Fnm"
      }
    },
    {
      "cell_type": "markdown",
      "source": [
        "LSTM"
      ],
      "metadata": {
        "id": "VR4Xivx5HGkY"
      }
    },
    {
      "cell_type": "code",
      "source": [
        "import torch\n",
        "import torch.nn as nn\n",
        "\n",
        "class LSTMNetwork(nn.Module):\n",
        "    def __init__(self, in_dim, out_dim, layer_size, num_hidden_layers=1):\n",
        "        super().__init__()\n",
        "        self.in_dim = in_dim\n",
        "        self.num_hidden_layers = num_hidden_layers\n",
        "        self.num_layers = num_hidden_layers * 2 + 1\n",
        "        self.layer_size = layer_size\n",
        "\n",
        "        self.lstm = nn.LSTM(in_dim, layer_size, num_hidden_layers, batch_first=True)\n",
        "\n",
        "        self.lin = nn.Linear(layer_size, out_dim)\n",
        "\n",
        "    def forward(self, x):\n",
        "        hidden = (torch.zeros(self.num_hidden_layers, self.layer_size),\n",
        "                  torch.zeros(self.num_hidden_layers, self.layer_size))\n",
        "\n",
        "        out, hidden = self.lstm(x, hidden)\n",
        "\n",
        "        out = out.contiguous().view(-1, self.layer_size)\n",
        "        out = self.lin(out)\n",
        "\n",
        "        return out\n"
      ],
      "metadata": {
        "id": "Evl9ECJRHSNZ"
      },
      "execution_count": null,
      "outputs": []
    },
    {
      "cell_type": "code",
      "source": [
        "lstm_model = LSTMNetwork(in_dim,out_dim,layer_size,num_hidden_layers)\n",
        "\n",
        "# Initialize the loss function\n",
        "loss_fn = nn.L1Loss()\n",
        "optimizer = torch.optim.Adam(lstm_model.parameters(), lr=learning_rate)\n",
        "\n",
        "for t in range(epochs):\n",
        "    print(f\"Epoch {t+1}\\n-------------------------------\")\n",
        "    train_loop(train_feat,train_label, lstm_model, loss_fn, optimizer)\n",
        "    test_loop(valid_feat,valid_label, lstm_model, loss_fn)\n",
        "print(\"Done!\")"
      ],
      "metadata": {
        "id": "RXTE_QqSHooz"
      },
      "execution_count": null,
      "outputs": []
    },
    {
      "cell_type": "code",
      "source": [
        "test_loop(test_feat,test_label, lstm_model, loss_fn)"
      ],
      "metadata": {
        "id": "lmmvMmC_TqEM"
      },
      "execution_count": null,
      "outputs": []
    },
    {
      "cell_type": "markdown",
      "source": [
        "GRU"
      ],
      "metadata": {
        "id": "8Sk2bQi8HHXH"
      }
    },
    {
      "cell_type": "code",
      "source": [
        "class GRUNetwork(nn.Module):\n",
        "    def __init__(self,in_dim,out_dim,layer_size,num_hidden_layers=1):\n",
        "        super().__init__()\n",
        "        self.in_dim = in_dim\n",
        "        self.num_hidden_layers = num_hidden_layers\n",
        "        self.num_layers = num_hidden_layers*2+1\n",
        "        self.layer_size = layer_size\n",
        "\n",
        "        self.gru = nn.GRU(in_dim, layer_size, num_hidden_layers, batch_first=True)\n",
        "\n",
        "        self.lin = nn.Linear(layer_size, out_dim)\n",
        "\n",
        "    def forward(self, x):\n",
        "        hidden = torch.zeros(self.num_hidden_layers, self.layer_size)\n",
        "\n",
        "        out, hidden = self.gru(x, hidden)\n",
        "\n",
        "        out = out.contiguous().view(-1, self.layer_size)\n",
        "        out = self.lin(out)\n",
        "\n",
        "        return out"
      ],
      "metadata": {
        "id": "rDUVtvttHeZc"
      },
      "execution_count": null,
      "outputs": []
    },
    {
      "cell_type": "code",
      "source": [
        "gru_model = GRUNetwork(in_dim,out_dim,layer_size,num_hidden_layers)\n",
        "\n",
        "# Initialize the loss function\n",
        "loss_fn = nn.L1Loss()\n",
        "optimizer = torch.optim.Adam(gru_model.parameters(), lr=learning_rate)\n",
        "\n",
        "for t in range(epochs):\n",
        "    print(f\"Epoch {t+1}\\n-------------------------------\")\n",
        "    train_loop(train_feat,train_label, gru_model, loss_fn, optimizer)\n",
        "    test_loop(valid_feat,valid_label, gru_model, loss_fn)\n",
        "print(\"Done!\")"
      ],
      "metadata": {
        "id": "pjCVhhXRHoJJ"
      },
      "execution_count": null,
      "outputs": []
    },
    {
      "cell_type": "code",
      "source": [
        "test_loop(test_feat,test_label, gru_model, loss_fn)"
      ],
      "metadata": {
        "id": "dlxhyYogTtRM"
      },
      "execution_count": null,
      "outputs": []
    },
    {
      "cell_type": "markdown",
      "source": [
        "All three implementations get similar end results with the data and model being applied here. On average The classic RNN seems the get the best results which may be due to the simplicity of the dataset. The LSTM runs far quicker than the other two which is likely because it is better at processing larger sets of data."
      ],
      "metadata": {
        "id": "gIUvzkMdTbUV"
      }
    },
    {
      "cell_type": "markdown",
      "source": [
        "2-3: Yes, time series data can be converted into regular feature data by providing additional information on the last x number of data points which can then be fed to a regular feed-foward network"
      ],
      "metadata": {
        "id": "cMJisoQm4GaY"
      }
    },
    {
      "cell_type": "markdown",
      "source": [
        "Task 3"
      ],
      "metadata": {
        "id": "Rk-OZ98T39y9"
      }
    },
    {
      "cell_type": "markdown",
      "source": [
        "For the dissimilarity score I took the norm of the difference between the encodings of the two vectors. Since this is a method used to find the distance between two vectors it should work as a metric for determining how distant two words are."
      ],
      "metadata": {
        "id": "EOo_RzB3_Jgc"
      }
    },
    {
      "cell_type": "code",
      "source": [
        "import numpy as np\n",
        "from gensim.models import KeyedVectors\n",
        "\n",
        "# Download pre-trained Word2Vec embeddings from gensim\n",
        "import gensim.downloader as api\n",
        "word_vectors = api.load(\"word2vec-google-news-300\")"
      ],
      "metadata": {
        "id": "81TL7B1JuxGC"
      },
      "execution_count": null,
      "outputs": []
    },
    {
      "cell_type": "code",
      "source": [
        "def get_cosine_similarity(word1, word2):\n",
        "      similarity = word_vectors.similarity(word1, word2)\n",
        "      return similarity\n",
        "\n",
        "def get_dissimilarity_score(word1, word2):\n",
        "      vector1 = word_vectors[word1]\n",
        "      vector2 = word_vectors[word2]\n",
        "      dissimilarity = np.linalg.norm(vector1 - vector2)\n",
        "      return dissimilarity"
      ],
      "metadata": {
        "id": "z7b2HQwx9Ai-"
      },
      "execution_count": null,
      "outputs": []
    },
    {
      "cell_type": "code",
      "source": [
        "word1 = input(\"Word 1: \")\n",
        "word2 = input(\"Word 2: \")\n",
        "\n",
        "cosine_similarity = get_cosine_similarity(word1, word2)\n",
        "dissimilarity_score = get_dissimilarity_score(word1, word2)\n",
        "\n",
        "print(f\"Cosine Similarity between '{word1}' and '{word2}': {cosine_similarity}\")\n",
        "print(f\"Dissimilarity Score between '{word1}' and '{word2}': {dissimilarity_score}\")\n"
      ],
      "metadata": {
        "id": "CKX87BE7x0V3"
      },
      "execution_count": null,
      "outputs": []
    }
  ]
}